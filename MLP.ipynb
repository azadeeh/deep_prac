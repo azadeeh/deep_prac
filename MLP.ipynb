{
 "cells": [
  {
   "cell_type": "code",
   "execution_count": 1,
   "id": "9bb07f5a-377e-414f-b875-42344d0a9a35",
   "metadata": {},
   "outputs": [],
   "source": [
    "import torch\n",
    "from torch import nn\n",
    "import torch.nn.functional as F\n",
    "from torch import optim\n",
    "import matplotlib.pyplot as plt"
   ]
  },
  {
   "cell_type": "code",
   "execution_count": 2,
   "id": "ad1dbfd1-788b-4825-bfe0-ef8bd4b871ca",
   "metadata": {},
   "outputs": [],
   "source": [
    "torch.manual_seed(110)\n",
    "x1= torch.randn((3,5), dtype=torch.float32)\n",
    "w1= torch.randn((5,), dtype=torch.float32)\n",
    "\n",
    "x= torch.tensor([[1. ,2. ,0. ,4. ,1.],\n",
    "                 [0. ,1. ,1. ,1. ,1.],\n",
    "                 [2. ,3. ,0. ,1. ,4.]])\n",
    "w= torch.tensor([1., 0.5, 1., -1, -0.5])\n",
    "b= torch.tensor(1.0)"
   ]
  },
  {
   "cell_type": "code",
   "execution_count": 3,
   "id": "c05c0b5e-4bad-47be-9e2f-f6d4b8173bc3",
   "metadata": {},
   "outputs": [
    {
     "data": {
      "text/plain": [
       "tensor([[-0.4542, -1.1170,  0.7534,  2.6707, -1.2473],\n",
       "        [-0.8668,  0.1647, -0.1978, -1.1574, -0.0619],\n",
       "        [-1.8319, -0.4143, -0.4898,  1.4640, -1.8555]])"
      ]
     },
     "execution_count": 3,
     "metadata": {},
     "output_type": "execute_result"
    }
   ],
   "source": [
    "x1"
   ]
  },
  {
   "cell_type": "code",
   "execution_count": 4,
   "id": "73dae854-dfba-455d-8559-321882475e3a",
   "metadata": {},
   "outputs": [
    {
     "data": {
      "text/plain": [
       "tensor([ 0.2380,  0.8970, -1.8386,  2.0783, -0.5478])"
      ]
     },
     "execution_count": 4,
     "metadata": {},
     "output_type": "execute_result"
    }
   ],
   "source": [
    "w1"
   ]
  },
  {
   "cell_type": "markdown",
   "id": "b9ba25ab-df7f-477c-ab54-d0ef5c9043ad",
   "metadata": {},
   "source": [
    "🔶activation function"
   ]
  },
  {
   "cell_type": "code",
   "execution_count": 5,
   "id": "f8d1e704-d24e-404b-84b5-3d62fdecddc3",
   "metadata": {},
   "outputs": [],
   "source": [
    "def activation_linear(x):\n",
    "    return x"
   ]
  },
  {
   "cell_type": "markdown",
   "id": "08ef7f34-8af8-495d-8adc-c05102b68843",
   "metadata": {},
   "source": [
    "🔶step function"
   ]
  },
  {
   "cell_type": "code",
   "execution_count": 6,
   "id": "a59d9afa-415b-4fc7-9107-51194512ed96",
   "metadata": {},
   "outputs": [],
   "source": [
    "def activation_step(x):\n",
    "    if x>0:\n",
    "        y= torch.tensor(1.)\n",
    "    elif x<0:\n",
    "        y=torch.tensor(0.)\n",
    "    else:\n",
    "        y=torch.tensor(0.5)\n",
    "    return y\n",
    "        "
   ]
  },
  {
   "cell_type": "markdown",
   "id": "6307cd28-e3fa-4c00-8e15-6df37183ad92",
   "metadata": {},
   "source": [
    "🔶neurun function"
   ]
  },
  {
   "cell_type": "code",
   "execution_count": 7,
   "id": "1b142824-1576-4891-85f8-4004d63b3d11",
   "metadata": {},
   "outputs": [],
   "source": [
    "def neuron(x, w, b , af):\n",
    "    z=0\n",
    "    for xi,wi in zip(x,w):\n",
    "        z += xi*wi\n",
    "    z += b\n",
    "    y = af(z)\n",
    "    return y"
   ]
  },
  {
   "cell_type": "code",
   "execution_count": 8,
   "id": "0b609c4b-6b8b-4e63-8e3a-5780772ef0fe",
   "metadata": {},
   "outputs": [
    {
     "name": "stdout",
     "output_type": "stream",
     "text": [
      "tensor([-0.4542, -1.1170,  0.7534,  2.6707, -1.2473])\n",
      "tensor([1., 2., 0., 4., 1.])\n"
     ]
    }
   ],
   "source": [
    "print(x1[0])\n",
    "print(x[0])"
   ]
  },
  {
   "cell_type": "code",
   "execution_count": 9,
   "id": "78d947f3-c3a6-4e3b-94e7-ce40942a6e2e",
   "metadata": {},
   "outputs": [
    {
     "data": {
      "text/plain": [
       "tensor(4.7384)"
      ]
     },
     "execution_count": 9,
     "metadata": {},
     "output_type": "execute_result"
    }
   ],
   "source": [
    "neuron(x1[0], w1 , b , activation_linear)"
   ]
  },
  {
   "cell_type": "code",
   "execution_count": 10,
   "id": "8e1c150d-d247-4c91-99fc-711cd905bd89",
   "metadata": {},
   "outputs": [
    {
     "data": {
      "text/plain": [
       "tensor(0.)"
      ]
     },
     "execution_count": 10,
     "metadata": {},
     "output_type": "execute_result"
    }
   ],
   "source": [
    "neuron(x[0], w , b , activation_step) "
   ]
  },
  {
   "cell_type": "code",
   "execution_count": 11,
   "id": "6e3b50e4-88d9-4903-9d80-097218543748",
   "metadata": {},
   "outputs": [
    {
     "data": {
      "text/plain": [
       "tensor(0.)"
      ]
     },
     "execution_count": 11,
     "metadata": {},
     "output_type": "execute_result"
    }
   ],
   "source": [
    "#(input , value)تابع پله\n",
    "torch.heaviside(torch.tensor(-1.),torch.tensor(0.5))"
   ]
  },
  {
   "cell_type": "markdown",
   "id": "43fa6f50-1f46-4c35-965c-892e1d4d60a5",
   "metadata": {},
   "source": [
    "🔶vectorization"
   ]
  },
  {
   "cell_type": "code",
   "execution_count": 12,
   "id": "b73d3a97-c5a4-40b5-8e05-45ff6df11073",
   "metadata": {},
   "outputs": [],
   "source": [
    "def neuron2(x , w , b ,af):\n",
    "    #y= af(torch.matmul(x , w))\n",
    "    y= af(x @ w + b)\n",
    "    return y "
   ]
  },
  {
   "cell_type": "code",
   "execution_count": 13,
   "id": "d8eb8fe0-9cc3-41ef-b50e-81cce58cd19a",
   "metadata": {},
   "outputs": [
    {
     "data": {
      "text/plain": [
       "tensor(0.)"
      ]
     },
     "execution_count": 13,
     "metadata": {},
     "output_type": "execute_result"
    }
   ],
   "source": [
    "neuron(x[0], w , b , activation_step) "
   ]
  },
  {
   "cell_type": "markdown",
   "id": "747d2536-6b9c-40b6-8fd5-d6b48369df1e",
   "metadata": {},
   "source": [
    "🔶class neuron "
   ]
  },
  {
   "cell_type": "code",
   "execution_count": 14,
   "id": "4761e0eb-ed77-421f-b379-dbed93266171",
   "metadata": {},
   "outputs": [],
   "source": [
    "class Neuron:\n",
    "    def __init__(self, m , af):\n",
    "        self.w = torch.randn(m)\n",
    "        self.b = torch.randn(1)\n",
    "        self.af = af\n",
    "    def __call__(self,x):\n",
    "        y = self.af(x @ self.w + b)\n",
    "        return y\n",
    "    "
   ]
  },
  {
   "cell_type": "code",
   "execution_count": 15,
   "id": "cf6858a4-2a88-47b1-8da5-c616c026ae38",
   "metadata": {},
   "outputs": [],
   "source": [
    "neuron3 = Neuron(5, activation_linear)"
   ]
  },
  {
   "cell_type": "code",
   "execution_count": 16,
   "id": "349bfe5e-f340-4ce1-a0db-f38173c21fa5",
   "metadata": {},
   "outputs": [
    {
     "data": {
      "text/plain": [
       "tensor(-2.5586)"
      ]
     },
     "execution_count": 16,
     "metadata": {},
     "output_type": "execute_result"
    }
   ],
   "source": [
    "neuron3(x[0])"
   ]
  },
  {
   "cell_type": "markdown",
   "id": "db36527d-9243-4c72-87a7-ef2c23eba360",
   "metadata": {},
   "source": [
    "✳️💠LOSS✅"
   ]
  },
  {
   "cell_type": "code",
   "execution_count": 17,
   "id": "eafe9ae2-7635-4427-9990-f3b9386a624f",
   "metadata": {},
   "outputs": [
    {
     "data": {
      "text/plain": [
       "tensor([-0.3337,  0.4987,  0.1842, -0.6225,  0.8596,  0.5227, -0.0219, -0.3622,\n",
       "        -0.9103, -0.4838])"
      ]
     },
     "execution_count": 17,
     "metadata": {},
     "output_type": "execute_result"
    }
   ],
   "source": [
    "yp = torch.randn((10,), dtype = torch.float32)\n",
    "yt = torch.randn((10,), dtype = torch.float32)\n",
    "yp"
   ]
  },
  {
   "cell_type": "markdown",
   "id": "89f07ece-791c-4c1a-b731-09601ab5fc21",
   "metadata": {},
   "source": [
    "💠from scratch"
   ]
  },
  {
   "cell_type": "code",
   "execution_count": 18,
   "id": "e8c3634f-de05-48e1-9547-cd72adeb8bc3",
   "metadata": {},
   "outputs": [
    {
     "data": {
      "text/plain": [
       "tensor(1.9661)"
      ]
     },
     "execution_count": 18,
     "metadata": {},
     "output_type": "execute_result"
    }
   ],
   "source": [
    "torch.mean((yp - yt)**2)"
   ]
  },
  {
   "cell_type": "markdown",
   "id": "2673f04d-9739-4f45-9f6d-75b3b2302bc0",
   "metadata": {},
   "source": [
    "💠MSE in pytorch"
   ]
  },
  {
   "cell_type": "code",
   "execution_count": 19,
   "id": "0bd02550-3995-49de-9251-96af99b609fa",
   "metadata": {},
   "outputs": [
    {
     "data": {
      "text/plain": [
       "tensor(1.9661)"
      ]
     },
     "execution_count": 19,
     "metadata": {},
     "output_type": "execute_result"
    }
   ],
   "source": [
    "#از این ادرس بصورت کلاس باید ازش استفاده کنیم\n",
    "mse_loss = nn.MSELoss()\n",
    "mse_loss(yp , yt)"
   ]
  },
  {
   "cell_type": "markdown",
   "id": "b1aad631-2f92-4493-9848-dfdb2e162809",
   "metadata": {},
   "source": [
    "💠MSE function"
   ]
  },
  {
   "cell_type": "code",
   "execution_count": 20,
   "id": "1604252e-8840-4e77-b0de-008ded4ca41f",
   "metadata": {},
   "outputs": [
    {
     "data": {
      "text/plain": [
       "tensor(1.9661)"
      ]
     },
     "execution_count": 20,
     "metadata": {},
     "output_type": "execute_result"
    }
   ],
   "source": [
    "#از این ادرس بصورت فانکشی در دسترس هست\n",
    "F.mse_loss(yp , yt)"
   ]
  },
  {
   "cell_type": "markdown",
   "id": "184d234b-c237-48ea-be17-3c83a0c1d0a8",
   "metadata": {},
   "source": [
    "💠MAS loss in pytorch"
   ]
  },
  {
   "cell_type": "code",
   "execution_count": 21,
   "id": "50a684c5-75d8-40fa-bd90-bd2e61af7a11",
   "metadata": {},
   "outputs": [
    {
     "data": {
      "text/plain": [
       "tensor(1.1682)"
      ]
     },
     "execution_count": 21,
     "metadata": {},
     "output_type": "execute_result"
    }
   ],
   "source": [
    "MAE_loss = nn.L1Loss()\n",
    "MAE_loss(yp , yt)"
   ]
  },
  {
   "cell_type": "markdown",
   "id": "495a90c7-500c-4d0c-a54b-d17f02e508ad",
   "metadata": {},
   "source": [
    "💠MAE function"
   ]
  },
  {
   "cell_type": "code",
   "execution_count": 22,
   "id": "92cb7a18-86cd-4900-966b-fd6b2f1f7ed8",
   "metadata": {},
   "outputs": [
    {
     "data": {
      "text/plain": [
       "tensor(1.1682)"
      ]
     },
     "execution_count": 22,
     "metadata": {},
     "output_type": "execute_result"
    }
   ],
   "source": [
    "F.l1_loss(yt , yp)"
   ]
  },
  {
   "cell_type": "markdown",
   "id": "dff6978b-9ed5-4954-b2e7-10d11938d49a",
   "metadata": {},
   "source": [
    "💠 connect loss to neuron"
   ]
  },
  {
   "cell_type": "code",
   "execution_count": 23,
   "id": "ee4e86f0-8bbe-4e43-8afe-2f16e1ab4a58",
   "metadata": {},
   "outputs": [],
   "source": [
    "class Neuron:\n",
    "    def __init__(self, m , af):\n",
    "        torch.manual_seed(110)\n",
    "        self.w = torch.randn(m)\n",
    "        self.b = torch.randn(1)\n",
    "        self.af = af\n",
    "    def __call__(self , x):\n",
    "        y = x @ self.w + self.b\n",
    "        if self.af == 'linear':\n",
    "            y = self.linear(y)\n",
    "        elif self.af=='step':\n",
    "            y = self.step(y)\n",
    "        return y\n",
    "    def linear(self , a):\n",
    "        return a\n",
    "    def step(self , b):\n",
    "        if b>0 :\n",
    "            y= torch.tensor(1.)\n",
    "        elif b<0:\n",
    "            y=torch.tensor(0.)\n",
    "        else:\n",
    "            y=torch.tensor(0.5)\n",
    "        return y"
   ]
  },
  {
   "cell_type": "code",
   "execution_count": 24,
   "id": "2bfd8bc8-a218-4ba8-b414-98f944e4315e",
   "metadata": {},
   "outputs": [
    {
     "name": "stdout",
     "output_type": "stream",
     "text": [
      "tensor([1.])\n",
      "tensor([5.8804])\n"
     ]
    },
    {
     "data": {
      "text/plain": [
       "tensor(23.8184)"
      ]
     },
     "execution_count": 24,
     "metadata": {},
     "output_type": "execute_result"
    }
   ],
   "source": [
    "x=torch.randn((3,5), dtype = torch.float32)\n",
    "yt= torch.randn((3,), dtype = torch.float32)\n",
    "\n",
    "x2= torch.tensor([[1. ,2. ,0. ,4. ,1.],\n",
    "                 [0. ,1. ,1. ,1. ,1.],\n",
    "                 [2. ,3. ,0. ,1. ,4.]])\n",
    "yt2= torch.tensor([1., 2, 0.])\n",
    "\n",
    "neuron4 = Neuron(5 , 'linear')\n",
    "yp = neuron4(x2[0])\n",
    "\n",
    "print(yt2[0:1])\n",
    "print(yp)\n",
    "\n",
    "loss= F.mse_loss(yp,yt2[0:1])\n",
    "loss\n",
    " "
   ]
  },
  {
   "cell_type": "markdown",
   "id": "7066f0d9-021a-474f-af20-fcaa90db7be4",
   "metadata": {},
   "source": [
    "✏️〽️autogradad ✏️"
   ]
  },
  {
   "cell_type": "code",
   "execution_count": 25,
   "id": "df361ba3-1534-4990-898a-d567774cb050",
   "metadata": {},
   "outputs": [
    {
     "name": "stdout",
     "output_type": "stream",
     "text": [
      "tensor(6.)\n"
     ]
    },
    {
     "name": "stderr",
     "output_type": "stream",
     "text": [
      "E:\\workplace\\python_install\\Lib\\site-packages\\torch\\autograd\\graph.py:825: UserWarning: CUDA initialization: The NVIDIA driver on your system is too old (found version 9020). Please update your GPU driver by downloading and installing a new version from the URL: http://www.nvidia.com/Download/index.aspx Alternatively, go to: https://pytorch.org to install a PyTorch version that has been compiled with your version of the CUDA driver. (Triggered internally at C:\\actions-runner\\_work\\pytorch\\pytorch\\builder\\windows\\pytorch\\c10\\cuda\\CUDAFunctions.cpp:108.)\n",
      "  return Variable._execution_engine.run_backward(  # Calls into the C++ engine to run the backward pass\n"
     ]
    },
    {
     "data": {
      "text/plain": [
       "tensor(0.)"
      ]
     },
     "execution_count": 25,
     "metadata": {},
     "output_type": "execute_result"
    }
   ],
   "source": [
    "x = torch.tensor(3. , requires_grad=True)\n",
    "y=x**2\n",
    "y.backward()\n",
    "print(x.grad)\n",
    "x.grad.zero_()"
   ]
  },
  {
   "cell_type": "markdown",
   "id": "610faf25-5a7b-476b-8877-43957f3760ec",
   "metadata": {},
   "source": [
    "〽️connect gradfunction to training block diagram"
   ]
  },
  {
   "cell_type": "code",
   "execution_count": 26,
   "id": "c3bee002-fffd-4147-bc2d-0fe34a7fa0dd",
   "metadata": {},
   "outputs": [],
   "source": [
    "x5= torch.tensor([[1. ,2. ,0. ,4. ,1.],\n",
    "                 [0. ,1. ,1. ,1. ,1.],\n",
    "                 [2. ,3. ,0. ,1. ,4.]])\n",
    "yt5= torch.tensor([1., 2.0, 0.])"
   ]
  },
  {
   "cell_type": "code",
   "execution_count": 27,
   "id": "aa3030ef-c38e-4b34-acdb-b4169794d1c0",
   "metadata": {},
   "outputs": [],
   "source": [
    "class Neuron5:\n",
    "    def __init__(self, m , af):\n",
    "        torch.manual_seed(110)\n",
    "        self.w = torch.randn(m , requires_grad=True)\n",
    "        self.b = torch.randn(1 , requires_grad=True)\n",
    "        self.af = af\n",
    "    def __call__(self , x):\n",
    "        y = x @ self.w + self.b\n",
    "        if self.af == 'linear':\n",
    "            y = self.linear(y)\n",
    "        elif self.af=='step':\n",
    "            y = self.step(y)\n",
    "        return y\n",
    "    def linear(self , a):\n",
    "        return a\n",
    "    def step(self , b):\n",
    "        pass"
   ]
  },
  {
   "cell_type": "code",
   "execution_count": 28,
   "id": "d3b477b0-6844-4a23-adc5-320bd5d446b2",
   "metadata": {},
   "outputs": [
    {
     "name": "stdout",
     "output_type": "stream",
     "text": [
      "tensor([-0.4542, -1.1170,  0.7534,  2.6707, -1.2473], requires_grad=True)\n",
      "tensor([-0.8668], requires_grad=True)\n",
      "tensor([5.8804], grad_fn=<AddBackward0>)\n"
     ]
    }
   ],
   "source": [
    "neuron5 = Neuron5(5 , 'linear')\n",
    "print(neuron5.w)\n",
    "print(neuron5.b)\n",
    "yp5 = neuron5(x5[0])\n",
    "\n",
    "print(yp5)"
   ]
  },
  {
   "cell_type": "code",
   "execution_count": 29,
   "id": "a6fac6bd-84f1-4389-b949-bf7b27bfe800",
   "metadata": {},
   "outputs": [
    {
     "data": {
      "text/plain": [
       "tensor(23.8184, grad_fn=<MseLossBackward0>)"
      ]
     },
     "execution_count": 29,
     "metadata": {},
     "output_type": "execute_result"
    }
   ],
   "source": [
    "loss5= F.mse_loss(yp5,yt5[0:1])\n",
    "loss5"
   ]
  },
  {
   "cell_type": "code",
   "execution_count": 30,
   "id": "672ad719-de16-4932-a626-12a1349b5189",
   "metadata": {},
   "outputs": [],
   "source": [
    "loss5.backward()"
   ]
  },
  {
   "cell_type": "code",
   "execution_count": 31,
   "id": "9f6e4269-bbde-4591-9e27-1714050683d9",
   "metadata": {},
   "outputs": [
    {
     "data": {
      "text/plain": [
       "tensor([ 9.7608, 19.5216,  0.0000, 39.0433,  9.7608])"
      ]
     },
     "execution_count": 31,
     "metadata": {},
     "output_type": "execute_result"
    }
   ],
   "source": [
    "neuron5.w.grad"
   ]
  },
  {
   "cell_type": "code",
   "execution_count": 32,
   "id": "20bbe3ae-743d-4354-b078-b57454588d6d",
   "metadata": {},
   "outputs": [
    {
     "data": {
      "text/plain": [
       "tensor([9.7608])"
      ]
     },
     "execution_count": 32,
     "metadata": {},
     "output_type": "execute_result"
    }
   ],
   "source": [
    "neuron5.b.grad"
   ]
  },
  {
   "cell_type": "markdown",
   "id": "999e911a-3f7a-4aa0-b38d-ebce01c42693",
   "metadata": {},
   "source": [
    "🟡💠optimizers🟡"
   ]
  },
  {
   "cell_type": "code",
   "execution_count": 33,
   "id": "04df39ac-1eca-46dd-8e8f-b4b56e1e1088",
   "metadata": {},
   "outputs": [],
   "source": [
    "def funcx2(x):\n",
    "    return x**2"
   ]
  },
  {
   "cell_type": "code",
   "execution_count": 34,
   "id": "21a497be-6fb3-4729-a0a1-e5f2de65369f",
   "metadata": {},
   "outputs": [],
   "source": [
    "xi= torch.tensor(-3. , requires_grad = True)"
   ]
  },
  {
   "cell_type": "code",
   "execution_count": 35,
   "id": "4d45a714-8375-41de-a994-03203e85285d",
   "metadata": {},
   "outputs": [
    {
     "data": {
      "text/plain": [
       "SGD (\n",
       "Parameter Group 0\n",
       "    dampening: 0\n",
       "    differentiable: False\n",
       "    foreach: None\n",
       "    fused: None\n",
       "    lr: 0.1\n",
       "    maximize: False\n",
       "    momentum: 0\n",
       "    nesterov: False\n",
       "    weight_decay: 0\n",
       ")"
      ]
     },
     "execution_count": 35,
     "metadata": {},
     "output_type": "execute_result"
    }
   ],
   "source": [
    "params= [xi]\n",
    "eta= 0.1\n",
    "optimizer = optim.SGD(params , eta )\n",
    "optimizer"
   ]
  },
  {
   "cell_type": "code",
   "execution_count": 36,
   "id": "87236c20-172e-4040-8b76-31b8f099d65c",
   "metadata": {},
   "outputs": [],
   "source": [
    "N = 30\n",
    "for i in range (N):\n",
    "    funcx2(xi).backward()\n",
    "    \"\"\"xi -= xi*xi.grad\n",
    "    xi.grad.zero_()\"\"\"\n",
    "    optimizer.step()\n",
    "    optimizer.zero_grad()\n",
    "    "
   ]
  },
  {
   "cell_type": "code",
   "execution_count": 37,
   "id": "7a9ce162-43ba-4155-8c0b-a61469c6ace2",
   "metadata": {},
   "outputs": [
    {
     "data": {
      "text/plain": [
       "tensor(-0.0037, requires_grad=True)"
      ]
     },
     "execution_count": 37,
     "metadata": {},
     "output_type": "execute_result"
    }
   ],
   "source": [
    "xi"
   ]
  },
  {
   "cell_type": "code",
   "execution_count": 38,
   "id": "5377dfc2-8531-403b-91c9-eeb6a693042b",
   "metadata": {},
   "outputs": [
    {
     "data": {
      "text/plain": [
       "[{'params': [tensor(-0.0037, requires_grad=True)],\n",
       "  'lr': 0.1,\n",
       "  'momentum': 0,\n",
       "  'dampening': 0,\n",
       "  'weight_decay': 0,\n",
       "  'nesterov': False,\n",
       "  'maximize': False,\n",
       "  'foreach': None,\n",
       "  'differentiable': False,\n",
       "  'fused': None}]"
      ]
     },
     "execution_count": 38,
     "metadata": {},
     "output_type": "execute_result"
    }
   ],
   "source": [
    "optimizer.param_groups"
   ]
  },
  {
   "cell_type": "code",
   "execution_count": 39,
   "id": "3a40f06f-9983-49c1-b6ce-2c48c0307a14",
   "metadata": {},
   "outputs": [
    {
     "data": {
      "text/plain": [
       "[tensor(-0.0037, requires_grad=True)]"
      ]
     },
     "execution_count": 39,
     "metadata": {},
     "output_type": "execute_result"
    }
   ],
   "source": [
    "optimizer.param_groups[0]['params']"
   ]
  },
  {
   "cell_type": "markdown",
   "id": "5b615221-a19c-4dff-995e-516010890f3d",
   "metadata": {},
   "source": [
    "🟡connect optimizer to neuron"
   ]
  },
  {
   "cell_type": "code",
   "execution_count": 40,
   "id": "2a82cc3e-3f82-4bf2-a959-61226402a8d4",
   "metadata": {},
   "outputs": [
    {
     "name": "stdout",
     "output_type": "stream",
     "text": [
      "tensor([1., 2., 0., 4., 1.])\n",
      "tensor([1., 2., 0., 4., 1.])\n",
      "tensor([1., 2., 0., 4., 1.])\n",
      "tensor([1., 2., 0., 4., 1.])\n",
      "tensor([1., 2., 0., 4., 1.])\n"
     ]
    },
    {
     "name": "stderr",
     "output_type": "stream",
     "text": [
      "C:\\Users\\Azadeh\\AppData\\Local\\Temp\\ipykernel_3856\\2608549189.py:15: UserWarning: Using a target size (torch.Size([])) that is different to the input size (torch.Size([1])). This will likely lead to incorrect results due to broadcasting. Please ensure they have the same size.\n",
      "  loss = F.mse_loss(yp6 ,yt6[0])\n"
     ]
    }
   ],
   "source": [
    "x6 = torch.tensor([[1. ,2. ,0. ,4. ,1.],\n",
    "                 [0. ,1. ,1. ,1. ,1.],\n",
    "                 [2. ,3. ,0. ,1. ,4.]])\n",
    "yt6 = torch.tensor([1., 2.0, 0.])\n",
    "\n",
    "neuron6 = Neuron5(5 , 'linear')\n",
    "params = [neuron6.w , neuron6.b]\n",
    "eta = 0.1\n",
    "N = 5\n",
    "optimizer = optim.SGD(params, eta)\n",
    "\n",
    "for i in range(N):\n",
    "    print(x6[0])\n",
    "    yp6 = neuron6(x6[0])\n",
    "    loss = F.mse_loss(yp6 ,yt6[0])\n",
    "    loss.backward()\n",
    "    optimizer.step()\n",
    "    optimizer.zero_grad()\n",
    "    \n",
    "\n"
   ]
  },
  {
   "cell_type": "markdown",
   "id": "fd6cace5-5ed1-4bba-a421-6c7dcfc58f68",
   "metadata": {},
   "source": [
    "🟡fully connected neurons"
   ]
  },
  {
   "cell_type": "code",
   "execution_count": 41,
   "id": "657b85b1-f841-4fc4-95d9-e5ac9eb76380",
   "metadata": {},
   "outputs": [],
   "source": [
    "fc = nn.Linear(in_features=4 , out_features=5 , bias=False)\n",
    "fc.bias"
   ]
  },
  {
   "cell_type": "code",
   "execution_count": 42,
   "id": "ce4ba9ed-73b9-4dd8-a34a-f1c1cb06e60f",
   "metadata": {},
   "outputs": [
    {
     "data": {
      "text/plain": [
       "Parameter containing:\n",
       "tensor([[-0.0174,  0.4588, -0.3709,  0.0870],\n",
       "        [-0.1864,  0.2080, -0.4389,  0.2027],\n",
       "        [-0.3081, -0.3095, -0.1464, -0.4760],\n",
       "        [ 0.1627,  0.0315,  0.0870, -0.1559],\n",
       "        [ 0.1850,  0.3201, -0.3967, -0.2373]], requires_grad=True)"
      ]
     },
     "execution_count": 42,
     "metadata": {},
     "output_type": "execute_result"
    }
   ],
   "source": [
    "fc.weight"
   ]
  },
  {
   "cell_type": "code",
   "execution_count": 43,
   "id": "e9ed6dcc-2afb-4cfe-bad7-8362f43c5f2d",
   "metadata": {},
   "outputs": [
    {
     "data": {
      "text/plain": [
       "tensor([[-0.9658,  0.8763, -0.0505,  0.8467],\n",
       "        [ 1.2977,  0.6857,  0.5270, -0.9731],\n",
       "        [-0.3251, -0.0119,  1.5871,  0.6515],\n",
       "        [ 1.9699, -0.2955, -0.8002, -0.8998],\n",
       "        [-1.5724, -0.0874, -1.4357, -0.8746],\n",
       "        [-0.6784, -0.1275, -0.2685, -1.5063]])"
      ]
     },
     "execution_count": 43,
     "metadata": {},
     "output_type": "execute_result"
    }
   ],
   "source": [
    "x = torch.randn(6,4)\n",
    "x"
   ]
  },
  {
   "cell_type": "code",
   "execution_count": 44,
   "id": "a607da13-7adc-49eb-b570-74863707e4d8",
   "metadata": {},
   "outputs": [
    {
     "data": {
      "text/plain": [
       "tensor([[ 0.5113,  0.5562, -0.3693, -0.2659, -0.0790],\n",
       "        [ 0.0118, -0.5278, -0.2260,  0.4303,  0.4814],\n",
       "        [-0.5318, -0.5063, -0.4386, -0.0167, -0.8482],\n",
       "        [ 0.0485, -0.2600,  0.0300,  0.3818,  0.8008],\n",
       "        [ 0.4438,  0.7278,  1.1380, -0.2471,  0.4583],\n",
       "        [-0.0781, -0.0876,  1.0047,  0.0971,  0.2977]], grad_fn=<MmBackward0>)"
      ]
     },
     "execution_count": 44,
     "metadata": {},
     "output_type": "execute_result"
    }
   ],
   "source": [
    "fc(x) "
   ]
  },
  {
   "cell_type": "markdown",
   "id": "f02cd6d8-68e1-4151-9429-8c21ef4f9628",
   "metadata": {},
   "source": [
    "🟡multi layer"
   ]
  },
  {
   "cell_type": "code",
   "execution_count": 45,
   "id": "678690d4-14c9-4c49-97f0-00b49466323c",
   "metadata": {},
   "outputs": [
    {
     "data": {
      "text/plain": [
       "tensor([[-0.1887,  0.2825,  0.5871,  0.4770, -0.3234],\n",
       "        [ 0.0812, -0.2457,  0.6644,  0.4276,  0.0043],\n",
       "        [-0.1599, -0.3534,  0.4591,  0.4640,  0.3018],\n",
       "        [ 0.0198,  0.0974,  0.4914,  0.3080, -0.2550],\n",
       "        [-0.0326,  0.3447,  0.4112,  0.2556, -0.4458],\n",
       "        [-0.0268, -0.0929, -0.6707, -0.3847,  0.1955]], grad_fn=<MmBackward0>)"
      ]
     },
     "execution_count": 45,
     "metadata": {},
     "output_type": "execute_result"
    }
   ],
   "source": [
    "x = torch.randn(6,3)\n",
    "fc1= nn.Linear(3,8)\n",
    "fc2= nn.Linear(8,5 , bias=False)\n",
    "fc2(fc1(x))"
   ]
  },
  {
   "cell_type": "code",
   "execution_count": 46,
   "id": "de49ba92-eec3-4710-9ebb-597ac831afe3",
   "metadata": {},
   "outputs": [
    {
     "data": {
      "text/plain": [
       "tensor([[-0.6512,  0.0062, -0.2367, -0.1428,  0.0196],\n",
       "        [-0.7027,  0.1253, -0.0912,  0.0486, -0.1218],\n",
       "        [-1.0618,  0.1768,  0.3217,  0.0687, -0.1629],\n",
       "        [-0.5063, -0.0133, -0.2813,  0.0027,  0.0770],\n",
       "        [-0.3814, -0.1000, -0.4204, -0.0482,  0.1950],\n",
       "        [-0.5437, -0.2215,  0.2267,  0.4331,  0.5524]],\n",
       "       grad_fn=<AddmmBackward0>)"
      ]
     },
     "execution_count": 46,
     "metadata": {},
     "output_type": "execute_result"
    }
   ],
   "source": [
    "mlp = nn.Sequential(\n",
    "    nn.Linear(3,8),\n",
    "    nn.Linear(8,5)\n",
    ")\n",
    "\n",
    "mlp(x)"
   ]
  },
  {
   "cell_type": "code",
   "execution_count": 47,
   "id": "30a252e0-9541-45a0-8a70-b3c8f5f75643",
   "metadata": {},
   "outputs": [
    {
     "data": {
      "text/plain": [
       "Parameter containing:\n",
       "tensor([[-0.4902,  0.0838,  0.0706],\n",
       "        [-0.3610, -0.0157, -0.3017],\n",
       "        [-0.4947, -0.0050, -0.3457],\n",
       "        [ 0.1358, -0.3073,  0.5544],\n",
       "        [-0.3446, -0.1883, -0.2568],\n",
       "        [-0.0406,  0.2430,  0.4883],\n",
       "        [ 0.1049,  0.0137,  0.4587],\n",
       "        [-0.1429,  0.1643,  0.0624]], requires_grad=True)"
      ]
     },
     "execution_count": 47,
     "metadata": {},
     "output_type": "execute_result"
    }
   ],
   "source": [
    "#having access to layers\n",
    "mlp[0].weight"
   ]
  },
  {
   "cell_type": "markdown",
   "id": "4214ba1a-da7a-4724-b4ad-7918c20a1215",
   "metadata": {},
   "source": [
    "🟡implementing a mlp neural   "
   ]
  },
  {
   "cell_type": "code",
   "execution_count": 99,
   "id": "3539d62d-6bf8-40b3-94d4-566aa613ef78",
   "metadata": {},
   "outputs": [],
   "source": [
    "x_train = torch.randn(80, dtype=torch.float32)\n",
    "y_train = torch.randn(80, dtype=torch.float32)"
   ]
  },
  {
   "cell_type": "code",
   "execution_count": 100,
   "id": "bd2737dd-8488-4bc5-afb5-34323c6076ee",
   "metadata": {},
   "outputs": [
    {
     "name": "stdout",
     "output_type": "stream",
     "text": [
      "tensor([[ 1.8447],\n",
      "        [-0.4474],\n",
      "        [-0.4835],\n",
      "        [-0.9534],\n",
      "        [-0.3841],\n",
      "        [ 0.1763],\n",
      "        [-0.4426],\n",
      "        [-0.6049],\n",
      "        [ 0.7302],\n",
      "        [-1.4584],\n",
      "        [-0.1647],\n",
      "        [ 0.2698],\n",
      "        [ 0.7953],\n",
      "        [-0.5099],\n",
      "        [-0.7832],\n",
      "        [ 0.1800],\n",
      "        [-0.1460],\n",
      "        [ 1.5791],\n",
      "        [ 0.0481],\n",
      "        [ 0.2790],\n",
      "        [-0.2691],\n",
      "        [-1.3943],\n",
      "        [ 0.6794],\n",
      "        [ 0.3442],\n",
      "        [-0.4396],\n",
      "        [-0.6744],\n",
      "        [ 0.1463],\n",
      "        [ 1.0985],\n",
      "        [-1.1072],\n",
      "        [-0.3778],\n",
      "        [-0.1853],\n",
      "        [-0.3606],\n",
      "        [-0.2616],\n",
      "        [ 1.2556],\n",
      "        [ 0.5531],\n",
      "        [-1.3186],\n",
      "        [-0.7989],\n",
      "        [-0.0451],\n",
      "        [ 2.1893],\n",
      "        [ 1.3173],\n",
      "        [ 1.0590],\n",
      "        [ 1.1387],\n",
      "        [ 0.3749],\n",
      "        [-0.9765],\n",
      "        [ 0.3862],\n",
      "        [ 1.0982],\n",
      "        [-1.3427],\n",
      "        [-1.4197],\n",
      "        [-1.0386],\n",
      "        [-0.5594],\n",
      "        [ 0.8807],\n",
      "        [ 0.8817],\n",
      "        [-1.4248],\n",
      "        [ 0.6279],\n",
      "        [ 0.4105],\n",
      "        [-0.3363],\n",
      "        [-2.1562],\n",
      "        [-0.4855],\n",
      "        [ 1.0940],\n",
      "        [-1.0082],\n",
      "        [ 1.2041],\n",
      "        [-0.5273],\n",
      "        [-2.1698],\n",
      "        [-1.4711],\n",
      "        [ 0.0421],\n",
      "        [-1.2540],\n",
      "        [ 1.5985],\n",
      "        [ 0.1959],\n",
      "        [-1.0671],\n",
      "        [ 1.2916],\n",
      "        [-0.0748],\n",
      "        [ 0.3947],\n",
      "        [-0.4632],\n",
      "        [-2.3798],\n",
      "        [ 0.5791],\n",
      "        [ 0.1873],\n",
      "        [ 0.9657],\n",
      "        [ 0.2687],\n",
      "        [ 0.5937],\n",
      "        [-0.6327]])\n",
      "torch.Size([80, 1])\n"
     ]
    }
   ],
   "source": [
    "#x should be two dimentionl but y is ok\n",
    "x_train = x_train.unsqueeze(1)\n",
    "print(x_train)\n",
    "print(x_train.shape)"
   ]
  },
  {
   "cell_type": "code",
   "execution_count": 101,
   "id": "43c51243-e702-46d3-a7da-54566b7b2c3b",
   "metadata": {},
   "outputs": [
    {
     "data": {
      "text/plain": [
       "tensor([ 1.1416,  1.5690, -0.8040,  0.8074, -0.2738,  0.0626, -1.1962,  0.0390,\n",
       "        -0.2206, -0.1446, -0.2945,  0.4354, -0.6426,  2.0830,  1.1026,  0.2785,\n",
       "         1.1067,  0.2534, -1.1139,  0.6588,  0.8038,  0.6883,  0.7408, -0.5847,\n",
       "         0.7056, -1.2366, -0.3231, -0.3726,  0.6833, -1.0665, -0.5256, -0.4433,\n",
       "        -1.5699,  0.1904,  0.2411, -0.0284,  0.3951,  0.3430,  0.9633,  0.9146,\n",
       "        -2.1405, -0.0470,  0.0228, -0.5431, -0.0338,  0.2256, -0.9730,  0.6923,\n",
       "        -0.4048,  1.7726, -0.9225, -0.1678,  0.6603,  1.2264,  0.3876,  0.2045,\n",
       "         1.3522,  1.1530, -2.0876,  0.4680,  2.5461, -1.3754,  0.8489,  0.4856,\n",
       "         0.6433,  0.4062,  1.0413, -1.5189,  3.5079,  0.0287,  1.4705,  1.0622,\n",
       "         1.7695, -0.3275,  2.0450,  0.7422, -0.1752, -0.9510, -1.8318, -0.5849])"
      ]
     },
     "execution_count": 101,
     "metadata": {},
     "output_type": "execute_result"
    }
   ],
   "source": [
    "y_train"
   ]
  },
  {
   "cell_type": "code",
   "execution_count": 102,
   "id": "7c74204d-05f2-40a2-8b46-76f5be8371a1",
   "metadata": {},
   "outputs": [],
   "source": [
    "#plt.scatter(x_train , y_train)"
   ]
  },
  {
   "cell_type": "code",
   "execution_count": 158,
   "id": "52214b16-6248-4c0f-b6b3-b801192eda17",
   "metadata": {},
   "outputs": [
    {
     "data": {
      "text/plain": [
       "Sequential(\n",
       "  (0): Linear(in_features=1, out_features=3, bias=True)\n",
       "  (1): Linear(in_features=3, out_features=1, bias=True)\n",
       ")"
      ]
     },
     "execution_count": 158,
     "metadata": {},
     "output_type": "execute_result"
    }
   ],
   "source": [
    "model = nn.Sequential(\n",
    "    nn.Linear(1,3),\n",
    "    nn.Linear(3,1)\n",
    ")\n",
    "model"
   ]
  },
  {
   "cell_type": "code",
   "execution_count": 159,
   "id": "324a477a-635c-458b-9ee0-085fb2a31197",
   "metadata": {},
   "outputs": [],
   "source": [
    "#loss_func = nn.MSELoss()\n",
    "loss_func= nn.L1Loss()"
   ]
  },
  {
   "cell_type": "code",
   "execution_count": 160,
   "id": "8e9ced61-4420-49e4-81c8-d242bfe47635",
   "metadata": {},
   "outputs": [
    {
     "name": "stdout",
     "output_type": "stream",
     "text": [
      "0.weight Parameter containing:\n",
      "tensor([[ 0.3492],\n",
      "        [-0.2902],\n",
      "        [-0.2293]], requires_grad=True)\n",
      "0.bias Parameter containing:\n",
      "tensor([-0.7732, -0.6355, -0.7027], requires_grad=True)\n",
      "1.weight Parameter containing:\n",
      "tensor([[ 0.5125, -0.1113, -0.4003]], requires_grad=True)\n",
      "1.bias Parameter containing:\n",
      "tensor([0.1993], requires_grad=True)\n"
     ]
    }
   ],
   "source": [
    "for name , param in model.named_parameters():\n",
    "    print(name , param)"
   ]
  },
  {
   "cell_type": "code",
   "execution_count": 161,
   "id": "a0b0e83e-9081-40d6-b18b-fb1c823d7cd0",
   "metadata": {},
   "outputs": [],
   "source": [
    "lr=0.5\n",
    "optimizer = optim.SGD(model.parameters() , lr)"
   ]
  },
  {
   "cell_type": "code",
   "execution_count": 162,
   "id": "9665ebbf-f74f-4e3d-a2b1-78cb62fe1e7e",
   "metadata": {},
   "outputs": [
    {
     "name": "stdout",
     "output_type": "stream",
     "text": [
      "0.8642706871032715\n",
      "0.8359402418136597\n",
      "0.82757967710495\n",
      "0.8206332325935364\n",
      "0.8167308568954468\n",
      "0.813133716583252\n",
      "0.8112398982048035\n",
      "0.808444619178772\n",
      "0.8060411214828491\n",
      "0.8064254522323608\n",
      "0.8046520352363586\n",
      "0.8038781881332397\n",
      "0.8041669726371765\n",
      "0.8000258207321167\n",
      "0.8003033399581909\n",
      "0.7988676428794861\n",
      "0.7998695969581604\n",
      "0.7971790432929993\n",
      "0.7980247735977173\n",
      "0.7986788749694824\n",
      "0.8012651205062866\n",
      "0.7978143692016602\n",
      "0.7985727190971375\n",
      "0.7994977831840515\n",
      "0.7969576716423035\n",
      "0.798551082611084\n",
      "0.7995057106018066\n",
      "0.7969600558280945\n",
      "0.7985295057296753\n",
      "0.7995136380195618\n",
      "0.7969624400138855\n",
      "0.7985081076622009\n",
      "0.7995214462280273\n",
      "0.796964704990387\n",
      "0.7984868288040161\n",
      "0.7995292544364929\n",
      "0.7969670295715332\n",
      "0.7984656095504761\n",
      "0.7995370030403137\n",
      "0.7969693541526794\n",
      "0.798444390296936\n",
      "0.7995446920394897\n",
      "0.7969716191291809\n",
      "0.7984232902526855\n",
      "0.799552321434021\n",
      "0.7969738245010376\n",
      "0.7984023690223694\n",
      "0.7995599508285522\n",
      "0.7969760298728943\n",
      "0.7983814477920532\n"
     ]
    }
   ],
   "source": [
    "N = 50\n",
    "loss_list=[]\n",
    "for iter in range(N):\n",
    "    yp = model(x_train)\n",
    "    #print(yp.squeeze().shape)\n",
    "    #print(y_train.shape)\n",
    "    loss = loss_func(yp.squeeze() , y_train)\n",
    "    loss_list.append(loss)\n",
    "    loss.backward()\n",
    "    optimizer.step()\n",
    "    optimizer.zero_grad()\n",
    "    print(loss.item())"
   ]
  },
  {
   "cell_type": "code",
   "execution_count": 97,
   "id": "4e5dba33-c25c-49bb-923e-bafa12b2f6b2",
   "metadata": {},
   "outputs": [],
   "source": [
    "#loss_list"
   ]
  },
  {
   "cell_type": "code",
   "execution_count": null,
   "id": "3da1875c-73c5-481f-8747-60959e9c3dc6",
   "metadata": {},
   "outputs": [],
   "source": []
  },
  {
   "cell_type": "code",
   "execution_count": null,
   "id": "3e2d433c-7b1d-4675-98a1-b6e1ea015ee5",
   "metadata": {},
   "outputs": [],
   "source": []
  }
 ],
 "metadata": {
  "kernelspec": {
   "display_name": "Python 3 (ipykernel)",
   "language": "python",
   "name": "python3"
  },
  "language_info": {
   "codemirror_mode": {
    "name": "ipython",
    "version": 3
   },
   "file_extension": ".py",
   "mimetype": "text/x-python",
   "name": "python",
   "nbconvert_exporter": "python",
   "pygments_lexer": "ipython3",
   "version": "3.12.7"
  }
 },
 "nbformat": 4,
 "nbformat_minor": 5
}
