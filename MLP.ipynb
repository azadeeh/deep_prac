{
 "cells": [
  {
   "cell_type": "code",
   "execution_count": 52,
   "id": "9bb07f5a-377e-414f-b875-42344d0a9a35",
   "metadata": {},
   "outputs": [],
   "source": [
    "import torch\n",
    "from torch import nn\n",
    "import torch.nn.functional as F"
   ]
  },
  {
   "cell_type": "code",
   "execution_count": 2,
   "id": "ad1dbfd1-788b-4825-bfe0-ef8bd4b871ca",
   "metadata": {},
   "outputs": [],
   "source": [
    "torch.manual_seed(110)\n",
    "x1= torch.randn((3,5), dtype=torch.float32)\n",
    "w1= torch.randn((5,), dtype=torch.float32)\n",
    "\n",
    "x= torch.tensor([[1. ,2. ,0. ,4. ,1.],\n",
    "                 [0. ,1. ,1. ,1. ,1.],\n",
    "                 [2. ,3. ,0. ,1. ,4.]])\n",
    "w= torch.tensor([1., 0.5, 1., -1, -0.5])\n",
    "b= torch.tensor(1.0)"
   ]
  },
  {
   "cell_type": "code",
   "execution_count": 3,
   "id": "c05c0b5e-4bad-47be-9e2f-f6d4b8173bc3",
   "metadata": {},
   "outputs": [
    {
     "data": {
      "text/plain": [
       "tensor([[-0.4542, -1.1170,  0.7534,  2.6707, -1.2473],\n",
       "        [-0.8668,  0.1647, -0.1978, -1.1574, -0.0619],\n",
       "        [-1.8319, -0.4143, -0.4898,  1.4640, -1.8555]])"
      ]
     },
     "execution_count": 3,
     "metadata": {},
     "output_type": "execute_result"
    }
   ],
   "source": [
    "x1"
   ]
  },
  {
   "cell_type": "code",
   "execution_count": 4,
   "id": "73dae854-dfba-455d-8559-321882475e3a",
   "metadata": {},
   "outputs": [
    {
     "data": {
      "text/plain": [
       "tensor([ 0.2380,  0.8970, -1.8386,  2.0783, -0.5478])"
      ]
     },
     "execution_count": 4,
     "metadata": {},
     "output_type": "execute_result"
    }
   ],
   "source": [
    "w1"
   ]
  },
  {
   "cell_type": "markdown",
   "id": "b9ba25ab-df7f-477c-ab54-d0ef5c9043ad",
   "metadata": {},
   "source": [
    "🔶activation function"
   ]
  },
  {
   "cell_type": "code",
   "execution_count": 7,
   "id": "f8d1e704-d24e-404b-84b5-3d62fdecddc3",
   "metadata": {},
   "outputs": [],
   "source": [
    "def activation_linear(x):\n",
    "    return x"
   ]
  },
  {
   "cell_type": "markdown",
   "id": "08ef7f34-8af8-495d-8adc-c05102b68843",
   "metadata": {},
   "source": [
    "🔶step function"
   ]
  },
  {
   "cell_type": "code",
   "execution_count": 8,
   "id": "a59d9afa-415b-4fc7-9107-51194512ed96",
   "metadata": {},
   "outputs": [],
   "source": [
    "def activation_step(x):\n",
    "    if x>0:\n",
    "        y= torch.tensor(1.)\n",
    "    elif x<0:\n",
    "        y=torch.tensor(0.)\n",
    "    else:\n",
    "        y=torch.tensor(0.5)\n",
    "    return y\n",
    "        "
   ]
  },
  {
   "cell_type": "markdown",
   "id": "6307cd28-e3fa-4c00-8e15-6df37183ad92",
   "metadata": {},
   "source": [
    "🔶neurun function"
   ]
  },
  {
   "cell_type": "code",
   "execution_count": 13,
   "id": "1b142824-1576-4891-85f8-4004d63b3d11",
   "metadata": {},
   "outputs": [],
   "source": [
    "def neuron(x, w, b , af):\n",
    "    z=0\n",
    "    for xi,wi in zip(x,w):\n",
    "        z += xi*wi\n",
    "    z += b\n",
    "    y = af(z)\n",
    "    return y"
   ]
  },
  {
   "cell_type": "code",
   "execution_count": 14,
   "id": "0b609c4b-6b8b-4e63-8e3a-5780772ef0fe",
   "metadata": {},
   "outputs": [
    {
     "name": "stdout",
     "output_type": "stream",
     "text": [
      "tensor([-0.4542, -1.1170,  0.7534,  2.6707, -1.2473])\n",
      "tensor([1., 2., 0., 4., 1.])\n"
     ]
    }
   ],
   "source": [
    "print(x1[0])\n",
    "print(x[0])"
   ]
  },
  {
   "cell_type": "code",
   "execution_count": 15,
   "id": "78d947f3-c3a6-4e3b-94e7-ce40942a6e2e",
   "metadata": {},
   "outputs": [
    {
     "data": {
      "text/plain": [
       "tensor(4.7384)"
      ]
     },
     "execution_count": 15,
     "metadata": {},
     "output_type": "execute_result"
    }
   ],
   "source": [
    "neuron(x1[0], w1 , b , activation_linear)"
   ]
  },
  {
   "cell_type": "code",
   "execution_count": 16,
   "id": "8e1c150d-d247-4c91-99fc-711cd905bd89",
   "metadata": {},
   "outputs": [
    {
     "data": {
      "text/plain": [
       "tensor(0.)"
      ]
     },
     "execution_count": 16,
     "metadata": {},
     "output_type": "execute_result"
    }
   ],
   "source": [
    "neuron(x[0], w , b , activation_step) "
   ]
  },
  {
   "cell_type": "code",
   "execution_count": 20,
   "id": "6e3b50e4-88d9-4903-9d80-097218543748",
   "metadata": {},
   "outputs": [
    {
     "data": {
      "text/plain": [
       "tensor(0.)"
      ]
     },
     "execution_count": 20,
     "metadata": {},
     "output_type": "execute_result"
    }
   ],
   "source": [
    "#(input , value)تابع پله\n",
    "torch.heaviside(torch.tensor(-1.),torch.tensor(0.5))"
   ]
  },
  {
   "cell_type": "markdown",
   "id": "43fa6f50-1f46-4c35-965c-892e1d4d60a5",
   "metadata": {},
   "source": [
    "🔶vectorization"
   ]
  },
  {
   "cell_type": "code",
   "execution_count": null,
   "id": "b73d3a97-c5a4-40b5-8e05-45ff6df11073",
   "metadata": {},
   "outputs": [],
   "source": [
    "def neuron2(x , w , b ,af):\n",
    "    #y= af(torch.matmul(x , w))\n",
    "    y= af(x @ w + b)\n",
    "    return y "
   ]
  },
  {
   "cell_type": "code",
   "execution_count": 21,
   "id": "d8eb8fe0-9cc3-41ef-b50e-81cce58cd19a",
   "metadata": {},
   "outputs": [
    {
     "data": {
      "text/plain": [
       "tensor(0.)"
      ]
     },
     "execution_count": 21,
     "metadata": {},
     "output_type": "execute_result"
    }
   ],
   "source": [
    "neuron(x[0], w , b , activation_step) "
   ]
  },
  {
   "cell_type": "markdown",
   "id": "747d2536-6b9c-40b6-8fd5-d6b48369df1e",
   "metadata": {},
   "source": [
    "🔶class neuron "
   ]
  },
  {
   "cell_type": "code",
   "execution_count": 35,
   "id": "4761e0eb-ed77-421f-b379-dbed93266171",
   "metadata": {},
   "outputs": [],
   "source": [
    "class Neuron:\n",
    "    def __init__(self, m , af):\n",
    "        self.w = torch.randn(m)\n",
    "        self.b = torch.randn(1)\n",
    "        self.af = af\n",
    "    def __call__(self,x):\n",
    "        y = self.af(x @ self.w + b)\n",
    "        return y\n",
    "    "
   ]
  },
  {
   "cell_type": "code",
   "execution_count": 38,
   "id": "cf6858a4-2a88-47b1-8da5-c616c026ae38",
   "metadata": {},
   "outputs": [],
   "source": [
    "neuron3 = Neuron(5, activation_linear)"
   ]
  },
  {
   "cell_type": "code",
   "execution_count": 40,
   "id": "349bfe5e-f340-4ce1-a0db-f38173c21fa5",
   "metadata": {},
   "outputs": [
    {
     "data": {
      "text/plain": [
       "tensor(9.9223)"
      ]
     },
     "execution_count": 40,
     "metadata": {},
     "output_type": "execute_result"
    }
   ],
   "source": [
    "neuron3(x[0])"
   ]
  },
  {
   "cell_type": "markdown",
   "id": "db36527d-9243-4c72-87a7-ef2c23eba360",
   "metadata": {},
   "source": [
    "✳️💠LOSS✅"
   ]
  },
  {
   "cell_type": "code",
   "execution_count": 44,
   "id": "eafe9ae2-7635-4427-9990-f3b9386a624f",
   "metadata": {},
   "outputs": [
    {
     "data": {
      "text/plain": [
       "tensor([-0.5120, -1.1930,  0.2331,  0.3727,  0.1699,  0.5249,  1.4532, -0.4318,\n",
       "        -0.4315,  0.6315])"
      ]
     },
     "execution_count": 44,
     "metadata": {},
     "output_type": "execute_result"
    }
   ],
   "source": [
    "yp = torch.randn((10,), dtype = torch.float32)\n",
    "yt = torch.randn((10,), dtype = torch.float32)\n",
    "yp"
   ]
  },
  {
   "cell_type": "markdown",
   "id": "89f07ece-791c-4c1a-b731-09601ab5fc21",
   "metadata": {},
   "source": [
    "💠from scratch"
   ]
  },
  {
   "cell_type": "code",
   "execution_count": 45,
   "id": "e8c3634f-de05-48e1-9547-cd72adeb8bc3",
   "metadata": {},
   "outputs": [
    {
     "data": {
      "text/plain": [
       "tensor(1.3802)"
      ]
     },
     "execution_count": 45,
     "metadata": {},
     "output_type": "execute_result"
    }
   ],
   "source": [
    "torch.mean((yp - yt)**2)"
   ]
  },
  {
   "cell_type": "markdown",
   "id": "2673f04d-9739-4f45-9f6d-75b3b2302bc0",
   "metadata": {},
   "source": [
    "💠MSE in pytorch"
   ]
  },
  {
   "cell_type": "code",
   "execution_count": 48,
   "id": "0bd02550-3995-49de-9251-96af99b609fa",
   "metadata": {},
   "outputs": [
    {
     "data": {
      "text/plain": [
       "tensor(1.3802)"
      ]
     },
     "execution_count": 48,
     "metadata": {},
     "output_type": "execute_result"
    }
   ],
   "source": [
    "#از این ادرس بصورت کلاس باید ازش استفاده کنیم\n",
    "mse_loss = nn.MSELoss()\n",
    "mse_loss(yp , yt)"
   ]
  },
  {
   "cell_type": "markdown",
   "id": "b1aad631-2f92-4493-9848-dfdb2e162809",
   "metadata": {},
   "source": [
    "💠MSE function"
   ]
  },
  {
   "cell_type": "code",
   "execution_count": 54,
   "id": "1604252e-8840-4e77-b0de-008ded4ca41f",
   "metadata": {},
   "outputs": [
    {
     "data": {
      "text/plain": [
       "tensor(1.3802)"
      ]
     },
     "execution_count": 54,
     "metadata": {},
     "output_type": "execute_result"
    }
   ],
   "source": [
    "#از این ادرس بصورت فانکشی در دسترس هست\n",
    "F.mse_loss(yp , yt)"
   ]
  },
  {
   "cell_type": "code",
   "execution_count": null,
   "id": "f99536d8-4468-416b-bf24-c95730abf7f1",
   "metadata": {},
   "outputs": [],
   "source": [
    "💠MAS loss in pytorch"
   ]
  },
  {
   "cell_type": "code",
   "execution_count": 56,
   "id": "50a684c5-75d8-40fa-bd90-bd2e61af7a11",
   "metadata": {},
   "outputs": [
    {
     "data": {
      "text/plain": [
       "tensor(1.0212)"
      ]
     },
     "execution_count": 56,
     "metadata": {},
     "output_type": "execute_result"
    }
   ],
   "source": [
    "MAE_loss = nn.L1Loss()\n",
    "MAE_loss(yp , yt)"
   ]
  },
  {
   "cell_type": "markdown",
   "id": "495a90c7-500c-4d0c-a54b-d17f02e508ad",
   "metadata": {},
   "source": [
    "💠MAE function"
   ]
  },
  {
   "cell_type": "code",
   "execution_count": 57,
   "id": "92cb7a18-86cd-4900-966b-fd6b2f1f7ed8",
   "metadata": {},
   "outputs": [
    {
     "data": {
      "text/plain": [
       "tensor(1.0212)"
      ]
     },
     "execution_count": 57,
     "metadata": {},
     "output_type": "execute_result"
    }
   ],
   "source": [
    "F.l1_loss(yt , yp)"
   ]
  },
  {
   "cell_type": "markdown",
   "id": "dff6978b-9ed5-4954-b2e7-10d11938d49a",
   "metadata": {},
   "source": [
    "💠 connect loss to neuron"
   ]
  },
  {
   "cell_type": "code",
   "execution_count": 93,
   "id": "ee4e86f0-8bbe-4e43-8afe-2f16e1ab4a58",
   "metadata": {},
   "outputs": [],
   "source": [
    "class Neuron:\n",
    "    def __init__(self, m , af):\n",
    "        torch.manual_seed(110)\n",
    "        self.w = torch.randn(m)\n",
    "        self.b = torch.randn(1)\n",
    "        self.af = af\n",
    "    def __call__(self , x):\n",
    "        y = x @ self.w + self.b\n",
    "        if self.af == 'linear':\n",
    "            y = self.linear(y)\n",
    "        elif self.af=='step':\n",
    "            y = self.step(y)\n",
    "        return y\n",
    "    def linear(self , a):\n",
    "        return a\n",
    "    def step(self , b):\n",
    "        if b>0 :\n",
    "            y= torch.tensor(1.)\n",
    "        elif b<0:\n",
    "            y=torch.tensor(0.)\n",
    "        else:\n",
    "            y=torch.tensor(0.5)\n",
    "        return y"
   ]
  },
  {
   "cell_type": "code",
   "execution_count": 97,
   "id": "2bfd8bc8-a218-4ba8-b414-98f944e4315e",
   "metadata": {},
   "outputs": [
    {
     "name": "stdout",
     "output_type": "stream",
     "text": [
      "tensor([1.])\n",
      "tensor([5.8804])\n"
     ]
    },
    {
     "data": {
      "text/plain": [
       "tensor(23.8184)"
      ]
     },
     "execution_count": 97,
     "metadata": {},
     "output_type": "execute_result"
    }
   ],
   "source": [
    "x=torch.randn((3,5), dtype = torch.float32)\n",
    "yt= torch.randn((3,), dtype = torch.float32)\n",
    "\n",
    "x2= torch.tensor([[1. ,2. ,0. ,4. ,1.],\n",
    "                 [0. ,1. ,1. ,1. ,1.],\n",
    "                 [2. ,3. ,0. ,1. ,4.]])\n",
    "yt2= torch.tensor([1., 2, 0.])\n",
    "\n",
    "neuron4 = Neuron(5 , 'linear')\n",
    "yp = neuron4(x2[0])\n",
    "\n",
    "print(yt2[0:1])\n",
    "print(yp)\n",
    "\n",
    "loss= F.mse_loss(yp,yt2[0:1])\n",
    "loss\n",
    " "
   ]
  },
  {
   "cell_type": "markdown",
   "id": "7066f0d9-021a-474f-af20-fcaa90db7be4",
   "metadata": {},
   "source": [
    "✏️〽️autogradad ✏️"
   ]
  },
  {
   "cell_type": "code",
   "execution_count": 100,
   "id": "df361ba3-1534-4990-898a-d567774cb050",
   "metadata": {},
   "outputs": [
    {
     "data": {
      "text/plain": [
       "tensor(0.)"
      ]
     },
     "execution_count": 100,
     "metadata": {},
     "output_type": "execute_result"
    }
   ],
   "source": [
    "x = torch.tensor(3. , requires_grad=True)\n",
    "y=x**2\n",
    "y.backward()\n",
    "x.grad\n",
    "x.grad.zero_()"
   ]
  },
  {
   "cell_type": "code",
   "execution_count": null,
   "id": "3e968288-78f0-47a6-87b0-57950b0d6909",
   "metadata": {},
   "outputs": [],
   "source": []
  }
 ],
 "metadata": {
  "kernelspec": {
   "display_name": "Python 3 (ipykernel)",
   "language": "python",
   "name": "python3"
  },
  "language_info": {
   "codemirror_mode": {
    "name": "ipython",
    "version": 3
   },
   "file_extension": ".py",
   "mimetype": "text/x-python",
   "name": "python",
   "nbconvert_exporter": "python",
   "pygments_lexer": "ipython3",
   "version": "3.12.7"
  }
 },
 "nbformat": 4,
 "nbformat_minor": 5
}
