{
 "cells": [
  {
   "cell_type": "code",
   "execution_count": 6,
   "id": "4e97def9-03a3-421d-8693-d77c5033f9e5",
   "metadata": {},
   "outputs": [],
   "source": [
    "import torch\n",
    "import torch.nn as nn\n",
    "import pandas as pd\n",
    "import torch.functional as F\n",
    "import torch.optim as optim\n",
    "from sklearn.model_selection import train_test_split\n",
    "from torch.utils.data import DataLoader, TensorDataset, random_split\n",
    "from torchmetrics import Accuracy\n",
    "from tqdm import tqdm\n",
    "\n",
    "import torchvision\n",
    "from torchvision import transforms as T\n",
    "from torchvision.datasets import CIFAR10"
   ]
  },
  {
   "cell_type": "code",
   "execution_count": 57,
   "id": "860963af-17d7-4581-afb7-a73e71ee2e65",
   "metadata": {},
   "outputs": [],
   "source": [
    "#transform is function to preprocess the data such as converting PIL files into \n",
    "#tensors to work with and do things like augmentation\n",
    "#augmentation should be done betor ToTensor cause it is done in PIL format\n",
    "transformer_train = T.Compose([T.RandomCrop(32 , padding=4),\n",
    "                               T.RandomHorizontalFlip(p=0.5),\n",
    "                               T.ToTensor(), \n",
    "                               T.Normalize(mean= (0.4914,0.4822,0.4465),\n",
    "                                               std= (0.2023,0.1994,0.2010))])\n",
    "#we should not augment validation set\n",
    "transformer_valid = T.Compose([T.ToTensor(), \n",
    "                               T.Normalize(mean= (0.4914,0.4822,0.4465),\n",
    "                                               std= (0.2023,0.1994,0.2010))])"
   ]
  },
  {
   "cell_type": "code",
   "execution_count": 58,
   "id": "2a527f3c-4447-4b9d-b038-8916222c6e0e",
   "metadata": {},
   "outputs": [
    {
     "name": "stdout",
     "output_type": "stream",
     "text": [
      "Files already downloaded and verified\n"
     ]
    }
   ],
   "source": [
    "train_set = CIFAR10(root = r'C:\\Users\\Azadeh\\datasets\\cifar10' , train = True , download = True \n",
    "                    , transform= transformer_train)"
   ]
  },
  {
   "cell_type": "code",
   "execution_count": 59,
   "id": "e1ca5558-9eb4-4f5e-8c64-6775d2e77eed",
   "metadata": {},
   "outputs": [
    {
     "name": "stdout",
     "output_type": "stream",
     "text": [
      "Files already downloaded and verified\n"
     ]
    }
   ],
   "source": [
    "test_set = CIFAR10(root = r'C:\\Users\\Azadeh\\datasets\\cifar10' , train = False , download = True\n",
    "                  , transform= transformer_valid)"
   ]
  },
  {
   "cell_type": "code",
   "execution_count": 60,
   "id": "61d237e9-988d-4bf2-8d9a-d039c563e5e7",
   "metadata": {},
   "outputs": [
    {
     "data": {
      "text/plain": [
       "Dataset CIFAR10\n",
       "    Number of datapoints: 50000\n",
       "    Root location: C:\\Users\\Azadeh\\datasets\\cifar10\n",
       "    Split: Train\n",
       "    StandardTransform\n",
       "Transform: Compose(\n",
       "               RandomCrop(size=(32, 32), padding=4)\n",
       "               RandomHorizontalFlip(p=0.5)\n",
       "               ToTensor()\n",
       "               Normalize(mean=(0.4914, 0.4822, 0.4465), std=(0.2023, 0.1994, 0.201))\n",
       "           )"
      ]
     },
     "execution_count": 60,
     "metadata": {},
     "output_type": "execute_result"
    }
   ],
   "source": [
    "train_set"
   ]
  },
  {
   "cell_type": "code",
   "execution_count": 61,
   "id": "799ae5f2-993c-4213-9e5c-68fda8ca0b71",
   "metadata": {},
   "outputs": [
    {
     "data": {
      "text/plain": [
       "(tensor([[[-2.4291, -2.4291, -2.4291,  ..., -2.4291, -2.4291, -2.4291],\n",
       "          [-2.4291, -2.4291, -2.4291,  ..., -2.4291, -2.4291, -2.4291],\n",
       "          [-2.4291, -1.2854, -1.5955,  ...,  0.6338,  0.6338,  0.5174],\n",
       "          ...,\n",
       "          [-2.4291,  1.7581,  1.3122,  ...,  1.5061,  1.5642, -0.0253],\n",
       "          [-2.4291,  1.8356,  1.4673,  ...,  1.1765,  0.9245, -1.3435],\n",
       "          [-2.4291,  1.6030,  1.4673,  ...,  0.2267,  0.6725, -1.3435]],\n",
       " \n",
       "         [[-2.4183, -2.4183, -2.4183,  ..., -2.4183, -2.4183, -2.4183],\n",
       "          [-2.4183, -2.4183, -2.4183,  ..., -2.4183, -2.4183, -2.4183],\n",
       "          [-2.4183, -1.1989, -1.5136,  ...,  0.1384,  0.1778,  0.0401],\n",
       "          ...,\n",
       "          [-2.4183,  1.0038,  0.2564,  ...,  0.8661,  0.9841, -0.5892],\n",
       "          [-2.4183,  1.1611,  0.5318,  ...,  0.6301,  0.4138, -1.8479],\n",
       "          [-2.4183,  0.9251,  0.5908,  ..., -0.3532,  0.1974, -1.8086]],\n",
       " \n",
       "         [[-2.2214, -2.2214, -2.2214,  ..., -2.2214, -2.2214, -2.2214],\n",
       "          [-2.2214, -2.2214, -2.2214,  ..., -2.2214, -2.2214, -2.2214],\n",
       "          [-2.2214, -0.9922, -1.3434,  ..., -0.1923, -0.1143, -0.2313],\n",
       "          ...,\n",
       "          [-2.2214, -0.5240, -1.9092,  ..., -0.2313, -0.1728, -1.2654],\n",
       "          [-2.2214, -0.4460, -1.7922,  ..., -0.3094, -0.5240, -2.0458],\n",
       "          [-2.2214, -0.3484, -1.5580,  ..., -1.0508, -0.8557, -2.0848]]]),\n",
       " 6)"
      ]
     },
     "execution_count": 61,
     "metadata": {},
     "output_type": "execute_result"
    }
   ],
   "source": [
    "train_set[0]"
   ]
  },
  {
   "cell_type": "code",
   "execution_count": 62,
   "id": "b39561d0-a5ee-4621-963a-2bdd96c69bfd",
   "metadata": {},
   "outputs": [
    {
     "data": {
      "text/plain": [
       "torch.Size([3, 32, 32])"
      ]
     },
     "execution_count": 62,
     "metadata": {},
     "output_type": "execute_result"
    }
   ],
   "source": [
    "train_set[0][0].shape "
   ]
  },
  {
   "cell_type": "code",
   "execution_count": 63,
   "id": "417b67de-daf5-4f24-80f2-503d3c092009",
   "metadata": {},
   "outputs": [
    {
     "data": {
      "text/plain": [
       "['airplane',\n",
       " 'automobile',\n",
       " 'bird',\n",
       " 'cat',\n",
       " 'deer',\n",
       " 'dog',\n",
       " 'frog',\n",
       " 'horse',\n",
       " 'ship',\n",
       " 'truck']"
      ]
     },
     "execution_count": 63,
     "metadata": {},
     "output_type": "execute_result"
    }
   ],
   "source": [
    "train_set.classes"
   ]
  },
  {
   "cell_type": "code",
   "execution_count": 64,
   "id": "1f6a61aa-325f-46e4-a0f6-d3c00301f1d2",
   "metadata": {},
   "outputs": [
    {
     "data": {
      "text/plain": [
       "{'airplane': 0,\n",
       " 'automobile': 1,\n",
       " 'bird': 2,\n",
       " 'cat': 3,\n",
       " 'deer': 4,\n",
       " 'dog': 5,\n",
       " 'frog': 6,\n",
       " 'horse': 7,\n",
       " 'ship': 8,\n",
       " 'truck': 9}"
      ]
     },
     "execution_count": 64,
     "metadata": {},
     "output_type": "execute_result"
    }
   ],
   "source": [
    "train_set.class_to_idx"
   ]
  },
  {
   "cell_type": "code",
   "execution_count": 65,
   "id": "50f004d7-d6f5-4d97-90fb-acc59ba878d7",
   "metadata": {},
   "outputs": [
    {
     "data": {
      "text/plain": [
       "50000"
      ]
     },
     "execution_count": 65,
     "metadata": {},
     "output_type": "execute_result"
    }
   ],
   "source": [
    "len(train_set)"
   ]
  },
  {
   "cell_type": "code",
   "execution_count": 66,
   "id": "ad47ea37-dd84-41e3-b546-4a8cf78a38c0",
   "metadata": {},
   "outputs": [],
   "source": [
    "#each channel of 3D images have their own means and stds\n",
    "mean = torch.FloatTensor(train_set.data/255.).mean(dim=[0,1,2])\n",
    "std = torch.FloatTensor(train_set.data/255.).mean(dim=[0,1,2])"
   ]
  },
  {
   "cell_type": "code",
   "execution_count": 67,
   "id": "e516f1b7-d1af-4da6-b34b-2efcda009323",
   "metadata": {},
   "outputs": [
    {
     "name": "stdout",
     "output_type": "stream",
     "text": [
      "tensor([0.4914, 0.4822, 0.4465])\n"
     ]
    },
    {
     "data": {
      "text/plain": [
       "tensor([0.4914, 0.4822, 0.4465])"
      ]
     },
     "execution_count": 67,
     "metadata": {},
     "output_type": "execute_result"
    }
   ],
   "source": [
    "print(mean)\n",
    "std"
   ]
  },
  {
   "cell_type": "markdown",
   "id": "f1adc7d4-0ff1-4099-84db-da4ed05f105b",
   "metadata": {},
   "source": [
    "💠 dataloader"
   ]
  },
  {
   "cell_type": "code",
   "execution_count": 68,
   "id": "29748962-9fe5-4b8b-bc5f-88586f32cf50",
   "metadata": {},
   "outputs": [],
   "source": [
    "train_loader = DataLoader(train_set , batch_size = 64 , shuffle = True)\n",
    "test_loader = DataLoader(test_set , batch_size = 128 , shuffle = False)"
   ]
  },
  {
   "cell_type": "code",
   "execution_count": 69,
   "id": "9e2a307d-bcce-4a7a-90a6-4b1e3347b4d9",
   "metadata": {},
   "outputs": [
    {
     "name": "stdout",
     "output_type": "stream",
     "text": [
      "torch.Size([64, 3, 32, 32]) torch.Size([64])\n"
     ]
    }
   ],
   "source": [
    "x, y = next(iter(train_loader))\n",
    "print(x.shape , y.shape)"
   ]
  },
  {
   "cell_type": "markdown",
   "id": "ff0806c6-984c-4e41-815d-bfcbc6ab147e",
   "metadata": {},
   "source": [
    "💠 Model"
   ]
  },
  {
   "cell_type": "code",
   "execution_count": 70,
   "id": "645fa075-59ab-49a5-be6d-16fae8569d1c",
   "metadata": {},
   "outputs": [],
   "source": [
    "def con3x3_bn_af(in_channelss , out_channels):\n",
    "    module = nn.Sequential(nn.Conv2d(in_channelss , out_channels , 3 ,padding = 1 ),\n",
    "                          nn.BatchNorm2d(out_channels),\n",
    "                          nn.ReLU(),)\n",
    "    return module\n",
    "    "
   ]
  },
  {
   "cell_type": "code",
   "execution_count": 71,
   "id": "de6600e1-3cac-4860-8fab-a358d625b413",
   "metadata": {},
   "outputs": [],
   "source": [
    "def CNN():\n",
    "    network = nn.Sequential(con3x3_bn_af(3,64),\n",
    "                          con3x3_bn_af(64,64),\n",
    "                          nn.MaxPool2d(2,2),   #BS*64*16*16\n",
    "\n",
    "                          con3x3_bn_af(64,128),\n",
    "                          con3x3_bn_af(128,128),\n",
    "                          nn.MaxPool2d(2,2),   #BS*128*8*8\n",
    "\n",
    "                          con3x3_bn_af(128,256),\n",
    "                          con3x3_bn_af(256,256),\n",
    "                          nn.MaxPool2d(2,2),   #BS*256*4*4\n",
    "\n",
    "                          con3x3_bn_af(256,512),\n",
    "                          con3x3_bn_af(512,512),\n",
    "                          # AvgPool put a kernel on data to make it 1*1 but we need to give \n",
    "                            #it the right kernel size and it depens on pictues input size \n",
    "                            #to solve this problem we use AdaptiveAvgPool which just need us to \n",
    "                            #give it our needed output size\n",
    "                          nn.AdaptiveAvgPool2d(output_size = (1,1)),  #BS*512*1*1\n",
    "                          \n",
    "                          nn.Flatten(),\n",
    "                          nn.Linear(512,10)  #classifier\n",
    "                          \n",
    "                      )\n",
    "    return network"
   ]
  },
  {
   "cell_type": "code",
   "execution_count": 72,
   "id": "de31e535-52c6-4c9b-bb2e-b17dcd15e492",
   "metadata": {},
   "outputs": [],
   "source": [
    "model = CNN()"
   ]
  },
  {
   "cell_type": "code",
   "execution_count": 73,
   "id": "0d30510c-af49-4694-9c20-eb8027896861",
   "metadata": {},
   "outputs": [
    {
     "data": {
      "text/plain": [
       "torch.Size([10, 10])"
      ]
     },
     "execution_count": 73,
     "metadata": {},
     "output_type": "execute_result"
    }
   ],
   "source": [
    "model(torch.randn(10,3,32,32)).shape"
   ]
  },
  {
   "cell_type": "code",
   "execution_count": 74,
   "id": "e38515ea-f29d-498a-a80d-19ac8b4ef541",
   "metadata": {},
   "outputs": [
    {
     "data": {
      "text/plain": [
       "torch.Size([64, 3, 3, 3])"
      ]
     },
     "execution_count": 74,
     "metadata": {},
     "output_type": "execute_result"
    }
   ],
   "source": [
    "model[0][0].weight.shape"
   ]
  },
  {
   "cell_type": "code",
   "execution_count": 75,
   "id": "7d137e70-779a-4fec-83d9-67d329421ea4",
   "metadata": {},
   "outputs": [
    {
     "data": {
      "text/plain": [
       "torch.Size([64])"
      ]
     },
     "execution_count": 75,
     "metadata": {},
     "output_type": "execute_result"
    }
   ],
   "source": [
    "model[0][0].bias.shape"
   ]
  },
  {
   "cell_type": "code",
   "execution_count": 76,
   "id": "7b77688f-b936-4df6-bf8b-da2b0eb4b1df",
   "metadata": {},
   "outputs": [],
   "source": [
    "def num_params(model):\n",
    "    num = sum(p.numel() for p in model.parameters())/1e6\n",
    "    return num"
   ]
  },
  {
   "cell_type": "code",
   "execution_count": 77,
   "id": "74f29da9-fcab-460e-8e14-cfe746628f64",
   "metadata": {},
   "outputs": [
    {
     "data": {
      "text/plain": [
       "4.694346"
      ]
     },
     "execution_count": 77,
     "metadata": {},
     "output_type": "execute_result"
    }
   ],
   "source": [
    "num_params(model)"
   ]
  },
  {
   "cell_type": "markdown",
   "id": "df223d9b-013b-4093-b27a-b0696e547651",
   "metadata": {},
   "source": [
    "💠 put on device"
   ]
  },
  {
   "cell_type": "code",
   "execution_count": 78,
   "id": "119b7719-1d5f-46f1-adb6-afee3e591ac4",
   "metadata": {},
   "outputs": [
    {
     "data": {
      "text/plain": [
       "'cpu'"
      ]
     },
     "execution_count": 78,
     "metadata": {},
     "output_type": "execute_result"
    }
   ],
   "source": [
    "device = 'cuda' if torch.cuda.is_available() else 'cpu'\n",
    "device"
   ]
  },
  {
   "cell_type": "code",
   "execution_count": 79,
   "id": "1e92c77d-daac-4a6f-9e7c-ccc710750302",
   "metadata": {},
   "outputs": [],
   "source": [
    "model = CNN().to(device)"
   ]
  },
  {
   "cell_type": "code",
   "execution_count": 80,
   "id": "a5e26e99-9a86-4552-8ff7-354ab3573d7e",
   "metadata": {},
   "outputs": [],
   "source": [
    "loss_fn = nn.CrossEntropyLoss()\n",
    "#weight_decay is l2_regularizer which compress the weights to make them smaller \n",
    "optimizer = optim.SGD( model.parameters() ,lr = 0.1 , momentum = 0.9 , nesterov = True , weight_decay = 1e-4)"
   ]
  },
  {
   "cell_type": "markdown",
   "id": "e0f87552-8505-41ae-89f0-15b4f10330ba",
   "metadata": {},
   "source": [
    "💠 utilities"
   ]
  },
  {
   "cell_type": "code",
   "execution_count": 81,
   "id": "34578b29-0122-4b7d-a6e9-9c369f956843",
   "metadata": {},
   "outputs": [],
   "source": [
    "class AverageMeter(object):\n",
    "    #computes and store the average and current value\n",
    "    def __init__(self):\n",
    "        self.reset()\n",
    "    def reset(self):\n",
    "        self.val=0\n",
    "        self.avg=0\n",
    "        self.sum=0\n",
    "        self.count=0\n",
    "    def update(self , val , n=1):\n",
    "        self.val=val\n",
    "        self.sum += val*n\n",
    "        self.count +=n\n",
    "        self.avg = self.sum /self.count"
   ]
  },
  {
   "cell_type": "code",
   "execution_count": 82,
   "id": "24db52e2-dac7-4b5e-9e43-7b7a920d6ad6",
   "metadata": {},
   "outputs": [],
   "source": [
    "loss_meter = AverageMeter()\n",
    "acc = Accuracy(task=\"multiclass\", num_classes=4)"
   ]
  },
  {
   "cell_type": "code",
   "execution_count": 83,
   "id": "3b2a7189-63a1-41dc-aca9-c9cb1cd4c693",
   "metadata": {},
   "outputs": [],
   "source": [
    "def train_one_epoch(model , train_loader ,loss_fn , optimizer , epoch = None):\n",
    "    #some elements like dropout just runs in train process so we need to set train or eval flag\n",
    "    model.train()\n",
    "    loss_train =  AverageMeter()\n",
    "    acc_train = Accuracy(task=\"multiclass\", num_classes=10).to(device)\n",
    "    #acc_train = Accuracy(task=\"multiclass\", num_classes=4)\n",
    "\n",
    "    #to show train process in a progressbar we use tqdm \n",
    "    with tqdm(train_loader, unit = 'batch') as tepoch:\n",
    "        for inputs,targets in tepoch:\n",
    "            if epoch is not None:\n",
    "                #to write the epoch number next to progressbar\n",
    "                tepoch.set_description(f'Epoch {epoch}')\n",
    "            inputs = inputs.to(device)\n",
    "            targets = targets.to(device)\n",
    "            yp = model(inputs)\n",
    "            loss = loss_fn(yp , targets)\n",
    "            loss.backward()\n",
    "            optimizer.step()\n",
    "            optimizer.zero_grad()\n",
    "            loss_train.update(loss.item())\n",
    "            #acc = torch.sum(yp.argmax(dim=1) == targets)\n",
    "            acc_train(yp , targets)\n",
    "            #to pass data that we want to show infront of the progressbar we use set_postfix\n",
    "            tepoch.set_postfix(loss= loss_train.avg, accuracy = acc_train.compute().item()*100. )\n",
    "    return model , loss_train.avg , acc_train.compute().item()\n",
    "            "
   ]
  },
  {
   "cell_type": "code",
   "execution_count": 84,
   "id": "d302ba88-2102-4c74-bedd-91498ea16bc8",
   "metadata": {},
   "outputs": [],
   "source": [
    "def evaluate (model , valid_loader , loss_fn):\n",
    "    model.eval()\n",
    "    with torch.no_grad():\n",
    "        loss_valid = AverageMeter()\n",
    "        acc_valid = Accuracy(task=\"multiclass\", num_classes=4).to(device)\n",
    "        for i , (inputs,targets) in enumerate(valid_loader):\n",
    "            inputs = inputs.to(device)\n",
    "            targets = targets.to(device)\n",
    "            \n",
    "            yp = model(inputs)\n",
    "            loss = loss_fn(yp , targets)\n",
    "            loss_valid.update(loss.item())\n",
    "            acc_valid(yp , targets)\n",
    "    return loss_valid.avg , acc_valid.compute()\n",
    "            "
   ]
  },
  {
   "cell_type": "markdown",
   "id": "3b548874-25df-452b-84a6-9bb503480dcb",
   "metadata": {},
   "source": [
    "💠 check forward path"
   ]
  },
  {
   "cell_type": "code",
   "execution_count": 85,
   "id": "375ef06f-fb1b-4156-9f7f-c81a561da45a",
   "metadata": {},
   "outputs": [
    {
     "name": "stdout",
     "output_type": "stream",
     "text": [
      "tensor(2.3317, grad_fn=<NllLossBackward0>)\n"
     ]
    }
   ],
   "source": [
    "#check out the model using a batch of data\n",
    "yp = model (x.to(device))\n",
    "yp [:2,:]\n",
    "print(loss_fn(yp , y.to(device)))"
   ]
  },
  {
   "cell_type": "markdown",
   "id": "3b767efd-fcf9-493c-90c9-4a634709fb35",
   "metadata": {},
   "source": [
    "💠 check backward path"
   ]
  },
  {
   "cell_type": "code",
   "execution_count": 55,
   "id": "e9acd6b9-7513-4f26-b45b-96677aba78ca",
   "metadata": {},
   "outputs": [
    {
     "name": "stderr",
     "output_type": "stream",
     "text": [
      "Epoch 0: 100%|████████████████████████████████████████████| 50/50 [00:17<00:00,  2.83batch/s, accuracy=15.5, loss=2.83]\n",
      "Epoch 1: 100%|█████████████████████████████████████████████| 50/50 [00:13<00:00,  3.71batch/s, accuracy=19.9, loss=2.2]\n",
      "Epoch 2: 100%|████████████████████████████████████████████| 50/50 [00:15<00:00,  3.22batch/s, accuracy=22.5, loss=2.07]\n",
      "Epoch 3: 100%|██████████████████████████████████████████████| 50/50 [00:15<00:00,  3.30batch/s, accuracy=27, loss=1.95]\n",
      "Epoch 4: 100%|██████████████████████████████████████████████| 50/50 [00:14<00:00,  3.37batch/s, accuracy=29, loss=1.93]\n",
      "Epoch 5: 100%|████████████████████████████████████████████| 50/50 [00:14<00:00,  3.34batch/s, accuracy=30.7, loss=1.86]\n",
      "Epoch 6: 100%|████████████████████████████████████████████| 50/50 [00:15<00:00,  3.33batch/s, accuracy=32.9, loss=1.81]\n",
      "Epoch 7: 100%|████████████████████████████████████████████| 50/50 [00:14<00:00,  3.35batch/s, accuracy=35.1, loss=1.78]\n",
      "Epoch 8: 100%|████████████████████████████████████████████| 50/50 [00:13<00:00,  3.65batch/s, accuracy=36.7, loss=1.67]\n",
      "Epoch 9: 100%|████████████████████████████████████████████| 50/50 [00:12<00:00,  4.00batch/s, accuracy=37.2, loss=1.65]\n",
      "Epoch 10: 100%|███████████████████████████████████████████| 50/50 [00:12<00:00,  3.92batch/s, accuracy=41.2, loss=1.59]\n",
      "Epoch 11: 100%|███████████████████████████████████████████| 50/50 [00:12<00:00,  3.93batch/s, accuracy=42.7, loss=1.54]\n",
      "Epoch 12: 100%|███████████████████████████████████████████| 50/50 [00:12<00:00,  3.94batch/s, accuracy=43.1, loss=1.48]\n",
      "Epoch 13: 100%|███████████████████████████████████████████| 50/50 [00:12<00:00,  4.02batch/s, accuracy=44.8, loss=1.44]\n",
      "Epoch 14: 100%|███████████████████████████████████████████| 50/50 [00:12<00:00,  3.93batch/s, accuracy=49.3, loss=1.34]\n",
      "Epoch 15: 100%|███████████████████████████████████████████| 50/50 [00:13<00:00,  3.84batch/s, accuracy=53.1, loss=1.29]\n",
      "Epoch 16: 100%|███████████████████████████████████████████| 50/50 [00:12<00:00,  3.95batch/s, accuracy=55.5, loss=1.21]\n",
      "Epoch 17: 100%|███████████████████████████████████████████| 50/50 [00:12<00:00,  3.94batch/s, accuracy=59.8, loss=1.12]\n",
      "Epoch 18: 100%|███████████████████████████████████████████| 50/50 [00:13<00:00,  3.72batch/s, accuracy=61.7, loss=1.08]\n",
      "Epoch 19: 100%|███████████████████████████████████████████| 50/50 [00:12<00:00,  3.90batch/s, accuracy=63.2, loss=1.03]\n",
      "Epoch 20: 100%|██████████████████████████████████████████| 50/50 [00:12<00:00,  3.93batch/s, accuracy=67.5, loss=0.871]\n",
      "Epoch 21: 100%|██████████████████████████████████████████| 50/50 [00:12<00:00,  3.85batch/s, accuracy=71.7, loss=0.812]\n",
      "Epoch 22: 100%|██████████████████████████████████████████| 50/50 [00:13<00:00,  3.84batch/s, accuracy=72.2, loss=0.731]\n",
      "Epoch 23: 100%|██████████████████████████████████████████| 50/50 [00:13<00:00,  3.83batch/s, accuracy=73.2, loss=0.746]\n",
      "Epoch 24: 100%|██████████████████████████████████████████| 50/50 [00:13<00:00,  3.63batch/s, accuracy=82.6, loss=0.517]\n",
      "Epoch 25: 100%|██████████████████████████████████████████| 50/50 [00:15<00:00,  3.25batch/s, accuracy=80.2, loss=0.575]\n",
      "Epoch 26: 100%|██████████████████████████████████████████| 50/50 [00:16<00:00,  3.03batch/s, accuracy=81.4, loss=0.534]\n",
      "Epoch 27: 100%|██████████████████████████████████████████| 50/50 [00:16<00:00,  3.11batch/s, accuracy=86.8, loss=0.384]\n",
      "Epoch 28: 100%|██████████████████████████████████████████| 50/50 [00:13<00:00,  3.63batch/s, accuracy=87.1, loss=0.371]\n",
      "Epoch 29: 100%|██████████████████████████████████████████| 50/50 [00:12<00:00,  3.89batch/s, accuracy=89.1, loss=0.317]\n",
      "Epoch 30: 100%|██████████████████████████████████████████| 50/50 [00:12<00:00,  3.97batch/s, accuracy=90.1, loss=0.305]\n",
      "Epoch 31: 100%|██████████████████████████████████████████| 50/50 [00:12<00:00,  3.94batch/s, accuracy=89.6, loss=0.298]\n",
      "Epoch 32: 100%|██████████████████████████████████████████| 50/50 [00:12<00:00,  3.88batch/s, accuracy=94.3, loss=0.183]\n",
      "Epoch 33: 100%|██████████████████████████████████████████| 50/50 [00:12<00:00,  3.91batch/s, accuracy=94.1, loss=0.171]\n",
      "Epoch 34: 100%|██████████████████████████████████████████| 50/50 [00:12<00:00,  3.98batch/s, accuracy=93.3, loss=0.191]\n",
      "Epoch 35: 100%|██████████████████████████████████████████| 50/50 [00:12<00:00,  3.94batch/s, accuracy=93.5, loss=0.201]\n",
      "Epoch 36: 100%|██████████████████████████████████████████| 50/50 [00:12<00:00,  3.99batch/s, accuracy=95.2, loss=0.134]\n",
      "Epoch 37: 100%|██████████████████████████████████████████| 50/50 [00:12<00:00,  3.92batch/s, accuracy=96.8, loss=0.107]\n",
      "Epoch 38: 100%|██████████████████████████████████████████| 50/50 [00:13<00:00,  3.84batch/s, accuracy=94.3, loss=0.164]\n",
      "Epoch 39: 100%|████████████████████████████████████████████| 50/50 [00:12<00:00,  3.94batch/s, accuracy=97, loss=0.103]\n",
      "Epoch 40: 100%|███████████████████████████████████████████| 50/50 [00:12<00:00,  3.95batch/s, accuracy=97, loss=0.0883]\n",
      "Epoch 41: 100%|██████████████████████████████████████████| 50/50 [00:12<00:00,  3.89batch/s, accuracy=95.3, loss=0.138]\n",
      "Epoch 42: 100%|██████████████████████████████████████████| 50/50 [00:12<00:00,  3.92batch/s, accuracy=96.1, loss=0.114]\n",
      "Epoch 43: 100%|██████████████████████████████████████████| 50/50 [00:12<00:00,  3.95batch/s, accuracy=96.5, loss=0.102]\n",
      "Epoch 44: 100%|█████████████████████████████████████████| 50/50 [00:13<00:00,  3.84batch/s, accuracy=98.7, loss=0.0561]\n",
      "Epoch 45: 100%|███████████████████████████████████████████| 50/50 [00:13<00:00,  3.84batch/s, accuracy=98, loss=0.0689]\n",
      "Epoch 46: 100%|█████████████████████████████████████████| 50/50 [00:12<00:00,  3.92batch/s, accuracy=97.7, loss=0.0764]\n",
      "Epoch 47: 100%|█████████████████████████████████████████| 50/50 [00:12<00:00,  3.86batch/s, accuracy=98.9, loss=0.0336]\n",
      "Epoch 48: 100%|█████████████████████████████████████████| 50/50 [00:13<00:00,  3.59batch/s, accuracy=98.3, loss=0.0556]\n",
      "Epoch 49: 100%|█████████████████████████████████████████| 50/50 [00:15<00:00,  3.24batch/s, accuracy=98.3, loss=0.0566]\n"
     ]
    }
   ],
   "source": [
    "#selecting 5 batch to check if model overfit? in this way check capasity of model \n",
    "#random_split(num_sample_required , num_rest_of_data)\n",
    "mini_train_dataset , _ = random_split(train_set , (1000, len(train_set)-1000))\n",
    "mini_loader = DataLoader(mini_train_dataset , 20, True)\n",
    "for epoch in range (50):\n",
    "    model , _ , _ = train_one_epoch(model , mini_loader , loss_fn , optimizer , epoch)"
   ]
  },
  {
   "cell_type": "markdown",
   "id": "06127b05-f922-453e-b8d9-21d6b853034f",
   "metadata": {},
   "source": [
    "💠 select best lr"
   ]
  },
  {
   "cell_type": "code",
   "execution_count": null,
   "id": "7ed7dd6c-6815-40bd-8293-041a16de8c22",
   "metadata": {},
   "outputs": [],
   "source": [
    "for lr in [0.08,0.09,0.1,0.15,0.2]:\n",
    "    model = CNN().to(device)\n",
    "    optimizer = optim.SGD( model.parameters() ,lr = lr , momentum = 0.9 ,\n",
    "                          nesterov = True , weight_decay = 1e-4)\n",
    "    print(f'lr = {lr}')\n",
    "    for epoch in range (2):\n",
    "        model , _ , _ = train_one_epoch(model , mini_loader , loss_fn , optimizer , epoch)\n",
    "        \n",
    "#loss drops bether in which lr \n",
    "#after selecting lr we make it specific and arange it with weigth_decay in a grid search   "
   ]
  },
  {
   "cell_type": "markdown",
   "id": "91f13f2d-f78b-4220-a12f-48790a2e8c30",
   "metadata": {},
   "source": [
    "💠 train model"
   ]
  },
  {
   "cell_type": "code",
   "execution_count": 86,
   "id": "c933ed36-199a-4229-832c-98640f08919a",
   "metadata": {},
   "outputs": [
    {
     "name": "stderr",
     "output_type": "stream",
     "text": [
      "100%|███████████████████████████████████████████████████| 782/782 [10:50<00:00,  1.20batch/s, accuracy=43.5, loss=1.54]\n"
     ]
    },
    {
     "ename": "NameError",
     "evalue": "name 'validation' is not defined",
     "output_type": "error",
     "traceback": [
      "\u001b[1;31m---------------------------------------------------------------------------\u001b[0m",
      "\u001b[1;31mNameError\u001b[0m                                 Traceback (most recent call last)",
      "Cell \u001b[1;32mIn[86], line 15\u001b[0m\n\u001b[0;32m     12\u001b[0m \u001b[38;5;28;01mfor\u001b[39;00m epoch \u001b[38;5;129;01min\u001b[39;00m \u001b[38;5;28mrange\u001b[39m(num_epoch):\n\u001b[0;32m     13\u001b[0m     model , loss_train , acc_train \u001b[38;5;241m=\u001b[39m train_one_epoch(model , train_loader , loss_fn , optimizer)\n\u001b[1;32m---> 15\u001b[0m     loss_valid , acc_valid \u001b[38;5;241m=\u001b[39m validation(model , test_loader , loss_fn )\n\u001b[0;32m     17\u001b[0m     loss_train_hist\u001b[38;5;241m.\u001b[39mappend(loss_train)\n\u001b[0;32m     18\u001b[0m     acc_train_hist\u001b[38;5;241m.\u001b[39mappend(acc_train)\n",
      "\u001b[1;31mNameError\u001b[0m: name 'validation' is not defined"
     ]
    }
   ],
   "source": [
    "lr = 0.1\n",
    "wd = 1e-4\n",
    "optimizer = optim.SGD(model.parameters(), lr = lr , weight_decay = wd , momentum = 0.9)\n",
    "#we set best valid to infinity\n",
    "best_valid_loss = torch.inf\n",
    "loss_train_hist = []\n",
    "loss_valid_hist = []\n",
    "acc_train_hist = []\n",
    "acc_valid_hist = []\n",
    "\n",
    "num_epoch = 5\n",
    "for epoch in range(num_epoch):\n",
    "    model , loss_train , acc_train = train_one_epoch(model , train_loader , loss_fn , optimizer)\n",
    "\n",
    "    loss_valid , acc_valid = validation(model , test_loader , loss_fn )\n",
    "\n",
    "    loss_train_hist.append(loss_train)\n",
    "    acc_train_hist.append(acc_train)\n",
    "\n",
    "    loss_valid_hist.append(loss_valid)\n",
    "    acc_valid_hist.append(acc_valid)\n",
    "\n",
    "    print(f'valid : loss={loss_valid:0.4} , Acc = {acc_valid:0.4}')\n",
    "\n",
    "    if loss_valid < best_valid_loss:\n",
    "        print(f'best validation loss is {loss_valid} in {epoch}th epoch')\n",
    "        best_valid_loss = loss_valid \n"
   ]
  },
  {
   "cell_type": "code",
   "execution_count": null,
   "id": "248b29d5-2cc7-45f0-bc7a-41f31a7c5af9",
   "metadata": {},
   "outputs": [],
   "source": []
  },
  {
   "cell_type": "code",
   "execution_count": null,
   "id": "ea7ee78b-1ff5-49fb-a130-54405d69899f",
   "metadata": {},
   "outputs": [],
   "source": []
  }
 ],
 "metadata": {
  "kernelspec": {
   "display_name": "Python 3 (ipykernel)",
   "language": "python",
   "name": "python3"
  },
  "language_info": {
   "codemirror_mode": {
    "name": "ipython",
    "version": 3
   },
   "file_extension": ".py",
   "mimetype": "text/x-python",
   "name": "python",
   "nbconvert_exporter": "python",
   "pygments_lexer": "ipython3",
   "version": "3.12.7"
  }
 },
 "nbformat": 4,
 "nbformat_minor": 5
}
