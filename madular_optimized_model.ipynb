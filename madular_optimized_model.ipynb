{
 "cells": [
  {
   "cell_type": "code",
   "execution_count": 32,
   "id": "7bfe7b83-eb4e-4c62-85b7-5bcf2fd995c5",
   "metadata": {},
   "outputs": [],
   "source": [
    "import pandas as pd\n",
    "import torch\n",
    "import torch.nn as nn\n",
    "import torch.functional as F\n",
    "import torch.optim as optim\n",
    "from sklearn.model_selection import train_test_split\n",
    "from torch.utils.data import DataLoader,TensorDataset , random_split\n",
    "import matplotlib.pyplot as plt\n",
    "from torchmetrics import Accuracy  \n",
    "from tqdm import tqdm"
   ]
  },
  {
   "cell_type": "code",
   "execution_count": 3,
   "id": "1a47988a-136e-4c33-b11e-ab31ca9903b1",
   "metadata": {},
   "outputs": [],
   "source": [
    "train_path = 'https://raw.githubusercontent.com/FabioNicotra/fabionicotra.github.io/main/02_MobileClassification/train.csv'\n",
    "test_path = 'https://raw.githubusercontent.com/FabioNicotra/fabionicotra.github.io/main/02_MobileClassification/test.csv'\n",
    "train_df = pd.read_csv(train_path)\n",
    "test_df = pd.read_csv(test_path)"
   ]
  },
  {
   "cell_type": "code",
   "execution_count": 4,
   "id": "edddc639-90b6-4573-b449-2074713dc4f5",
   "metadata": {},
   "outputs": [
    {
     "data": {
      "text/html": [
       "<div>\n",
       "<style scoped>\n",
       "    .dataframe tbody tr th:only-of-type {\n",
       "        vertical-align: middle;\n",
       "    }\n",
       "\n",
       "    .dataframe tbody tr th {\n",
       "        vertical-align: top;\n",
       "    }\n",
       "\n",
       "    .dataframe thead th {\n",
       "        text-align: right;\n",
       "    }\n",
       "</style>\n",
       "<table border=\"1\" class=\"dataframe\">\n",
       "  <thead>\n",
       "    <tr style=\"text-align: right;\">\n",
       "      <th></th>\n",
       "      <th>battery_power</th>\n",
       "      <th>blue</th>\n",
       "      <th>clock_speed</th>\n",
       "      <th>dual_sim</th>\n",
       "      <th>fc</th>\n",
       "      <th>four_g</th>\n",
       "      <th>int_memory</th>\n",
       "      <th>m_dep</th>\n",
       "      <th>mobile_wt</th>\n",
       "      <th>n_cores</th>\n",
       "      <th>...</th>\n",
       "      <th>px_height</th>\n",
       "      <th>px_width</th>\n",
       "      <th>ram</th>\n",
       "      <th>sc_h</th>\n",
       "      <th>sc_w</th>\n",
       "      <th>talk_time</th>\n",
       "      <th>three_g</th>\n",
       "      <th>touch_screen</th>\n",
       "      <th>wifi</th>\n",
       "      <th>price_range</th>\n",
       "    </tr>\n",
       "  </thead>\n",
       "  <tbody>\n",
       "    <tr>\n",
       "      <th>0</th>\n",
       "      <td>842</td>\n",
       "      <td>0</td>\n",
       "      <td>2.2</td>\n",
       "      <td>0</td>\n",
       "      <td>1</td>\n",
       "      <td>0</td>\n",
       "      <td>7</td>\n",
       "      <td>0.6</td>\n",
       "      <td>188</td>\n",
       "      <td>2</td>\n",
       "      <td>...</td>\n",
       "      <td>20</td>\n",
       "      <td>756</td>\n",
       "      <td>2549</td>\n",
       "      <td>9</td>\n",
       "      <td>7</td>\n",
       "      <td>19</td>\n",
       "      <td>0</td>\n",
       "      <td>0</td>\n",
       "      <td>1</td>\n",
       "      <td>1</td>\n",
       "    </tr>\n",
       "    <tr>\n",
       "      <th>1</th>\n",
       "      <td>1021</td>\n",
       "      <td>1</td>\n",
       "      <td>0.5</td>\n",
       "      <td>1</td>\n",
       "      <td>0</td>\n",
       "      <td>1</td>\n",
       "      <td>53</td>\n",
       "      <td>0.7</td>\n",
       "      <td>136</td>\n",
       "      <td>3</td>\n",
       "      <td>...</td>\n",
       "      <td>905</td>\n",
       "      <td>1988</td>\n",
       "      <td>2631</td>\n",
       "      <td>17</td>\n",
       "      <td>3</td>\n",
       "      <td>7</td>\n",
       "      <td>1</td>\n",
       "      <td>1</td>\n",
       "      <td>0</td>\n",
       "      <td>2</td>\n",
       "    </tr>\n",
       "    <tr>\n",
       "      <th>2</th>\n",
       "      <td>563</td>\n",
       "      <td>1</td>\n",
       "      <td>0.5</td>\n",
       "      <td>1</td>\n",
       "      <td>2</td>\n",
       "      <td>1</td>\n",
       "      <td>41</td>\n",
       "      <td>0.9</td>\n",
       "      <td>145</td>\n",
       "      <td>5</td>\n",
       "      <td>...</td>\n",
       "      <td>1263</td>\n",
       "      <td>1716</td>\n",
       "      <td>2603</td>\n",
       "      <td>11</td>\n",
       "      <td>2</td>\n",
       "      <td>9</td>\n",
       "      <td>1</td>\n",
       "      <td>1</td>\n",
       "      <td>0</td>\n",
       "      <td>2</td>\n",
       "    </tr>\n",
       "    <tr>\n",
       "      <th>3</th>\n",
       "      <td>615</td>\n",
       "      <td>1</td>\n",
       "      <td>2.5</td>\n",
       "      <td>0</td>\n",
       "      <td>0</td>\n",
       "      <td>0</td>\n",
       "      <td>10</td>\n",
       "      <td>0.8</td>\n",
       "      <td>131</td>\n",
       "      <td>6</td>\n",
       "      <td>...</td>\n",
       "      <td>1216</td>\n",
       "      <td>1786</td>\n",
       "      <td>2769</td>\n",
       "      <td>16</td>\n",
       "      <td>8</td>\n",
       "      <td>11</td>\n",
       "      <td>1</td>\n",
       "      <td>0</td>\n",
       "      <td>0</td>\n",
       "      <td>2</td>\n",
       "    </tr>\n",
       "    <tr>\n",
       "      <th>4</th>\n",
       "      <td>1821</td>\n",
       "      <td>1</td>\n",
       "      <td>1.2</td>\n",
       "      <td>0</td>\n",
       "      <td>13</td>\n",
       "      <td>1</td>\n",
       "      <td>44</td>\n",
       "      <td>0.6</td>\n",
       "      <td>141</td>\n",
       "      <td>2</td>\n",
       "      <td>...</td>\n",
       "      <td>1208</td>\n",
       "      <td>1212</td>\n",
       "      <td>1411</td>\n",
       "      <td>8</td>\n",
       "      <td>2</td>\n",
       "      <td>15</td>\n",
       "      <td>1</td>\n",
       "      <td>1</td>\n",
       "      <td>0</td>\n",
       "      <td>1</td>\n",
       "    </tr>\n",
       "  </tbody>\n",
       "</table>\n",
       "<p>5 rows × 21 columns</p>\n",
       "</div>"
      ],
      "text/plain": [
       "   battery_power  blue  clock_speed  dual_sim  fc  four_g  int_memory  m_dep  \\\n",
       "0            842     0          2.2         0   1       0           7    0.6   \n",
       "1           1021     1          0.5         1   0       1          53    0.7   \n",
       "2            563     1          0.5         1   2       1          41    0.9   \n",
       "3            615     1          2.5         0   0       0          10    0.8   \n",
       "4           1821     1          1.2         0  13       1          44    0.6   \n",
       "\n",
       "   mobile_wt  n_cores  ...  px_height  px_width   ram  sc_h  sc_w  talk_time  \\\n",
       "0        188        2  ...         20       756  2549     9     7         19   \n",
       "1        136        3  ...        905      1988  2631    17     3          7   \n",
       "2        145        5  ...       1263      1716  2603    11     2          9   \n",
       "3        131        6  ...       1216      1786  2769    16     8         11   \n",
       "4        141        2  ...       1208      1212  1411     8     2         15   \n",
       "\n",
       "   three_g  touch_screen  wifi  price_range  \n",
       "0        0             0     1            1  \n",
       "1        1             1     0            2  \n",
       "2        1             1     0            2  \n",
       "3        1             0     0            2  \n",
       "4        1             1     0            1  \n",
       "\n",
       "[5 rows x 21 columns]"
      ]
     },
     "execution_count": 4,
     "metadata": {},
     "output_type": "execute_result"
    }
   ],
   "source": [
    "train_df.head()"
   ]
  },
  {
   "cell_type": "code",
   "execution_count": 5,
   "id": "27c14f3b-0e9e-47c9-8acd-bb3708d3c110",
   "metadata": {},
   "outputs": [
    {
     "data": {
      "text/plain": [
       "0       1\n",
       "1       2\n",
       "2       2\n",
       "3       2\n",
       "4       1\n",
       "       ..\n",
       "1995    0\n",
       "1996    2\n",
       "1997    3\n",
       "1998    0\n",
       "1999    3\n",
       "Name: price_range, Length: 2000, dtype: int64"
      ]
     },
     "execution_count": 5,
     "metadata": {},
     "output_type": "execute_result"
    }
   ],
   "source": [
    "x = train_df.drop('price_range', axis=1)\n",
    "y = train_df['price_range']\n",
    "y"
   ]
  },
  {
   "cell_type": "code",
   "execution_count": 6,
   "id": "abe19573-2959-41a2-b4e9-a17f7cc24be8",
   "metadata": {},
   "outputs": [
    {
     "data": {
      "text/plain": [
       "(2000, 20)"
      ]
     },
     "execution_count": 6,
     "metadata": {},
     "output_type": "execute_result"
    }
   ],
   "source": [
    "x.shape"
   ]
  },
  {
   "cell_type": "code",
   "execution_count": 7,
   "id": "9a8c850a-893a-41ff-b88c-4c388424c4ed",
   "metadata": {},
   "outputs": [],
   "source": [
    "x_train , x_valid , y_train , y_valid = train_test_split(x , y , train_size = 0.7 , random_state = 101)"
   ]
  },
  {
   "cell_type": "code",
   "execution_count": 8,
   "id": "d48574ec-c00f-4f4b-9adb-f432661612f9",
   "metadata": {},
   "outputs": [
    {
     "data": {
      "text/plain": [
       "(1400, 20)"
      ]
     },
     "execution_count": 8,
     "metadata": {},
     "output_type": "execute_result"
    }
   ],
   "source": [
    "x_train.shape"
   ]
  },
  {
   "cell_type": "code",
   "execution_count": 9,
   "id": "da7e14a9-953a-42d1-8895-168db41cb2c3",
   "metadata": {},
   "outputs": [
    {
     "name": "stdout",
     "output_type": "stream",
     "text": [
      "<class 'pandas.core.frame.DataFrame'>\n",
      "<class 'numpy.ndarray'>\n"
     ]
    }
   ],
   "source": [
    "print(type(x_train))\n",
    "print(type(x_train.values))"
   ]
  },
  {
   "cell_type": "code",
   "execution_count": 10,
   "id": "33a10395-3ae8-47c0-88b8-fca0bd81c99b",
   "metadata": {},
   "outputs": [],
   "source": [
    "x_train = torch.FloatTensor(x_train.values)\n",
    "x_valid = torch.FloatTensor(x_valid.values)\n",
    "y_train = torch.LongTensor(y_train.values)\n",
    "y_valid = torch.LongTensor(y_valid.values)"
   ]
  },
  {
   "cell_type": "code",
   "execution_count": 11,
   "id": "210d0b6c-4bd6-4fca-ae5f-cf53d7799544",
   "metadata": {},
   "outputs": [],
   "source": [
    "mu = x_train.mean(axis = 0)\n",
    "std = x_train.std(axis = 0)"
   ]
  },
  {
   "cell_type": "code",
   "execution_count": 12,
   "id": "fee2ba89-0200-4cbd-bacd-e180876961e1",
   "metadata": {},
   "outputs": [],
   "source": [
    "x_train = (x_train - mu) / std\n",
    "x_valid = (x_valid - mu) / std"
   ]
  },
  {
   "cell_type": "code",
   "execution_count": 13,
   "id": "d4c20fe5-653d-4c82-b34f-cd2709087363",
   "metadata": {},
   "outputs": [],
   "source": [
    "train_data = TensorDataset (x_train , y_train)\n",
    "valid_data = TensorDataset (x_valid , y_valid)"
   ]
  },
  {
   "cell_type": "code",
   "execution_count": 14,
   "id": "d6fb442a-3218-4586-88f3-1f487022f05f",
   "metadata": {},
   "outputs": [],
   "source": [
    "train_loader = DataLoader (train_data , 100 , True)\n",
    "valid_loader = DataLoader (valid_data, 200 , False)"
   ]
  },
  {
   "cell_type": "code",
   "execution_count": 15,
   "id": "89e49646-6d7c-4fbe-ae9d-b62ca0400a79",
   "metadata": {},
   "outputs": [
    {
     "name": "stdout",
     "output_type": "stream",
     "text": [
      "14\n",
      "3\n"
     ]
    }
   ],
   "source": [
    "print(len(train_loader))\n",
    "print(len(valid_loader))"
   ]
  },
  {
   "cell_type": "code",
   "execution_count": 16,
   "id": "bdc74b0b-107e-45e9-b168-770282eabf92",
   "metadata": {},
   "outputs": [
    {
     "data": {
      "text/plain": [
       "tensor([[ 0.5083, -0.9841,  1.5854,  ...,  0.5683,  0.9925, -1.0097],\n",
       "        [ 0.4270,  1.0155,  1.0907,  ...,  0.5683, -1.0068, -1.0097],\n",
       "        [-1.2681, -0.9841, -1.2591,  ..., -1.7582, -1.0068,  0.9897],\n",
       "        ...,\n",
       "        [-1.6496,  1.0155, -1.0117,  ..., -1.7582, -1.0068, -1.0097],\n",
       "        [-0.6790, -0.9841,  0.2250,  ...,  0.5683,  0.9925,  0.9897],\n",
       "        [ 0.5467, -0.9841,  0.7197,  ...,  0.5683, -1.0068,  0.9897]])"
      ]
     },
     "execution_count": 16,
     "metadata": {},
     "output_type": "execute_result"
    }
   ],
   "source": [
    "x_batch , y_batch = next(iter(train_loader))\n",
    "x_batch"
   ]
  },
  {
   "cell_type": "code",
   "execution_count": 17,
   "id": "c2b1525e-88d4-4f37-948b-f87b42f5133e",
   "metadata": {},
   "outputs": [],
   "source": [
    "num_feature = 20\n",
    "num_class = 4\n",
    "h1 = 64\n",
    "h2 = 32\n",
    "model = nn.Sequential(\n",
    "    nn.Linear(num_feature , h1),\n",
    "    nn.ReLU(),\n",
    "    nn.Dropout(0.3),\n",
    "    nn.Linear(h1 , h2),\n",
    "    nn.ReLU(),\n",
    "    nn.Dropout(0.2),\n",
    "    nn.Linear(h2 , num_class)\n",
    ")"
   ]
  },
  {
   "cell_type": "code",
   "execution_count": 18,
   "id": "5b8d2d93-734e-40d8-882f-85ab7c4d9617",
   "metadata": {},
   "outputs": [
    {
     "data": {
      "text/plain": [
       "Sequential(\n",
       "  (0): Linear(in_features=20, out_features=64, bias=True)\n",
       "  (1): ReLU()\n",
       "  (2): Dropout(p=0.3, inplace=False)\n",
       "  (3): Linear(in_features=64, out_features=32, bias=True)\n",
       "  (4): ReLU()\n",
       "  (5): Dropout(p=0.2, inplace=False)\n",
       "  (6): Linear(in_features=32, out_features=4, bias=True)\n",
       ")"
      ]
     },
     "execution_count": 18,
     "metadata": {},
     "output_type": "execute_result"
    }
   ],
   "source": [
    "model"
   ]
  },
  {
   "cell_type": "code",
   "execution_count": 22,
   "id": "68b69a46-0e1f-4fd4-a02b-b958522b3e71",
   "metadata": {},
   "outputs": [],
   "source": [
    "loss_fn = nn.CrossEntropyLoss()\n",
    "#weight_decay is l2_regularizer which compress the weights to make them smaller \n",
    "optimizer = optim.SGD( model.parameters() ,lr = 0.1 , momentum = 0.9 , nesterov = True , weight_decay = 1e-4)"
   ]
  },
  {
   "cell_type": "markdown",
   "id": "6b23984f-7754-40ad-96a1-d2b0a002cc39",
   "metadata": {},
   "source": [
    "📌 check forward path"
   ]
  },
  {
   "cell_type": "code",
   "execution_count": 23,
   "id": "d9bbfa75-0131-4fe0-9892-839e58b54930",
   "metadata": {},
   "outputs": [
    {
     "name": "stdout",
     "output_type": "stream",
     "text": [
      "tensor(1.3949, grad_fn=<NllLossBackward0>)\n"
     ]
    }
   ],
   "source": [
    "#check out the model using a batch of data\n",
    "yp = model (x_batch)\n",
    "yp [:2,:]\n",
    "print(loss_fn(yp , y_batch))"
   ]
  },
  {
   "cell_type": "code",
   "execution_count": 24,
   "id": "e9f0bf2a-ef51-4056-b225-5e268d769ab0",
   "metadata": {},
   "outputs": [
    {
     "name": "stderr",
     "output_type": "stream",
     "text": [
      "E:\\workplace\\python_install\\Lib\\site-packages\\torch\\cuda\\__init__.py:129: UserWarning: CUDA initialization: The NVIDIA driver on your system is too old (found version 9020). Please update your GPU driver by downloading and installing a new version from the URL: http://www.nvidia.com/Download/index.aspx Alternatively, go to: https://pytorch.org to install a PyTorch version that has been compiled with your version of the CUDA driver. (Triggered internally at C:\\actions-runner\\_work\\pytorch\\pytorch\\builder\\windows\\pytorch\\c10\\cuda\\CUDAFunctions.cpp:108.)\n",
      "  return torch._C._cuda_getDeviceCount() > 0\n"
     ]
    },
    {
     "data": {
      "text/plain": [
       "'cpu'"
      ]
     },
     "execution_count": 24,
     "metadata": {},
     "output_type": "execute_result"
    }
   ],
   "source": [
    "device = 'cuda' if torch.cuda.is_available() else 'cpu'\n",
    "device"
   ]
  },
  {
   "cell_type": "code",
   "execution_count": 25,
   "id": "b6ce1ed5-3636-400d-a1e5-b47b8c7398ed",
   "metadata": {},
   "outputs": [],
   "source": [
    "class AverageMeter(object):\n",
    "    #computes and store the average and current value\n",
    "    def __init__(self):\n",
    "        self.reset()\n",
    "    def reset(self):\n",
    "        self.val=0\n",
    "        self.avg=0\n",
    "        self.sum=0\n",
    "        self.count=0\n",
    "    def update(self , val , n=1):\n",
    "        self.val=val\n",
    "        self.sum += val*n\n",
    "        self.count +=n\n",
    "        self.avg = self.sum /self.count"
   ]
  },
  {
   "cell_type": "code",
   "execution_count": 26,
   "id": "5b31f162-25c0-464d-b38f-c50c78c32728",
   "metadata": {},
   "outputs": [],
   "source": [
    "loss_meter = AverageMeter()"
   ]
  },
  {
   "cell_type": "code",
   "execution_count": 27,
   "id": "3cccfc4b-baae-44fb-9263-e2059810cab3",
   "metadata": {},
   "outputs": [],
   "source": [
    "acc = Accuracy(task=\"multiclass\", num_classes=4)"
   ]
  },
  {
   "cell_type": "code",
   "execution_count": 28,
   "id": "3447f2c1-c983-4afe-aade-16eab186525b",
   "metadata": {},
   "outputs": [],
   "source": [
    "def train_one_epoch(model , train_loader ,loss_fn , optimizer , epoch = None):\n",
    "    #some elements like dropout just runs in train process so we need to set train or eval flag\n",
    "    model.train()\n",
    "    loss_train =  AverageMeter()\n",
    "    acc_train = Accuracy(task=\"multiclass\", num_classes=4).to(device)\n",
    "    #acc_train = Accuracy(task=\"multiclass\", num_classes=4)\n",
    "\n",
    "    #to show train process in a progressbar we use tqdm \n",
    "    with tqdm(train_loader) as tepoch:\n",
    "        for inputs,targets in tepoch:\n",
    "            if epoch is not None:\n",
    "                #to write the epoch number next to progressbar\n",
    "                tepoch.set_description(f'Epoch {epoch}')\n",
    "            inputs = inputs.to(device)\n",
    "            targets = targets.to(device)\n",
    "            yp = model(inputs)\n",
    "            loss = loss_fn(yp , targets)\n",
    "            loss.backward()\n",
    "            optimizer.step()\n",
    "            optimizer.zero_grad()\n",
    "            loss_train.update(loss.item())\n",
    "            #acc = torch.sum(yp.argmax(dim=1) == targets)\n",
    "            acc_train(yp , targets)\n",
    "            #to pass data that we want to show infront of the progressbar we use set_postfix\n",
    "            tepoch.set_postfix(loss= loss_train.avg, accuracy = acc_train.compute().item()*100. )\n",
    "    return model , loss_train.avg , acc_train.compute().item()\n",
    "            "
   ]
  },
  {
   "cell_type": "code",
   "execution_count": 29,
   "id": "c3c5ad8c-1a10-4b30-924e-41e329917596",
   "metadata": {},
   "outputs": [],
   "source": [
    "def evaluate (model , valid_loader , loss_fn):\n",
    "    model.eval()\n",
    "    with torch.no_grad():\n",
    "        loss_valid = AverageMeter()\n",
    "        acc_valid = Accuracy(task=\"multiclass\", num_classes=4).to(device)\n",
    "        for i , (inputs,targets) in enumerate(valid_loader):\n",
    "            inputs = inputs.to(device)\n",
    "            targets = targets.to(device)\n",
    "            \n",
    "            yp = model(inputs)\n",
    "            loss = loss_fn(yp , targets)\n",
    "            loss_valid.update(loss.item())\n",
    "            acc_valid(yp , targets)\n",
    "    return loss_valid.avg , acc_valid.compute()\n",
    "            "
   ]
  },
  {
   "cell_type": "markdown",
   "id": "cf8a0794-2273-441f-bc6a-853541438ab7",
   "metadata": {},
   "source": [
    "📌 check backward path"
   ]
  },
  {
   "cell_type": "code",
   "execution_count": 33,
   "id": "0cc563c3-eb58-4350-bcc9-c6389590e5a0",
   "metadata": {},
   "outputs": [
    {
     "name": "stderr",
     "output_type": "stream",
     "text": [
      "Epoch 0: 100%|███████████████████████████████████████████████████| 5/5 [00:00<00:00,  9.31it/s, accuracy=32, loss=1.38]\n",
      "Epoch 1: 100%|███████████████████████████████████████████████████| 5/5 [00:00<00:00, 75.87it/s, accuracy=46, loss=1.27]\n",
      "Epoch 2: 100%|███████████████████████████████████████████████████| 5/5 [00:00<00:00, 68.24it/s, accuracy=55, loss=1.08]\n",
      "Epoch 3: 100%|██████████████████████████████████████████████████| 5/5 [00:00<00:00, 82.47it/s, accuracy=69, loss=0.808]\n",
      "Epoch 4: 100%|██████████████████████████████████████████████████| 5/5 [00:00<00:00, 65.25it/s, accuracy=73, loss=0.541]\n",
      "Epoch 5: 100%|██████████████████████████████████████████████████| 5/5 [00:00<00:00, 79.20it/s, accuracy=84, loss=0.408]\n",
      "Epoch 6: 100%|██████████████████████████████████████████████████| 5/5 [00:00<00:00, 79.53it/s, accuracy=86, loss=0.368]\n",
      "Epoch 7: 100%|██████████████████████████████████████████████████| 5/5 [00:00<00:00, 74.53it/s, accuracy=87, loss=0.296]\n",
      "Epoch 8: 100%|██████████████████████████████████████████████████| 5/5 [00:00<00:00, 73.19it/s, accuracy=78, loss=0.573]\n",
      "Epoch 9: 100%|██████████████████████████████████████████████████| 5/5 [00:00<00:00, 61.55it/s, accuracy=90, loss=0.305]\n",
      "Epoch 10: 100%|█████████████████████████████████████████████████| 5/5 [00:00<00:00, 69.72it/s, accuracy=85, loss=0.406]\n",
      "Epoch 11: 100%|█████████████████████████████████████████████████| 5/5 [00:00<00:00, 75.28it/s, accuracy=88, loss=0.297]\n",
      "Epoch 12: 100%|██████████████████████████████████████████████████| 5/5 [00:00<00:00, 67.38it/s, accuracy=89, loss=0.26]\n",
      "Epoch 13: 100%|█████████████████████████████████████████████████| 5/5 [00:00<00:00, 63.59it/s, accuracy=90, loss=0.253]\n",
      "Epoch 14: 100%|█████████████████████████████████████████████████| 5/5 [00:00<00:00, 75.79it/s, accuracy=96, loss=0.125]\n",
      "Epoch 15: 100%|█████████████████████████████████████████████████| 5/5 [00:00<00:00, 63.25it/s, accuracy=94, loss=0.117]\n",
      "Epoch 16: 100%|████████████████████████████████████████████████| 5/5 [00:00<00:00, 32.62it/s, accuracy=95, loss=0.0947]\n",
      "Epoch 17: 100%|████████████████████████████████████████████████| 5/5 [00:00<00:00, 92.97it/s, accuracy=98, loss=0.0674]\n",
      "Epoch 18: 100%|████████████████████████████████████████████████| 5/5 [00:00<00:00, 76.75it/s, accuracy=97, loss=0.0902]\n",
      "Epoch 19: 100%|█████████████████████████████████████████████████| 5/5 [00:00<00:00, 61.40it/s, accuracy=89, loss=0.306]\n",
      "Epoch 20: 100%|█████████████████████████████████████████████████| 5/5 [00:00<00:00, 68.89it/s, accuracy=88, loss=0.297]\n",
      "Epoch 21: 100%|████████████████████████████████████████████████| 5/5 [00:00<00:00, 73.76it/s, accuracy=94, loss=0.0978]\n",
      "Epoch 22: 100%|█████████████████████████████████████████████████| 5/5 [00:00<00:00, 89.82it/s, accuracy=93, loss=0.264]\n",
      "Epoch 23: 100%|█████████████████████████████████████████████████| 5/5 [00:00<00:00, 72.57it/s, accuracy=89, loss=0.345]\n",
      "Epoch 24: 100%|█████████████████████████████████████████████████| 5/5 [00:00<00:00, 72.90it/s, accuracy=95, loss=0.131]\n",
      "Epoch 25: 100%|█████████████████████████████████████████████████| 5/5 [00:00<00:00, 73.52it/s, accuracy=93, loss=0.196]\n",
      "Epoch 26: 100%|████████████████████████████████████████████████| 5/5 [00:00<00:00, 64.55it/s, accuracy=95, loss=0.0973]\n",
      "Epoch 27: 100%|█████████████████████████████████████████████████| 5/5 [00:00<00:00, 81.81it/s, accuracy=95, loss=0.152]\n",
      "Epoch 28: 100%|█████████████████████████████████████████████████| 5/5 [00:00<00:00, 88.08it/s, accuracy=92, loss=0.206]\n",
      "Epoch 29: 100%|████████████████████████████████████████████████| 5/5 [00:00<00:00, 79.81it/s, accuracy=97, loss=0.0999]\n",
      "Epoch 30: 100%|█████████████████████████████████████████████████| 5/5 [00:00<00:00, 72.22it/s, accuracy=91, loss=0.302]\n",
      "Epoch 31: 100%|█████████████████████████████████████████████████| 5/5 [00:00<00:00, 21.98it/s, accuracy=97, loss=0.147]\n",
      "Epoch 32: 100%|████████████████████████████████████████████████| 5/5 [00:00<00:00, 14.95it/s, accuracy=99, loss=0.0502]\n",
      "Epoch 33: 100%|█████████████████████████████████████████████████| 5/5 [00:00<00:00, 10.64it/s, accuracy=94, loss=0.223]\n",
      "Epoch 34: 100%|█████████████████████████████████████████████████| 5/5 [00:00<00:00, 17.41it/s, accuracy=91, loss=0.348]\n",
      "Epoch 35: 100%|█████████████████████████████████████████████████| 5/5 [00:00<00:00,  9.60it/s, accuracy=94, loss=0.197]\n",
      "Epoch 36: 100%|█████████████████████████████████████████████████| 5/5 [00:00<00:00, 17.07it/s, accuracy=96, loss=0.134]\n",
      "Epoch 37: 100%|████████████████████████████████████████████████| 5/5 [00:00<00:00, 17.11it/s, accuracy=97, loss=0.0913]\n",
      "Epoch 38: 100%|█████████████████████████████████████████████████| 5/5 [00:00<00:00, 18.04it/s, accuracy=95, loss=0.202]\n",
      "Epoch 39: 100%|█████████████████████████████████████████████████| 5/5 [00:00<00:00, 16.56it/s, accuracy=97, loss=0.122]\n",
      "Epoch 40: 100%|█████████████████████████████████████████████████| 5/5 [00:00<00:00, 12.29it/s, accuracy=95, loss=0.176]\n",
      "Epoch 41: 100%|████████████████████████████████████████████████| 5/5 [00:00<00:00, 21.57it/s, accuracy=98, loss=0.0778]\n",
      "Epoch 42: 100%|█████████████████████████████████████████████████| 5/5 [00:00<00:00, 15.09it/s, accuracy=97, loss=0.123]\n",
      "Epoch 43: 100%|█████████████████████████████████████████████████| 5/5 [00:00<00:00, 20.55it/s, accuracy=94, loss=0.138]\n",
      "Epoch 44: 100%|█████████████████████████████████████████████████| 5/5 [00:00<00:00, 16.93it/s, accuracy=90, loss=0.409]\n",
      "Epoch 45: 100%|█████████████████████████████████████████████████| 5/5 [00:00<00:00, 20.42it/s, accuracy=94, loss=0.184]\n",
      "Epoch 46: 100%|█████████████████████████████████████████████████| 5/5 [00:00<00:00, 29.87it/s, accuracy=93, loss=0.222]\n",
      "Epoch 47: 100%|█████████████████████████████████████████████████| 5/5 [00:00<00:00, 16.98it/s, accuracy=95, loss=0.136]\n",
      "Epoch 48: 100%|█████████████████████████████████████████████████| 5/5 [00:00<00:00, 21.32it/s, accuracy=97, loss=0.156]\n",
      "Epoch 49: 100%|█████████████████████████████████████████████████| 5/5 [00:00<00:00, 16.54it/s, accuracy=91, loss=0.301]\n",
      "Epoch 50: 100%|█████████████████████████████████████████████████| 5/5 [00:00<00:00, 18.95it/s, accuracy=94, loss=0.207]\n",
      "Epoch 51: 100%|██████████████████████████████████████████████████| 5/5 [00:00<00:00, 69.71it/s, accuracy=96, loss=0.13]\n",
      "Epoch 52: 100%|█████████████████████████████████████████████████| 5/5 [00:00<00:00, 51.22it/s, accuracy=94, loss=0.129]\n",
      "Epoch 53: 100%|█████████████████████████████████████████████████| 5/5 [00:00<00:00, 77.21it/s, accuracy=97, loss=0.213]\n",
      "Epoch 54: 100%|█████████████████████████████████████████████████| 5/5 [00:00<00:00, 76.95it/s, accuracy=96, loss=0.231]\n",
      "Epoch 55: 100%|█████████████████████████████████████████████████| 5/5 [00:00<00:00, 65.84it/s, accuracy=94, loss=0.241]\n",
      "Epoch 56: 100%|█████████████████████████████████████████████████| 5/5 [00:00<00:00, 98.11it/s, accuracy=92, loss=0.409]\n",
      "Epoch 57: 100%|████████████████████████████████████████████████| 5/5 [00:00<00:00, 100.47it/s, accuracy=92, loss=0.469]\n",
      "Epoch 58: 100%|█████████████████████████████████████████████████| 5/5 [00:00<00:00, 48.97it/s, accuracy=90, loss=0.306]\n",
      "Epoch 59: 100%|█████████████████████████████████████████████████| 5/5 [00:00<00:00, 62.67it/s, accuracy=94, loss=0.305]\n",
      "Epoch 60: 100%|█████████████████████████████████████████████████| 5/5 [00:00<00:00, 77.17it/s, accuracy=96, loss=0.119]\n",
      "Epoch 61: 100%|████████████████████████████████████████████████| 5/5 [00:00<00:00, 103.75it/s, accuracy=87, loss=0.814]\n",
      "Epoch 62: 100%|█████████████████████████████████████████████████| 5/5 [00:00<00:00, 94.95it/s, accuracy=88, loss=0.302]\n",
      "Epoch 63: 100%|████████████████████████████████████████████████| 5/5 [00:00<00:00, 106.38it/s, accuracy=94, loss=0.461]\n",
      "Epoch 64: 100%|████████████████████████████████████████████████| 5/5 [00:00<00:00, 131.20it/s, accuracy=95, loss=0.171]\n",
      "Epoch 65: 100%|█████████████████████████████████████████████████| 5/5 [00:00<00:00, 88.91it/s, accuracy=92, loss=0.244]\n",
      "Epoch 66: 100%|████████████████████████████████████████████████| 5/5 [00:00<00:00, 103.70it/s, accuracy=94, loss=0.226]\n",
      "Epoch 67: 100%|█████████████████████████████████████████████████| 5/5 [00:00<00:00, 69.41it/s, accuracy=94, loss=0.235]\n",
      "Epoch 68: 100%|█████████████████████████████████████████████████| 5/5 [00:00<00:00, 96.71it/s, accuracy=94, loss=0.163]\n",
      "Epoch 69: 100%|████████████████████████████████████████████████| 5/5 [00:00<00:00, 110.28it/s, accuracy=95, loss=0.141]\n",
      "Epoch 70: 100%|█████████████████████████████████████████████████| 5/5 [00:00<00:00, 99.93it/s, accuracy=97, loss=0.145]\n",
      "Epoch 71: 100%|████████████████████████████████████████████████| 5/5 [00:00<00:00, 117.56it/s, accuracy=93, loss=0.299]\n",
      "Epoch 72: 100%|█████████████████████████████████████████████████| 5/5 [00:00<00:00, 86.76it/s, accuracy=93, loss=0.245]\n",
      "Epoch 73: 100%|████████████████████████████████████████████████| 5/5 [00:00<00:00, 116.61it/s, accuracy=97, loss=0.162]\n",
      "Epoch 74: 100%|████████████████████████████████████████████████| 5/5 [00:00<00:00, 120.05it/s, accuracy=92, loss=0.245]\n",
      "Epoch 75: 100%|████████████████████████████████████████████████| 5/5 [00:00<00:00, 104.18it/s, accuracy=95, loss=0.626]\n",
      "Epoch 76: 100%|█████████████████████████████████████████████████| 5/5 [00:00<00:00, 74.33it/s, accuracy=97, loss=0.188]\n",
      "Epoch 77: 100%|████████████████████████████████████████████████| 5/5 [00:00<00:00, 130.39it/s, accuracy=91, loss=0.306]\n",
      "Epoch 78: 100%|████████████████████████████████████████████████| 5/5 [00:00<00:00, 101.78it/s, accuracy=91, loss=0.302]\n",
      "Epoch 79: 100%|████████████████████████████████████████████████| 5/5 [00:00<00:00, 91.48it/s, accuracy=97, loss=0.0958]\n",
      "Epoch 80: 100%|████████████████████████████████████████████████| 5/5 [00:00<00:00, 100.02it/s, accuracy=94, loss=0.239]\n",
      "Epoch 81: 100%|████████████████████████████████████████████████| 5/5 [00:00<00:00, 122.60it/s, accuracy=94, loss=0.253]\n",
      "Epoch 82: 100%|█████████████████████████████████████████████████| 5/5 [00:00<00:00, 77.89it/s, accuracy=93, loss=0.489]\n",
      "Epoch 83: 100%|████████████████████████████████████████████████| 5/5 [00:00<00:00, 101.35it/s, accuracy=92, loss=0.577]\n",
      "Epoch 84: 100%|█████████████████████████████████████████████████| 5/5 [00:00<00:00, 99.83it/s, accuracy=94, loss=0.274]\n",
      "Epoch 85: 100%|████████████████████████████████████████████████| 5/5 [00:00<00:00, 108.94it/s, accuracy=96, loss=0.225]\n",
      "Epoch 86: 100%|█████████████████████████████████████████████████| 5/5 [00:00<00:00, 95.67it/s, accuracy=95, loss=0.379]\n",
      "Epoch 87: 100%|████████████████████████████████████████████████| 5/5 [00:00<00:00, 115.64it/s, accuracy=94, loss=0.191]\n",
      "Epoch 88: 100%|████████████████████████████████████████████████| 5/5 [00:00<00:00, 110.67it/s, accuracy=89, loss=0.921]\n",
      "Epoch 89: 100%|████████████████████████████████████████████████| 5/5 [00:00<00:00, 114.29it/s, accuracy=95, loss=0.255]\n",
      "Epoch 90: 100%|████████████████████████████████████████████████| 5/5 [00:00<00:00, 110.76it/s, accuracy=97, loss=0.237]\n",
      "Epoch 91: 100%|████████████████████████████████████████████████| 5/5 [00:00<00:00, 114.84it/s, accuracy=98, loss=0.111]\n",
      "Epoch 92: 100%|████████████████████████████████████████████████| 5/5 [00:00<00:00, 113.56it/s, accuracy=97, loss=0.059]\n",
      "Epoch 93: 100%|█████████████████████████████████████████████████| 5/5 [00:00<00:00, 76.94it/s, accuracy=98, loss=0.051]\n",
      "Epoch 94: 100%|███████████████████████████████████████████████| 5/5 [00:00<00:00, 109.76it/s, accuracy=98, loss=0.0507]\n",
      "Epoch 95: 100%|████████████████████████████████████████████████| 5/5 [00:00<00:00, 134.47it/s, accuracy=97, loss=0.136]\n",
      "Epoch 96: 100%|███████████████████████████████████████████████| 5/5 [00:00<00:00, 110.58it/s, accuracy=98, loss=0.0694]\n",
      "Epoch 97: 100%|████████████████████████████████████████████████| 5/5 [00:00<00:00, 109.15it/s, accuracy=97, loss=0.119]\n",
      "Epoch 98: 100%|████████████████████████████████████████████████| 5/5 [00:00<00:00, 110.17it/s, accuracy=96, loss=0.131]\n",
      "Epoch 99: 100%|████████████████████████████████████████████████| 5/5 [00:00<00:00, 120.89it/s, accuracy=97, loss=0.113]\n",
      "Epoch 100: 100%|████████████████████████████████████████████████| 5/5 [00:00<00:00, 59.84it/s, accuracy=96, loss=0.286]\n",
      "Epoch 101: 100%|████████████████████████████████████████████████| 5/5 [00:00<00:00, 17.07it/s, accuracy=95, loss=0.207]\n",
      "Epoch 102: 100%|████████████████████████████████████████████████| 5/5 [00:00<00:00, 25.82it/s, accuracy=95, loss=0.276]\n",
      "Epoch 103: 100%|███████████████████████████████████████████████| 5/5 [00:00<00:00, 20.64it/s, accuracy=96, loss=0.0889]\n",
      "Epoch 104: 100%|███████████████████████████████████████████████| 5/5 [00:00<00:00, 25.85it/s, accuracy=96, loss=0.0582]\n",
      "Epoch 105: 100%|████████████████████████████████████████████████| 5/5 [00:00<00:00, 23.79it/s, accuracy=95, loss=0.162]\n",
      "Epoch 106: 100%|████████████████████████████████████████████████| 5/5 [00:00<00:00, 29.74it/s, accuracy=96, loss=0.121]\n",
      "Epoch 107: 100%|████████████████████████████████████████████████| 5/5 [00:00<00:00, 30.59it/s, accuracy=98, loss=0.104]\n",
      "Epoch 108: 100%|███████████████████████████████████████████████| 5/5 [00:00<00:00, 17.36it/s, accuracy=98, loss=0.0395]\n",
      "Epoch 109: 100%|████████████████████████████████████████████████| 5/5 [00:00<00:00, 11.92it/s, accuracy=97, loss=0.249]\n",
      "Epoch 110: 100%|███████████████████████████████████████████████| 5/5 [00:00<00:00, 25.49it/s, accuracy=98, loss=0.0693]\n",
      "Epoch 111: 100%|███████████████████████████████████████████████| 5/5 [00:00<00:00, 27.57it/s, accuracy=97, loss=0.0826]\n",
      "Epoch 112: 100%|████████████████████████████████████████████████| 5/5 [00:00<00:00, 30.16it/s, accuracy=98, loss=0.137]\n",
      "Epoch 113: 100%|██████████████████████████████████████████████| 5/5 [00:00<00:00, 24.08it/s, accuracy=100, loss=0.0151]\n",
      "Epoch 114: 100%|███████████████████████████████████████████████| 5/5 [00:00<00:00, 25.09it/s, accuracy=97, loss=0.0921]\n",
      "Epoch 115: 100%|████████████████████████████████████████████████| 5/5 [00:00<00:00, 30.18it/s, accuracy=95, loss=0.296]\n",
      "Epoch 116: 100%|████████████████████████████████████████████████| 5/5 [00:00<00:00, 27.95it/s, accuracy=95, loss=0.325]\n",
      "Epoch 117: 100%|███████████████████████████████████████████████| 5/5 [00:00<00:00, 26.15it/s, accuracy=97, loss=0.0988]\n",
      "Epoch 118: 100%|███████████████████████████████████████████████| 5/5 [00:00<00:00, 27.97it/s, accuracy=98, loss=0.0582]\n",
      "Epoch 119: 100%|████████████████████████████████████████████████| 5/5 [00:00<00:00, 29.74it/s, accuracy=97, loss=0.571]\n",
      "Epoch 120: 100%|████████████████████████████████████████████████| 5/5 [00:00<00:00, 37.66it/s, accuracy=93, loss=0.456]\n",
      "Epoch 121: 100%|████████████████████████████████████████████████| 5/5 [00:00<00:00, 39.12it/s, accuracy=96, loss=0.173]\n",
      "Epoch 122: 100%|████████████████████████████████████████████████| 5/5 [00:00<00:00, 35.61it/s, accuracy=92, loss=0.495]\n",
      "Epoch 123: 100%|████████████████████████████████████████████████| 5/5 [00:00<00:00, 30.91it/s, accuracy=95, loss=0.198]\n",
      "Epoch 124: 100%|████████████████████████████████████████████████| 5/5 [00:00<00:00, 25.33it/s, accuracy=98, loss=0.052]\n",
      "Epoch 125: 100%|████████████████████████████████████████████████| 5/5 [00:00<00:00, 25.41it/s, accuracy=95, loss=0.211]\n",
      "Epoch 126: 100%|███████████████████████████████████████████████| 5/5 [00:00<00:00, 28.33it/s, accuracy=98, loss=0.0598]\n",
      "Epoch 127: 100%|████████████████████████████████████████████████| 5/5 [00:00<00:00, 25.52it/s, accuracy=94, loss=0.179]\n",
      "Epoch 128: 100%|███████████████████████████████████████████████| 5/5 [00:00<00:00, 37.25it/s, accuracy=97, loss=0.0508]\n",
      "Epoch 129: 100%|████████████████████████████████████████████████| 5/5 [00:00<00:00, 37.42it/s, accuracy=96, loss=0.179]\n",
      "Epoch 130: 100%|████████████████████████████████████████████████| 5/5 [00:00<00:00, 33.58it/s, accuracy=96, loss=0.158]\n",
      "Epoch 131: 100%|████████████████████████████████████████████████| 5/5 [00:00<00:00, 78.32it/s, accuracy=98, loss=0.174]\n",
      "Epoch 132: 100%|███████████████████████████████████████████████| 5/5 [00:00<00:00, 140.84it/s, accuracy=93, loss=0.213]\n",
      "Epoch 133: 100%|██████████████████████████████████████████████| 5/5 [00:00<00:00, 142.58it/s, accuracy=96, loss=0.0919]\n",
      "Epoch 134: 100%|███████████████████████████████████████████████| 5/5 [00:00<00:00, 109.94it/s, accuracy=96, loss=0.135]\n",
      "Epoch 135: 100%|███████████████████████████████████████████████| 5/5 [00:00<00:00, 149.04it/s, accuracy=96, loss=0.192]\n",
      "Epoch 136: 100%|███████████████████████████████████████████████| 5/5 [00:00<00:00, 139.22it/s, accuracy=90, loss=0.691]\n",
      "Epoch 137: 100%|████████████████████████████████████████████████| 5/5 [00:00<00:00, 121.26it/s, accuracy=97, loss=0.16]\n",
      "Epoch 138: 100%|████████████████████████████████████████████████| 5/5 [00:00<00:00, 87.18it/s, accuracy=93, loss=0.282]\n",
      "Epoch 139: 100%|████████████████████████████████████████████████| 5/5 [00:00<00:00, 90.36it/s, accuracy=90, loss=0.658]\n",
      "Epoch 140: 100%|███████████████████████████████████████████████| 5/5 [00:00<00:00, 146.09it/s, accuracy=92, loss=0.247]\n",
      "Epoch 141: 100%|███████████████████████████████████████████████| 5/5 [00:00<00:00, 136.16it/s, accuracy=91, loss=0.445]\n",
      "Epoch 142: 100%|███████████████████████████████████████████████| 5/5 [00:00<00:00, 153.51it/s, accuracy=97, loss=0.136]\n",
      "Epoch 143: 100%|███████████████████████████████████████████████| 5/5 [00:00<00:00, 123.71it/s, accuracy=93, loss=0.438]\n",
      "Epoch 144: 100%|████████████████████████████████████████████████| 5/5 [00:00<00:00, 95.74it/s, accuracy=94, loss=0.206]\n",
      "Epoch 145: 100%|████████████████████████████████████████████████| 5/5 [00:00<00:00, 95.90it/s, accuracy=96, loss=0.247]\n",
      "Epoch 146: 100%|███████████████████████████████████████████████| 5/5 [00:00<00:00, 111.41it/s, accuracy=96, loss=0.172]\n",
      "Epoch 147: 100%|███████████████████████████████████████████████| 5/5 [00:00<00:00, 106.99it/s, accuracy=89, loss=0.241]\n",
      "Epoch 148: 100%|██████████████████████████████████████████████| 5/5 [00:00<00:00, 112.59it/s, accuracy=99, loss=0.0637]\n",
      "Epoch 149: 100%|███████████████████████████████████████████████| 5/5 [00:00<00:00, 108.03it/s, accuracy=92, loss=0.253]\n",
      "Epoch 150: 100%|████████████████████████████████████████████████| 5/5 [00:00<00:00, 97.97it/s, accuracy=97, loss=0.429]\n",
      "Epoch 151: 100%|███████████████████████████████████████████████| 5/5 [00:00<00:00, 105.24it/s, accuracy=94, loss=0.224]\n",
      "Epoch 152: 100%|█████████████████████████████████████████████████| 5/5 [00:00<00:00, 83.94it/s, accuracy=94, loss=1.01]\n",
      "Epoch 153: 100%|█████████████████████████████████████████████████| 5/5 [00:00<00:00, 85.90it/s, accuracy=91, loss=1.39]\n",
      "Epoch 154: 100%|███████████████████████████████████████████████| 5/5 [00:00<00:00, 102.86it/s, accuracy=94, loss=0.673]\n",
      "Epoch 155: 100%|████████████████████████████████████████████████| 5/5 [00:00<00:00, 101.23it/s, accuracy=91, loss=1.35]\n",
      "Epoch 156: 100%|███████████████████████████████████████████████| 5/5 [00:00<00:00, 123.04it/s, accuracy=92, loss=0.537]\n",
      "Epoch 157: 100%|████████████████████████████████████████████████| 5/5 [00:00<00:00, 102.66it/s, accuracy=92, loss=0.68]\n",
      "Epoch 158: 100%|███████████████████████████████████████████████| 5/5 [00:00<00:00, 119.63it/s, accuracy=90, loss=0.377]\n",
      "Epoch 159: 100%|███████████████████████████████████████████████████| 5/5 [00:00<00:00, 148.49it/s, accuracy=78, loss=2]\n",
      "Epoch 160: 100%|███████████████████████████████████████████████| 5/5 [00:00<00:00, 140.74it/s, accuracy=84, loss=0.888]\n",
      "Epoch 161: 100%|████████████████████████████████████████████████| 5/5 [00:00<00:00, 166.65it/s, accuracy=89, loss=1.38]\n",
      "Epoch 162: 100%|███████████████████████████████████████████████| 5/5 [00:00<00:00, 129.08it/s, accuracy=87, loss=0.755]\n",
      "Epoch 163: 100%|███████████████████████████████████████████████| 5/5 [00:00<00:00, 128.05it/s, accuracy=84, loss=0.534]\n",
      "Epoch 164: 100%|████████████████████████████████████████████████| 5/5 [00:00<00:00, 127.15it/s, accuracy=82, loss=1.07]\n",
      "Epoch 165: 100%|████████████████████████████████████████████████| 5/5 [00:00<00:00, 104.20it/s, accuracy=81, loss=0.94]\n",
      "Epoch 166: 100%|████████████████████████████████████████████████| 5/5 [00:00<00:00, 114.20it/s, accuracy=81, loss=1.33]\n",
      "Epoch 167: 100%|████████████████████████████████████████████████| 5/5 [00:00<00:00, 142.20it/s, accuracy=80, loss=2.45]\n",
      "Epoch 168: 100%|███████████████████████████████████████████████| 5/5 [00:00<00:00, 122.18it/s, accuracy=82, loss=0.532]\n",
      "Epoch 169: 100%|████████████████████████████████████████████████| 5/5 [00:00<00:00, 140.83it/s, accuracy=84, loss=1.52]\n",
      "Epoch 170: 100%|███████████████████████████████████████████████| 5/5 [00:00<00:00, 100.44it/s, accuracy=79, loss=0.641]\n",
      "Epoch 171: 100%|███████████████████████████████████████████████| 5/5 [00:00<00:00, 124.85it/s, accuracy=87, loss=0.368]\n",
      "Epoch 172: 100%|███████████████████████████████████████████████| 5/5 [00:00<00:00, 125.33it/s, accuracy=86, loss=0.434]\n",
      "Epoch 173: 100%|████████████████████████████████████████████████| 5/5 [00:00<00:00, 115.58it/s, accuracy=78, loss=1.31]\n",
      "Epoch 174: 100%|███████████████████████████████████████████████| 5/5 [00:00<00:00, 131.03it/s, accuracy=81, loss=0.644]\n",
      "Epoch 175: 100%|███████████████████████████████████████████████| 5/5 [00:00<00:00, 116.16it/s, accuracy=83, loss=0.524]\n",
      "Epoch 176: 100%|████████████████████████████████████████████████| 5/5 [00:00<00:00, 121.70it/s, accuracy=85, loss=0.34]\n",
      "Epoch 177: 100%|█████████████████████████████████████████████████| 5/5 [00:00<00:00, 79.48it/s, accuracy=78, loss=1.56]\n",
      "Epoch 178: 100%|████████████████████████████████████████████████| 5/5 [00:00<00:00, 85.03it/s, accuracy=76, loss=0.864]\n",
      "Epoch 179: 100%|███████████████████████████████████████████████| 5/5 [00:00<00:00, 111.11it/s, accuracy=76, loss=0.618]\n",
      "Epoch 180: 100%|████████████████████████████████████████████████| 5/5 [00:00<00:00, 121.54it/s, accuracy=75, loss=2.31]\n",
      "Epoch 181: 100%|███████████████████████████████████████████████| 5/5 [00:00<00:00, 118.39it/s, accuracy=81, loss=0.727]\n",
      "Epoch 182: 100%|███████████████████████████████████████████████| 5/5 [00:00<00:00, 120.86it/s, accuracy=83, loss=0.596]\n",
      "Epoch 183: 100%|████████████████████████████████████████████████| 5/5 [00:00<00:00, 98.59it/s, accuracy=85, loss=0.504]\n",
      "Epoch 184: 100%|█████████████████████████████████████████████████| 5/5 [00:00<00:00, 95.57it/s, accuracy=82, loss=0.49]\n",
      "Epoch 185: 100%|████████████████████████████████████████████████| 5/5 [00:00<00:00, 121.75it/s, accuracy=85, loss=1.36]\n",
      "Epoch 186: 100%|████████████████████████████████████████████████| 5/5 [00:00<00:00, 140.78it/s, accuracy=68, loss=1.87]\n",
      "Epoch 187: 100%|████████████████████████████████████████████████| 5/5 [00:00<00:00, 94.68it/s, accuracy=80, loss=0.918]\n",
      "Epoch 188: 100%|████████████████████████████████████████████████| 5/5 [00:00<00:00, 134.01it/s, accuracy=78, loss=1.47]\n",
      "Epoch 189: 100%|████████████████████████████████████████████████| 5/5 [00:00<00:00, 113.83it/s, accuracy=67, loss=3.02]\n",
      "Epoch 190: 100%|████████████████████████████████████████████████| 5/5 [00:00<00:00, 109.87it/s, accuracy=60, loss=2.28]\n",
      "Epoch 191: 100%|█████████████████████████████████████████████████| 5/5 [00:00<00:00, 34.45it/s, accuracy=49, loss=1.09]\n",
      "Epoch 192: 100%|█████████████████████████████████████████████████| 5/5 [00:00<00:00, 29.94it/s, accuracy=45, loss=2.02]\n",
      "Epoch 193: 100%|██████████████████████████████████████████████████| 5/5 [00:00<00:00, 31.54it/s, accuracy=47, loss=1.7]\n",
      "Epoch 194: 100%|█████████████████████████████████████████████████| 5/5 [00:00<00:00, 30.65it/s, accuracy=51, loss=1.39]\n",
      "Epoch 195: 100%|█████████████████████████████████████████████████| 5/5 [00:00<00:00, 29.55it/s, accuracy=47, loss=1.24]\n",
      "Epoch 196: 100%|█████████████████████████████████████████████████| 5/5 [00:00<00:00, 31.70it/s, accuracy=46, loss=3.89]\n",
      "Epoch 197: 100%|█████████████████████████████████████████████████| 5/5 [00:00<00:00, 35.11it/s, accuracy=37, loss=1.65]\n",
      "Epoch 198: 100%|█████████████████████████████████████████████████| 5/5 [00:00<00:00, 28.88it/s, accuracy=38, loss=1.51]\n",
      "Epoch 199: 100%|█████████████████████████████████████████████████| 5/5 [00:00<00:00, 30.51it/s, accuracy=32, loss=1.37]\n",
      "Epoch 200: 100%|█████████████████████████████████████████████████| 5/5 [00:00<00:00, 34.71it/s, accuracy=33, loss=1.81]\n",
      "Epoch 201: 100%|█████████████████████████████████████████████████| 5/5 [00:00<00:00, 31.83it/s, accuracy=38, loss=2.14]\n",
      "Epoch 202: 100%|█████████████████████████████████████████████████| 5/5 [00:00<00:00, 27.80it/s, accuracy=37, loss=1.26]\n",
      "Epoch 203: 100%|██████████████████████████████████████████████████| 5/5 [00:00<00:00, 28.19it/s, accuracy=35, loss=2.7]\n",
      "Epoch 204: 100%|█████████████████████████████████████████████████| 5/5 [00:00<00:00, 29.86it/s, accuracy=42, loss=2.09]\n",
      "Epoch 205: 100%|█████████████████████████████████████████████████| 5/5 [00:00<00:00, 27.86it/s, accuracy=41, loss=1.71]\n",
      "Epoch 206: 100%|█████████████████████████████████████████████████| 5/5 [00:00<00:00, 29.16it/s, accuracy=37, loss=1.25]\n",
      "Epoch 207: 100%|█████████████████████████████████████████████████| 5/5 [00:00<00:00, 26.66it/s, accuracy=41, loss=1.38]\n",
      "Epoch 208: 100%|█████████████████████████████████████████████████| 5/5 [00:00<00:00, 32.60it/s, accuracy=38, loss=1.22]\n",
      "Epoch 209: 100%|█████████████████████████████████████████████████| 5/5 [00:00<00:00, 19.90it/s, accuracy=43, loss=1.19]\n",
      "Epoch 210: 100%|█████████████████████████████████████████████████| 5/5 [00:00<00:00, 32.66it/s, accuracy=42, loss=1.19]\n",
      "Epoch 211: 100%|█████████████████████████████████████████████████| 5/5 [00:00<00:00, 29.73it/s, accuracy=43, loss=1.34]\n",
      "Epoch 212: 100%|█████████████████████████████████████████████████| 5/5 [00:00<00:00, 30.37it/s, accuracy=38, loss=1.35]\n",
      "Epoch 213: 100%|█████████████████████████████████████████████████| 5/5 [00:00<00:00, 32.04it/s, accuracy=39, loss=1.21]\n",
      "Epoch 214: 100%|█████████████████████████████████████████████████| 5/5 [00:00<00:00, 26.54it/s, accuracy=41, loss=1.22]\n",
      "Epoch 215: 100%|█████████████████████████████████████████████████| 5/5 [00:00<00:00, 19.38it/s, accuracy=37, loss=1.83]\n",
      "Epoch 216: 100%|██████████████████████████████████████████████████| 5/5 [00:00<00:00, 13.56it/s, accuracy=36, loss=2.1]\n",
      "Epoch 217: 100%|█████████████████████████████████████████████████| 5/5 [00:00<00:00, 15.87it/s, accuracy=34, loss=1.31]\n",
      "Epoch 218: 100%|█████████████████████████████████████████████████| 5/5 [00:00<00:00, 24.01it/s, accuracy=28, loss=1.32]\n",
      "Epoch 219: 100%|█████████████████████████████████████████████████| 5/5 [00:00<00:00, 14.27it/s, accuracy=25, loss=1.35]\n",
      "Epoch 220: 100%|█████████████████████████████████████████████████| 5/5 [00:00<00:00,  6.90it/s, accuracy=33, loss=1.34]\n",
      "Epoch 221: 100%|█████████████████████████████████████████████████| 5/5 [00:00<00:00, 95.22it/s, accuracy=34, loss=1.31]\n",
      "Epoch 222: 100%|█████████████████████████████████████████████████| 5/5 [00:00<00:00, 101.03it/s, accuracy=28, loss=1.3]\n",
      "Epoch 223: 100%|█████████████████████████████████████████████████| 5/5 [00:00<00:00, 72.75it/s, accuracy=21, loss=1.33]\n",
      "Epoch 224: 100%|█████████████████████████████████████████████████| 5/5 [00:00<00:00, 90.37it/s, accuracy=31, loss=1.33]\n",
      "Epoch 225: 100%|█████████████████████████████████████████████████| 5/5 [00:00<00:00, 87.88it/s, accuracy=34, loss=1.32]\n",
      "Epoch 226: 100%|████████████████████████████████████████████████| 5/5 [00:00<00:00, 120.88it/s, accuracy=35, loss=1.29]\n",
      "Epoch 227: 100%|█████████████████████████████████████████████████| 5/5 [00:00<00:00, 75.45it/s, accuracy=34, loss=1.31]\n",
      "Epoch 228: 100%|█████████████████████████████████████████████████| 5/5 [00:00<00:00, 89.56it/s, accuracy=33, loss=1.34]\n",
      "Epoch 229: 100%|█████████████████████████████████████████████████| 5/5 [00:00<00:00, 99.30it/s, accuracy=33, loss=1.33]\n",
      "Epoch 230: 100%|█████████████████████████████████████████████████| 5/5 [00:00<00:00, 67.84it/s, accuracy=34, loss=1.38]\n",
      "Epoch 231: 100%|████████████████████████████████████████████████| 5/5 [00:00<00:00, 148.57it/s, accuracy=30, loss=1.26]\n",
      "Epoch 232: 100%|█████████████████████████████████████████████████| 5/5 [00:00<00:00, 78.23it/s, accuracy=35, loss=1.28]\n",
      "Epoch 233: 100%|██████████████████████████████████████████████████| 5/5 [00:00<00:00, 71.10it/s, accuracy=33, loss=1.7]\n",
      "Epoch 234: 100%|████████████████████████████████████████████████| 5/5 [00:00<00:00, 141.71it/s, accuracy=38, loss=1.25]\n",
      "Epoch 235: 100%|█████████████████████████████████████████████████| 5/5 [00:00<00:00, 74.75it/s, accuracy=34, loss=1.31]\n",
      "Epoch 236: 100%|████████████████████████████████████████████████| 5/5 [00:00<00:00, 119.87it/s, accuracy=29, loss=1.37]\n",
      "Epoch 237: 100%|██████████████████████████████████████████████████| 5/5 [00:00<00:00, 81.86it/s, accuracy=35, loss=1.3]\n",
      "Epoch 238: 100%|████████████████████████████████████████████████| 5/5 [00:00<00:00, 112.02it/s, accuracy=31, loss=1.33]\n",
      "Epoch 239: 100%|████████████████████████████████████████████████| 5/5 [00:00<00:00, 110.56it/s, accuracy=27, loss=1.34]\n",
      "Epoch 240: 100%|████████████████████████████████████████████████| 5/5 [00:00<00:00, 108.87it/s, accuracy=27, loss=1.31]\n",
      "Epoch 241: 100%|█████████████████████████████████████████████████| 5/5 [00:00<00:00, 108.81it/s, accuracy=33, loss=1.3]\n",
      "Epoch 242: 100%|████████████████████████████████████████████████| 5/5 [00:00<00:00, 106.70it/s, accuracy=28, loss=1.29]\n",
      "Epoch 243: 100%|████████████████████████████████████████████████| 5/5 [00:00<00:00, 125.54it/s, accuracy=28, loss=1.31]\n",
      "Epoch 244: 100%|██████████████████████████████████████████████████| 5/5 [00:00<00:00, 83.15it/s, accuracy=35, loss=1.3]\n",
      "Epoch 245: 100%|████████████████████████████████████████████████| 5/5 [00:00<00:00, 104.73it/s, accuracy=33, loss=1.32]\n",
      "Epoch 246: 100%|████████████████████████████████████████████████| 5/5 [00:00<00:00, 125.07it/s, accuracy=36, loss=1.27]\n",
      "Epoch 247: 100%|████████████████████████████████████████████████| 5/5 [00:00<00:00, 100.33it/s, accuracy=37, loss=1.29]\n",
      "Epoch 248: 100%|████████████████████████████████████████████████| 5/5 [00:00<00:00, 116.18it/s, accuracy=30, loss=1.31]\n",
      "Epoch 249: 100%|████████████████████████████████████████████████| 5/5 [00:00<00:00, 122.34it/s, accuracy=25, loss=1.31]\n",
      "Epoch 250: 100%|█████████████████████████████████████████████████| 5/5 [00:00<00:00, 85.84it/s, accuracy=35, loss=1.26]\n",
      "Epoch 251: 100%|█████████████████████████████████████████████████| 5/5 [00:00<00:00, 81.61it/s, accuracy=34, loss=1.29]\n",
      "Epoch 252: 100%|█████████████████████████████████████████████████| 5/5 [00:00<00:00, 87.47it/s, accuracy=34, loss=1.28]\n",
      "Epoch 253: 100%|████████████████████████████████████████████████| 5/5 [00:00<00:00, 115.81it/s, accuracy=38, loss=1.22]\n",
      "Epoch 254: 100%|████████████████████████████████████████████████| 5/5 [00:00<00:00, 107.20it/s, accuracy=37, loss=1.15]\n",
      "Epoch 255: 100%|████████████████████████████████████████████████| 5/5 [00:00<00:00, 132.51it/s, accuracy=39, loss=2.01]\n",
      "Epoch 256: 100%|█████████████████████████████████████████████████| 5/5 [00:00<00:00, 62.21it/s, accuracy=28, loss=1.28]\n",
      "Epoch 257: 100%|████████████████████████████████████████████████| 5/5 [00:00<00:00, 119.91it/s, accuracy=34, loss=1.31]\n",
      "Epoch 258: 100%|█████████████████████████████████████████████████| 5/5 [00:00<00:00, 100.83it/s, accuracy=29, loss=1.4]\n",
      "Epoch 259: 100%|█████████████████████████████████████████████████| 5/5 [00:00<00:00, 129.23it/s, accuracy=35, loss=3.8]\n",
      "Epoch 260: 100%|█████████████████████████████████████████████████| 5/5 [00:00<00:00, 85.31it/s, accuracy=24, loss=4.32]\n",
      "Epoch 261: 100%|████████████████████████████████████████████████| 5/5 [00:00<00:00, 108.06it/s, accuracy=34, loss=12.8]\n",
      "Epoch 262: 100%|█████████████████████████████████████████████████| 5/5 [00:00<00:00, 89.46it/s, accuracy=31, loss=36.9]\n",
      "Epoch 263: 100%|████████████████████████████████████████████████| 5/5 [00:00<00:00, 124.71it/s, accuracy=31, loss=1.37]\n",
      "Epoch 264: 100%|█████████████████████████████████████████████████| 5/5 [00:00<00:00, 82.68it/s, accuracy=32, loss=1.35]\n",
      "Epoch 265: 100%|████████████████████████████████████████████████| 5/5 [00:00<00:00, 134.50it/s, accuracy=31, loss=1.37]\n",
      "Epoch 266: 100%|█████████████████████████████████████████████████| 5/5 [00:00<00:00, 78.34it/s, accuracy=31, loss=1.37]\n",
      "Epoch 267: 100%|████████████████████████████████████████████████| 5/5 [00:00<00:00, 115.76it/s, accuracy=30, loss=1.42]\n",
      "Epoch 268: 100%|████████████████████████████████████████████████| 5/5 [00:00<00:00, 100.11it/s, accuracy=31, loss=1.37]\n",
      "Epoch 269: 100%|█████████████████████████████████████████████████| 5/5 [00:00<00:00, 30.92it/s, accuracy=22, loss=1.37]\n",
      "Epoch 270: 100%|█████████████████████████████████████████████████| 5/5 [00:00<00:00, 14.40it/s, accuracy=30, loss=1.37]\n",
      "Epoch 271: 100%|█████████████████████████████████████████████████| 5/5 [00:00<00:00, 11.04it/s, accuracy=31, loss=1.35]\n",
      "Epoch 272: 100%|█████████████████████████████████████████████████| 5/5 [00:00<00:00, 14.28it/s, accuracy=31, loss=1.37]\n",
      "Epoch 273: 100%|█████████████████████████████████████████████████| 5/5 [00:00<00:00,  7.05it/s, accuracy=31, loss=1.37]\n",
      "Epoch 274: 100%|█████████████████████████████████████████████████| 5/5 [00:00<00:00, 21.14it/s, accuracy=31, loss=1.37]\n",
      "Epoch 275: 100%|█████████████████████████████████████████████████| 5/5 [00:00<00:00, 20.82it/s, accuracy=31, loss=1.37]\n",
      "Epoch 276: 100%|█████████████████████████████████████████████████| 5/5 [00:00<00:00, 17.59it/s, accuracy=25, loss=1.37]\n",
      "Epoch 277: 100%|█████████████████████████████████████████████████| 5/5 [00:00<00:00, 17.07it/s, accuracy=31, loss=1.37]\n",
      "Epoch 278: 100%|█████████████████████████████████████████████████| 5/5 [00:00<00:00, 13.80it/s, accuracy=31, loss=1.47]\n",
      "Epoch 279: 100%|█████████████████████████████████████████████████| 5/5 [00:01<00:00,  2.81it/s, accuracy=31, loss=1.37]\n",
      "Epoch 280: 100%|█████████████████████████████████████████████████| 5/5 [00:01<00:00,  3.25it/s, accuracy=25, loss=1.37]\n",
      "Epoch 281: 100%|█████████████████████████████████████████████████| 5/5 [00:00<00:00, 65.63it/s, accuracy=26, loss=1.37]\n",
      "Epoch 282: 100%|█████████████████████████████████████████████████| 5/5 [00:00<00:00, 82.35it/s, accuracy=31, loss=1.37]\n",
      "Epoch 283: 100%|█████████████████████████████████████████████████| 5/5 [00:00<00:00, 59.06it/s, accuracy=31, loss=1.37]\n",
      "Epoch 284: 100%|█████████████████████████████████████████████████| 5/5 [00:00<00:00, 69.75it/s, accuracy=31, loss=1.46]\n",
      "Epoch 285: 100%|█████████████████████████████████████████████████| 5/5 [00:00<00:00, 84.60it/s, accuracy=22, loss=1.37]\n",
      "Epoch 286: 100%|█████████████████████████████████████████████████| 5/5 [00:00<00:00, 55.22it/s, accuracy=28, loss=1.37]\n",
      "Epoch 287: 100%|█████████████████████████████████████████████████| 5/5 [00:00<00:00, 94.39it/s, accuracy=31, loss=1.35]\n",
      "Epoch 288: 100%|█████████████████████████████████████████████████| 5/5 [00:00<00:00, 82.52it/s, accuracy=31, loss=1.37]\n",
      "Epoch 289: 100%|█████████████████████████████████████████████████| 5/5 [00:00<00:00, 57.88it/s, accuracy=31, loss=1.37]\n",
      "Epoch 290: 100%|█████████████████████████████████████████████████| 5/5 [00:00<00:00, 67.02it/s, accuracy=31, loss=1.37]\n",
      "Epoch 291: 100%|█████████████████████████████████████████████████| 5/5 [00:00<00:00, 64.48it/s, accuracy=26, loss=1.37]\n",
      "Epoch 292: 100%|█████████████████████████████████████████████████| 5/5 [00:00<00:00, 73.76it/s, accuracy=28, loss=1.37]\n",
      "Epoch 293: 100%|█████████████████████████████████████████████████| 5/5 [00:00<00:00, 53.22it/s, accuracy=31, loss=1.37]\n",
      "Epoch 294: 100%|█████████████████████████████████████████████████| 5/5 [00:00<00:00, 71.71it/s, accuracy=31, loss=1.36]\n",
      "Epoch 295: 100%|█████████████████████████████████████████████████| 5/5 [00:00<00:00, 61.37it/s, accuracy=31, loss=1.47]\n",
      "Epoch 296: 100%|█████████████████████████████████████████████████| 5/5 [00:00<00:00, 62.00it/s, accuracy=31, loss=1.37]\n",
      "Epoch 297: 100%|█████████████████████████████████████████████████| 5/5 [00:00<00:00, 29.88it/s, accuracy=22, loss=1.37]\n",
      "Epoch 298: 100%|█████████████████████████████████████████████████| 5/5 [00:00<00:00, 40.07it/s, accuracy=27, loss=1.37]\n",
      "Epoch 299: 100%|█████████████████████████████████████████████████| 5/5 [00:00<00:00, 83.43it/s, accuracy=31, loss=1.37]\n",
      "Epoch 300: 100%|█████████████████████████████████████████████████| 5/5 [00:00<00:00, 86.42it/s, accuracy=31, loss=1.37]\n",
      "Epoch 301: 100%|█████████████████████████████████████████████████| 5/5 [00:00<00:00, 80.11it/s, accuracy=32, loss=1.35]\n",
      "Epoch 302: 100%|█████████████████████████████████████████████████| 5/5 [00:00<00:00, 86.22it/s, accuracy=31, loss=1.37]\n",
      "Epoch 303: 100%|█████████████████████████████████████████████████| 5/5 [00:00<00:00, 85.40it/s, accuracy=31, loss=1.37]\n",
      "Epoch 304: 100%|█████████████████████████████████████████████████| 5/5 [00:00<00:00, 61.94it/s, accuracy=31, loss=1.37]\n",
      "Epoch 305: 100%|█████████████████████████████████████████████████| 5/5 [00:00<00:00, 92.01it/s, accuracy=31, loss=1.37]\n",
      "Epoch 306: 100%|█████████████████████████████████████████████████| 5/5 [00:00<00:00, 70.10it/s, accuracy=31, loss=1.37]\n",
      "Epoch 307: 100%|█████████████████████████████████████████████████| 5/5 [00:00<00:00, 77.93it/s, accuracy=31, loss=1.37]\n",
      "Epoch 308: 100%|█████████████████████████████████████████████████| 5/5 [00:00<00:00, 63.32it/s, accuracy=22, loss=1.37]\n",
      "Epoch 309: 100%|█████████████████████████████████████████████████| 5/5 [00:00<00:00, 76.75it/s, accuracy=31, loss=1.39]\n",
      "Epoch 310: 100%|█████████████████████████████████████████████████| 5/5 [00:00<00:00, 81.76it/s, accuracy=31, loss=1.37]\n",
      "Epoch 311: 100%|█████████████████████████████████████████████████| 5/5 [00:00<00:00, 83.19it/s, accuracy=31, loss=1.37]\n",
      "Epoch 312: 100%|█████████████████████████████████████████████████| 5/5 [00:00<00:00, 76.97it/s, accuracy=26, loss=1.37]\n",
      "Epoch 313: 100%|█████████████████████████████████████████████████| 5/5 [00:00<00:00, 33.65it/s, accuracy=31, loss=1.37]\n",
      "Epoch 314: 100%|█████████████████████████████████████████████████| 5/5 [00:00<00:00, 18.10it/s, accuracy=32, loss=1.35]\n",
      "Epoch 315: 100%|█████████████████████████████████████████████████| 5/5 [00:00<00:00, 31.25it/s, accuracy=31, loss=1.37]\n",
      "Epoch 316: 100%|█████████████████████████████████████████████████| 5/5 [00:00<00:00, 26.46it/s, accuracy=31, loss=1.37]\n",
      "Epoch 317: 100%|█████████████████████████████████████████████████| 5/5 [00:00<00:00, 37.92it/s, accuracy=31, loss=1.37]\n",
      "Epoch 318: 100%|█████████████████████████████████████████████████| 5/5 [00:00<00:00, 33.62it/s, accuracy=31, loss=1.37]\n",
      "Epoch 319: 100%|█████████████████████████████████████████████████| 5/5 [00:00<00:00, 33.40it/s, accuracy=31, loss=1.37]\n",
      "Epoch 320: 100%|█████████████████████████████████████████████████| 5/5 [00:00<00:00, 37.11it/s, accuracy=27, loss=1.37]\n",
      "Epoch 321: 100%|█████████████████████████████████████████████████| 5/5 [00:00<00:00, 28.31it/s, accuracy=21, loss=1.37]\n",
      "Epoch 322: 100%|█████████████████████████████████████████████████| 5/5 [00:00<00:00, 35.25it/s, accuracy=31, loss=1.37]\n",
      "Epoch 323: 100%|█████████████████████████████████████████████████| 5/5 [00:00<00:00, 33.84it/s, accuracy=31, loss=1.37]\n",
      "Epoch 324: 100%|█████████████████████████████████████████████████| 5/5 [00:00<00:00, 38.27it/s, accuracy=31, loss=1.37]\n",
      "Epoch 325: 100%|█████████████████████████████████████████████████| 5/5 [00:00<00:00, 32.88it/s, accuracy=31, loss=1.37]\n",
      "Epoch 326: 100%|█████████████████████████████████████████████████| 5/5 [00:00<00:00, 37.07it/s, accuracy=31, loss=1.37]\n",
      "Epoch 327: 100%|█████████████████████████████████████████████████| 5/5 [00:00<00:00, 35.31it/s, accuracy=31, loss=1.37]\n",
      "Epoch 328: 100%|█████████████████████████████████████████████████| 5/5 [00:00<00:00, 36.72it/s, accuracy=24, loss=1.37]\n",
      "Epoch 329: 100%|█████████████████████████████████████████████████| 5/5 [00:00<00:00, 37.93it/s, accuracy=31, loss=1.37]\n",
      "Epoch 330: 100%|█████████████████████████████████████████████████| 5/5 [00:00<00:00, 36.17it/s, accuracy=31, loss=1.37]\n",
      "Epoch 331: 100%|█████████████████████████████████████████████████| 5/5 [00:00<00:00, 35.68it/s, accuracy=31, loss=1.37]\n",
      "Epoch 332: 100%|█████████████████████████████████████████████████| 5/5 [00:00<00:00, 36.88it/s, accuracy=31, loss=1.37]\n",
      "Epoch 333: 100%|█████████████████████████████████████████████████| 5/5 [00:00<00:00, 33.99it/s, accuracy=31, loss=1.37]\n",
      "Epoch 334: 100%|█████████████████████████████████████████████████| 5/5 [00:00<00:00, 34.04it/s, accuracy=31, loss=1.37]\n",
      "Epoch 335: 100%|█████████████████████████████████████████████████| 5/5 [00:00<00:00, 32.58it/s, accuracy=24, loss=1.37]\n",
      "Epoch 336: 100%|█████████████████████████████████████████████████| 5/5 [00:00<00:00, 35.78it/s, accuracy=31, loss=1.37]\n",
      "Epoch 337: 100%|█████████████████████████████████████████████████| 5/5 [00:00<00:00, 33.49it/s, accuracy=31, loss=1.37]\n",
      "Epoch 338: 100%|█████████████████████████████████████████████████| 5/5 [00:00<00:00, 34.74it/s, accuracy=31, loss=1.37]\n",
      "Epoch 339: 100%|█████████████████████████████████████████████████| 5/5 [00:00<00:00, 34.67it/s, accuracy=31, loss=1.37]\n",
      "Epoch 340: 100%|█████████████████████████████████████████████████| 5/5 [00:00<00:00, 44.00it/s, accuracy=31, loss=1.37]\n",
      "Epoch 341: 100%|█████████████████████████████████████████████████| 5/5 [00:00<00:00, 35.30it/s, accuracy=31, loss=1.37]\n",
      "Epoch 342: 100%|█████████████████████████████████████████████████| 5/5 [00:00<00:00, 40.82it/s, accuracy=31, loss=1.37]\n",
      "Epoch 343: 100%|█████████████████████████████████████████████████| 5/5 [00:00<00:00, 36.40it/s, accuracy=31, loss=1.37]\n",
      "Epoch 344: 100%|█████████████████████████████████████████████████| 5/5 [00:00<00:00, 35.80it/s, accuracy=31, loss=11.1]\n",
      "Epoch 345: 100%|█████████████████████████████████████████████████| 5/5 [00:00<00:00, 35.37it/s, accuracy=25, loss=1.37]\n",
      "Epoch 346: 100%|█████████████████████████████████████████████████| 5/5 [00:00<00:00, 32.06it/s, accuracy=22, loss=1.37]\n",
      "Epoch 347: 100%|█████████████████████████████████████████████████| 5/5 [00:00<00:00, 33.48it/s, accuracy=31, loss=1.37]\n",
      "Epoch 348: 100%|█████████████████████████████████████████████████| 5/5 [00:00<00:00, 33.32it/s, accuracy=31, loss=1.37]\n",
      "Epoch 349: 100%|█████████████████████████████████████████████████| 5/5 [00:00<00:00, 32.06it/s, accuracy=31, loss=1.37]\n",
      "Epoch 350: 100%|█████████████████████████████████████████████████| 5/5 [00:00<00:00, 29.11it/s, accuracy=31, loss=1.36]\n",
      "Epoch 351: 100%|█████████████████████████████████████████████████| 5/5 [00:00<00:00, 33.03it/s, accuracy=31, loss=1.37]\n",
      "Epoch 352: 100%|█████████████████████████████████████████████████| 5/5 [00:00<00:00, 32.08it/s, accuracy=27, loss=1.37]\n",
      "Epoch 353: 100%|█████████████████████████████████████████████████| 5/5 [00:00<00:00, 32.22it/s, accuracy=31, loss=1.37]\n",
      "Epoch 354: 100%|█████████████████████████████████████████████████| 5/5 [00:00<00:00, 29.08it/s, accuracy=31, loss=1.37]\n",
      "Epoch 355: 100%|█████████████████████████████████████████████████| 5/5 [00:00<00:00, 31.15it/s, accuracy=31, loss=1.37]\n",
      "Epoch 356: 100%|█████████████████████████████████████████████████| 5/5 [00:00<00:00, 30.83it/s, accuracy=26, loss=1.37]\n",
      "Epoch 357: 100%|█████████████████████████████████████████████████| 5/5 [00:00<00:00, 32.17it/s, accuracy=29, loss=1.37]\n",
      "Epoch 358: 100%|█████████████████████████████████████████████████| 5/5 [00:00<00:00, 32.60it/s, accuracy=31, loss=1.37]\n",
      "Epoch 359: 100%|█████████████████████████████████████████████████| 5/5 [00:00<00:00, 34.51it/s, accuracy=31, loss=1.37]\n",
      "Epoch 360: 100%|█████████████████████████████████████████████████| 5/5 [00:00<00:00, 35.23it/s, accuracy=31, loss=1.37]\n",
      "Epoch 361: 100%|█████████████████████████████████████████████████| 5/5 [00:00<00:00, 36.08it/s, accuracy=31, loss=1.37]\n",
      "Epoch 362: 100%|█████████████████████████████████████████████████| 5/5 [00:00<00:00, 35.90it/s, accuracy=25, loss=1.37]\n",
      "Epoch 363: 100%|█████████████████████████████████████████████████| 5/5 [00:00<00:00, 35.20it/s, accuracy=31, loss=1.38]\n",
      "Epoch 364: 100%|█████████████████████████████████████████████████| 5/5 [00:00<00:00, 34.66it/s, accuracy=31, loss=1.37]\n",
      "Epoch 365: 100%|█████████████████████████████████████████████████| 5/5 [00:00<00:00, 33.85it/s, accuracy=27, loss=1.37]\n",
      "Epoch 366: 100%|█████████████████████████████████████████████████| 5/5 [00:00<00:00, 35.86it/s, accuracy=31, loss=1.37]\n",
      "Epoch 367: 100%|█████████████████████████████████████████████████| 5/5 [00:00<00:00, 36.87it/s, accuracy=31, loss=1.37]\n",
      "Epoch 368: 100%|█████████████████████████████████████████████████| 5/5 [00:00<00:00, 37.23it/s, accuracy=31, loss=1.37]\n",
      "Epoch 369: 100%|█████████████████████████████████████████████████| 5/5 [00:00<00:00, 37.34it/s, accuracy=22, loss=1.37]\n",
      "Epoch 370: 100%|█████████████████████████████████████████████████| 5/5 [00:00<00:00, 35.59it/s, accuracy=27, loss=1.37]\n",
      "Epoch 371: 100%|█████████████████████████████████████████████████| 5/5 [00:00<00:00, 32.78it/s, accuracy=31, loss=1.37]\n",
      "Epoch 372: 100%|█████████████████████████████████████████████████| 5/5 [00:00<00:00, 40.22it/s, accuracy=22, loss=1.37]\n",
      "Epoch 373: 100%|█████████████████████████████████████████████████| 5/5 [00:00<00:00, 38.29it/s, accuracy=31, loss=1.37]\n",
      "Epoch 374: 100%|█████████████████████████████████████████████████| 5/5 [00:00<00:00, 34.08it/s, accuracy=31, loss=1.37]\n",
      "Epoch 375: 100%|█████████████████████████████████████████████████| 5/5 [00:00<00:00, 34.06it/s, accuracy=31, loss=1.37]\n",
      "Epoch 376: 100%|█████████████████████████████████████████████████| 5/5 [00:00<00:00, 35.86it/s, accuracy=26, loss=1.36]\n",
      "Epoch 377: 100%|█████████████████████████████████████████████████| 5/5 [00:00<00:00, 35.83it/s, accuracy=27, loss=1.37]\n",
      "Epoch 378: 100%|█████████████████████████████████████████████████| 5/5 [00:00<00:00, 36.57it/s, accuracy=25, loss=1.37]\n",
      "Epoch 379: 100%|█████████████████████████████████████████████████| 5/5 [00:00<00:00, 34.34it/s, accuracy=31, loss=1.37]\n",
      "Epoch 380: 100%|█████████████████████████████████████████████████| 5/5 [00:00<00:00, 36.06it/s, accuracy=31, loss=1.44]\n",
      "Epoch 381: 100%|█████████████████████████████████████████████████| 5/5 [00:00<00:00, 34.61it/s, accuracy=26, loss=1.37]\n",
      "Epoch 382: 100%|█████████████████████████████████████████████████| 5/5 [00:00<00:00, 22.32it/s, accuracy=31, loss=1.37]\n",
      "Epoch 383: 100%|█████████████████████████████████████████████████| 5/5 [00:00<00:00, 84.57it/s, accuracy=31, loss=1.37]\n",
      "Epoch 384: 100%|█████████████████████████████████████████████████| 5/5 [00:00<00:00, 74.05it/s, accuracy=31, loss=1.37]\n",
      "Epoch 385: 100%|█████████████████████████████████████████████████| 5/5 [00:00<00:00, 78.68it/s, accuracy=24, loss=1.37]\n",
      "Epoch 386: 100%|████████████████████████████████████████████████| 5/5 [00:00<00:00, 116.23it/s, accuracy=31, loss=1.78]\n",
      "Epoch 387: 100%|█████████████████████████████████████████████████| 5/5 [00:00<00:00, 70.16it/s, accuracy=31, loss=1.37]\n",
      "Epoch 388: 100%|█████████████████████████████████████████████████| 5/5 [00:00<00:00, 79.28it/s, accuracy=31, loss=1.37]\n",
      "Epoch 389: 100%|█████████████████████████████████████████████████| 5/5 [00:00<00:00, 80.44it/s, accuracy=31, loss=1.37]\n",
      "Epoch 390: 100%|█████████████████████████████████████████████████| 5/5 [00:00<00:00, 92.93it/s, accuracy=31, loss=1.37]\n",
      "Epoch 391: 100%|█████████████████████████████████████████████████| 5/5 [00:00<00:00, 73.23it/s, accuracy=31, loss=1.37]\n",
      "Epoch 392: 100%|█████████████████████████████████████████████████| 5/5 [00:00<00:00, 72.55it/s, accuracy=21, loss=1.38]\n",
      "Epoch 393: 100%|█████████████████████████████████████████████████| 5/5 [00:00<00:00, 72.87it/s, accuracy=28, loss=1.37]\n",
      "Epoch 394: 100%|█████████████████████████████████████████████████| 5/5 [00:00<00:00, 79.26it/s, accuracy=31, loss=1.37]\n",
      "Epoch 395: 100%|█████████████████████████████████████████████████| 5/5 [00:00<00:00, 69.75it/s, accuracy=31, loss=1.37]\n",
      "Epoch 396: 100%|█████████████████████████████████████████████████| 5/5 [00:00<00:00, 78.50it/s, accuracy=31, loss=1.37]\n",
      "Epoch 397: 100%|█████████████████████████████████████████████████| 5/5 [00:00<00:00, 78.66it/s, accuracy=31, loss=1.37]\n",
      "Epoch 398: 100%|█████████████████████████████████████████████████| 5/5 [00:00<00:00, 96.68it/s, accuracy=27, loss=1.37]\n",
      "Epoch 399: 100%|████████████████████████████████████████████████| 5/5 [00:00<00:00, 120.29it/s, accuracy=25, loss=1.37]\n",
      "Epoch 400: 100%|█████████████████████████████████████████████████| 5/5 [00:00<00:00, 85.74it/s, accuracy=31, loss=1.37]\n",
      "Epoch 401: 100%|█████████████████████████████████████████████████| 5/5 [00:00<00:00, 89.15it/s, accuracy=31, loss=1.37]\n",
      "Epoch 402: 100%|█████████████████████████████████████████████████| 5/5 [00:00<00:00, 79.10it/s, accuracy=31, loss=1.37]\n",
      "Epoch 403: 100%|█████████████████████████████████████████████████| 5/5 [00:00<00:00, 75.96it/s, accuracy=31, loss=1.37]\n",
      "Epoch 404: 100%|█████████████████████████████████████████████████| 5/5 [00:00<00:00, 88.27it/s, accuracy=31, loss=1.37]\n",
      "Epoch 405: 100%|█████████████████████████████████████████████████| 5/5 [00:00<00:00, 90.43it/s, accuracy=31, loss=1.37]\n",
      "Epoch 406: 100%|█████████████████████████████████████████████████| 5/5 [00:00<00:00, 70.26it/s, accuracy=31, loss=1.37]\n",
      "Epoch 407: 100%|█████████████████████████████████████████████████| 5/5 [00:00<00:00, 78.54it/s, accuracy=31, loss=1.37]\n",
      "Epoch 408: 100%|█████████████████████████████████████████████████| 5/5 [00:00<00:00, 76.19it/s, accuracy=31, loss=1.37]\n",
      "Epoch 409: 100%|█████████████████████████████████████████████████| 5/5 [00:00<00:00, 34.47it/s, accuracy=32, loss=1.35]\n",
      "Epoch 410: 100%|█████████████████████████████████████████████████| 5/5 [00:00<00:00, 62.35it/s, accuracy=31, loss=1.37]\n",
      "Epoch 411: 100%|█████████████████████████████████████████████████| 5/5 [00:00<00:00, 89.74it/s, accuracy=31, loss=1.37]\n",
      "Epoch 412: 100%|█████████████████████████████████████████████████| 5/5 [00:00<00:00, 65.86it/s, accuracy=24, loss=1.37]\n",
      "Epoch 413: 100%|█████████████████████████████████████████████████| 5/5 [00:00<00:00, 81.64it/s, accuracy=25, loss=1.37]\n",
      "Epoch 414: 100%|█████████████████████████████████████████████████| 5/5 [00:00<00:00, 60.51it/s, accuracy=31, loss=1.37]\n",
      "Epoch 415: 100%|█████████████████████████████████████████████████| 5/5 [00:00<00:00, 68.22it/s, accuracy=31, loss=1.37]\n",
      "Epoch 416: 100%|█████████████████████████████████████████████████| 5/5 [00:00<00:00, 81.67it/s, accuracy=31, loss=1.37]\n",
      "Epoch 417: 100%|█████████████████████████████████████████████████| 5/5 [00:00<00:00, 67.99it/s, accuracy=31, loss=1.37]\n",
      "Epoch 418: 100%|█████████████████████████████████████████████████| 5/5 [00:00<00:00, 73.92it/s, accuracy=23, loss=1.37]\n",
      "Epoch 419: 100%|█████████████████████████████████████████████████| 5/5 [00:00<00:00, 81.12it/s, accuracy=26, loss=1.37]\n",
      "Epoch 420: 100%|█████████████████████████████████████████████████| 5/5 [00:00<00:00, 86.26it/s, accuracy=31, loss=1.37]\n",
      "Epoch 421: 100%|█████████████████████████████████████████████████| 5/5 [00:00<00:00, 80.69it/s, accuracy=31, loss=1.37]\n",
      "Epoch 422: 100%|█████████████████████████████████████████████████| 5/5 [00:00<00:00, 77.33it/s, accuracy=31, loss=1.37]\n",
      "Epoch 423: 100%|█████████████████████████████████████████████████| 5/5 [00:00<00:00, 77.51it/s, accuracy=31, loss=1.37]\n",
      "Epoch 424: 100%|█████████████████████████████████████████████████| 5/5 [00:00<00:00, 83.04it/s, accuracy=31, loss=1.37]\n",
      "Epoch 425: 100%|█████████████████████████████████████████████████| 5/5 [00:00<00:00, 79.63it/s, accuracy=31, loss=1.37]\n",
      "Epoch 426: 100%|█████████████████████████████████████████████████| 5/5 [00:00<00:00, 78.03it/s, accuracy=31, loss=1.37]\n",
      "Epoch 427: 100%|█████████████████████████████████████████████████| 5/5 [00:00<00:00, 65.39it/s, accuracy=22, loss=1.37]\n",
      "Epoch 428: 100%|█████████████████████████████████████████████████| 5/5 [00:00<00:00, 84.04it/s, accuracy=31, loss=1.37]\n",
      "Epoch 429: 100%|█████████████████████████████████████████████████| 5/5 [00:00<00:00, 75.58it/s, accuracy=31, loss=1.37]\n",
      "Epoch 430: 100%|█████████████████████████████████████████████████| 5/5 [00:00<00:00, 82.18it/s, accuracy=31, loss=1.37]\n",
      "Epoch 431: 100%|█████████████████████████████████████████████████| 5/5 [00:00<00:00, 91.39it/s, accuracy=31, loss=1.37]\n",
      "Epoch 432: 100%|█████████████████████████████████████████████████| 5/5 [00:00<00:00, 77.36it/s, accuracy=31, loss=1.36]\n",
      "Epoch 433: 100%|█████████████████████████████████████████████████| 5/5 [00:00<00:00, 87.36it/s, accuracy=31, loss=1.37]\n",
      "Epoch 434: 100%|█████████████████████████████████████████████████| 5/5 [00:00<00:00, 79.36it/s, accuracy=31, loss=1.37]\n",
      "Epoch 435: 100%|█████████████████████████████████████████████████| 5/5 [00:00<00:00, 65.78it/s, accuracy=31, loss=1.37]\n",
      "Epoch 436: 100%|█████████████████████████████████████████████████| 5/5 [00:00<00:00, 81.41it/s, accuracy=31, loss=1.37]\n",
      "Epoch 437: 100%|█████████████████████████████████████████████████| 5/5 [00:00<00:00, 75.71it/s, accuracy=31, loss=1.37]\n",
      "Epoch 438: 100%|█████████████████████████████████████████████████| 5/5 [00:00<00:00, 75.95it/s, accuracy=31, loss=1.37]\n",
      "Epoch 439: 100%|█████████████████████████████████████████████████| 5/5 [00:00<00:00, 70.52it/s, accuracy=31, loss=1.37]\n",
      "Epoch 440: 100%|█████████████████████████████████████████████████| 5/5 [00:00<00:00, 74.80it/s, accuracy=27, loss=1.37]\n",
      "Epoch 441: 100%|█████████████████████████████████████████████████| 5/5 [00:00<00:00, 79.32it/s, accuracy=26, loss=1.37]\n",
      "Epoch 442: 100%|█████████████████████████████████████████████████| 5/5 [00:00<00:00, 90.62it/s, accuracy=30, loss=2.01]\n",
      "Epoch 443: 100%|█████████████████████████████████████████████████| 5/5 [00:00<00:00, 68.26it/s, accuracy=31, loss=1.37]\n",
      "Epoch 444: 100%|█████████████████████████████████████████████████| 5/5 [00:00<00:00, 94.66it/s, accuracy=31, loss=1.37]\n",
      "Epoch 445: 100%|█████████████████████████████████████████████████| 5/5 [00:00<00:00, 88.20it/s, accuracy=28, loss=1.37]\n",
      "Epoch 446: 100%|█████████████████████████████████████████████████| 5/5 [00:00<00:00, 77.60it/s, accuracy=31, loss=1.37]\n",
      "Epoch 447: 100%|█████████████████████████████████████████████████| 5/5 [00:00<00:00, 86.31it/s, accuracy=31, loss=1.37]\n",
      "Epoch 448: 100%|█████████████████████████████████████████████████| 5/5 [00:00<00:00, 77.93it/s, accuracy=31, loss=1.37]\n",
      "Epoch 449: 100%|█████████████████████████████████████████████████| 5/5 [00:00<00:00, 84.19it/s, accuracy=31, loss=1.37]\n",
      "Epoch 450: 100%|█████████████████████████████████████████████████| 5/5 [00:00<00:00, 90.11it/s, accuracy=26, loss=1.37]\n",
      "Epoch 451: 100%|█████████████████████████████████████████████████| 5/5 [00:00<00:00, 84.11it/s, accuracy=30, loss=1.37]\n",
      "Epoch 452: 100%|█████████████████████████████████████████████████| 5/5 [00:00<00:00, 77.64it/s, accuracy=27, loss=1.37]\n",
      "Epoch 453: 100%|█████████████████████████████████████████████████| 5/5 [00:00<00:00, 79.20it/s, accuracy=31, loss=1.37]\n",
      "Epoch 454: 100%|█████████████████████████████████████████████████| 5/5 [00:00<00:00, 93.32it/s, accuracy=31, loss=1.37]\n",
      "Epoch 455: 100%|█████████████████████████████████████████████████| 5/5 [00:00<00:00, 81.47it/s, accuracy=31, loss=1.37]\n",
      "Epoch 456: 100%|█████████████████████████████████████████████████| 5/5 [00:00<00:00, 85.53it/s, accuracy=31, loss=1.37]\n",
      "Epoch 457: 100%|█████████████████████████████████████████████████| 5/5 [00:00<00:00, 64.22it/s, accuracy=31, loss=1.37]\n",
      "Epoch 458: 100%|█████████████████████████████████████████████████| 5/5 [00:00<00:00, 90.72it/s, accuracy=31, loss=1.37]\n",
      "Epoch 459: 100%|█████████████████████████████████████████████████| 5/5 [00:00<00:00, 94.80it/s, accuracy=31, loss=1.37]\n",
      "Epoch 460: 100%|█████████████████████████████████████████████████| 5/5 [00:00<00:00, 82.77it/s, accuracy=31, loss=1.37]\n",
      "Epoch 461: 100%|█████████████████████████████████████████████████| 5/5 [00:00<00:00, 77.08it/s, accuracy=31, loss=1.36]\n",
      "Epoch 462: 100%|█████████████████████████████████████████████████| 5/5 [00:00<00:00, 74.28it/s, accuracy=31, loss=1.37]\n",
      "Epoch 463: 100%|█████████████████████████████████████████████████| 5/5 [00:00<00:00, 72.49it/s, accuracy=31, loss=1.37]\n",
      "Epoch 464: 100%|█████████████████████████████████████████████████| 5/5 [00:00<00:00, 78.67it/s, accuracy=31, loss=1.37]\n",
      "Epoch 465: 100%|█████████████████████████████████████████████████| 5/5 [00:00<00:00, 71.42it/s, accuracy=31, loss=1.37]\n",
      "Epoch 466: 100%|█████████████████████████████████████████████████| 5/5 [00:00<00:00, 63.64it/s, accuracy=31, loss=1.37]\n",
      "Epoch 467: 100%|█████████████████████████████████████████████████| 5/5 [00:00<00:00, 77.87it/s, accuracy=22, loss=1.37]\n",
      "Epoch 468: 100%|█████████████████████████████████████████████████| 5/5 [00:00<00:00, 73.85it/s, accuracy=31, loss=1.37]\n",
      "Epoch 469: 100%|█████████████████████████████████████████████████| 5/5 [00:00<00:00, 75.33it/s, accuracy=31, loss=1.37]\n",
      "Epoch 470: 100%|█████████████████████████████████████████████████| 5/5 [00:00<00:00, 81.44it/s, accuracy=31, loss=1.37]\n",
      "Epoch 471: 100%|█████████████████████████████████████████████████| 5/5 [00:00<00:00, 73.52it/s, accuracy=31, loss=1.37]\n",
      "Epoch 472: 100%|█████████████████████████████████████████████████| 5/5 [00:00<00:00, 87.09it/s, accuracy=25, loss=1.37]\n",
      "Epoch 473: 100%|█████████████████████████████████████████████████| 5/5 [00:00<00:00, 74.57it/s, accuracy=27, loss=1.37]\n",
      "Epoch 474: 100%|█████████████████████████████████████████████████| 5/5 [00:00<00:00, 78.52it/s, accuracy=31, loss=1.37]\n",
      "Epoch 475: 100%|█████████████████████████████████████████████████| 5/5 [00:00<00:00, 76.85it/s, accuracy=31, loss=1.37]\n",
      "Epoch 476: 100%|█████████████████████████████████████████████████| 5/5 [00:00<00:00, 55.63it/s, accuracy=31, loss=1.37]\n",
      "Epoch 477: 100%|█████████████████████████████████████████████████| 5/5 [00:00<00:00, 69.83it/s, accuracy=31, loss=1.37]\n",
      "Epoch 478: 100%|█████████████████████████████████████████████████| 5/5 [00:00<00:00, 82.94it/s, accuracy=31, loss=1.37]\n",
      "Epoch 479: 100%|█████████████████████████████████████████████████| 5/5 [00:00<00:00, 76.19it/s, accuracy=31, loss=1.37]\n",
      "Epoch 480: 100%|█████████████████████████████████████████████████| 5/5 [00:00<00:00, 76.60it/s, accuracy=31, loss=1.37]\n",
      "Epoch 481: 100%|█████████████████████████████████████████████████| 5/5 [00:00<00:00, 76.83it/s, accuracy=23, loss=1.37]\n",
      "Epoch 482: 100%|█████████████████████████████████████████████████| 5/5 [00:00<00:00, 78.00it/s, accuracy=31, loss=1.37]\n",
      "Epoch 483: 100%|█████████████████████████████████████████████████| 5/5 [00:00<00:00, 77.41it/s, accuracy=31, loss=1.37]\n",
      "Epoch 484: 100%|█████████████████████████████████████████████████| 5/5 [00:00<00:00, 84.11it/s, accuracy=31, loss=1.37]\n",
      "Epoch 485: 100%|█████████████████████████████████████████████████| 5/5 [00:00<00:00, 75.38it/s, accuracy=31, loss=1.37]\n",
      "Epoch 486: 100%|█████████████████████████████████████████████████| 5/5 [00:00<00:00, 87.29it/s, accuracy=31, loss=1.37]\n",
      "Epoch 487: 100%|█████████████████████████████████████████████████| 5/5 [00:00<00:00, 68.05it/s, accuracy=31, loss=1.37]\n",
      "Epoch 488: 100%|█████████████████████████████████████████████████| 5/5 [00:00<00:00, 74.31it/s, accuracy=24, loss=1.37]\n",
      "Epoch 489: 100%|█████████████████████████████████████████████████| 5/5 [00:00<00:00, 72.45it/s, accuracy=25, loss=1.37]\n",
      "Epoch 490: 100%|█████████████████████████████████████████████████| 5/5 [00:00<00:00, 81.59it/s, accuracy=22, loss=1.37]\n",
      "Epoch 491: 100%|█████████████████████████████████████████████████| 5/5 [00:00<00:00, 87.08it/s, accuracy=31, loss=1.37]\n",
      "Epoch 492: 100%|█████████████████████████████████████████████████| 5/5 [00:00<00:00, 82.80it/s, accuracy=31, loss=1.37]\n",
      "Epoch 493: 100%|█████████████████████████████████████████████████| 5/5 [00:00<00:00, 82.28it/s, accuracy=31, loss=1.37]\n",
      "Epoch 494: 100%|█████████████████████████████████████████████████| 5/5 [00:00<00:00, 79.02it/s, accuracy=31, loss=1.37]\n",
      "Epoch 495: 100%|█████████████████████████████████████████████████| 5/5 [00:00<00:00, 68.48it/s, accuracy=31, loss=1.37]\n",
      "Epoch 496: 100%|█████████████████████████████████████████████████| 5/5 [00:00<00:00, 73.01it/s, accuracy=31, loss=1.37]\n",
      "Epoch 497: 100%|█████████████████████████████████████████████████| 5/5 [00:00<00:00, 86.05it/s, accuracy=31, loss=1.37]\n",
      "Epoch 498: 100%|█████████████████████████████████████████████████| 5/5 [00:00<00:00, 78.85it/s, accuracy=31, loss=1.37]\n",
      "Epoch 499: 100%|█████████████████████████████████████████████████| 5/5 [00:00<00:00, 87.94it/s, accuracy=31, loss=1.37]\n"
     ]
    }
   ],
   "source": [
    "#selecting 5 batch to check if model overfit? in this way check capasity of model \n",
    "#random_split(num_sample_required , num_rest_of_data)\n",
    "mini_train_dataset , _ = random_split(train_data , (100, len(train_data)-100))\n",
    "mini_loader = DataLoader(mini_train_dataset , 20, True)\n",
    "for epoch in range (500):\n",
    "    model , _ , _ = train_one_epoch(model , mini_loader , loss_fn , optimizer , epoch)"
   ]
  },
  {
   "cell_type": "markdown",
   "id": "a5f38a05-90bb-49dd-a317-3af71a0b4800",
   "metadata": {},
   "source": [
    "📌 select best lr"
   ]
  },
  {
   "cell_type": "code",
   "execution_count": 37,
   "id": "14a1d055-38e7-4e36-b629-026bd0aab651",
   "metadata": {},
   "outputs": [
    {
     "name": "stdout",
     "output_type": "stream",
     "text": [
      "lr = 0.1\n"
     ]
    },
    {
     "name": "stderr",
     "output_type": "stream",
     "text": [
      "Epoch 0: 100%|███████████████████████████████████████████████████| 5/5 [00:00<00:00, 65.35it/s, accuracy=25, loss=1.39]\n",
      "Epoch 1: 100%|███████████████████████████████████████████████████| 5/5 [00:00<00:00, 96.53it/s, accuracy=38, loss=1.31]\n",
      "Epoch 2: 100%|███████████████████████████████████████████████████| 5/5 [00:00<00:00, 61.00it/s, accuracy=54, loss=1.16]\n",
      "Epoch 3: 100%|█████████████████████████████████████████████████| 5/5 [00:00<00:00, 109.19it/s, accuracy=64, loss=0.922]\n",
      "Epoch 4: 100%|██████████████████████████████████████████████████| 5/5 [00:00<00:00, 94.15it/s, accuracy=75, loss=0.653]\n"
     ]
    },
    {
     "name": "stdout",
     "output_type": "stream",
     "text": [
      "lr = 0.01\n"
     ]
    },
    {
     "name": "stderr",
     "output_type": "stream",
     "text": [
      "Epoch 0: 100%|███████████████████████████████████████████████████| 5/5 [00:00<00:00, 95.86it/s, accuracy=30, loss=1.36]\n",
      "Epoch 1: 100%|████████████████████████████████████████████████████| 5/5 [00:00<00:00, 94.48it/s, accuracy=48, loss=1.3]\n",
      "Epoch 2: 100%|██████████████████████████████████████████████████| 5/5 [00:00<00:00, 108.96it/s, accuracy=52, loss=1.13]\n",
      "Epoch 3: 100%|█████████████████████████████████████████████████| 5/5 [00:00<00:00, 101.74it/s, accuracy=64, loss=0.915]\n",
      "Epoch 4: 100%|██████████████████████████████████████████████████| 5/5 [00:00<00:00, 96.28it/s, accuracy=72, loss=0.675]\n"
     ]
    },
    {
     "name": "stdout",
     "output_type": "stream",
     "text": [
      "lr = 0.001\n"
     ]
    },
    {
     "name": "stderr",
     "output_type": "stream",
     "text": [
      "Epoch 0: 100%|███████████████████████████████████████████████████| 5/5 [00:00<00:00, 96.18it/s, accuracy=31, loss=1.39]\n",
      "Epoch 1: 100%|███████████████████████████████████████████████████| 5/5 [00:00<00:00, 92.48it/s, accuracy=43, loss=1.31]\n",
      "Epoch 2: 100%|██████████████████████████████████████████████████| 5/5 [00:00<00:00, 100.85it/s, accuracy=48, loss=1.21]\n",
      "Epoch 3: 100%|██████████████████████████████████████████████████| 5/5 [00:00<00:00, 104.89it/s, accuracy=58, loss=1.02]\n",
      "Epoch 4: 100%|█████████████████████████████████████████████████| 5/5 [00:00<00:00, 102.68it/s, accuracy=64, loss=0.803]\n"
     ]
    },
    {
     "name": "stdout",
     "output_type": "stream",
     "text": [
      "lr = 0.0001\n"
     ]
    },
    {
     "name": "stderr",
     "output_type": "stream",
     "text": [
      "Epoch 0: 100%|███████████████████████████████████████████████████| 5/5 [00:00<00:00, 94.34it/s, accuracy=28, loss=1.38]\n",
      "Epoch 1: 100%|██████████████████████████████████████████████████| 5/5 [00:00<00:00, 108.96it/s, accuracy=41, loss=1.29]\n",
      "Epoch 2: 100%|███████████████████████████████████████████████████| 5/5 [00:00<00:00, 104.45it/s, accuracy=50, loss=1.2]\n",
      "Epoch 3: 100%|█████████████████████████████████████████████████| 5/5 [00:00<00:00, 105.14it/s, accuracy=67, loss=0.858]\n",
      "Epoch 4: 100%|███████████████████████████████████████████████████| 5/5 [00:00<00:00, 94.56it/s, accuracy=73, loss=0.69]\n"
     ]
    }
   ],
   "source": [
    "for lr in [0.1,0.01,0.001,0.0001]:\n",
    "    model = nn.Sequential(\n",
    "    nn.Linear(num_feature , h1),\n",
    "    nn.ReLU(),\n",
    "    nn.Dropout(0.3),\n",
    "    nn.Linear(h1 , h2),\n",
    "    nn.ReLU(),\n",
    "    nn.Dropout(0.2),\n",
    "    nn.Linear(h2 , num_class)\n",
    "    )\n",
    "    optimizer = optim.SGD( model.parameters() ,lr = 0.1 , momentum = 0.9 ,\n",
    "                          nesterov = True , weight_decay = 1e-4)\n",
    "    print(f'lr = {lr}')\n",
    "    for epoch in range (5):\n",
    "        model , _ , _ = train_one_epoch(model , mini_loader , loss_fn , optimizer , epoch)\n",
    "        \n",
    "#loss drops bether in which lr \n",
    "#after selecting lr we make it specific and arange it with weigth_decay in a grid search "
   ]
  },
  {
   "cell_type": "markdown",
   "id": "d5402e66-a81e-43a5-bc46-2df05310fc61",
   "metadata": {},
   "source": [
    "📌 make small grid of lr and weight_decay = l2 regularization"
   ]
  },
  {
   "cell_type": "code",
   "execution_count": 39,
   "id": "e4b10b65-272f-473d-95d8-c2aa8653417c",
   "metadata": {},
   "outputs": [
    {
     "name": "stdout",
     "output_type": "stream",
     "text": [
      "lr = 0.1 , WD=0.0\n"
     ]
    },
    {
     "name": "stderr",
     "output_type": "stream",
     "text": [
      "Epoch 0: 100%|██████████████████████████████████████████████████| 5/5 [00:00<00:00, 105.40it/s, accuracy=32, loss=1.35]\n",
      "Epoch 1: 100%|███████████████████████████████████████████████████| 5/5 [00:00<00:00, 69.57it/s, accuracy=45, loss=1.29]\n",
      "Epoch 2: 100%|███████████████████████████████████████████████████| 5/5 [00:00<00:00, 85.70it/s, accuracy=55, loss=1.13]\n",
      "Epoch 3: 100%|██████████████████████████████████████████████████| 5/5 [00:00<00:00, 73.58it/s, accuracy=74, loss=0.793]\n",
      "Epoch 4: 100%|██████████████████████████████████████████████████| 5/5 [00:00<00:00, 89.60it/s, accuracy=73, loss=0.647]\n"
     ]
    },
    {
     "name": "stdout",
     "output_type": "stream",
     "text": [
      "lr = 0.1 , WD=0.0001\n"
     ]
    },
    {
     "name": "stderr",
     "output_type": "stream",
     "text": [
      "Epoch 0: 100%|███████████████████████████████████████████████████| 5/5 [00:00<00:00, 88.93it/s, accuracy=27, loss=1.39]\n",
      "Epoch 1: 100%|██████████████████████████████████████████████████| 5/5 [00:00<00:00, 116.49it/s, accuracy=31, loss=1.33]\n",
      "Epoch 2: 100%|███████████████████████████████████████████████████| 5/5 [00:00<00:00, 75.70it/s, accuracy=36, loss=1.27]\n",
      "Epoch 3: 100%|████████████████████████████████████████████████████| 5/5 [00:00<00:00, 89.93it/s, accuracy=51, loss=1.1]\n",
      "Epoch 4: 100%|██████████████████████████████████████████████████| 5/5 [00:00<00:00, 92.43it/s, accuracy=62, loss=0.832]\n"
     ]
    },
    {
     "name": "stdout",
     "output_type": "stream",
     "text": [
      "lr = 0.1 , WD=1e-05\n"
     ]
    },
    {
     "name": "stderr",
     "output_type": "stream",
     "text": [
      "Epoch 0: 100%|███████████████████████████████████████████████████| 5/5 [00:00<00:00, 80.83it/s, accuracy=29, loss=1.38]\n",
      "Epoch 1: 100%|███████████████████████████████████████████████████| 5/5 [00:00<00:00, 96.18it/s, accuracy=35, loss=1.33]\n",
      "Epoch 2: 100%|███████████████████████████████████████████████████| 5/5 [00:00<00:00, 89.60it/s, accuracy=43, loss=1.21]\n",
      "Epoch 3: 100%|███████████████████████████████████████████████████| 5/5 [00:00<00:00, 84.67it/s, accuracy=63, loss=0.95]\n",
      "Epoch 4: 100%|██████████████████████████████████████████████████| 5/5 [00:00<00:00, 85.50it/s, accuracy=75, loss=0.676]\n"
     ]
    },
    {
     "name": "stdout",
     "output_type": "stream",
     "text": [
      "lr = 0.1 , WD=1e-06\n"
     ]
    },
    {
     "name": "stderr",
     "output_type": "stream",
     "text": [
      "Epoch 0: 100%|████████████████████████████████████████████████████| 5/5 [00:00<00:00, 78.01it/s, accuracy=31, loss=1.4]\n",
      "Epoch 1: 100%|███████████████████████████████████████████████████| 5/5 [00:00<00:00, 75.30it/s, accuracy=46, loss=1.26]\n",
      "Epoch 2: 100%|███████████████████████████████████████████████████| 5/5 [00:00<00:00, 89.15it/s, accuracy=56, loss=1.07]\n",
      "Epoch 3: 100%|█████████████████████████████████████████████████| 5/5 [00:00<00:00, 120.53it/s, accuracy=70, loss=0.725]\n",
      "Epoch 4: 100%|██████████████████████████████████████████████████| 5/5 [00:00<00:00, 80.09it/s, accuracy=82, loss=0.553]\n"
     ]
    },
    {
     "name": "stdout",
     "output_type": "stream",
     "text": [
      "lr = 0.15 , WD=0.0\n"
     ]
    },
    {
     "name": "stderr",
     "output_type": "stream",
     "text": [
      "Epoch 0: 100%|███████████████████████████████████████████████████| 5/5 [00:00<00:00, 91.72it/s, accuracy=27, loss=1.38]\n",
      "Epoch 1: 100%|███████████████████████████████████████████████████| 5/5 [00:00<00:00, 99.40it/s, accuracy=50, loss=1.21]\n",
      "Epoch 2: 100%|██████████████████████████████████████████████████| 5/5 [00:00<00:00, 92.94it/s, accuracy=59, loss=0.931]\n",
      "Epoch 3: 100%|█████████████████████████████████████████████████| 5/5 [00:00<00:00, 124.88it/s, accuracy=77, loss=0.528]\n",
      "Epoch 4: 100%|██████████████████████████████████████████████████| 5/5 [00:00<00:00, 65.18it/s, accuracy=79, loss=0.497]\n"
     ]
    },
    {
     "name": "stdout",
     "output_type": "stream",
     "text": [
      "lr = 0.15 , WD=0.0001\n"
     ]
    },
    {
     "name": "stderr",
     "output_type": "stream",
     "text": [
      "Epoch 0: 100%|████████████████████████████████████████████████████| 5/5 [00:00<00:00, 92.42it/s, accuracy=24, loss=1.4]\n",
      "Epoch 1: 100%|██████████████████████████████████████████████████| 5/5 [00:00<00:00, 105.18it/s, accuracy=42, loss=1.27]\n",
      "Epoch 2: 100%|███████████████████████████████████████████████████| 5/5 [00:00<00:00, 72.27it/s, accuracy=62, loss=0.99]\n",
      "Epoch 3: 100%|█████████████████████████████████████████████████| 5/5 [00:00<00:00, 122.14it/s, accuracy=67, loss=0.687]\n",
      "Epoch 4: 100%|██████████████████████████████████████████████████| 5/5 [00:00<00:00, 93.54it/s, accuracy=66, loss=0.807]\n"
     ]
    },
    {
     "name": "stdout",
     "output_type": "stream",
     "text": [
      "lr = 0.15 , WD=1e-05\n"
     ]
    },
    {
     "name": "stderr",
     "output_type": "stream",
     "text": [
      "Epoch 0: 100%|████████████████████████████████████████████████████| 5/5 [00:00<00:00, 99.69it/s, accuracy=30, loss=1.4]\n",
      "Epoch 1: 100%|██████████████████████████████████████████████████| 5/5 [00:00<00:00, 125.23it/s, accuracy=49, loss=1.24]\n",
      "Epoch 2: 100%|███████████████████████████████████████████████████| 5/5 [00:00<00:00, 82.87it/s, accuracy=57, loss=1.05]\n",
      "Epoch 3: 100%|██████████████████████████████████████████████████| 5/5 [00:00<00:00, 122.37it/s, accuracy=64, loss=0.78]\n",
      "Epoch 4: 100%|█████████████████████████████████████████████████| 5/5 [00:00<00:00, 100.34it/s, accuracy=81, loss=0.478]\n"
     ]
    },
    {
     "name": "stdout",
     "output_type": "stream",
     "text": [
      "lr = 0.15 , WD=1e-06\n"
     ]
    },
    {
     "name": "stderr",
     "output_type": "stream",
     "text": [
      "Epoch 0: 100%|███████████████████████████████████████████████████| 5/5 [00:00<00:00, 98.42it/s, accuracy=38, loss=1.36]\n",
      "Epoch 1: 100%|███████████████████████████████████████████████████| 5/5 [00:00<00:00, 94.57it/s, accuracy=45, loss=1.24]\n",
      "Epoch 2: 100%|██████████████████████████████████████████████████| 5/5 [00:00<00:00, 99.69it/s, accuracy=58, loss=0.976]\n",
      "Epoch 3: 100%|██████████████████████████████████████████████████| 5/5 [00:00<00:00, 92.37it/s, accuracy=73, loss=0.634]\n",
      "Epoch 4: 100%|██████████████████████████████████████████████████| 5/5 [00:00<00:00, 94.40it/s, accuracy=86, loss=0.413]\n"
     ]
    },
    {
     "name": "stdout",
     "output_type": "stream",
     "text": [
      "lr = 0.2 , WD=0.0\n"
     ]
    },
    {
     "name": "stderr",
     "output_type": "stream",
     "text": [
      "Epoch 0: 100%|███████████████████████████████████████████████████| 5/5 [00:00<00:00, 86.51it/s, accuracy=26, loss=1.37]\n",
      "Epoch 1: 100%|██████████████████████████████████████████████████| 5/5 [00:00<00:00, 118.64it/s, accuracy=47, loss=1.21]\n",
      "Epoch 2: 100%|██████████████████████████████████████████████████| 5/5 [00:00<00:00, 86.87it/s, accuracy=57, loss=0.839]\n",
      "Epoch 3: 100%|███████████████████████████████████████████████████| 5/5 [00:00<00:00, 97.52it/s, accuracy=71, loss=0.62]\n",
      "Epoch 4: 100%|█████████████████████████████████████████████████| 5/5 [00:00<00:00, 118.39it/s, accuracy=85, loss=0.363]\n"
     ]
    },
    {
     "name": "stdout",
     "output_type": "stream",
     "text": [
      "lr = 0.2 , WD=0.0001\n"
     ]
    },
    {
     "name": "stderr",
     "output_type": "stream",
     "text": [
      "Epoch 0: 100%|███████████████████████████████████████████████████| 5/5 [00:00<00:00, 89.72it/s, accuracy=25, loss=1.38]\n",
      "Epoch 1: 100%|██████████████████████████████████████████████████| 5/5 [00:00<00:00, 117.22it/s, accuracy=50, loss=1.21]\n",
      "Epoch 2: 100%|███████████████████████████████████████████████████| 5/5 [00:00<00:00, 73.49it/s, accuracy=60, loss=1.02]\n",
      "Epoch 3: 100%|█████████████████████████████████████████████████| 5/5 [00:00<00:00, 108.03it/s, accuracy=74, loss=0.664]\n",
      "Epoch 4: 100%|█████████████████████████████████████████████████| 5/5 [00:00<00:00, 116.08it/s, accuracy=77, loss=0.555]\n"
     ]
    },
    {
     "name": "stdout",
     "output_type": "stream",
     "text": [
      "lr = 0.2 , WD=1e-05\n"
     ]
    },
    {
     "name": "stderr",
     "output_type": "stream",
     "text": [
      "Epoch 0: 100%|██████████████████████████████████████████████████| 5/5 [00:00<00:00, 115.82it/s, accuracy=21, loss=1.42]\n",
      "Epoch 1: 100%|██████████████████████████████████████████████████| 5/5 [00:00<00:00, 124.17it/s, accuracy=46, loss=1.21]\n",
      "Epoch 2: 100%|█████████████████████████████████████████████████| 5/5 [00:00<00:00, 122.36it/s, accuracy=66, loss=0.837]\n",
      "Epoch 3: 100%|█████████████████████████████████████████████████| 5/5 [00:00<00:00, 102.98it/s, accuracy=72, loss=0.646]\n",
      "Epoch 4: 100%|█████████████████████████████████████████████████| 5/5 [00:00<00:00, 123.30it/s, accuracy=74, loss=0.801]\n"
     ]
    },
    {
     "name": "stdout",
     "output_type": "stream",
     "text": [
      "lr = 0.2 , WD=1e-06\n"
     ]
    },
    {
     "name": "stderr",
     "output_type": "stream",
     "text": [
      "Epoch 0: 100%|██████████████████████████████████████████████████| 5/5 [00:00<00:00, 121.45it/s, accuracy=32, loss=1.41]\n",
      "Epoch 1: 100%|██████████████████████████████████████████████████| 5/5 [00:00<00:00, 119.63it/s, accuracy=46, loss=1.25]\n",
      "Epoch 2: 100%|██████████████████████████████████████████████████| 5/5 [00:00<00:00, 110.18it/s, accuracy=57, loss=1.01]\n",
      "Epoch 3: 100%|█████████████████████████████████████████████████| 5/5 [00:00<00:00, 126.75it/s, accuracy=84, loss=0.581]\n",
      "Epoch 4: 100%|██████████████████████████████████████████████████| 5/5 [00:00<00:00, 113.44it/s, accuracy=77, loss=0.63]\n"
     ]
    },
    {
     "name": "stdout",
     "output_type": "stream",
     "text": [
      "lr = 0.25 , WD=0.0\n"
     ]
    },
    {
     "name": "stderr",
     "output_type": "stream",
     "text": [
      "Epoch 0: 100%|███████████████████████████████████████████████████| 5/5 [00:00<00:00, 90.26it/s, accuracy=32, loss=1.36]\n",
      "Epoch 1: 100%|██████████████████████████████████████████████████| 5/5 [00:00<00:00, 116.66it/s, accuracy=52, loss=1.14]\n",
      "Epoch 2: 100%|█████████████████████████████████████████████████| 5/5 [00:00<00:00, 134.09it/s, accuracy=65, loss=0.737]\n",
      "Epoch 3: 100%|█████████████████████████████████████████████████| 5/5 [00:00<00:00, 106.62it/s, accuracy=79, loss=0.516]\n",
      "Epoch 4: 100%|█████████████████████████████████████████████████| 5/5 [00:00<00:00, 127.39it/s, accuracy=76, loss=0.871]\n"
     ]
    },
    {
     "name": "stdout",
     "output_type": "stream",
     "text": [
      "lr = 0.25 , WD=0.0001\n"
     ]
    },
    {
     "name": "stderr",
     "output_type": "stream",
     "text": [
      "Epoch 0: 100%|██████████████████████████████████████████████████| 5/5 [00:00<00:00, 107.49it/s, accuracy=32, loss=1.37]\n",
      "Epoch 1: 100%|██████████████████████████████████████████████████| 5/5 [00:00<00:00, 139.34it/s, accuracy=45, loss=1.23]\n",
      "Epoch 2: 100%|█████████████████████████████████████████████████| 5/5 [00:00<00:00, 114.03it/s, accuracy=73, loss=0.716]\n",
      "Epoch 3: 100%|█████████████████████████████████████████████████| 5/5 [00:00<00:00, 108.59it/s, accuracy=76, loss=0.577]\n",
      "Epoch 4: 100%|███████████████████████████████████████████████████| 5/5 [00:00<00:00, 124.10it/s, accuracy=66, loss=1.4]\n"
     ]
    },
    {
     "name": "stdout",
     "output_type": "stream",
     "text": [
      "lr = 0.25 , WD=1e-05\n"
     ]
    },
    {
     "name": "stderr",
     "output_type": "stream",
     "text": [
      "Epoch 0: 100%|██████████████████████████████████████████████████| 5/5 [00:00<00:00, 119.65it/s, accuracy=25, loss=1.36]\n",
      "Epoch 1: 100%|██████████████████████████████████████████████████| 5/5 [00:00<00:00, 123.93it/s, accuracy=54, loss=1.15]\n",
      "Epoch 2: 100%|██████████████████████████████████████████████████| 5/5 [00:00<00:00, 98.40it/s, accuracy=64, loss=0.904]\n",
      "Epoch 3: 100%|█████████████████████████████████████████████████| 5/5 [00:00<00:00, 123.52it/s, accuracy=72, loss=0.706]\n",
      "Epoch 4: 100%|██████████████████████████████████████████████████| 5/5 [00:00<00:00, 117.28it/s, accuracy=65, loss=1.19]\n"
     ]
    },
    {
     "name": "stdout",
     "output_type": "stream",
     "text": [
      "lr = 0.25 , WD=1e-06\n"
     ]
    },
    {
     "name": "stderr",
     "output_type": "stream",
     "text": [
      "Epoch 0: 100%|██████████████████████████████████████████████████| 5/5 [00:00<00:00, 110.85it/s, accuracy=33, loss=1.36]\n",
      "Epoch 1: 100%|██████████████████████████████████████████████████| 5/5 [00:00<00:00, 114.33it/s, accuracy=52, loss=1.11]\n",
      "Epoch 2: 100%|██████████████████████████████████████████████████| 5/5 [00:00<00:00, 109.72it/s, accuracy=78, loss=0.58]\n",
      "Epoch 3: 100%|█████████████████████████████████████████████████| 5/5 [00:00<00:00, 120.38it/s, accuracy=72, loss=0.657]\n",
      "Epoch 4: 100%|█████████████████████████████████████████████████| 5/5 [00:00<00:00, 110.10it/s, accuracy=76, loss=0.578]\n"
     ]
    },
    {
     "name": "stdout",
     "output_type": "stream",
     "text": [
      "lr = 0.3 , WD=0.0\n"
     ]
    },
    {
     "name": "stderr",
     "output_type": "stream",
     "text": [
      "Epoch 0: 100%|██████████████████████████████████████████████████| 5/5 [00:00<00:00, 113.44it/s, accuracy=30, loss=1.41]\n",
      "Epoch 1: 100%|██████████████████████████████████████████████████| 5/5 [00:00<00:00, 132.18it/s, accuracy=60, loss=1.08]\n",
      "Epoch 2: 100%|█████████████████████████████████████████████████| 5/5 [00:00<00:00, 105.74it/s, accuracy=67, loss=0.789]\n",
      "Epoch 3: 100%|█████████████████████████████████████████████████| 5/5 [00:00<00:00, 108.36it/s, accuracy=72, loss=0.666]\n",
      "Epoch 4: 100%|█████████████████████████████████████████████████| 5/5 [00:00<00:00, 111.29it/s, accuracy=81, loss=0.632]\n"
     ]
    },
    {
     "name": "stdout",
     "output_type": "stream",
     "text": [
      "lr = 0.3 , WD=0.0001\n"
     ]
    },
    {
     "name": "stderr",
     "output_type": "stream",
     "text": [
      "Epoch 0: 100%|██████████████████████████████████████████████████| 5/5 [00:00<00:00, 106.82it/s, accuracy=32, loss=1.36]\n",
      "Epoch 1: 100%|██████████████████████████████████████████████████| 5/5 [00:00<00:00, 121.27it/s, accuracy=60, loss=1.05]\n",
      "Epoch 2: 100%|█████████████████████████████████████████████████| 5/5 [00:00<00:00, 106.26it/s, accuracy=73, loss=0.691]\n",
      "Epoch 3: 100%|█████████████████████████████████████████████████| 5/5 [00:00<00:00, 121.35it/s, accuracy=77, loss=0.561]\n",
      "Epoch 4: 100%|█████████████████████████████████████████████████| 5/5 [00:00<00:00, 124.15it/s, accuracy=70, loss=0.968]\n"
     ]
    },
    {
     "name": "stdout",
     "output_type": "stream",
     "text": [
      "lr = 0.3 , WD=1e-05\n"
     ]
    },
    {
     "name": "stderr",
     "output_type": "stream",
     "text": [
      "Epoch 0: 100%|██████████████████████████████████████████████████| 5/5 [00:00<00:00, 105.15it/s, accuracy=24, loss=1.39]\n",
      "Epoch 1: 100%|██████████████████████████████████████████████████| 5/5 [00:00<00:00, 130.04it/s, accuracy=54, loss=1.14]\n",
      "Epoch 2: 100%|█████████████████████████████████████████████████| 5/5 [00:00<00:00, 107.24it/s, accuracy=69, loss=0.796]\n",
      "Epoch 3: 100%|█████████████████████████████████████████████████████| 5/5 [00:00<00:00, 108.09it/s, accuracy=66, loss=1]\n",
      "Epoch 4: 100%|█████████████████████████████████████████████████| 5/5 [00:00<00:00, 115.34it/s, accuracy=69, loss=0.897]\n"
     ]
    },
    {
     "name": "stdout",
     "output_type": "stream",
     "text": [
      "lr = 0.3 , WD=1e-06\n"
     ]
    },
    {
     "name": "stderr",
     "output_type": "stream",
     "text": [
      "Epoch 0: 100%|██████████████████████████████████████████████████| 5/5 [00:00<00:00, 116.93it/s, accuracy=33, loss=1.38]\n",
      "Epoch 1: 100%|██████████████████████████████████████████████████| 5/5 [00:00<00:00, 127.64it/s, accuracy=54, loss=1.11]\n",
      "Epoch 2: 100%|█████████████████████████████████████████████████| 5/5 [00:00<00:00, 110.54it/s, accuracy=64, loss=0.815]\n",
      "Epoch 3: 100%|█████████████████████████████████████████████████| 5/5 [00:00<00:00, 113.01it/s, accuracy=77, loss=0.597]\n",
      "Epoch 4: 100%|██████████████████████████████████████████████████| 5/5 [00:00<00:00, 125.59it/s, accuracy=75, loss=1.01]\n"
     ]
    }
   ],
   "source": [
    "for lr in [0.1 , 0.15 , 0.2 , 0.25 , 0.3]:\n",
    "    for wd in [0. , 1e-4 , 1e-5 , 1e-6 ]:\n",
    "        model = nn.Sequential(\n",
    "        nn.Linear(num_feature , h1),\n",
    "        nn.ReLU(),\n",
    "        nn.Dropout(0.3),\n",
    "        nn.Linear(h1 , h2),\n",
    "        nn.ReLU(),\n",
    "        nn.Dropout(0.2),\n",
    "        nn.Linear(h2 , num_class)\n",
    "        )\n",
    "        optimizer = optim.SGD( model.parameters() ,lr = lr , momentum = 0.9 ,\n",
    "                              nesterov = True , weight_decay = wd)\n",
    "        print(f'lr = {lr} , WD={wd}')\n",
    "        for epoch in range (5):\n",
    "            model , _ , _ = train_one_epoch(model , mini_loader , loss_fn , optimizer , epoch)\n",
    "        \n",
    "\n",
    "#again asses loss rate \n",
    "#you can show it in prettytable\n",
    "# model.save....."
   ]
  },
  {
   "cell_type": "code",
   "execution_count": 113,
   "id": "abec7c43-1582-4eb8-b5e7-04cd143667cb",
   "metadata": {},
   "outputs": [
    {
     "name": "stderr",
     "output_type": "stream",
     "text": [
      "Epoch 0: 100%|███████████████████████████████████████████████| 14/14 [00:00<00:00, 94.52it/s, accuracy=31.1, loss=1.36]\n"
     ]
    },
    {
     "name": "stdout",
     "output_type": "stream",
     "text": [
      "valid_loss:  1.268, accuracy = 0.46666666865348816 \n",
      "\n"
     ]
    },
    {
     "name": "stderr",
     "output_type": "stream",
     "text": [
      "Epoch 1: 100%|█████████████████████████████████████████████| 14/14 [00:00<00:00, 120.46it/s, accuracy=56.4, loss=0.984]\n"
     ]
    },
    {
     "name": "stdout",
     "output_type": "stream",
     "text": [
      "valid_loss:  0.6041, accuracy = 0.8450000286102295 \n",
      "\n"
     ]
    },
    {
     "name": "stderr",
     "output_type": "stream",
     "text": [
      "Epoch 2: 100%|█████████████████████████████████████████████| 14/14 [00:00<00:00, 112.18it/s, accuracy=76.8, loss=0.545]\n"
     ]
    },
    {
     "name": "stdout",
     "output_type": "stream",
     "text": [
      "valid_loss:  0.3448, accuracy = 0.8566666841506958 \n",
      "\n"
     ]
    },
    {
     "name": "stderr",
     "output_type": "stream",
     "text": [
      "Epoch 3: 100%|█████████████████████████████████████████████| 14/14 [00:00<00:00, 118.53it/s, accuracy=81.5, loss=0.407]\n"
     ]
    },
    {
     "name": "stdout",
     "output_type": "stream",
     "text": [
      "valid_loss:  0.2505, accuracy = 0.9166666865348816 \n",
      "\n"
     ]
    },
    {
     "name": "stderr",
     "output_type": "stream",
     "text": [
      "Epoch 4: 100%|█████████████████████████████████████████████| 14/14 [00:00<00:00, 110.75it/s, accuracy=86.3, loss=0.326]\n"
     ]
    },
    {
     "name": "stdout",
     "output_type": "stream",
     "text": [
      "valid_loss:  0.244, accuracy = 0.9166666865348816 \n",
      "\n"
     ]
    },
    {
     "name": "stderr",
     "output_type": "stream",
     "text": [
      "Epoch 5: 100%|█████████████████████████████████████████████| 14/14 [00:00<00:00, 115.47it/s, accuracy=84.6, loss=0.349]\n"
     ]
    },
    {
     "name": "stdout",
     "output_type": "stream",
     "text": [
      "valid_loss:  0.3065, accuracy = 0.8600000143051147 \n",
      "\n"
     ]
    },
    {
     "name": "stderr",
     "output_type": "stream",
     "text": [
      "Epoch 6: 100%|█████████████████████████████████████████████| 14/14 [00:00<00:00, 113.99it/s, accuracy=88.3, loss=0.305]\n"
     ]
    },
    {
     "name": "stdout",
     "output_type": "stream",
     "text": [
      "valid_loss:  0.2172, accuracy = 0.9133333563804626 \n",
      "\n"
     ]
    },
    {
     "name": "stderr",
     "output_type": "stream",
     "text": [
      "Epoch 7: 100%|█████████████████████████████████████████████| 14/14 [00:00<00:00, 115.35it/s, accuracy=88.5, loss=0.298]\n"
     ]
    },
    {
     "name": "stdout",
     "output_type": "stream",
     "text": [
      "valid_loss:  0.2205, accuracy = 0.903333306312561 \n",
      "\n"
     ]
    },
    {
     "name": "stderr",
     "output_type": "stream",
     "text": [
      "Epoch 8: 100%|████████████████████████████████████████████████| 14/14 [00:00<00:00, 61.85it/s, accuracy=88, loss=0.289]\n"
     ]
    },
    {
     "name": "stdout",
     "output_type": "stream",
     "text": [
      "valid_loss:  0.2655, accuracy = 0.8816666603088379 \n",
      "\n"
     ]
    },
    {
     "name": "stderr",
     "output_type": "stream",
     "text": [
      "Epoch 9: 100%|█████████████████████████████████████████████| 14/14 [00:00<00:00, 110.01it/s, accuracy=88.7, loss=0.272]\n"
     ]
    },
    {
     "name": "stdout",
     "output_type": "stream",
     "text": [
      "valid_loss:  0.2282, accuracy = 0.8866666555404663 \n",
      "\n"
     ]
    },
    {
     "name": "stderr",
     "output_type": "stream",
     "text": [
      "Epoch 10: 100%|██████████████████████████████████████████████| 14/14 [00:00<00:00, 104.96it/s, accuracy=91, loss=0.238]\n"
     ]
    },
    {
     "name": "stdout",
     "output_type": "stream",
     "text": [
      "valid_loss:  0.2302, accuracy = 0.8983333110809326 \n",
      "\n"
     ]
    },
    {
     "name": "stderr",
     "output_type": "stream",
     "text": [
      "Epoch 11: 100%|████████████████████████████████████████████| 14/14 [00:00<00:00, 115.50it/s, accuracy=88.5, loss=0.287]\n"
     ]
    },
    {
     "name": "stdout",
     "output_type": "stream",
     "text": [
      "valid_loss:  0.2841, accuracy = 0.8816666603088379 \n",
      "\n"
     ]
    },
    {
     "name": "stderr",
     "output_type": "stream",
     "text": [
      "Epoch 12: 100%|████████████████████████████████████████████| 14/14 [00:00<00:00, 114.83it/s, accuracy=88.4, loss=0.293]\n"
     ]
    },
    {
     "name": "stdout",
     "output_type": "stream",
     "text": [
      "valid_loss:  0.2305, accuracy = 0.8899999856948853 \n",
      "\n"
     ]
    },
    {
     "name": "stderr",
     "output_type": "stream",
     "text": [
      "Epoch 13: 100%|██████████████████████████████████████████████| 14/14 [00:00<00:00, 118.96it/s, accuracy=89, loss=0.257]\n"
     ]
    },
    {
     "name": "stdout",
     "output_type": "stream",
     "text": [
      "valid_loss:  0.1849, accuracy = 0.9166666865348816 \n",
      "\n"
     ]
    },
    {
     "name": "stderr",
     "output_type": "stream",
     "text": [
      "Epoch 14: 100%|████████████████████████████████████████████| 14/14 [00:00<00:00, 114.89it/s, accuracy=91.2, loss=0.216]\n"
     ]
    },
    {
     "name": "stdout",
     "output_type": "stream",
     "text": [
      "valid_loss:  0.2059, accuracy = 0.9150000214576721 \n",
      "\n"
     ]
    },
    {
     "name": "stderr",
     "output_type": "stream",
     "text": [
      "Epoch 15: 100%|██████████████████████████████████████████████| 14/14 [00:00<00:00, 128.19it/s, accuracy=93, loss=0.201]\n"
     ]
    },
    {
     "name": "stdout",
     "output_type": "stream",
     "text": [
      "valid_loss:  0.2607, accuracy = 0.8833333253860474 \n",
      "\n"
     ]
    },
    {
     "name": "stderr",
     "output_type": "stream",
     "text": [
      "Epoch 16: 100%|████████████████████████████████████████████| 14/14 [00:00<00:00, 113.01it/s, accuracy=92.7, loss=0.186]\n"
     ]
    },
    {
     "name": "stdout",
     "output_type": "stream",
     "text": [
      "valid_loss:  0.2524, accuracy = 0.8966666460037231 \n",
      "\n"
     ]
    },
    {
     "name": "stderr",
     "output_type": "stream",
     "text": [
      "Epoch 17: 100%|████████████████████████████████████████████| 14/14 [00:00<00:00, 113.86it/s, accuracy=92.7, loss=0.183]\n"
     ]
    },
    {
     "name": "stdout",
     "output_type": "stream",
     "text": [
      "valid_loss:  0.2406, accuracy = 0.8916666507720947 \n",
      "\n"
     ]
    },
    {
     "name": "stderr",
     "output_type": "stream",
     "text": [
      "Epoch 18: 100%|████████████████████████████████████████████| 14/14 [00:00<00:00, 111.39it/s, accuracy=92.9, loss=0.195]\n"
     ]
    },
    {
     "name": "stdout",
     "output_type": "stream",
     "text": [
      "valid_loss:  0.1714, accuracy = 0.9283333420753479 \n",
      "\n"
     ]
    },
    {
     "name": "stderr",
     "output_type": "stream",
     "text": [
      "Epoch 19: 100%|████████████████████████████████████████████| 14/14 [00:00<00:00, 108.39it/s, accuracy=92.5, loss=0.172]\n"
     ]
    },
    {
     "name": "stdout",
     "output_type": "stream",
     "text": [
      "valid_loss:  0.2261, accuracy = 0.8849999904632568 \n",
      "\n"
     ]
    },
    {
     "name": "stderr",
     "output_type": "stream",
     "text": [
      "Epoch 20: 100%|████████████████████████████████████████████| 14/14 [00:00<00:00, 126.51it/s, accuracy=94.3, loss=0.152]\n"
     ]
    },
    {
     "name": "stdout",
     "output_type": "stream",
     "text": [
      "valid_loss:  0.1939, accuracy = 0.8999999761581421 \n",
      "\n"
     ]
    },
    {
     "name": "stderr",
     "output_type": "stream",
     "text": [
      "Epoch 21: 100%|█████████████████████████████████████████████| 14/14 [00:00<00:00, 119.43it/s, accuracy=93.7, loss=0.15]\n"
     ]
    },
    {
     "name": "stdout",
     "output_type": "stream",
     "text": [
      "valid_loss:  0.1885, accuracy = 0.9183333516120911 \n",
      "\n"
     ]
    },
    {
     "name": "stderr",
     "output_type": "stream",
     "text": [
      "Epoch 22: 100%|████████████████████████████████████████████| 14/14 [00:00<00:00, 123.93it/s, accuracy=93.5, loss=0.167]\n"
     ]
    },
    {
     "name": "stdout",
     "output_type": "stream",
     "text": [
      "valid_loss:  0.173, accuracy = 0.9283333420753479 \n",
      "\n"
     ]
    },
    {
     "name": "stderr",
     "output_type": "stream",
     "text": [
      "Epoch 23: 100%|████████████████████████████████████████████| 14/14 [00:00<00:00, 127.54it/s, accuracy=92.4, loss=0.193]\n"
     ]
    },
    {
     "name": "stdout",
     "output_type": "stream",
     "text": [
      "valid_loss:  0.2468, accuracy = 0.8849999904632568 \n",
      "\n"
     ]
    },
    {
     "name": "stderr",
     "output_type": "stream",
     "text": [
      "Epoch 24: 100%|████████████████████████████████████████████| 14/14 [00:00<00:00, 113.89it/s, accuracy=92.6, loss=0.187]\n"
     ]
    },
    {
     "name": "stdout",
     "output_type": "stream",
     "text": [
      "valid_loss:  0.254, accuracy = 0.8949999809265137 \n",
      "\n"
     ]
    },
    {
     "name": "stderr",
     "output_type": "stream",
     "text": [
      "Epoch 25: 100%|████████████████████████████████████████████| 14/14 [00:00<00:00, 116.44it/s, accuracy=93.7, loss=0.153]\n"
     ]
    },
    {
     "name": "stdout",
     "output_type": "stream",
     "text": [
      "valid_loss:  0.1891, accuracy = 0.9133333563804626 \n",
      "\n"
     ]
    },
    {
     "name": "stderr",
     "output_type": "stream",
     "text": [
      "Epoch 26: 100%|█████████████████████████████████████████████| 14/14 [00:00<00:00, 128.89it/s, accuracy=93.1, loss=0.17]\n"
     ]
    },
    {
     "name": "stdout",
     "output_type": "stream",
     "text": [
      "valid_loss:  0.1649, accuracy = 0.9333333373069763 \n",
      "\n"
     ]
    },
    {
     "name": "stderr",
     "output_type": "stream",
     "text": [
      "Epoch 27: 100%|████████████████████████████████████████████| 14/14 [00:00<00:00, 117.69it/s, accuracy=94.1, loss=0.147]\n"
     ]
    },
    {
     "name": "stdout",
     "output_type": "stream",
     "text": [
      "valid_loss:  0.2117, accuracy = 0.9049999713897705 \n",
      "\n"
     ]
    },
    {
     "name": "stderr",
     "output_type": "stream",
     "text": [
      "Epoch 28: 100%|████████████████████████████████████████████| 14/14 [00:00<00:00, 121.13it/s, accuracy=93.5, loss=0.168]\n"
     ]
    },
    {
     "name": "stdout",
     "output_type": "stream",
     "text": [
      "valid_loss:  0.2073, accuracy = 0.9049999713897705 \n",
      "\n"
     ]
    },
    {
     "name": "stderr",
     "output_type": "stream",
     "text": [
      "Epoch 29: 100%|████████████████████████████████████████████| 14/14 [00:00<00:00, 125.91it/s, accuracy=93.9, loss=0.154]\n"
     ]
    },
    {
     "name": "stdout",
     "output_type": "stream",
     "text": [
      "valid_loss:  0.2071, accuracy = 0.9133333563804626 \n",
      "\n"
     ]
    },
    {
     "name": "stderr",
     "output_type": "stream",
     "text": [
      "Epoch 30: 100%|████████████████████████████████████████████| 14/14 [00:00<00:00, 127.10it/s, accuracy=93.9, loss=0.144]\n"
     ]
    },
    {
     "name": "stdout",
     "output_type": "stream",
     "text": [
      "valid_loss:  0.2117, accuracy = 0.9116666913032532 \n",
      "\n"
     ]
    },
    {
     "name": "stderr",
     "output_type": "stream",
     "text": [
      "Epoch 31: 100%|████████████████████████████████████████████| 14/14 [00:00<00:00, 126.89it/s, accuracy=94.6, loss=0.139]\n"
     ]
    },
    {
     "name": "stdout",
     "output_type": "stream",
     "text": [
      "valid_loss:  0.1936, accuracy = 0.9166666865348816 \n",
      "\n"
     ]
    },
    {
     "name": "stderr",
     "output_type": "stream",
     "text": [
      "Epoch 32: 100%|████████████████████████████████████████████| 14/14 [00:00<00:00, 132.11it/s, accuracy=94.4, loss=0.143]\n"
     ]
    },
    {
     "name": "stdout",
     "output_type": "stream",
     "text": [
      "valid_loss:  0.2333, accuracy = 0.9016666412353516 \n",
      "\n"
     ]
    },
    {
     "name": "stderr",
     "output_type": "stream",
     "text": [
      "Epoch 33: 100%|████████████████████████████████████████████| 14/14 [00:00<00:00, 128.73it/s, accuracy=93.5, loss=0.163]\n"
     ]
    },
    {
     "name": "stdout",
     "output_type": "stream",
     "text": [
      "valid_loss:  0.2496, accuracy = 0.8983333110809326 \n",
      "\n"
     ]
    },
    {
     "name": "stderr",
     "output_type": "stream",
     "text": [
      "Epoch 34: 100%|████████████████████████████████████████████| 14/14 [00:00<00:00, 126.43it/s, accuracy=94.7, loss=0.144]\n"
     ]
    },
    {
     "name": "stdout",
     "output_type": "stream",
     "text": [
      "valid_loss:  0.1888, accuracy = 0.9316666722297668 \n",
      "\n"
     ]
    },
    {
     "name": "stderr",
     "output_type": "stream",
     "text": [
      "Epoch 35: 100%|████████████████████████████████████████████| 14/14 [00:00<00:00, 121.39it/s, accuracy=94.4, loss=0.147]\n"
     ]
    },
    {
     "name": "stdout",
     "output_type": "stream",
     "text": [
      "valid_loss:  0.2043, accuracy = 0.92166668176651 \n",
      "\n"
     ]
    },
    {
     "name": "stderr",
     "output_type": "stream",
     "text": [
      "Epoch 36: 100%|██████████████████████████████████████████████| 14/14 [00:00<00:00, 123.01it/s, accuracy=95, loss=0.129]\n"
     ]
    },
    {
     "name": "stdout",
     "output_type": "stream",
     "text": [
      "valid_loss:  0.1997, accuracy = 0.92166668176651 \n",
      "\n"
     ]
    },
    {
     "name": "stderr",
     "output_type": "stream",
     "text": [
      "Epoch 37: 100%|████████████████████████████████████████████| 14/14 [00:00<00:00, 111.00it/s, accuracy=94.9, loss=0.137]\n"
     ]
    },
    {
     "name": "stdout",
     "output_type": "stream",
     "text": [
      "valid_loss:  0.2186, accuracy = 0.9150000214576721 \n",
      "\n"
     ]
    },
    {
     "name": "stderr",
     "output_type": "stream",
     "text": [
      "Epoch 38: 100%|████████████████████████████████████████████| 14/14 [00:00<00:00, 127.22it/s, accuracy=94.7, loss=0.127]\n"
     ]
    },
    {
     "name": "stdout",
     "output_type": "stream",
     "text": [
      "valid_loss:  0.255, accuracy = 0.8983333110809326 \n",
      "\n"
     ]
    },
    {
     "name": "stderr",
     "output_type": "stream",
     "text": [
      "Epoch 39: 100%|█████████████████████████████████████████████| 14/14 [00:00<00:00, 135.76it/s, accuracy=94.9, loss=0.14]\n"
     ]
    },
    {
     "name": "stdout",
     "output_type": "stream",
     "text": [
      "valid_loss:  0.2187, accuracy = 0.9183333516120911 \n",
      "\n"
     ]
    },
    {
     "name": "stderr",
     "output_type": "stream",
     "text": [
      "Epoch 40: 100%|████████████████████████████████████████████| 14/14 [00:00<00:00, 127.72it/s, accuracy=95.1, loss=0.131]\n"
     ]
    },
    {
     "name": "stdout",
     "output_type": "stream",
     "text": [
      "valid_loss:  0.1809, accuracy = 0.925000011920929 \n",
      "\n"
     ]
    },
    {
     "name": "stderr",
     "output_type": "stream",
     "text": [
      "Epoch 41: 100%|████████████████████████████████████████████| 14/14 [00:00<00:00, 123.69it/s, accuracy=95.1, loss=0.123]\n"
     ]
    },
    {
     "name": "stdout",
     "output_type": "stream",
     "text": [
      "valid_loss:  0.2187, accuracy = 0.9116666913032532 \n",
      "\n"
     ]
    },
    {
     "name": "stderr",
     "output_type": "stream",
     "text": [
      "Epoch 42: 100%|████████████████████████████████████████████| 14/14 [00:00<00:00, 125.68it/s, accuracy=95.3, loss=0.127]\n"
     ]
    },
    {
     "name": "stdout",
     "output_type": "stream",
     "text": [
      "valid_loss:  0.2152, accuracy = 0.9066666960716248 \n",
      "\n"
     ]
    },
    {
     "name": "stderr",
     "output_type": "stream",
     "text": [
      "Epoch 43: 100%|████████████████████████████████████████████| 14/14 [00:00<00:00, 133.42it/s, accuracy=95.1, loss=0.123]\n"
     ]
    },
    {
     "name": "stdout",
     "output_type": "stream",
     "text": [
      "valid_loss:  0.1758, accuracy = 0.92166668176651 \n",
      "\n"
     ]
    },
    {
     "name": "stderr",
     "output_type": "stream",
     "text": [
      "Epoch 44: 100%|████████████████████████████████████████████| 14/14 [00:00<00:00, 118.78it/s, accuracy=95.9, loss=0.111]\n"
     ]
    },
    {
     "name": "stdout",
     "output_type": "stream",
     "text": [
      "valid_loss:  0.2146, accuracy = 0.9066666960716248 \n",
      "\n"
     ]
    },
    {
     "name": "stderr",
     "output_type": "stream",
     "text": [
      "Epoch 45: 100%|████████████████████████████████████████████| 14/14 [00:00<00:00, 117.06it/s, accuracy=95.9, loss=0.109]\n"
     ]
    },
    {
     "name": "stdout",
     "output_type": "stream",
     "text": [
      "valid_loss:  0.2253, accuracy = 0.9083333611488342 \n",
      "\n"
     ]
    },
    {
     "name": "stderr",
     "output_type": "stream",
     "text": [
      "Epoch 46: 100%|████████████████████████████████████████████| 14/14 [00:00<00:00, 126.35it/s, accuracy=95.1, loss=0.112]\n"
     ]
    },
    {
     "name": "stdout",
     "output_type": "stream",
     "text": [
      "valid_loss:  0.2071, accuracy = 0.92166668176651 \n",
      "\n"
     ]
    },
    {
     "name": "stderr",
     "output_type": "stream",
     "text": [
      "Epoch 47: 100%|████████████████████████████████████████████| 14/14 [00:00<00:00, 138.80it/s, accuracy=96.4, loss=0.102]\n"
     ]
    },
    {
     "name": "stdout",
     "output_type": "stream",
     "text": [
      "valid_loss:  0.2324, accuracy = 0.9183333516120911 \n",
      "\n"
     ]
    },
    {
     "name": "stderr",
     "output_type": "stream",
     "text": [
      "Epoch 48: 100%|████████████████████████████████████████████| 14/14 [00:00<00:00, 123.33it/s, accuracy=95.5, loss=0.122]\n"
     ]
    },
    {
     "name": "stdout",
     "output_type": "stream",
     "text": [
      "valid_loss:  0.2373, accuracy = 0.9133333563804626 \n",
      "\n"
     ]
    },
    {
     "name": "stderr",
     "output_type": "stream",
     "text": [
      "Epoch 49: 100%|█████████████████████████████████████████████| 14/14 [00:00<00:00, 128.34it/s, accuracy=94.7, loss=0.13]\n"
     ]
    },
    {
     "name": "stdout",
     "output_type": "stream",
     "text": [
      "valid_loss:  0.2431, accuracy = 0.8916666507720947 \n",
      "\n"
     ]
    },
    {
     "name": "stderr",
     "output_type": "stream",
     "text": [
      "Epoch 50: 100%|████████████████████████████████████████████| 14/14 [00:00<00:00, 141.09it/s, accuracy=95.5, loss=0.117]\n"
     ]
    },
    {
     "name": "stdout",
     "output_type": "stream",
     "text": [
      "valid_loss:  0.2057, accuracy = 0.9183333516120911 \n",
      "\n"
     ]
    },
    {
     "name": "stderr",
     "output_type": "stream",
     "text": [
      "Epoch 51: 100%|████████████████████████████████████████████| 14/14 [00:00<00:00, 121.93it/s, accuracy=95.8, loss=0.106]\n"
     ]
    },
    {
     "name": "stdout",
     "output_type": "stream",
     "text": [
      "valid_loss:  0.1901, accuracy = 0.9166666865348816 \n",
      "\n"
     ]
    },
    {
     "name": "stderr",
     "output_type": "stream",
     "text": [
      "Epoch 52: 100%|████████████████████████████████████████████| 14/14 [00:00<00:00, 132.52it/s, accuracy=95.9, loss=0.117]\n"
     ]
    },
    {
     "name": "stdout",
     "output_type": "stream",
     "text": [
      "valid_loss:  0.2488, accuracy = 0.9049999713897705 \n",
      "\n"
     ]
    },
    {
     "name": "stderr",
     "output_type": "stream",
     "text": [
      "Epoch 53: 100%|███████████████████████████████████████████| 14/14 [00:00<00:00, 118.34it/s, accuracy=96.6, loss=0.0919]\n"
     ]
    },
    {
     "name": "stdout",
     "output_type": "stream",
     "text": [
      "valid_loss:  0.2542, accuracy = 0.9150000214576721 \n",
      "\n"
     ]
    },
    {
     "name": "stderr",
     "output_type": "stream",
     "text": [
      "Epoch 54: 100%|████████████████████████████████████████████| 14/14 [00:00<00:00, 119.84it/s, accuracy=96.9, loss=0.113]\n"
     ]
    },
    {
     "name": "stdout",
     "output_type": "stream",
     "text": [
      "valid_loss:  0.2357, accuracy = 0.9100000262260437 \n",
      "\n"
     ]
    },
    {
     "name": "stderr",
     "output_type": "stream",
     "text": [
      "Epoch 55: 100%|████████████████████████████████████████████| 14/14 [00:00<00:00, 125.98it/s, accuracy=95.4, loss=0.118]\n"
     ]
    },
    {
     "name": "stdout",
     "output_type": "stream",
     "text": [
      "valid_loss:  0.2406, accuracy = 0.9133333563804626 \n",
      "\n"
     ]
    },
    {
     "name": "stderr",
     "output_type": "stream",
     "text": [
      "Epoch 56: 100%|████████████████████████████████████████████| 14/14 [00:00<00:00, 132.09it/s, accuracy=96.1, loss=0.109]\n"
     ]
    },
    {
     "name": "stdout",
     "output_type": "stream",
     "text": [
      "valid_loss:  0.2839, accuracy = 0.8883333206176758 \n",
      "\n"
     ]
    },
    {
     "name": "stderr",
     "output_type": "stream",
     "text": [
      "Epoch 57: 100%|████████████████████████████████████████████| 14/14 [00:00<00:00, 128.35it/s, accuracy=95.6, loss=0.125]\n"
     ]
    },
    {
     "name": "stdout",
     "output_type": "stream",
     "text": [
      "valid_loss:  0.2696, accuracy = 0.903333306312561 \n",
      "\n"
     ]
    },
    {
     "name": "stderr",
     "output_type": "stream",
     "text": [
      "Epoch 58: 100%|████████████████████████████████████████████| 14/14 [00:00<00:00, 139.89it/s, accuracy=96.4, loss=0.088]\n"
     ]
    },
    {
     "name": "stdout",
     "output_type": "stream",
     "text": [
      "valid_loss:  0.2508, accuracy = 0.9150000214576721 \n",
      "\n"
     ]
    },
    {
     "name": "stderr",
     "output_type": "stream",
     "text": [
      "Epoch 59: 100%|████████████████████████████████████████████| 14/14 [00:00<00:00, 122.17it/s, accuracy=96.1, loss=0.103]\n"
     ]
    },
    {
     "name": "stdout",
     "output_type": "stream",
     "text": [
      "valid_loss:  0.2781, accuracy = 0.9116666913032532 \n",
      "\n"
     ]
    },
    {
     "name": "stderr",
     "output_type": "stream",
     "text": [
      "Epoch 60: 100%|████████████████████████████████████████████| 14/14 [00:00<00:00, 129.13it/s, accuracy=95.1, loss=0.132]\n"
     ]
    },
    {
     "name": "stdout",
     "output_type": "stream",
     "text": [
      "valid_loss:  0.2765, accuracy = 0.8983333110809326 \n",
      "\n"
     ]
    },
    {
     "name": "stderr",
     "output_type": "stream",
     "text": [
      "Epoch 61: 100%|██████████████████████████████████████████████| 14/14 [00:00<00:00, 133.80it/s, accuracy=96.1, loss=0.1]\n"
     ]
    },
    {
     "name": "stdout",
     "output_type": "stream",
     "text": [
      "valid_loss:  0.2568, accuracy = 0.903333306312561 \n",
      "\n"
     ]
    },
    {
     "name": "stderr",
     "output_type": "stream",
     "text": [
      "Epoch 62: 100%|████████████████████████████████████████████| 14/14 [00:00<00:00, 127.68it/s, accuracy=96.1, loss=0.099]\n"
     ]
    },
    {
     "name": "stdout",
     "output_type": "stream",
     "text": [
      "valid_loss:  0.2923, accuracy = 0.9016666412353516 \n",
      "\n"
     ]
    },
    {
     "name": "stderr",
     "output_type": "stream",
     "text": [
      "Epoch 63: 100%|████████████████████████████████████████████| 14/14 [00:00<00:00, 127.45it/s, accuracy=96.8, loss=0.114]\n"
     ]
    },
    {
     "name": "stdout",
     "output_type": "stream",
     "text": [
      "valid_loss:  0.2613, accuracy = 0.9066666960716248 \n",
      "\n"
     ]
    },
    {
     "name": "stderr",
     "output_type": "stream",
     "text": [
      "Epoch 64: 100%|███████████████████████████████████████████| 14/14 [00:00<00:00, 133.43it/s, accuracy=96.4, loss=0.0859]\n"
     ]
    },
    {
     "name": "stdout",
     "output_type": "stream",
     "text": [
      "valid_loss:  0.2533, accuracy = 0.9166666865348816 \n",
      "\n"
     ]
    },
    {
     "name": "stderr",
     "output_type": "stream",
     "text": [
      "Epoch 65: 100%|████████████████████████████████████████████| 14/14 [00:00<00:00, 110.26it/s, accuracy=96.8, loss=0.087]\n"
     ]
    },
    {
     "name": "stdout",
     "output_type": "stream",
     "text": [
      "valid_loss:  0.2376, accuracy = 0.9183333516120911 \n",
      "\n"
     ]
    },
    {
     "name": "stderr",
     "output_type": "stream",
     "text": [
      "Epoch 66: 100%|██████████████████████████████████████████████| 14/14 [00:00<00:00, 135.61it/s, accuracy=96, loss=0.111]\n"
     ]
    },
    {
     "name": "stdout",
     "output_type": "stream",
     "text": [
      "valid_loss:  0.233, accuracy = 0.9150000214576721 \n",
      "\n"
     ]
    },
    {
     "name": "stderr",
     "output_type": "stream",
     "text": [
      "Epoch 67: 100%|████████████████████████████████████████████| 14/14 [00:00<00:00, 123.31it/s, accuracy=96.6, loss=0.084]\n"
     ]
    },
    {
     "name": "stdout",
     "output_type": "stream",
     "text": [
      "valid_loss:  0.2013, accuracy = 0.9166666865348816 \n",
      "\n"
     ]
    },
    {
     "name": "stderr",
     "output_type": "stream",
     "text": [
      "Epoch 68: 100%|████████████████████████████████████████████| 14/14 [00:00<00:00, 125.92it/s, accuracy=95.6, loss=0.109]\n"
     ]
    },
    {
     "name": "stdout",
     "output_type": "stream",
     "text": [
      "valid_loss:  0.2231, accuracy = 0.9150000214576721 \n",
      "\n"
     ]
    },
    {
     "name": "stderr",
     "output_type": "stream",
     "text": [
      "Epoch 69: 100%|███████████████████████████████████████████| 14/14 [00:00<00:00, 129.73it/s, accuracy=97.1, loss=0.0877]\n"
     ]
    },
    {
     "name": "stdout",
     "output_type": "stream",
     "text": [
      "valid_loss:  0.2066, accuracy = 0.9150000214576721 \n",
      "\n"
     ]
    },
    {
     "name": "stderr",
     "output_type": "stream",
     "text": [
      "Epoch 70: 100%|███████████████████████████████████████████| 14/14 [00:00<00:00, 119.84it/s, accuracy=96.5, loss=0.0873]\n"
     ]
    },
    {
     "name": "stdout",
     "output_type": "stream",
     "text": [
      "valid_loss:  0.2262, accuracy = 0.9166666865348816 \n",
      "\n"
     ]
    },
    {
     "name": "stderr",
     "output_type": "stream",
     "text": [
      "Epoch 71: 100%|████████████████████████████████████████████| 14/14 [00:00<00:00, 126.97it/s, accuracy=96.4, loss=0.101]\n"
     ]
    },
    {
     "name": "stdout",
     "output_type": "stream",
     "text": [
      "valid_loss:  0.2649, accuracy = 0.903333306312561 \n",
      "\n"
     ]
    },
    {
     "name": "stderr",
     "output_type": "stream",
     "text": [
      "Epoch 72: 100%|███████████████████████████████████████████| 14/14 [00:00<00:00, 128.80it/s, accuracy=96.9, loss=0.0887]\n"
     ]
    },
    {
     "name": "stdout",
     "output_type": "stream",
     "text": [
      "valid_loss:  0.2624, accuracy = 0.9083333611488342 \n",
      "\n"
     ]
    },
    {
     "name": "stderr",
     "output_type": "stream",
     "text": [
      "Epoch 73: 100%|███████████████████████████████████████████| 14/14 [00:00<00:00, 133.99it/s, accuracy=96.6, loss=0.0906]\n"
     ]
    },
    {
     "name": "stdout",
     "output_type": "stream",
     "text": [
      "valid_loss:  0.2602, accuracy = 0.9100000262260437 \n",
      "\n"
     ]
    },
    {
     "name": "stderr",
     "output_type": "stream",
     "text": [
      "Epoch 74: 100%|███████████████████████████████████████████| 14/14 [00:00<00:00, 129.16it/s, accuracy=96.7, loss=0.0983]\n"
     ]
    },
    {
     "name": "stdout",
     "output_type": "stream",
     "text": [
      "valid_loss:  0.2888, accuracy = 0.9066666960716248 \n",
      "\n"
     ]
    },
    {
     "name": "stderr",
     "output_type": "stream",
     "text": [
      "Epoch 75: 100%|████████████████████████████████████████████| 14/14 [00:00<00:00, 129.23it/s, accuracy=96.3, loss=0.102]\n"
     ]
    },
    {
     "name": "stdout",
     "output_type": "stream",
     "text": [
      "valid_loss:  0.2573, accuracy = 0.9116666913032532 \n",
      "\n"
     ]
    },
    {
     "name": "stderr",
     "output_type": "stream",
     "text": [
      "Epoch 76: 100%|████████████████████████████████████████████| 14/14 [00:00<00:00, 126.11it/s, accuracy=96.1, loss=0.102]\n"
     ]
    },
    {
     "name": "stdout",
     "output_type": "stream",
     "text": [
      "valid_loss:  0.2473, accuracy = 0.9116666913032532 \n",
      "\n"
     ]
    },
    {
     "name": "stderr",
     "output_type": "stream",
     "text": [
      "Epoch 77: 100%|████████████████████████████████████████████| 14/14 [00:00<00:00, 135.16it/s, accuracy=96.5, loss=0.076]\n"
     ]
    },
    {
     "name": "stdout",
     "output_type": "stream",
     "text": [
      "valid_loss:  0.2093, accuracy = 0.9200000166893005 \n",
      "\n"
     ]
    },
    {
     "name": "stderr",
     "output_type": "stream",
     "text": [
      "Epoch 78: 100%|██████████████████████████████████████████████| 14/14 [00:00<00:00, 123.70it/s, accuracy=96, loss=0.103]\n"
     ]
    },
    {
     "name": "stdout",
     "output_type": "stream",
     "text": [
      "valid_loss:  0.234, accuracy = 0.925000011920929 \n",
      "\n"
     ]
    },
    {
     "name": "stderr",
     "output_type": "stream",
     "text": [
      "Epoch 79: 100%|███████████████████████████████████████████| 14/14 [00:00<00:00, 135.61it/s, accuracy=97.1, loss=0.0984]\n"
     ]
    },
    {
     "name": "stdout",
     "output_type": "stream",
     "text": [
      "valid_loss:  0.2307, accuracy = 0.9166666865348816 \n",
      "\n"
     ]
    },
    {
     "name": "stderr",
     "output_type": "stream",
     "text": [
      "Epoch 80: 100%|████████████████████████████████████████████| 14/14 [00:00<00:00, 127.00it/s, accuracy=95.9, loss=0.111]\n"
     ]
    },
    {
     "name": "stdout",
     "output_type": "stream",
     "text": [
      "valid_loss:  0.2403, accuracy = 0.903333306312561 \n",
      "\n"
     ]
    },
    {
     "name": "stderr",
     "output_type": "stream",
     "text": [
      "Epoch 81: 100%|███████████████████████████████████████████| 14/14 [00:00<00:00, 127.31it/s, accuracy=96.5, loss=0.0901]\n"
     ]
    },
    {
     "name": "stdout",
     "output_type": "stream",
     "text": [
      "valid_loss:  0.2004, accuracy = 0.9233333468437195 \n",
      "\n"
     ]
    },
    {
     "name": "stderr",
     "output_type": "stream",
     "text": [
      "Epoch 82: 100%|███████████████████████████████████████████| 14/14 [00:00<00:00, 130.94it/s, accuracy=96.8, loss=0.0841]\n"
     ]
    },
    {
     "name": "stdout",
     "output_type": "stream",
     "text": [
      "valid_loss:  0.2402, accuracy = 0.9016666412353516 \n",
      "\n"
     ]
    },
    {
     "name": "stderr",
     "output_type": "stream",
     "text": [
      "Epoch 83: 100%|███████████████████████████████████████████| 14/14 [00:00<00:00, 134.36it/s, accuracy=96.9, loss=0.0823]\n"
     ]
    },
    {
     "name": "stdout",
     "output_type": "stream",
     "text": [
      "valid_loss:  0.2133, accuracy = 0.92166668176651 \n",
      "\n"
     ]
    },
    {
     "name": "stderr",
     "output_type": "stream",
     "text": [
      "Epoch 84: 100%|███████████████████████████████████████████| 14/14 [00:00<00:00, 132.70it/s, accuracy=96.6, loss=0.0923]\n"
     ]
    },
    {
     "name": "stdout",
     "output_type": "stream",
     "text": [
      "valid_loss:  0.18, accuracy = 0.9283333420753479 \n",
      "\n"
     ]
    },
    {
     "name": "stderr",
     "output_type": "stream",
     "text": [
      "Epoch 85: 100%|███████████████████████████████████████████| 14/14 [00:00<00:00, 127.64it/s, accuracy=96.6, loss=0.0857]\n"
     ]
    },
    {
     "name": "stdout",
     "output_type": "stream",
     "text": [
      "valid_loss:  0.2057, accuracy = 0.9150000214576721 \n",
      "\n"
     ]
    },
    {
     "name": "stderr",
     "output_type": "stream",
     "text": [
      "Epoch 86: 100%|███████████████████████████████████████████| 14/14 [00:00<00:00, 147.64it/s, accuracy=96.6, loss=0.0895]\n"
     ]
    },
    {
     "name": "stdout",
     "output_type": "stream",
     "text": [
      "valid_loss:  0.2247, accuracy = 0.9283333420753479 \n",
      "\n"
     ]
    },
    {
     "name": "stderr",
     "output_type": "stream",
     "text": [
      "Epoch 87: 100%|███████████████████████████████████████████| 14/14 [00:00<00:00, 134.57it/s, accuracy=96.4, loss=0.0962]\n"
     ]
    },
    {
     "name": "stdout",
     "output_type": "stream",
     "text": [
      "valid_loss:  0.236, accuracy = 0.92166668176651 \n",
      "\n"
     ]
    },
    {
     "name": "stderr",
     "output_type": "stream",
     "text": [
      "Epoch 88: 100%|███████████████████████████████████████████| 14/14 [00:00<00:00, 133.84it/s, accuracy=96.4, loss=0.0893]\n"
     ]
    },
    {
     "name": "stdout",
     "output_type": "stream",
     "text": [
      "valid_loss:  0.2014, accuracy = 0.9183333516120911 \n",
      "\n"
     ]
    },
    {
     "name": "stderr",
     "output_type": "stream",
     "text": [
      "Epoch 89: 100%|████████████████████████████████████████████| 14/14 [00:00<00:00, 133.28it/s, accuracy=95.7, loss=0.122]\n"
     ]
    },
    {
     "name": "stdout",
     "output_type": "stream",
     "text": [
      "valid_loss:  0.2408, accuracy = 0.903333306312561 \n",
      "\n"
     ]
    },
    {
     "name": "stderr",
     "output_type": "stream",
     "text": [
      "Epoch 90: 100%|████████████████████████████████████████████| 14/14 [00:00<00:00, 134.16it/s, accuracy=97.1, loss=0.084]\n"
     ]
    },
    {
     "name": "stdout",
     "output_type": "stream",
     "text": [
      "valid_loss:  0.2231, accuracy = 0.92166668176651 \n",
      "\n"
     ]
    },
    {
     "name": "stderr",
     "output_type": "stream",
     "text": [
      "Epoch 91: 100%|█████████████████████████████████████████████| 14/14 [00:00<00:00, 136.29it/s, accuracy=97, loss=0.0811]\n"
     ]
    },
    {
     "name": "stdout",
     "output_type": "stream",
     "text": [
      "valid_loss:  0.219, accuracy = 0.9233333468437195 \n",
      "\n"
     ]
    },
    {
     "name": "stderr",
     "output_type": "stream",
     "text": [
      "Epoch 92: 100%|████████████████████████████████████████████| 14/14 [00:00<00:00, 134.08it/s, accuracy=97.3, loss=0.078]\n"
     ]
    },
    {
     "name": "stdout",
     "output_type": "stream",
     "text": [
      "valid_loss:  0.2234, accuracy = 0.9133333563804626 \n",
      "\n"
     ]
    },
    {
     "name": "stderr",
     "output_type": "stream",
     "text": [
      "Epoch 93: 100%|█████████████████████████████████████████████| 14/14 [00:00<00:00, 134.00it/s, accuracy=97, loss=0.0792]\n"
     ]
    },
    {
     "name": "stdout",
     "output_type": "stream",
     "text": [
      "valid_loss:  0.3007, accuracy = 0.903333306312561 \n",
      "\n"
     ]
    },
    {
     "name": "stderr",
     "output_type": "stream",
     "text": [
      "Epoch 94: 100%|█████████████████████████████████████████████| 14/14 [00:00<00:00, 135.61it/s, accuracy=97, loss=0.0804]\n"
     ]
    },
    {
     "name": "stdout",
     "output_type": "stream",
     "text": [
      "valid_loss:  0.2595, accuracy = 0.9083333611488342 \n",
      "\n"
     ]
    },
    {
     "name": "stderr",
     "output_type": "stream",
     "text": [
      "Epoch 95: 100%|███████████████████████████████████████████| 14/14 [00:00<00:00, 140.74it/s, accuracy=96.5, loss=0.0926]\n"
     ]
    },
    {
     "name": "stdout",
     "output_type": "stream",
     "text": [
      "valid_loss:  0.2911, accuracy = 0.9116666913032532 \n",
      "\n"
     ]
    },
    {
     "name": "stderr",
     "output_type": "stream",
     "text": [
      "Epoch 96: 100%|█████████████████████████████████████████████| 14/14 [00:00<00:00, 140.16it/s, accuracy=96.9, loss=0.08]\n"
     ]
    },
    {
     "name": "stdout",
     "output_type": "stream",
     "text": [
      "valid_loss:  0.2597, accuracy = 0.9116666913032532 \n",
      "\n"
     ]
    },
    {
     "name": "stderr",
     "output_type": "stream",
     "text": [
      "Epoch 97: 100%|█████████████████████████████████████████████| 14/14 [00:00<00:00, 131.39it/s, accuracy=97, loss=0.0833]\n"
     ]
    },
    {
     "name": "stdout",
     "output_type": "stream",
     "text": [
      "valid_loss:  0.238, accuracy = 0.9233333468437195 \n",
      "\n"
     ]
    },
    {
     "name": "stderr",
     "output_type": "stream",
     "text": [
      "Epoch 98: 100%|█████████████████████████████████████████████| 14/14 [00:00<00:00, 125.64it/s, accuracy=97, loss=0.0873]\n"
     ]
    },
    {
     "name": "stdout",
     "output_type": "stream",
     "text": [
      "valid_loss:  0.2792, accuracy = 0.9183333516120911 \n",
      "\n"
     ]
    },
    {
     "name": "stderr",
     "output_type": "stream",
     "text": [
      "Epoch 99: 100%|███████████████████████████████████████████| 14/14 [00:00<00:00, 128.93it/s, accuracy=96.9, loss=0.0875]"
     ]
    },
    {
     "name": "stdout",
     "output_type": "stream",
     "text": [
      "valid_loss:  0.2905, accuracy = 0.9116666913032532 \n",
      "\n",
      "done\n"
     ]
    },
    {
     "name": "stderr",
     "output_type": "stream",
     "text": [
      "\n"
     ]
    }
   ],
   "source": [
    "loss_train_hist = []\n",
    "loss_valid_hist = []\n",
    "acc_train_hist = []\n",
    "acc_valid_hist = []\n",
    "\n",
    "#we set best valid to infinity\n",
    "best_valid_loss = torch.inf\n",
    "num_epoch=100\n",
    "for epoch in range (num_epoch):\n",
    "    model , loss_train , acc_train = train_one_epoch(model , train_loader , loss_fn , optimizer , epoch)\n",
    "    loss_valid , acc_valid = evaluate(model , valid_loader , loss_fn)\n",
    "\n",
    "    print(f'valid_loss: {float(loss_valid) : .4}, accuracy = {acc_valid } \\n')\n",
    "    \n",
    "    loss_train_hist.append(loss_train)\n",
    "    loss_valid_hist.append(loss_valid)\n",
    "\n",
    "    acc_train_hist.append(acc_train)\n",
    "    acc_valid_hist.append(acc_valid)\n",
    "\n",
    "    if loss_valid < best_valid_loss:\n",
    "        torch.save(model , f'model{epoch}.pt')\n",
    "        best_valid_loss = loss_valid \n",
    "\n",
    "print('done')"
   ]
  },
  {
   "cell_type": "code",
   "execution_count": 114,
   "id": "4634321f-e834-46b7-a82a-e0413c2dd892",
   "metadata": {},
   "outputs": [
    {
     "data": {
      "text/plain": [
       "<matplotlib.legend.Legend at 0x1dcd8de35f0>"
      ]
     },
     "execution_count": 114,
     "metadata": {},
     "output_type": "execute_result"
    },
    {
     "data": {
      "image/png": "[encoded data removed]",
      "text/plain": [
       "<Figure size 640x480 with 1 Axes>"
      ]
     },
     "metadata": {},
     "output_type": "display_data"
    }
   ],
   "source": [
    "plt.plot(range(num_epoch), loss_train_hist , 'r-', label= 'Train')\n",
    "plt.plot(range(num_epoch), loss_valid_hist , 'b-', label= 'Validation')\n",
    "\n",
    "plt.xlabel('epoch')\n",
    "plt.ylabel('Loss')\n",
    "plt.grid(True)\n",
    "plt.legend()"
   ]
  },
  {
   "cell_type": "code",
   "execution_count": 115,
   "id": "ebcad326-b61e-4181-8728-861a3d3b3278",
   "metadata": {},
   "outputs": [
    {
     "data": {
      "text/plain": [
       "<matplotlib.legend.Legend at 0x1dcd76ba120>"
      ]
     },
     "execution_count": 115,
     "metadata": {},
     "output_type": "execute_result"
    },
    {
     "data": {
      "image/png": "[encoded data removed]",
      "text/plain": [
       "<Figure size 640x480 with 1 Axes>"
      ]
     },
     "metadata": {},
     "output_type": "display_data"
    }
   ],
   "source": [
    "plt.plot(range(num_epoch), acc_train_hist , 'r-', label= 'Train')\n",
    "plt.plot(range(num_epoch), acc_valid_hist , 'b-', label= 'Validation')\n",
    "\n",
    "plt.xlabel('epoch')\n",
    "plt.ylabel('ACC')\n",
    "plt.grid(True)\n",
    "plt.legend()"
   ]
  },
  {
   "cell_type": "code",
   "execution_count": null,
   "id": "62de224a-8a44-44da-9693-773255382774",
   "metadata": {},
   "outputs": [],
   "source": []
  }
 ],
 "metadata": {
  "kernelspec": {
   "display_name": "Python 3 (ipykernel)",
   "language": "python",
   "name": "python3"
  },
  "language_info": {
   "codemirror_mode": {
    "name": "ipython",
    "version": 3
   },
   "file_extension": ".py",
   "mimetype": "text/x-python",
   "name": "python",
   "nbconvert_exporter": "python",
   "pygments_lexer": "ipython3",
   "version": "3.12.7"
  }
 },
 "nbformat": 4,
 "nbformat_minor": 5
}
