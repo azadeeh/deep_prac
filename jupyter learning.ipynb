{
 "cells": [
  {
   "cell_type": "markdown",
   "id": "4b8b2a3e-9c1d-43e8-9416-b07d98141eab",
   "metadata": {},
   "source": [
    "### print('hello github')"
   ]
  },
  {
   "cell_type": "markdown",
   "id": "acbb622d-8228-424f-82fd-9f0a364850a7",
   "metadata": {},
   "source": [
    "# header1\n",
    "    hi *AZADEH*  how are you [text linked ti link](https://www.bing.com/search?q=gogole.come&form=ANNTH1&refig=a413e217eb9c4971a6a2f5f485e7e8d8&pc=U531)  thats it.\n",
    "## ✏️header2\n",
    "hello\n",
    "### header3\n",
    "#### header4\n",
    "##### header5\n",
    "###### header6\n",
    "\n"
   ]
  },
  {
   "cell_type": "markdown",
   "id": "b0fd0d76-76ca-4d49-a6a8-b57e6752fb4c",
   "metadata": {},
   "source": [
    "**BOLD**"
   ]
  },
  {
   "cell_type": "markdown",
   "id": "38b5a537-e8cd-4789-8aba-fba670fe3063",
   "metadata": {},
   "source": [
    "*Italic*"
   ]
  },
  {
   "cell_type": "markdown",
   "id": "f838d8e7-b683-49a8-8e2d-8207597f909e",
   "metadata": {},
   "source": [
    "<u>underline<u>"
   ]
  },
  {
   "cell_type": "markdown",
   "id": "a14d4564-acfb-4675-932e-05385081ace4",
   "metadata": {},
   "source": [
    "* section1\n",
    "    * subsection1\n",
    "    * subsection2\n",
    "    * subsection3\n",
    "* section2\n",
    "    * subsection1\n",
    "    * subsection2\n",
    "    * subsectin3"
   ]
  },
  {
   "cell_type": "markdown",
   "id": "66311686-7ace-4a1b-b8de-658cec6f91d1",
   "metadata": {},
   "source": [
    "1. section1\n",
    "    * subsection1\n",
    "    * subsection2\n",
    "    * subsection3\n",
    "2. section2\n",
    "    * subsection1\n",
    "    * subsection2\n",
    "    * subsectin3"
   ]
  },
  {
   "cell_type": "markdown",
   "id": "baedcc6f-9de9-4609-9662-a9600f50abe2",
   "metadata": {},
   "source": [
    "https://www.bing.com/search?q=gogole.come&form=ANNTH1&refig=a413e217eb9c4971a6a2f5f485e7e8d8&pc=U531"
   ]
  },
  {
   "cell_type": "markdown",
   "id": "93c08e73-c253-49f2-bb3b-2c8fd8edeacf",
   "metadata": {},
   "source": [
    "[text linked ti link](https://www.bing.com/search?q=gogole.come&form=ANNTH1&refig=a413e217eb9c4971a6a2f5f485e7e8d8&pc=U531)"
   ]
  },
  {
   "cell_type": "markdown",
   "id": "cb4559a0-4d95-4569-a4bc-46e3ba064dc1",
   "metadata": {},
   "source": [
    "[textlink and tooltip](https://www.bing.com/search?q=gogole.come&form=ANNTH1&refig=a413e217eb9c4971a6a2f5f485e7e8d8&pc=U531 \"please click\")"
   ]
  },
  {
   "cell_type": "markdown",
   "id": "09e31290-e1cd-4f94-9971-8ff77a1f9cce",
   "metadata": {},
   "source": [
    "###### import image\n",
    "<img src=\"9.jpg\" style=\"width:280px;height:280px\" title=\"Title is this\">"
   ]
  },
  {
   "cell_type": "code",
   "execution_count": null,
   "id": "33c3ba9d-9203-4ab5-85fd-9fb842c4491b",
   "metadata": {},
   "outputs": [],
   "source": []
  },
  {
   "cell_type": "code",
   "execution_count": null,
   "id": "0ef06cf5-ab43-4136-828c-da4c89d1fade",
   "metadata": {},
   "outputs": [],
   "source": []
  },
  {
   "cell_type": "code",
   "execution_count": null,
   "id": "9961b722-7966-4e47-b98e-54cc255b1094",
   "metadata": {},
   "outputs": [],
   "source": []
  },
  {
   "cell_type": "code",
   "execution_count": null,
   "id": "3c23ec73-9a3d-415f-b68d-8197e74b5cb0",
   "metadata": {},
   "outputs": [],
   "source": []
  }
 ],
 "metadata": {
  "kernelspec": {
   "display_name": "Python 3 (ipykernel)",
   "language": "python",
   "name": "python3"
  },
  "language_info": {
   "codemirror_mode": {
    "name": "ipython",
    "version": 3
   },
   "file_extension": ".py",
   "mimetype": "text/x-python",
   "name": "python",
   "nbconvert_exporter": "python",
   "pygments_lexer": "ipython3",
   "version": "3.12.7"
  }
 },
 "nbformat": 4,
 "nbformat_minor": 5
}
