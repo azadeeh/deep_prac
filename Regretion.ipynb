{
 "cells": [
  {
   "cell_type": "code",
   "execution_count": 1,
   "id": "bf7ca07b-d065-447f-9656-b5ca2ed0181d",
   "metadata": {},
   "outputs": [],
   "source": [
    "import pandas as pd\n",
    "import torch\n",
    "import torch.nn.functional as F\n",
    "from torch import nn,optim\n",
    "import matplotlib.pyplot as plt\n",
    "from torch.utils.data import DataLoader,TensorDataset\n",
    "from sklearn.metrics import r2_score"
   ]
  },
  {
   "cell_type": "code",
   "execution_count": 2,
   "id": "63fbb52b-4095-4c32-924f-c5148692040e",
   "metadata": {},
   "outputs": [
    {
     "data": {
      "text/html": [
       "<div>\n",
       "<style scoped>\n",
       "    .dataframe tbody tr th:only-of-type {\n",
       "        vertical-align: middle;\n",
       "    }\n",
       "\n",
       "    .dataframe tbody tr th {\n",
       "        vertical-align: top;\n",
       "    }\n",
       "\n",
       "    .dataframe thead th {\n",
       "        text-align: right;\n",
       "    }\n",
       "</style>\n",
       "<table border=\"1\" class=\"dataframe\">\n",
       "  <thead>\n",
       "    <tr style=\"text-align: right;\">\n",
       "      <th></th>\n",
       "      <th>No</th>\n",
       "      <th>X1 transaction date</th>\n",
       "      <th>X2 house age</th>\n",
       "      <th>X3 distance to the nearest MRT station</th>\n",
       "      <th>X4 number of convenience stores</th>\n",
       "      <th>X5 latitude</th>\n",
       "      <th>X6 longitude</th>\n",
       "      <th>Y house price of unit area</th>\n",
       "    </tr>\n",
       "  </thead>\n",
       "  <tbody>\n",
       "    <tr>\n",
       "      <th>0</th>\n",
       "      <td>1</td>\n",
       "      <td>2012.917</td>\n",
       "      <td>32.0</td>\n",
       "      <td>84.87882</td>\n",
       "      <td>10</td>\n",
       "      <td>24.98298</td>\n",
       "      <td>121.54024</td>\n",
       "      <td>37.9</td>\n",
       "    </tr>\n",
       "    <tr>\n",
       "      <th>1</th>\n",
       "      <td>2</td>\n",
       "      <td>2012.917</td>\n",
       "      <td>19.5</td>\n",
       "      <td>306.59470</td>\n",
       "      <td>9</td>\n",
       "      <td>24.98034</td>\n",
       "      <td>121.53951</td>\n",
       "      <td>42.2</td>\n",
       "    </tr>\n",
       "    <tr>\n",
       "      <th>2</th>\n",
       "      <td>3</td>\n",
       "      <td>2013.583</td>\n",
       "      <td>13.3</td>\n",
       "      <td>561.98450</td>\n",
       "      <td>5</td>\n",
       "      <td>24.98746</td>\n",
       "      <td>121.54391</td>\n",
       "      <td>47.3</td>\n",
       "    </tr>\n",
       "    <tr>\n",
       "      <th>3</th>\n",
       "      <td>4</td>\n",
       "      <td>2013.500</td>\n",
       "      <td>13.3</td>\n",
       "      <td>561.98450</td>\n",
       "      <td>5</td>\n",
       "      <td>24.98746</td>\n",
       "      <td>121.54391</td>\n",
       "      <td>54.8</td>\n",
       "    </tr>\n",
       "    <tr>\n",
       "      <th>4</th>\n",
       "      <td>5</td>\n",
       "      <td>2012.833</td>\n",
       "      <td>5.0</td>\n",
       "      <td>390.56840</td>\n",
       "      <td>5</td>\n",
       "      <td>24.97937</td>\n",
       "      <td>121.54245</td>\n",
       "      <td>43.1</td>\n",
       "    </tr>\n",
       "  </tbody>\n",
       "</table>\n",
       "</div>"
      ],
      "text/plain": [
       "   No  X1 transaction date  X2 house age  \\\n",
       "0   1             2012.917          32.0   \n",
       "1   2             2012.917          19.5   \n",
       "2   3             2013.583          13.3   \n",
       "3   4             2013.500          13.3   \n",
       "4   5             2012.833           5.0   \n",
       "\n",
       "   X3 distance to the nearest MRT station  X4 number of convenience stores  \\\n",
       "0                                84.87882                               10   \n",
       "1                               306.59470                                9   \n",
       "2                               561.98450                                5   \n",
       "3                               561.98450                                5   \n",
       "4                               390.56840                                5   \n",
       "\n",
       "   X5 latitude  X6 longitude  Y house price of unit area  \n",
       "0     24.98298     121.54024                        37.9  \n",
       "1     24.98034     121.53951                        42.2  \n",
       "2     24.98746     121.54391                        47.3  \n",
       "3     24.98746     121.54391                        54.8  \n",
       "4     24.97937     121.54245                        43.1  "
      ]
     },
     "execution_count": 2,
     "metadata": {},
     "output_type": "execute_result"
    }
   ],
   "source": [
    "data = pd.read_csv('Real estate.csv')\n",
    "data.head()"
   ]
  },
  {
   "cell_type": "code",
   "execution_count": 3,
   "id": "f4b4b75f-41e0-4ef9-9889-ab894f7a103b",
   "metadata": {},
   "outputs": [
    {
     "data": {
      "text/html": [
       "<div>\n",
       "<style scoped>\n",
       "    .dataframe tbody tr th:only-of-type {\n",
       "        vertical-align: middle;\n",
       "    }\n",
       "\n",
       "    .dataframe tbody tr th {\n",
       "        vertical-align: top;\n",
       "    }\n",
       "\n",
       "    .dataframe thead th {\n",
       "        text-align: right;\n",
       "    }\n",
       "</style>\n",
       "<table border=\"1\" class=\"dataframe\">\n",
       "  <thead>\n",
       "    <tr style=\"text-align: right;\">\n",
       "      <th></th>\n",
       "      <th>No</th>\n",
       "      <th>X1 transaction date</th>\n",
       "      <th>X2 house age</th>\n",
       "      <th>X3 distance to the nearest MRT station</th>\n",
       "      <th>X4 number of convenience stores</th>\n",
       "      <th>X5 latitude</th>\n",
       "      <th>X6 longitude</th>\n",
       "    </tr>\n",
       "  </thead>\n",
       "  <tbody>\n",
       "    <tr>\n",
       "      <th>50</th>\n",
       "      <td>51</td>\n",
       "      <td>2013.417</td>\n",
       "      <td>21.7</td>\n",
       "      <td>512.5487</td>\n",
       "      <td>4</td>\n",
       "      <td>24.97400</td>\n",
       "      <td>121.53842</td>\n",
       "    </tr>\n",
       "    <tr>\n",
       "      <th>51</th>\n",
       "      <td>52</td>\n",
       "      <td>2013.083</td>\n",
       "      <td>31.3</td>\n",
       "      <td>1758.4060</td>\n",
       "      <td>1</td>\n",
       "      <td>24.95402</td>\n",
       "      <td>121.55282</td>\n",
       "    </tr>\n",
       "    <tr>\n",
       "      <th>52</th>\n",
       "      <td>53</td>\n",
       "      <td>2013.583</td>\n",
       "      <td>32.1</td>\n",
       "      <td>1438.5790</td>\n",
       "      <td>3</td>\n",
       "      <td>24.97419</td>\n",
       "      <td>121.51750</td>\n",
       "    </tr>\n",
       "    <tr>\n",
       "      <th>53</th>\n",
       "      <td>54</td>\n",
       "      <td>2013.083</td>\n",
       "      <td>13.3</td>\n",
       "      <td>492.2313</td>\n",
       "      <td>5</td>\n",
       "      <td>24.96515</td>\n",
       "      <td>121.53737</td>\n",
       "    </tr>\n",
       "    <tr>\n",
       "      <th>54</th>\n",
       "      <td>55</td>\n",
       "      <td>2013.083</td>\n",
       "      <td>16.1</td>\n",
       "      <td>289.3248</td>\n",
       "      <td>5</td>\n",
       "      <td>24.98203</td>\n",
       "      <td>121.54348</td>\n",
       "    </tr>\n",
       "  </tbody>\n",
       "</table>\n",
       "</div>"
      ],
      "text/plain": [
       "    No  X1 transaction date  X2 house age  \\\n",
       "50  51             2013.417          21.7   \n",
       "51  52             2013.083          31.3   \n",
       "52  53             2013.583          32.1   \n",
       "53  54             2013.083          13.3   \n",
       "54  55             2013.083          16.1   \n",
       "\n",
       "    X3 distance to the nearest MRT station  X4 number of convenience stores  \\\n",
       "50                                512.5487                                4   \n",
       "51                               1758.4060                                1   \n",
       "52                               1438.5790                                3   \n",
       "53                                492.2313                                5   \n",
       "54                                289.3248                                5   \n",
       "\n",
       "    X5 latitude  X6 longitude  \n",
       "50     24.97400     121.53842  \n",
       "51     24.95402     121.55282  \n",
       "52     24.97419     121.51750  \n",
       "53     24.96515     121.53737  \n",
       "54     24.98203     121.54348  "
      ]
     },
     "execution_count": 3,
     "metadata": {},
     "output_type": "execute_result"
    }
   ],
   "source": [
    "x_train = data.drop('Y house price of unit area', axis=1).iloc[50:]\n",
    "x_test = data.drop('Y house price of unit area', axis=1).iloc[:50]\n",
    "x_train.head()"
   ]
  },
  {
   "cell_type": "code",
   "execution_count": 4,
   "id": "4c8b070f-e637-4d38-bd08-b76888332943",
   "metadata": {},
   "outputs": [
    {
     "data": {
      "text/plain": [
       "50     44.2\n",
       "51     20.7\n",
       "52     27.0\n",
       "53     38.9\n",
       "54     51.7\n",
       "       ... \n",
       "409    15.4\n",
       "410    50.0\n",
       "411    40.6\n",
       "412    52.5\n",
       "413    63.9\n",
       "Name: Y house price of unit area, Length: 364, dtype: float64"
      ]
     },
     "execution_count": 4,
     "metadata": {},
     "output_type": "execute_result"
    }
   ],
   "source": [
    "y_train= data['Y house price of unit area'].iloc[50:]\n",
    "y_test= data['Y house price of unit area'].iloc[:50]\n",
    "y_train"
   ]
  },
  {
   "cell_type": "markdown",
   "id": "78a704f6-5a25-4140-b854-21bacb21de04",
   "metadata": {},
   "source": [
    "💠preprocessing"
   ]
  },
  {
   "cell_type": "code",
   "execution_count": 5,
   "id": "43592b5d-4755-4c5e-89c1-818ec75bec6e",
   "metadata": {},
   "outputs": [
    {
     "name": "stdout",
     "output_type": "stream",
     "text": [
      "(364, 7)\n"
     ]
    },
    {
     "data": {
      "text/plain": [
       "array([  51.     , 2013.417  ,   21.7    ,  512.5487 ,    4.     ,\n",
       "         24.974  ,  121.53842])"
      ]
     },
     "execution_count": 5,
     "metadata": {},
     "output_type": "execute_result"
    }
   ],
   "source": [
    "#convert to arrany\n",
    "print(x_train.shape)\n",
    "x_train.values[0]"
   ]
  },
  {
   "cell_type": "code",
   "execution_count": 6,
   "id": "97cb98bc-ca2f-4b74-83df-0f48ea6aabe0",
   "metadata": {},
   "outputs": [],
   "source": [
    "x_train = torch.tensor(x_train.values , dtype=torch.float32)\n",
    "y_train = torch.FloatTensor(y_train.values)\n",
    "\n",
    "x_test = torch.tensor(x_test.values , dtype=torch.float32)\n",
    "y_test = torch.FloatTensor(y_test.values)"
   ]
  },
  {
   "cell_type": "code",
   "execution_count": 7,
   "id": "ded2ae2d-43c4-4b58-a0a6-12d04dda5b49",
   "metadata": {},
   "outputs": [
    {
     "data": {
      "text/plain": [
       "tensor([[5.1000e+01, 2.0134e+03, 2.1700e+01,  ..., 4.0000e+00, 2.4974e+01,\n",
       "         1.2154e+02],\n",
       "        [5.2000e+01, 2.0131e+03, 3.1300e+01,  ..., 1.0000e+00, 2.4954e+01,\n",
       "         1.2155e+02],\n",
       "        [5.3000e+01, 2.0136e+03, 3.2100e+01,  ..., 3.0000e+00, 2.4974e+01,\n",
       "         1.2152e+02],\n",
       "        ...,\n",
       "        [4.1200e+02, 2.0132e+03, 1.8800e+01,  ..., 7.0000e+00, 2.4979e+01,\n",
       "         1.2154e+02],\n",
       "        [4.1300e+02, 2.0130e+03, 8.1000e+00,  ..., 5.0000e+00, 2.4967e+01,\n",
       "         1.2154e+02],\n",
       "        [4.1400e+02, 2.0135e+03, 6.5000e+00,  ..., 9.0000e+00, 2.4974e+01,\n",
       "         1.2154e+02]])"
      ]
     },
     "execution_count": 7,
     "metadata": {},
     "output_type": "execute_result"
    }
   ],
   "source": [
    "x_train"
   ]
  },
  {
   "cell_type": "markdown",
   "id": "5463e4bf-17e0-444d-84c7-0f07fed901e5",
   "metadata": {},
   "source": [
    "💠normalization"
   ]
  },
  {
   "cell_type": "code",
   "execution_count": 8,
   "id": "0a5aac39-e087-4175-b6c2-7e6179c3efdd",
   "metadata": {},
   "outputs": [
    {
     "data": {
      "text/plain": [
       "tensor([ 232.5000, 2013.1508,   17.5654, 1064.2855,    4.0659,   24.9687,\n",
       "         121.5335])"
      ]
     },
     "execution_count": 8,
     "metadata": {},
     "output_type": "execute_result"
    }
   ],
   "source": [
    "mu = x_train.mean(dim=0)\n",
    "std = x_train.std(dim=0)\n",
    "mu"
   ]
  },
  {
   "cell_type": "code",
   "execution_count": 9,
   "id": "57c2c24c-0fec-484f-bf7c-638f4ced3374",
   "metadata": {},
   "outputs": [],
   "source": [
    "x_train = (x_train-mu) / std"
   ]
  },
  {
   "cell_type": "code",
   "execution_count": 10,
   "id": "ebb6c1c4-68eb-490a-9e0e-cd2d8c78390b",
   "metadata": {},
   "outputs": [
    {
     "name": "stdout",
     "output_type": "stream",
     "text": [
      "tensor([ 4.2575e-09, -3.8348e-04, -1.0938e-07, -1.3755e-08, -4.4540e-08,\n",
      "         7.3157e-06,  1.0397e-04])\n",
      "tensor([1., 1., 1., 1., 1., 1., 1.])\n"
     ]
    }
   ],
   "source": [
    "mu = x_train.mean(dim=0)\n",
    "std = x_train.std(dim=0)\n",
    "print(mu)\n",
    "print(std)"
   ]
  },
  {
   "cell_type": "code",
   "execution_count": 11,
   "id": "5a415322-e939-4e43-a738-1235d01efe57",
   "metadata": {},
   "outputs": [],
   "source": [
    "#notice\n",
    "# we should use mu and std of train data for test too (not measure them again for test)\n",
    "x_test = (x_test-mu) / std"
   ]
  },
  {
   "cell_type": "markdown",
   "id": "b4c33ac4-2dc2-4560-ae27-eb1d0e23c491",
   "metadata": {},
   "source": [
    "💠dataloader"
   ]
  },
  {
   "cell_type": "code",
   "execution_count": 12,
   "id": "cb417f50-6513-45b3-b565-cc415521f1a7",
   "metadata": {},
   "outputs": [
    {
     "data": {
      "text/plain": [
       "torch.Size([364, 7])"
      ]
     },
     "execution_count": 12,
     "metadata": {},
     "output_type": "execute_result"
    }
   ],
   "source": [
    "train_dataset = TensorDataset(x_train,y_train)\n",
    "train_dataset.tensors[0].shape"
   ]
  },
  {
   "cell_type": "code",
   "execution_count": 13,
   "id": "4dfde3d4-6ab0-446e-9f50-6ef5573637dd",
   "metadata": {},
   "outputs": [
    {
     "name": "stdout",
     "output_type": "stream",
     "text": [
      "0 torch.Size([50, 7]) torch.Size([50])\n",
      "1 torch.Size([50, 7]) torch.Size([50])\n",
      "2 torch.Size([50, 7]) torch.Size([50])\n",
      "3 torch.Size([50, 7]) torch.Size([50])\n",
      "4 torch.Size([50, 7]) torch.Size([50])\n",
      "5 torch.Size([50, 7]) torch.Size([50])\n",
      "6 torch.Size([50, 7]) torch.Size([50])\n",
      "7 torch.Size([14, 7]) torch.Size([14])\n"
     ]
    }
   ],
   "source": [
    "train_loader = DataLoader(train_dataset, batch_size = 50 , shuffle= True)\n",
    "for i , (x_batch , y_batch) in enumerate(train_loader):\n",
    "    print(i , x_batch.shape , y_batch.shape)\n",
    "    "
   ]
  },
  {
   "cell_type": "code",
   "execution_count": 14,
   "id": "c59376c8-48dd-43b8-87ba-c76c05de73f7",
   "metadata": {},
   "outputs": [
    {
     "data": {
      "text/plain": [
       "8"
      ]
     },
     "execution_count": 14,
     "metadata": {},
     "output_type": "execute_result"
    }
   ],
   "source": [
    "len(train_loader)"
   ]
  },
  {
   "cell_type": "code",
   "execution_count": 15,
   "id": "1bd5800c-628e-4a2e-8324-8ff35fd5b7e9",
   "metadata": {},
   "outputs": [
    {
     "data": {
      "text/plain": [
       "[tensor([[ 1.1880e-01, -2.4516e-01, -1.1184e+00,  4.0153e-01, -3.5899e-01,\n",
       "           2.8126e-01, -1.1393e+00],\n",
       "         [-6.2249e-01,  9.6340e-01, -1.5389e+00, -6.2497e-01,  6.5136e-01,\n",
       "           7.1748e-01,  7.3264e-01],\n",
       "         [-1.5063e+00,  5.8749e-02, -3.2989e-01,  2.4452e+00, -1.3693e+00,\n",
       "          -2.2309e+00, -1.9638e+00],\n",
       "         [-1.6489e+00,  1.2638e+00,  1.1157e+00,  2.7923e+00, -1.0326e+00,\n",
       "          -1.5984e+00, -2.5183e+00],\n",
       "         [ 4.0391e-01,  5.8749e-02,  8.7038e-01, -5.4311e-01,  9.8814e-01,\n",
       "           3.5678e-01,  4.2586e-01],\n",
       "         [ 1.2022e+00,  5.8749e-02, -1.4426e+00, -7.0552e-01,  6.5136e-01,\n",
       "          -2.4616e-01,  4.8893e-01],\n",
       "         [-8.9810e-01,  1.2638e+00, -3.4741e-01, -6.0384e-01,  6.5136e-01,\n",
       "          -3.0852e-01,  6.1306e-01],\n",
       "         [-4.4192e-01, -1.4502e+00,  1.2121e+00,  3.1034e-01, -3.5899e-01,\n",
       "           3.4048e-01, -1.0712e+00],\n",
       "         [ 1.1642e+00,  9.6340e-01, -4.7007e-01,  2.3973e-01, -1.0326e+00,\n",
       "          -1.3691e+00,  9.8695e-01],\n",
       "         [-4.9895e-01, -2.4516e-01, -3.1237e-01, -5.0678e-01, -1.0326e+00,\n",
       "           5.1127e-01, -4.1022e-01],\n",
       "         [ 1.3163e+00, -1.4502e+00, -1.4591e-01, -6.2794e-01,  3.1458e-01,\n",
       "           1.0946e+00,  6.5999e-01],\n",
       "         [-4.5143e-01, -1.4502e+00, -3.0361e-01,  1.2569e+00, -1.3693e+00,\n",
       "          -1.1300e+00,  1.8674e+00],\n",
       "         [ 1.6014e+00,  3.5912e-01,  8.0906e-01, -4.7120e-01,  3.1458e-01,\n",
       "           4.6207e-01,  3.3907e-01],\n",
       "         [-9.1711e-01, -8.4590e-01,  1.1693e-01, -4.4607e-02, -1.3693e+00,\n",
       "          -4.2196e-01,  1.0586e+00],\n",
       "         [ 1.0977e+00,  1.5641e+00, -1.4490e-02,  4.3948e+00, -1.0326e+00,\n",
       "          -9.4608e-01, -3.9660e+00],\n",
       "         [-1.0692e+00,  1.2638e+00, -8.4579e-02, -6.2794e-01,  3.1458e-01,\n",
       "           1.0946e+00,  6.5999e-01],\n",
       "         [-7.5555e-01,  6.5949e-01, -4.8759e-01,  2.3973e-01, -1.0326e+00,\n",
       "          -1.3691e+00,  9.8695e-01],\n",
       "         [ 1.0692e+00,  1.2638e+00,  1.4924e+00,  1.6375e+00, -1.3693e+00,\n",
       "           2.4064e+00, -1.1903e+00],\n",
       "         [ 1.4256e-02,  6.5949e-01,  1.9392e+00, -5.9225e-01,  1.6617e+00,\n",
       "           9.4091e-01,  3.8499e-01],\n",
       "         [ 1.7154e+00, -5.4553e-01, -8.2927e-01, -7.7745e-01,  3.1458e-01,\n",
       "          -1.6155e-01,  4.7430e-01],\n",
       "         [-6.4150e-01, -1.1498e+00, -1.5389e+00, -7.1213e-01, -1.3693e+00,\n",
       "           1.9664e-01, -1.1908e-01],\n",
       "         [ 1.4588e+00, -5.4553e-01,  6.4360e-02, -7.9522e-01,  1.9985e+00,\n",
       "           1.1742e+00,  4.4705e-01],\n",
       "         [ 1.7582e-01,  5.8749e-02,  1.8954e+00, -5.1824e-01,  9.8814e-01,\n",
       "           4.5878e-01,  3.7490e-01],\n",
       "         [ 1.1167e+00, -1.4502e+00, -8.5556e-01, -7.7745e-01,  3.1458e-01,\n",
       "          -1.6155e-01,  4.7430e-01],\n",
       "         [-2.3284e-01, -2.4516e-01,  1.8341e+00, -3.2348e-01, -3.5899e-01,\n",
       "           5.1958e-01,  2.2605e-01],\n",
       "         [-4.2767e-02, -8.4590e-01,  1.2997e+00, -6.4760e-01,  1.3249e+00,\n",
       "           9.7632e-01,  4.2082e-01],\n",
       "         [-1.6584e+00, -8.4590e-01, -1.2323e+00, -8.1662e-01,  9.8814e-01,\n",
       "          -9.2556e-01,  2.3866e-01],\n",
       "         [-1.3258e+00, -8.4590e-01,  2.6587e-01,  1.1387e+00, -2.2206e-02,\n",
       "          -6.2644e-01, -1.5238e+00],\n",
       "         [-1.0882e+00, -5.4553e-01, -3.4741e-01,  2.5387e+00, -1.3693e+00,\n",
       "          -2.4526e+00, -1.9623e+00],\n",
       "         [ 1.1072e+00, -1.1498e+00, -1.1359e+00, -6.5198e-01,  6.5136e-01,\n",
       "           5.8680e-01,  7.7099e-01],\n",
       "         [ 3.2788e-01,  3.5912e-01,  2.0555e-02,  5.8251e-01, -3.5899e-01,\n",
       "          -1.1470e-01, -1.2327e+00],\n",
       "         [ 4.8944e-01,  9.6340e-01,  1.3961e+00,  7.4092e-01, -6.9577e-01,\n",
       "           1.4815e+00, -9.9603e-01],\n",
       "         [ 4.2767e-02,  5.8749e-02, -1.2235e+00, -5.5946e-01,  1.9985e+00,\n",
       "           1.1922e+00,  2.7449e-01],\n",
       "         [ 1.5444e+00,  1.2638e+00,  1.3172e+00,  2.4892e+00, -1.0326e+00,\n",
       "          -1.0898e+00, -2.4603e+00],\n",
       "         [ 1.5729e+00,  9.6340e-01, -3.9122e-01,  8.1476e-02, -2.2206e-02,\n",
       "           1.8774e+00,  3.6834e-02],\n",
       "         [-1.6109e+00, -8.4590e-01, -3.2012e-02,  9.0071e-01, -3.5899e-01,\n",
       "          -4.6630e-01, -1.3861e+00],\n",
       "         [-1.8532e-01,  6.5949e-01,  3.0326e-03,  6.0073e-01, -6.9577e-01,\n",
       "           1.4798e+00, -8.3255e-01],\n",
       "         [ 6.9852e-01, -2.4516e-01, -1.1962e-01, -6.2794e-01,  3.1458e-01,\n",
       "           1.0946e+00,  6.5999e-01],\n",
       "         [-1.9483e-01, -2.4516e-01, -1.5389e+00, -6.4035e-01, -1.0326e+00,\n",
       "           5.0062e-01, -1.9275e-01],\n",
       "         [-2.2334e-01, -1.4502e+00, -5.3140e-01,  2.3973e-01, -1.0326e+00,\n",
       "          -1.3691e+00,  9.8695e-01],\n",
       "         [-1.5253e+00, -2.4516e-01,  1.5713e+00, -3.4319e-01, -3.5899e-01,\n",
       "           5.6878e-01,  2.4119e-01],\n",
       "         [ 7.4604e-01,  1.5641e+00, -1.0210e-01,  4.6933e-01, -6.9577e-01,\n",
       "          -1.2131e+00,  1.2064e+00],\n",
       "         [ 1.1832e+00, -1.1498e+00, -6.3653e-01, -6.9104e-01, -1.0326e+00,\n",
       "           4.4891e-01, -2.3210e-01],\n",
       "         [-1.1357e+00,  9.6340e-01, -6.7157e-01,  8.4119e-01, -3.5899e-01,\n",
       "          -6.7909e-01, -1.2488e+00],\n",
       "         [-1.2782e+00, -2.4516e-01,  9.4923e-01, -3.6207e-01, -3.5899e-01,\n",
       "           7.1920e-01, -3.3807e-02],\n",
       "         [-1.7582e-01, -2.4516e-01, -9.9573e-01, -7.8908e-01,  1.6617e+00,\n",
       "           4.6207e-01,  6.3476e-01],\n",
       "         [-1.4873e+00,  1.2638e+00, -4.6131e-01,  2.3973e-01, -1.0326e+00,\n",
       "          -1.3691e+00,  9.8695e-01],\n",
       "         [ 7.1278e-02,  1.2638e+00,  4.6838e-02, -1.8358e-01, -1.3693e+00,\n",
       "          -4.4076e-01,  9.3700e-01],\n",
       "         [-3.0887e-01,  9.6340e-01,  5.5599e-02, -4.9642e-01,  1.3249e+00,\n",
       "           6.1108e-02,  7.5384e-01],\n",
       "         [-1.4493e+00, -5.4553e-01,  3.8077e-02,  2.8405e-01, -1.0326e+00,\n",
       "          -1.3872e+00,  1.0162e+00]]),\n",
       " tensor([21.7000, 73.6000, 20.0000, 22.6000, 41.0000, 45.1000, 47.4000, 21.5000,\n",
       "         30.1000, 42.6000, 42.1000, 21.8000, 35.5000, 20.8000, 11.2000, 59.6000,\n",
       "         28.9000, 41.2000, 32.4000, 52.5000, 55.2000, 46.6000, 30.0000, 47.0000,\n",
       "         34.2000, 40.2000, 53.5000, 21.8000, 13.0000, 53.7000, 23.7000, 23.5000,\n",
       "         61.9000, 24.7000, 32.2000, 27.7000, 31.1000, 55.0000, 43.5000, 26.2000,\n",
       "         40.8000, 24.7000, 45.3000, 23.1000, 34.6000, 58.0000, 29.5000, 29.7000,\n",
       "         31.6000, 26.5000])]"
      ]
     },
     "execution_count": 15,
     "metadata": {},
     "output_type": "execute_result"
    }
   ],
   "source": [
    "#getting one sample batch\n",
    "next(iter(train_loader))"
   ]
  },
  {
   "cell_type": "code",
   "execution_count": 16,
   "id": "49b1be56-24bf-4b74-b717-1d084e19c28f",
   "metadata": {},
   "outputs": [
    {
     "name": "stdout",
     "output_type": "stream",
     "text": [
      "torch.Size([50, 7])\n",
      "torch.Size([50])\n"
     ]
    }
   ],
   "source": [
    "print(x_test.shape)\n",
    "print(y_test.shape)\n",
    "\n",
    "test_dataset = TensorDataset(x_test,y_test)\n",
    "#test can have bigger batch cause it does not need gradiant so cpu is free and bigger batch can be solved faste \n",
    "\n",
    "test_loader = DataLoader(test_dataset, batch_size = 50 , shuffle= False)"
   ]
  },
  {
   "cell_type": "markdown",
   "id": "5a314dcb-9f93-469b-874b-861b3fedbf52",
   "metadata": {},
   "source": [
    " 💠define model"
   ]
  },
  {
   "cell_type": "code",
   "execution_count": 33,
   "id": "a321632a-8b21-4167-995f-b345a9c8f891",
   "metadata": {},
   "outputs": [],
   "source": [
    "num_feats=7\n",
    "out_feat=1\n",
    "h1=68\n",
    "h2=32\n",
    "\n",
    "model = nn.Sequential(nn.Linear(num_feats,h1),\n",
    "                      nn.ReLU(),\n",
    "                      nn.Linear(h1,h2),\n",
    "                      nn.ReLU(),\n",
    "                      nn.Linear(h2,out_feat))"
   ]
  },
  {
   "cell_type": "code",
   "execution_count": 34,
   "id": "7e840ae8-4745-459d-9660-b0980e563b48",
   "metadata": {},
   "outputs": [],
   "source": [
    "loss_fn= nn.MSELoss()\n",
    "optimizer = optim.SGD(model.parameters(),lr=0.01)"
   ]
  },
  {
   "cell_type": "markdown",
   "id": "3a5bdca8-b4d6-4aa8-b1fa-996b05bb8620",
   "metadata": {},
   "source": [
    "💠train loop"
   ]
  },
  {
   "cell_type": "code",
   "execution_count": 84,
   "id": "cd5ad04b-3d9d-44a2-b9c9-a613afef5749",
   "metadata": {},
   "outputs": [
    {
     "name": "stdout",
     "output_type": "stream",
     "text": [
      "Epock: 0 : loss train = 74.17 \n",
      "Epock: 0 : loss test = 889.4\n",
      "\n",
      "Epock: 1 : loss train = 78.25 \n",
      "Epock: 1 : loss test = 2.063e+04\n",
      "\n",
      "Epock: 2 : loss train = 76.34 \n",
      "Epock: 2 : loss test = 1.366e+05\n",
      "\n",
      "Epock: 3 : loss train = 75.9 \n",
      "Epock: 3 : loss test = 1.428e+03\n",
      "\n",
      "Epock: 4 : loss train = 77.05 \n",
      "Epock: 4 : loss test = 3.87e+05\n",
      "\n",
      "Epock: 5 : loss train = 86.22 \n",
      "Epock: 5 : loss test = 2.444e+04\n",
      "\n",
      "Epock: 6 : loss train = 70.4 \n",
      "Epock: 6 : loss test = 2.761e+04\n",
      "\n",
      "Epock: 7 : loss train = 69.3 \n",
      "Epock: 7 : loss test = 1.802e+05\n",
      "\n",
      "Epock: 8 : loss train = 81.88 \n",
      "Epock: 8 : loss test = 6.762e+03\n",
      "\n",
      "Epock: 9 : loss train = 69.86 \n",
      "Epock: 9 : loss test = 5.76e+04\n",
      "\n",
      "Epock: 10 : loss train = 81.38 \n",
      "Epock: 10 : loss test = 2.235e+05\n",
      "\n",
      "Epock: 11 : loss train = 75.49 \n",
      "Epock: 11 : loss test = 1.8e+03\n",
      "\n",
      "Epock: 12 : loss train = 73.41 \n",
      "Epock: 12 : loss test = 9.842e+04\n",
      "\n",
      "Epock: 13 : loss train = 71.11 \n",
      "Epock: 13 : loss test = 3.624e+04\n",
      "\n",
      "Epock: 14 : loss train = 70.06 \n",
      "Epock: 14 : loss test = 2.364e+03\n",
      "\n",
      "Epock: 15 : loss train = 70.66 \n",
      "Epock: 15 : loss test = 6.422e+04\n",
      "\n",
      "Epock: 16 : loss train = 73.81 \n",
      "Epock: 16 : loss test = 6.492e+03\n",
      "\n",
      "Epock: 17 : loss train = 72.7 \n",
      "Epock: 17 : loss test = 1.744e+05\n",
      "\n",
      "Epock: 18 : loss train = 86.31 \n",
      "Epock: 18 : loss test = 1.069e+06\n",
      "\n",
      "Epock: 19 : loss train = 77.0 \n",
      "Epock: 19 : loss test = 2.343e+04\n",
      "\n",
      "Epock: 20 : loss train = 71.05 \n",
      "Epock: 20 : loss test = 2.78e+05\n",
      "\n",
      "Epock: 21 : loss train = 75.53 \n",
      "Epock: 21 : loss test = 3.356e+05\n",
      "\n",
      "Epock: 22 : loss train = 72.79 \n",
      "Epock: 22 : loss test = 9.707e+04\n",
      "\n",
      "Epock: 23 : loss train = 68.27 \n",
      "Epock: 23 : loss test = 4.584e+05\n",
      "\n",
      "Epock: 24 : loss train = 64.02 \n",
      "Epock: 24 : loss test = 4.269e+03\n",
      "\n",
      "Epock: 25 : loss train = 70.82 \n",
      "Epock: 25 : loss test = 1.619e+05\n",
      "\n",
      "Epock: 26 : loss train = 72.26 \n",
      "Epock: 26 : loss test = 5.099e+06\n",
      "\n",
      "Epock: 27 : loss train = 76.74 \n",
      "Epock: 27 : loss test = 9.307e+05\n",
      "\n",
      "Epock: 28 : loss train = 84.61 \n",
      "Epock: 28 : loss test = 3.624e+04\n",
      "\n",
      "Epock: 29 : loss train = 78.5 \n",
      "Epock: 29 : loss test = 5.49e+03\n",
      "\n",
      "Epock: 30 : loss train = 68.68 \n",
      "Epock: 30 : loss test = 1.194e+04\n",
      "\n",
      "Epock: 31 : loss train = 82.23 \n",
      "Epock: 31 : loss test = 6.923e+05\n",
      "\n",
      "Epock: 32 : loss train = 73.57 \n",
      "Epock: 32 : loss test = 8.937e+04\n",
      "\n",
      "Epock: 33 : loss train = 64.35 \n",
      "Epock: 33 : loss test = 4.402e+03\n",
      "\n",
      "Epock: 34 : loss train = 90.45 \n",
      "Epock: 34 : loss test = 4.376e+03\n",
      "\n",
      "Epock: 35 : loss train = 65.04 \n",
      "Epock: 35 : loss test = 4.192e+03\n",
      "\n",
      "Epock: 36 : loss train = 82.42 \n",
      "Epock: 36 : loss test = 1.305e+04\n",
      "\n",
      "Epock: 37 : loss train = 73.95 \n",
      "Epock: 37 : loss test = 4.434e+04\n",
      "\n",
      "Epock: 38 : loss train = 73.32 \n",
      "Epock: 38 : loss test = 2.749e+03\n",
      "\n",
      "Epock: 39 : loss train = 60.95 \n",
      "Epock: 39 : loss test = 5.908e+03\n",
      "\n",
      "Epock: 40 : loss train = 63.83 \n",
      "Epock: 40 : loss test = 7.239e+03\n",
      "\n",
      "Epock: 41 : loss train = 69.3 \n",
      "Epock: 41 : loss test = 8.169e+04\n",
      "\n",
      "Epock: 42 : loss train = 117.3 \n",
      "Epock: 42 : loss test = 3.162e+03\n",
      "\n",
      "Epock: 43 : loss train = 72.33 \n",
      "Epock: 43 : loss test = 2.186e+05\n",
      "\n",
      "Epock: 44 : loss train = 81.54 \n",
      "Epock: 44 : loss test = 3.548e+03\n",
      "\n",
      "Epock: 45 : loss train = 73.77 \n",
      "Epock: 45 : loss test = 3.136e+03\n",
      "\n",
      "Epock: 46 : loss train = 74.8 \n",
      "Epock: 46 : loss test = 1.639e+03\n",
      "\n",
      "Epock: 47 : loss train = 78.79 \n",
      "Epock: 47 : loss test = 5.024e+03\n",
      "\n",
      "Epock: 48 : loss train = 76.51 \n",
      "Epock: 48 : loss test = 5.075e+03\n",
      "\n",
      "Epock: 49 : loss train = 78.74 \n",
      "Epock: 49 : loss test = 5.399e+03\n",
      "\n",
      "done\n"
     ]
    }
   ],
   "source": [
    "#we add losses of each batch and divide to len in irder to find a mean of each epoch's loss wich is more reliable\n",
    "num_epocks=50\n",
    "for epoch in range(num_epocks):\n",
    "    train_loss = 0\n",
    "    test_loss = 0\n",
    "    for x_batch,y_batch in train_loader:\n",
    "        yp = model(x_batch)\n",
    "        loss = loss_fn(yp.squeeze(),y_batch)\n",
    "        train_loss += loss\n",
    "        loss.backward()\n",
    "        optimizer.step()\n",
    "        optimizer.zero_grad()  \n",
    "    print(f'Epock: {epoch} : loss train = {train_loss/len(train_loader):.4} ')\n",
    "    # i use test instead of validation data\n",
    "    for x_batch, y_batch in test_loader:\n",
    "        yp = model(x_batch)\n",
    "        loss_t = loss_fn(yp.squeeze() , y_batch)\n",
    "        test_loss += loss_t\n",
    "    print(f'Epock: {epoch} : loss test = {test_loss/len(test_loader):.4}\\n')\n",
    "    \n",
    "print('done')"
   ]
  },
  {
   "cell_type": "code",
   "execution_count": 85,
   "id": "0801ee18-5f64-4d9e-bf9a-093e12204fcb",
   "metadata": {},
   "outputs": [],
   "source": [
    "#استفاده از معیار ارزیابی r_score"
   ]
  },
  {
   "cell_type": "code",
   "execution_count": 91,
   "id": "98a8a5af-af67-4d52-a1eb-dc923cd840df",
   "metadata": {},
   "outputs": [
    {
     "data": {
      "text/plain": [
       "-0.9127480999614395"
      ]
     },
     "execution_count": 91,
     "metadata": {},
     "output_type": "execute_result"
    }
   ],
   "source": [
    "yp_total=[]\n",
    "yt_total=[]\n",
    "# with torch.no_grad = detach : delete the autograd from tensor \n",
    "with torch.no_grad():\n",
    "    for x, y in test_loader:\n",
    "        yp = model(x)\n",
    "        yp_total.append(yp.squeeze())\n",
    "        yt_total.append(y)\n",
    "\n",
    "yp_total= torch.cat(yp_total)\n",
    "yt_total= torch.cat(yt_total)\n",
    "\n",
    "r2_score(yp_total,yt_total)\n"
   ]
  },
  {
   "cell_type": "code",
   "execution_count": 92,
   "id": "598bc446-341b-4b21-8f72-3ca9f6aace80",
   "metadata": {},
   "outputs": [
    {
     "data": {
      "text/plain": [
       "tensor([ 46.6728,  46.6728,  46.6728,  46.6728,  46.6728, 140.6326,  46.6728,\n",
       "         46.6728, 201.2061,  96.4900,  46.6728,  46.6728,  46.6728, 155.5869,\n",
       "         47.6224,  46.6728,  46.6728,  46.6728,  46.6728,  46.6728, 148.8643,\n",
       "         46.6728,  47.0815,  46.6728,  46.6728,  62.0924,  46.6728,  46.6728,\n",
       "         46.6728,  46.6728, 190.8156,  46.6728,  46.6728,  46.6728,  46.6728,\n",
       "        184.6516, 118.2506,  47.0798,  46.6728,  46.6728, 184.8112, 184.7497,\n",
       "         46.6728,  46.6728,  46.6728,  46.6728,  46.6728,  46.6728, 192.4851,\n",
       "        191.3396])"
      ]
     },
     "execution_count": 92,
     "metadata": {},
     "output_type": "execute_result"
    }
   ],
   "source": [
    "yp_total"
   ]
  },
  {
   "cell_type": "code",
   "execution_count": 90,
   "id": "3ae0b7df-fbdf-4983-a8b9-287e4395206c",
   "metadata": {},
   "outputs": [
    {
     "data": {
      "text/plain": [
       "tensor([37.9000, 42.2000, 47.3000, 54.8000, 43.1000, 32.1000, 40.3000, 46.7000,\n",
       "        18.8000, 22.1000, 41.4000, 58.1000, 39.3000, 23.8000, 34.3000, 50.5000,\n",
       "        70.1000, 37.4000, 42.3000, 47.7000, 29.3000, 51.6000, 24.6000, 47.9000,\n",
       "        38.8000, 27.0000, 56.2000, 33.6000, 47.0000, 57.1000, 22.1000, 25.0000,\n",
       "        34.2000, 49.3000, 55.1000, 27.3000, 22.9000, 25.3000, 47.7000, 46.2000,\n",
       "        15.9000, 18.2000, 34.7000, 34.1000, 53.9000, 38.3000, 42.0000, 61.5000,\n",
       "        13.4000, 13.2000])"
      ]
     },
     "execution_count": 90,
     "metadata": {},
     "output_type": "execute_result"
    }
   ],
   "source": [
    "yt_total"
   ]
  },
  {
   "cell_type": "code",
   "execution_count": null,
   "id": "b162a78f-560b-4bd5-b052-a3ec4db49402",
   "metadata": {},
   "outputs": [],
   "source": []
  },
  {
   "cell_type": "code",
   "execution_count": null,
   "id": "0b928d3b-09eb-44b3-a944-49a0484c7ac7",
   "metadata": {},
   "outputs": [],
   "source": []
  },
  {
   "cell_type": "code",
   "execution_count": null,
   "id": "af38dc5d-5416-41bd-9f53-a5d4c5d70b7c",
   "metadata": {},
   "outputs": [],
   "source": []
  },
  {
   "cell_type": "code",
   "execution_count": null,
   "id": "51d184f7-d31d-4d3f-bd75-a6459d02bbde",
   "metadata": {},
   "outputs": [],
   "source": []
  },
  {
   "cell_type": "code",
   "execution_count": null,
   "id": "5a46e3fc-ec70-4fcd-917e-ef68b6fbfdf9",
   "metadata": {},
   "outputs": [],
   "source": []
  }
 ],
 "metadata": {
  "kernelspec": {
   "display_name": "Python 3 (ipykernel)",
   "language": "python",
   "name": "python3"
  },
  "language_info": {
   "codemirror_mode": {
    "name": "ipython",
    "version": 3
   },
   "file_extension": ".py",
   "mimetype": "text/x-python",
   "name": "python",
   "nbconvert_exporter": "python",
   "pygments_lexer": "ipython3",
   "version": "3.12.7"
  }
 },
 "nbformat": 4,
 "nbformat_minor": 5
}
