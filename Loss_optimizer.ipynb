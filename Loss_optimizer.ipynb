{
 "cells": [
  {
   "cell_type": "code",
   "execution_count": 1,
   "id": "eb685811-a21f-47bb-9050-15b8ce8f14fb",
   "metadata": {},
   "outputs": [],
   "source": [
    "import torch\n",
    "import torch.nn as nn\n",
    "import pandas as pd\n",
    "import torch.nn.functional as F\n",
    "import torch.optim as optim\n",
    "from torch.utils.data import DataLoader , TensorDataset\n",
    "from sklearn.model_selection import train_test_split \n",
    "from torchmetrics import Accuracy , HingeLoss"
   ]
  },
  {
   "cell_type": "code",
   "execution_count": 2,
   "id": "0aa0b15e-9e13-46b3-949d-39992d611af3",
   "metadata": {},
   "outputs": [],
   "source": [
    "train_path = 'https://raw.githubusercontent.com/FabioNicotra/fabionicotra.github.io/main/02_MobileClassification/train.csv'\n",
    "test_path = 'https://raw.githubusercontent.com/FabioNicotra/fabionicotra.github.io/main/02_MobileClassification/test.csv'\n",
    "train_df = pd.read_csv(train_path)\n",
    "test_df = pd.read_csv(test_path)"
   ]
  },
  {
   "cell_type": "code",
   "execution_count": 3,
   "id": "6f887ade-4dc3-4e76-a026-738dbb34f27b",
   "metadata": {},
   "outputs": [
    {
     "data": {
      "text/html": [
       "<div>\n",
       "<style scoped>\n",
       "    .dataframe tbody tr th:only-of-type {\n",
       "        vertical-align: middle;\n",
       "    }\n",
       "\n",
       "    .dataframe tbody tr th {\n",
       "        vertical-align: top;\n",
       "    }\n",
       "\n",
       "    .dataframe thead th {\n",
       "        text-align: right;\n",
       "    }\n",
       "</style>\n",
       "<table border=\"1\" class=\"dataframe\">\n",
       "  <thead>\n",
       "    <tr style=\"text-align: right;\">\n",
       "      <th></th>\n",
       "      <th>battery_power</th>\n",
       "      <th>blue</th>\n",
       "      <th>clock_speed</th>\n",
       "      <th>dual_sim</th>\n",
       "      <th>fc</th>\n",
       "      <th>four_g</th>\n",
       "      <th>int_memory</th>\n",
       "      <th>m_dep</th>\n",
       "      <th>mobile_wt</th>\n",
       "      <th>n_cores</th>\n",
       "      <th>...</th>\n",
       "      <th>px_height</th>\n",
       "      <th>px_width</th>\n",
       "      <th>ram</th>\n",
       "      <th>sc_h</th>\n",
       "      <th>sc_w</th>\n",
       "      <th>talk_time</th>\n",
       "      <th>three_g</th>\n",
       "      <th>touch_screen</th>\n",
       "      <th>wifi</th>\n",
       "      <th>price_range</th>\n",
       "    </tr>\n",
       "  </thead>\n",
       "  <tbody>\n",
       "    <tr>\n",
       "      <th>0</th>\n",
       "      <td>842</td>\n",
       "      <td>0</td>\n",
       "      <td>2.2</td>\n",
       "      <td>0</td>\n",
       "      <td>1</td>\n",
       "      <td>0</td>\n",
       "      <td>7</td>\n",
       "      <td>0.6</td>\n",
       "      <td>188</td>\n",
       "      <td>2</td>\n",
       "      <td>...</td>\n",
       "      <td>20</td>\n",
       "      <td>756</td>\n",
       "      <td>2549</td>\n",
       "      <td>9</td>\n",
       "      <td>7</td>\n",
       "      <td>19</td>\n",
       "      <td>0</td>\n",
       "      <td>0</td>\n",
       "      <td>1</td>\n",
       "      <td>1</td>\n",
       "    </tr>\n",
       "    <tr>\n",
       "      <th>1</th>\n",
       "      <td>1021</td>\n",
       "      <td>1</td>\n",
       "      <td>0.5</td>\n",
       "      <td>1</td>\n",
       "      <td>0</td>\n",
       "      <td>1</td>\n",
       "      <td>53</td>\n",
       "      <td>0.7</td>\n",
       "      <td>136</td>\n",
       "      <td>3</td>\n",
       "      <td>...</td>\n",
       "      <td>905</td>\n",
       "      <td>1988</td>\n",
       "      <td>2631</td>\n",
       "      <td>17</td>\n",
       "      <td>3</td>\n",
       "      <td>7</td>\n",
       "      <td>1</td>\n",
       "      <td>1</td>\n",
       "      <td>0</td>\n",
       "      <td>2</td>\n",
       "    </tr>\n",
       "    <tr>\n",
       "      <th>2</th>\n",
       "      <td>563</td>\n",
       "      <td>1</td>\n",
       "      <td>0.5</td>\n",
       "      <td>1</td>\n",
       "      <td>2</td>\n",
       "      <td>1</td>\n",
       "      <td>41</td>\n",
       "      <td>0.9</td>\n",
       "      <td>145</td>\n",
       "      <td>5</td>\n",
       "      <td>...</td>\n",
       "      <td>1263</td>\n",
       "      <td>1716</td>\n",
       "      <td>2603</td>\n",
       "      <td>11</td>\n",
       "      <td>2</td>\n",
       "      <td>9</td>\n",
       "      <td>1</td>\n",
       "      <td>1</td>\n",
       "      <td>0</td>\n",
       "      <td>2</td>\n",
       "    </tr>\n",
       "    <tr>\n",
       "      <th>3</th>\n",
       "      <td>615</td>\n",
       "      <td>1</td>\n",
       "      <td>2.5</td>\n",
       "      <td>0</td>\n",
       "      <td>0</td>\n",
       "      <td>0</td>\n",
       "      <td>10</td>\n",
       "      <td>0.8</td>\n",
       "      <td>131</td>\n",
       "      <td>6</td>\n",
       "      <td>...</td>\n",
       "      <td>1216</td>\n",
       "      <td>1786</td>\n",
       "      <td>2769</td>\n",
       "      <td>16</td>\n",
       "      <td>8</td>\n",
       "      <td>11</td>\n",
       "      <td>1</td>\n",
       "      <td>0</td>\n",
       "      <td>0</td>\n",
       "      <td>2</td>\n",
       "    </tr>\n",
       "    <tr>\n",
       "      <th>4</th>\n",
       "      <td>1821</td>\n",
       "      <td>1</td>\n",
       "      <td>1.2</td>\n",
       "      <td>0</td>\n",
       "      <td>13</td>\n",
       "      <td>1</td>\n",
       "      <td>44</td>\n",
       "      <td>0.6</td>\n",
       "      <td>141</td>\n",
       "      <td>2</td>\n",
       "      <td>...</td>\n",
       "      <td>1208</td>\n",
       "      <td>1212</td>\n",
       "      <td>1411</td>\n",
       "      <td>8</td>\n",
       "      <td>2</td>\n",
       "      <td>15</td>\n",
       "      <td>1</td>\n",
       "      <td>1</td>\n",
       "      <td>0</td>\n",
       "      <td>1</td>\n",
       "    </tr>\n",
       "  </tbody>\n",
       "</table>\n",
       "<p>5 rows × 21 columns</p>\n",
       "</div>"
      ],
      "text/plain": [
       "   battery_power  blue  clock_speed  dual_sim  fc  four_g  int_memory  m_dep  \\\n",
       "0            842     0          2.2         0   1       0           7    0.6   \n",
       "1           1021     1          0.5         1   0       1          53    0.7   \n",
       "2            563     1          0.5         1   2       1          41    0.9   \n",
       "3            615     1          2.5         0   0       0          10    0.8   \n",
       "4           1821     1          1.2         0  13       1          44    0.6   \n",
       "\n",
       "   mobile_wt  n_cores  ...  px_height  px_width   ram  sc_h  sc_w  talk_time  \\\n",
       "0        188        2  ...         20       756  2549     9     7         19   \n",
       "1        136        3  ...        905      1988  2631    17     3          7   \n",
       "2        145        5  ...       1263      1716  2603    11     2          9   \n",
       "3        131        6  ...       1216      1786  2769    16     8         11   \n",
       "4        141        2  ...       1208      1212  1411     8     2         15   \n",
       "\n",
       "   three_g  touch_screen  wifi  price_range  \n",
       "0        0             0     1            1  \n",
       "1        1             1     0            2  \n",
       "2        1             1     0            2  \n",
       "3        1             0     0            2  \n",
       "4        1             1     0            1  \n",
       "\n",
       "[5 rows x 21 columns]"
      ]
     },
     "execution_count": 3,
     "metadata": {},
     "output_type": "execute_result"
    }
   ],
   "source": [
    "train_df.head()"
   ]
  },
  {
   "cell_type": "code",
   "execution_count": 4,
   "id": "3412629d-7588-4422-abb4-b5de52285dcd",
   "metadata": {},
   "outputs": [
    {
     "data": {
      "text/html": [
       "<div>\n",
       "<style scoped>\n",
       "    .dataframe tbody tr th:only-of-type {\n",
       "        vertical-align: middle;\n",
       "    }\n",
       "\n",
       "    .dataframe tbody tr th {\n",
       "        vertical-align: top;\n",
       "    }\n",
       "\n",
       "    .dataframe thead th {\n",
       "        text-align: right;\n",
       "    }\n",
       "</style>\n",
       "<table border=\"1\" class=\"dataframe\">\n",
       "  <thead>\n",
       "    <tr style=\"text-align: right;\">\n",
       "      <th></th>\n",
       "      <th>battery_power</th>\n",
       "      <th>blue</th>\n",
       "      <th>clock_speed</th>\n",
       "      <th>dual_sim</th>\n",
       "      <th>fc</th>\n",
       "      <th>four_g</th>\n",
       "      <th>int_memory</th>\n",
       "      <th>m_dep</th>\n",
       "      <th>mobile_wt</th>\n",
       "      <th>n_cores</th>\n",
       "      <th>pc</th>\n",
       "      <th>px_height</th>\n",
       "      <th>px_width</th>\n",
       "      <th>ram</th>\n",
       "      <th>sc_h</th>\n",
       "      <th>sc_w</th>\n",
       "      <th>talk_time</th>\n",
       "      <th>three_g</th>\n",
       "      <th>touch_screen</th>\n",
       "      <th>wifi</th>\n",
       "    </tr>\n",
       "  </thead>\n",
       "  <tbody>\n",
       "    <tr>\n",
       "      <th>0</th>\n",
       "      <td>842</td>\n",
       "      <td>0</td>\n",
       "      <td>2.2</td>\n",
       "      <td>0</td>\n",
       "      <td>1</td>\n",
       "      <td>0</td>\n",
       "      <td>7</td>\n",
       "      <td>0.6</td>\n",
       "      <td>188</td>\n",
       "      <td>2</td>\n",
       "      <td>2</td>\n",
       "      <td>20</td>\n",
       "      <td>756</td>\n",
       "      <td>2549</td>\n",
       "      <td>9</td>\n",
       "      <td>7</td>\n",
       "      <td>19</td>\n",
       "      <td>0</td>\n",
       "      <td>0</td>\n",
       "      <td>1</td>\n",
       "    </tr>\n",
       "    <tr>\n",
       "      <th>1</th>\n",
       "      <td>1021</td>\n",
       "      <td>1</td>\n",
       "      <td>0.5</td>\n",
       "      <td>1</td>\n",
       "      <td>0</td>\n",
       "      <td>1</td>\n",
       "      <td>53</td>\n",
       "      <td>0.7</td>\n",
       "      <td>136</td>\n",
       "      <td>3</td>\n",
       "      <td>6</td>\n",
       "      <td>905</td>\n",
       "      <td>1988</td>\n",
       "      <td>2631</td>\n",
       "      <td>17</td>\n",
       "      <td>3</td>\n",
       "      <td>7</td>\n",
       "      <td>1</td>\n",
       "      <td>1</td>\n",
       "      <td>0</td>\n",
       "    </tr>\n",
       "    <tr>\n",
       "      <th>2</th>\n",
       "      <td>563</td>\n",
       "      <td>1</td>\n",
       "      <td>0.5</td>\n",
       "      <td>1</td>\n",
       "      <td>2</td>\n",
       "      <td>1</td>\n",
       "      <td>41</td>\n",
       "      <td>0.9</td>\n",
       "      <td>145</td>\n",
       "      <td>5</td>\n",
       "      <td>6</td>\n",
       "      <td>1263</td>\n",
       "      <td>1716</td>\n",
       "      <td>2603</td>\n",
       "      <td>11</td>\n",
       "      <td>2</td>\n",
       "      <td>9</td>\n",
       "      <td>1</td>\n",
       "      <td>1</td>\n",
       "      <td>0</td>\n",
       "    </tr>\n",
       "    <tr>\n",
       "      <th>3</th>\n",
       "      <td>615</td>\n",
       "      <td>1</td>\n",
       "      <td>2.5</td>\n",
       "      <td>0</td>\n",
       "      <td>0</td>\n",
       "      <td>0</td>\n",
       "      <td>10</td>\n",
       "      <td>0.8</td>\n",
       "      <td>131</td>\n",
       "      <td>6</td>\n",
       "      <td>9</td>\n",
       "      <td>1216</td>\n",
       "      <td>1786</td>\n",
       "      <td>2769</td>\n",
       "      <td>16</td>\n",
       "      <td>8</td>\n",
       "      <td>11</td>\n",
       "      <td>1</td>\n",
       "      <td>0</td>\n",
       "      <td>0</td>\n",
       "    </tr>\n",
       "    <tr>\n",
       "      <th>4</th>\n",
       "      <td>1821</td>\n",
       "      <td>1</td>\n",
       "      <td>1.2</td>\n",
       "      <td>0</td>\n",
       "      <td>13</td>\n",
       "      <td>1</td>\n",
       "      <td>44</td>\n",
       "      <td>0.6</td>\n",
       "      <td>141</td>\n",
       "      <td>2</td>\n",
       "      <td>14</td>\n",
       "      <td>1208</td>\n",
       "      <td>1212</td>\n",
       "      <td>1411</td>\n",
       "      <td>8</td>\n",
       "      <td>2</td>\n",
       "      <td>15</td>\n",
       "      <td>1</td>\n",
       "      <td>1</td>\n",
       "      <td>0</td>\n",
       "    </tr>\n",
       "  </tbody>\n",
       "</table>\n",
       "</div>"
      ],
      "text/plain": [
       "   battery_power  blue  clock_speed  dual_sim  fc  four_g  int_memory  m_dep  \\\n",
       "0            842     0          2.2         0   1       0           7    0.6   \n",
       "1           1021     1          0.5         1   0       1          53    0.7   \n",
       "2            563     1          0.5         1   2       1          41    0.9   \n",
       "3            615     1          2.5         0   0       0          10    0.8   \n",
       "4           1821     1          1.2         0  13       1          44    0.6   \n",
       "\n",
       "   mobile_wt  n_cores  pc  px_height  px_width   ram  sc_h  sc_w  talk_time  \\\n",
       "0        188        2   2         20       756  2549     9     7         19   \n",
       "1        136        3   6        905      1988  2631    17     3          7   \n",
       "2        145        5   6       1263      1716  2603    11     2          9   \n",
       "3        131        6   9       1216      1786  2769    16     8         11   \n",
       "4        141        2  14       1208      1212  1411     8     2         15   \n",
       "\n",
       "   three_g  touch_screen  wifi  \n",
       "0        0             0     1  \n",
       "1        1             1     0  \n",
       "2        1             1     0  \n",
       "3        1             0     0  \n",
       "4        1             1     0  "
      ]
     },
     "execution_count": 4,
     "metadata": {},
     "output_type": "execute_result"
    }
   ],
   "source": [
    "x = train_df.drop('price_range' , axis=1)\n",
    "x.head()"
   ]
  },
  {
   "cell_type": "code",
   "execution_count": 5,
   "id": "dae9ada4-4853-4954-9254-bffcc0637db2",
   "metadata": {},
   "outputs": [
    {
     "data": {
      "text/plain": [
       "0       1\n",
       "1       2\n",
       "2       2\n",
       "3       2\n",
       "4       1\n",
       "       ..\n",
       "1995    0\n",
       "1996    2\n",
       "1997    3\n",
       "1998    0\n",
       "1999    3\n",
       "Name: price_range, Length: 2000, dtype: int64"
      ]
     },
     "execution_count": 5,
     "metadata": {},
     "output_type": "execute_result"
    }
   ],
   "source": [
    "y = train_df['price_range']\n",
    "y"
   ]
  },
  {
   "cell_type": "code",
   "execution_count": 6,
   "id": "a17b4f34-d655-44d4-bbd3-ebf346ec44bf",
   "metadata": {},
   "outputs": [],
   "source": [
    "x_train , x_validation , y_train , y_validation = train_test_split(x , y , train_size = 0.7 , random_state = 101)"
   ]
  },
  {
   "cell_type": "code",
   "execution_count": 7,
   "id": "357467c5-ff06-4772-bce4-b510c0ad09ad",
   "metadata": {},
   "outputs": [
    {
     "data": {
      "text/plain": [
       "(1400, 20)"
      ]
     },
     "execution_count": 7,
     "metadata": {},
     "output_type": "execute_result"
    }
   ],
   "source": [
    "x_train.shape"
   ]
  },
  {
   "cell_type": "code",
   "execution_count": 8,
   "id": "c2ce972b-263a-4eb9-8993-99304b2c5600",
   "metadata": {},
   "outputs": [
    {
     "data": {
      "text/plain": [
       "(600, 20)"
      ]
     },
     "execution_count": 8,
     "metadata": {},
     "output_type": "execute_result"
    }
   ],
   "source": [
    "x_validation.shape"
   ]
  },
  {
   "cell_type": "code",
   "execution_count": 9,
   "id": "7a811f77-a372-4fff-9351-76e557291e4a",
   "metadata": {},
   "outputs": [],
   "source": [
    "x_train = torch.FloatTensor(x_train.values)\n",
    "x_validation = torch.FloatTensor(x_validation.values)\n",
    "\n",
    "y_train = torch.LongTensor(y_train.values)\n",
    "y_validation = torch.LongTensor(y_validation.values)"
   ]
  },
  {
   "cell_type": "code",
   "execution_count": 10,
   "id": "300cb592-40d2-4d7c-aa50-117b6e931023",
   "metadata": {},
   "outputs": [],
   "source": [
    "mu = x_train.mean(dim = 0)\n",
    "std = x_train.std(dim = 0)"
   ]
  },
  {
   "cell_type": "code",
   "execution_count": 11,
   "id": "06939c46-030e-4656-bc82-ce28427b9e2b",
   "metadata": {},
   "outputs": [],
   "source": [
    "x_train = (x_train - mu) / std\n",
    "x_validation = (x_validation - mu) / std"
   ]
  },
  {
   "cell_type": "code",
   "execution_count": 12,
   "id": "a2c13c65-5370-4a91-a624-09d18e69dd8d",
   "metadata": {},
   "outputs": [
    {
     "data": {
      "text/plain": [
       "(tensor([[-0.2050,  1.0155,  1.4617,  ...,  0.5683, -1.0068,  0.9897],\n",
       "         [-1.3516, -0.9841,  0.4723,  ..., -1.7582, -1.0068,  0.9897],\n",
       "         [-1.6766,  1.0155,  1.5854,  ...,  0.5683, -1.0068, -1.0097],\n",
       "         ...,\n",
       "         [ 0.6821,  1.0155, -0.0223,  ...,  0.5683, -1.0068, -1.0097],\n",
       "         [ 0.8220, -0.9841, -1.2591,  ...,  0.5683, -1.0068,  0.9897],\n",
       "         [ 0.4022, -0.9841, -0.3934,  ...,  0.5683,  0.9925,  0.9897]]),\n",
       " tensor([2, 2, 2,  ..., 0, 2, 0]))"
      ]
     },
     "execution_count": 12,
     "metadata": {},
     "output_type": "execute_result"
    }
   ],
   "source": [
    "train_dataset = TensorDataset(x_train , y_train)\n",
    "valid_dataset = TensorDataset(x_validation , y_validation)\n",
    "\n",
    "train_dataset.tensors"
   ]
  },
  {
   "cell_type": "code",
   "execution_count": 13,
   "id": "2bc59006-83bb-44ff-a3c3-aac7a666b4d5",
   "metadata": {},
   "outputs": [
    {
     "name": "stdout",
     "output_type": "stream",
     "text": [
      "14\n"
     ]
    }
   ],
   "source": [
    "train_loader = DataLoader(train_dataset ,100 , True )\n",
    "valid_loader = DataLoader(valid_dataset ,200 , False )\n",
    "print(len(train_loader))"
   ]
  },
  {
   "cell_type": "code",
   "execution_count": 62,
   "id": "06410595-281b-4d29-bfda-5ead493f52db",
   "metadata": {},
   "outputs": [],
   "source": [
    "num_featur = 20\n",
    "num_classes=4\n",
    "h1 = 64\n",
    "h2 = 32\n",
    "\n",
    "model = nn.Sequential(\n",
    "    nn.Linear(num_featur , h1),\n",
    "    nn.ReLU(),\n",
    "    nn.Linear(h1 , h2),\n",
    "    nn.ReLU(),\n",
    "    nn.Linear(h2 , num_classes)\n",
    ")"
   ]
  },
  {
   "cell_type": "markdown",
   "id": "fb8d12fe-e4d5-4c9a-91ad-c5ca497cd6e2",
   "metadata": {},
   "source": [
    "📌 Loss"
   ]
  },
  {
   "cell_type": "code",
   "execution_count": 63,
   "id": "f7d97030-04bb-4c41-8ede-d68a5b891ed2",
   "metadata": {},
   "outputs": [],
   "source": [
    " #loss_fn = HingeLoss(task=\"multiclass\" , num_classes = 4)"
   ]
  },
  {
   "cell_type": "code",
   "execution_count": 64,
   "id": "07ac9438-a414-48a1-97fe-484a5d4c7b20",
   "metadata": {},
   "outputs": [],
   "source": [
    "#loss_fn = nn.NLLLoss()"
   ]
  },
  {
   "cell_type": "code",
   "execution_count": 65,
   "id": "af28500d-0502-4b2f-a19a-e8d9cf374093",
   "metadata": {},
   "outputs": [
    {
     "data": {
      "text/plain": [
       "'def loss_fn (outputs , targets):\\n    outputs = F.log_softmax(outputs , dim = 1)\\n    ## فرمولش کراس انتروپی اینه :  loss = - yt log(yp)\\n    return F.nll_loss(outputs , targets)\\n    '"
      ]
     },
     "execution_count": 65,
     "metadata": {},
     "output_type": "execute_result"
    }
   ],
   "source": [
    "#تعریف کراس انتروپی از طریق nnloss\n",
    "\"\"\"def loss_fn (outputs , targets):\n",
    "    outputs = F.log_softmax(outputs , dim = 1)\n",
    "    ## فرمولش کراس انتروپی اینه :  loss = - yt log(yp)\n",
    "    return F.nll_loss(outputs , targets)\n",
    "    \"\"\""
   ]
  },
  {
   "cell_type": "code",
   "execution_count": 66,
   "id": "b696d030-2743-40ad-a55d-227649c27865",
   "metadata": {},
   "outputs": [],
   "source": [
    "#defin focal_loss\n",
    "#فرمول فوکال لاس اینه : yp = softmax(output) ----->aipha (1-yp)**gama * log(yp)\n",
    "def loss_fn (outputs , targets , alpha =0.25 , gamma = 2):\n",
    "    weights = torch.ones( outputs.shape[1] ) * alpha\n",
    "    prob = F.softmax(outputs , dim = 1)\n",
    "    outputs = (1-prob)**gamma * torch.log(prob)\n",
    "    #alpha is defines as weights and instead of pultypluying to output we git it as a weigth which do the same\n",
    "    return F.nll_loss(outputs , targets , weights)\n"
   ]
  },
  {
   "cell_type": "markdown",
   "id": "ea1c4930-9a85-4af8-815a-e100f544c44c",
   "metadata": {},
   "source": [
    "📌 optimizer "
   ]
  },
  {
   "cell_type": "code",
   "execution_count": 67,
   "id": "11001ee1-e284-43f0-900a-04a84131d7c7",
   "metadata": {},
   "outputs": [],
   "source": [
    "#optimizer = optim.SGD(model.parameters() , lr =0.01)\n",
    "#optimizer = optim.SGD(model.parameters() , lr =0.01 , momentum= 0.9 )\n",
    "#optimizer = optim.SGD(model.parameters() , lr =0.01 , momentum= 0.9 , nesterov=True)\n",
    "#optimizer = optim.RMSprop(model.parameters() , lr=0.01 , alpha = 0.99 )\n",
    "optimizer = optim.RMSprop(model.parameters() , lr=0.0001 )"
   ]
  },
  {
   "cell_type": "code",
   "execution_count": 68,
   "id": "2709c9ff-a393-4004-89cc-e5013499a2ae",
   "metadata": {},
   "outputs": [],
   "source": [
    "class AverageMeter(object):\n",
    "    #computes and store the average and current value  \n",
    "    def __init__(self):\n",
    "        self.reset()\n",
    "    def reset(self):\n",
    "        self.val=0\n",
    "        self.avg=0\n",
    "        self.sum=0\n",
    "        self.count=0\n",
    "    def update(self , val , n=1):\n",
    "        self.val=val\n",
    "        self.sum += val*n\n",
    "        self.count +=n\n",
    "        self.avg = self.sum /self.count"
   ]
  },
  {
   "cell_type": "code",
   "execution_count": 69,
   "id": "a3de2c14-9d51-4756-9c48-075afad9b728",
   "metadata": {},
   "outputs": [
    {
     "data": {
      "text/plain": [
       "'cpu'"
      ]
     },
     "execution_count": 69,
     "metadata": {},
     "output_type": "execute_result"
    }
   ],
   "source": [
    "device = 'cuda' if torch.cuda.is_available() else 'cpu'\n",
    "device"
   ]
  },
  {
   "cell_type": "code",
   "execution_count": 70,
   "id": "eaf37711-15e6-4c63-8c31-44ea102883f2",
   "metadata": {},
   "outputs": [
    {
     "name": "stdout",
     "output_type": "stream",
     "text": [
      "epoch = 0\n",
      "Train:      loss = 0.7652 , accuracy = 0.38\n",
      "Valid:      loss = 0.7859 , accuracy = 0.235\n",
      "\n",
      "epoch = 10\n",
      "Train:      loss = 0.6991 , accuracy = 0.59\n",
      "Valid:      loss = 0.7145 , accuracy = 0.44\n",
      "\n",
      "epoch = 20\n",
      "Train:      loss = 0.6017 , accuracy = 0.68\n",
      "Valid:      loss = 0.6183 , accuracy = 0.54\n",
      "\n",
      "epoch = 30\n",
      "Train:      loss = 0.4792 , accuracy = 0.72\n",
      "Valid:      loss = 0.5182 , accuracy = 0.645\n",
      "\n",
      "epoch = 40\n",
      "Train:      loss = 0.3976 , accuracy = 0.74\n",
      "Valid:      loss = 0.4238 , accuracy = 0.7\n",
      "\n",
      "epoch = 50\n",
      "Train:      loss = 0.3147 , accuracy = 0.82\n",
      "Valid:      loss = 0.3434 , accuracy = 0.795\n",
      "\n",
      "epoch = 60\n",
      "Train:      loss = 0.2252 , accuracy = 0.88\n",
      "Valid:      loss = 0.2769 , accuracy = 0.815\n",
      "\n",
      "epoch = 70\n",
      "Train:      loss = 0.1945 , accuracy = 0.9\n",
      "Valid:      loss = 0.2236 , accuracy = 0.865\n",
      "\n",
      "epoch = 80\n",
      "Train:      loss = 0.1477 , accuracy = 0.95\n",
      "Valid:      loss = 0.1805 , accuracy = 0.88\n",
      "\n",
      "epoch = 90\n",
      "Train:      loss = 0.124 , accuracy = 0.9\n",
      "Valid:      loss = 0.1472 , accuracy = 0.91\n",
      "\n",
      "epoch = 100\n",
      "Train:      loss = 0.107 , accuracy = 0.94\n",
      "Valid:      loss = 0.1207 , accuracy = 0.91\n",
      "\n",
      "epoch = 110\n",
      "Train:      loss = 0.08078 , accuracy = 0.96\n",
      "Valid:      loss = 0.101 , accuracy = 0.92\n",
      "\n",
      "epoch = 120\n",
      "Train:      loss = 0.06923 , accuracy = 0.97\n",
      "Valid:      loss = 0.08535 , accuracy = 0.925\n",
      "\n",
      "epoch = 130\n",
      "Train:      loss = 0.05389 , accuracy = 0.95\n",
      "Valid:      loss = 0.07381 , accuracy = 0.925\n",
      "\n",
      "epoch = 140\n",
      "Train:      loss = 0.04178 , accuracy = 1.0\n",
      "Valid:      loss = 0.06537 , accuracy = 0.93\n",
      "\n",
      "epoch = 150\n",
      "Train:      loss = 0.03722 , accuracy = 0.98\n",
      "Valid:      loss = 0.05897 , accuracy = 0.93\n",
      "\n",
      "epoch = 160\n",
      "Train:      loss = 0.03483 , accuracy = 0.98\n",
      "Valid:      loss = 0.0538 , accuracy = 0.935\n",
      "\n",
      "epoch = 170\n",
      "Train:      loss = 0.04053 , accuracy = 0.93\n",
      "Valid:      loss = 0.05005 , accuracy = 0.93\n",
      "\n",
      "epoch = 180\n",
      "Train:      loss = 0.02381 , accuracy = 1.0\n",
      "Valid:      loss = 0.04707 , accuracy = 0.935\n",
      "\n",
      "epoch = 190\n",
      "Train:      loss = 0.02585 , accuracy = 0.99\n",
      "Valid:      loss = 0.04479 , accuracy = 0.935\n",
      "\n"
     ]
    }
   ],
   "source": [
    "num_epoch  = 200\n",
    "loss_train_list = []\n",
    "loss_valid_list = []\n",
    "acc_train_list = []\n",
    "acc_valid_list =[]\n",
    "\n",
    "for epoch in range (num_epoch):\n",
    "    for i , (inputs , targets) in enumerate(train_loader):\n",
    "        acc_train = Accuracy(task=\"multiclass\", num_classes=4).to(device)\n",
    "        loss_train = AverageMeter()\n",
    "        inputs = inputs.to(device)\n",
    "        targets = targets.to(device)\n",
    "        yp = model(inputs)        \n",
    "        loss = loss_fn(yp , targets)\n",
    "        loss.backward()\n",
    "        optimizer.step()\n",
    "        optimizer.zero_grad()\n",
    "        loss_train.update(loss.item())\n",
    "        acc_train(yp , targets)\n",
    "    \n",
    "    with torch.no_grad():\n",
    "        for i , (inputs,targets) in enumerate(valid_loader):\n",
    "            acc_valid = Accuracy(task=\"multiclass\", num_classes=4).to(device)\n",
    "            loss_valid = AverageMeter()\n",
    "            inputs = inputs.to(device)\n",
    "            targets = targets.to(device)       \n",
    "            yp = model(inputs)\n",
    "            loss = loss_fn( yp , targets )\n",
    "            loss_valid.update(loss.item())\n",
    "            acc_valid(yp , targets)\n",
    "\n",
    "                \n",
    "    loss_train_list.append(loss_train.avg)\n",
    "    loss_valid_list.append(loss_valid.avg)\n",
    "\n",
    "    acc_train_list.append(acc_train.compute())\n",
    "    acc_valid_list.append(acc_valid.compute())\n",
    "\n",
    "    if (epoch % 10 ==0):\n",
    "        print(f'epoch = {epoch}')\n",
    "        print(f'Train:      loss = {loss_train.avg:.4} , accuracy = {acc_train.compute():.4}')  \n",
    "        print(f'Valid:      loss = {loss_valid.avg:.4} , accuracy = {acc_valid.compute():.4}\\n')\n"
   ]
  },
  {
   "cell_type": "code",
   "execution_count": 44,
   "id": "423519e0-40b7-4635-9142-68250fab61e3",
   "metadata": {},
   "outputs": [],
   "source": [
    "optim_name = 'sgd_nest'\n",
    "torch.save(torch.tensor(acc_train_list),f'{optim_name}-acc-train.pt')\n",
    "torch.save(torch.tensor(acc_valid_list),f'{optim_name}-acc-valid.pt')\n",
    "\n",
    "torch.save(torch.tensor(loss_train_list),f'{optim_name}-loss-train.pt')\n",
    "torch.save(torch.tensor(loss_valid_list),f'{optim_name}-loss-valid.pt')"
   ]
  },
  {
   "cell_type": "code",
   "execution_count": null,
   "id": "b1c05782-8bac-4a69-a7ff-1bae21177048",
   "metadata": {},
   "outputs": [],
   "source": []
  },
  {
   "cell_type": "code",
   "execution_count": null,
   "id": "8a6b827f-403b-42ec-be84-afd0f41f0715",
   "metadata": {},
   "outputs": [],
   "source": []
  },
  {
   "cell_type": "code",
   "execution_count": null,
   "id": "bf340d00-deac-466b-af1b-2fd0b7b49090",
   "metadata": {},
   "outputs": [],
   "source": []
  },
  {
   "cell_type": "code",
   "execution_count": null,
   "id": "796bb320-e666-4a04-9f3f-b126b9e08db0",
   "metadata": {},
   "outputs": [],
   "source": []
  }
 ],
 "metadata": {
  "kernelspec": {
   "display_name": "Python 3 (ipykernel)",
   "language": "python",
   "name": "python3"
  },
  "language_info": {
   "codemirror_mode": {
    "name": "ipython",
    "version": 3
   },
   "file_extension": ".py",
   "mimetype": "text/x-python",
   "name": "python",
   "nbconvert_exporter": "python",
   "pygments_lexer": "ipython3",
   "version": "3.12.7"
  }
 },
 "nbformat": 4,
 "nbformat_minor": 5
}
