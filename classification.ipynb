{
 "cells": [
  {
   "cell_type": "code",
   "execution_count": 1,
   "id": "09e4dd52-1f0e-40e7-ba30-0457fc24fb1a",
   "metadata": {},
   "outputs": [
    {
     "name": "stderr",
     "output_type": "stream",
     "text": [
      "'nvidia-smi' is not recognized as an internal or external command,\n",
      "operable program or batch file.\n"
     ]
    }
   ],
   "source": [
    "!nvidia-smi"
   ]
  },
  {
   "cell_type": "code",
   "execution_count": 2,
   "id": "907d6358-dcd4-4bb0-a748-378a88c0100e",
   "metadata": {},
   "outputs": [],
   "source": [
    "import torch \n",
    "import pandas as pd\n",
    "import torch.nn as nn\n",
    "import torch.optim as optim\n",
    "from sklearn.model_selection import train_test_split\n",
    "from torch.utils.data import TensorDataset , DataLoader\n",
    "import matplotlib.pyplot as plt\n"
   ]
  },
  {
   "cell_type": "code",
   "execution_count": 3,
   "id": "14c54f38-4a7f-4efb-be41-0fd41f1044e0",
   "metadata": {},
   "outputs": [],
   "source": [
    "train_path = 'https://raw.githubusercontent.com/FabioNicotra/fabionicotra.github.io/main/02_MobileClassification/train.csv'\n",
    "test_path = 'https://raw.githubusercontent.com/FabioNicotra/fabionicotra.github.io/main/02_MobileClassification/test.csv'\n",
    "train_df = pd.read_csv(train_path)\n",
    "test_df = pd.read_csv(test_path)"
   ]
  },
  {
   "cell_type": "code",
   "execution_count": 4,
   "id": "12df87e5-751a-4854-a4ab-347c0282f506",
   "metadata": {},
   "outputs": [
    {
     "data": {
      "text/html": [
       "<div>\n",
       "<style scoped>\n",
       "    .dataframe tbody tr th:only-of-type {\n",
       "        vertical-align: middle;\n",
       "    }\n",
       "\n",
       "    .dataframe tbody tr th {\n",
       "        vertical-align: top;\n",
       "    }\n",
       "\n",
       "    .dataframe thead th {\n",
       "        text-align: right;\n",
       "    }\n",
       "</style>\n",
       "<table border=\"1\" class=\"dataframe\">\n",
       "  <thead>\n",
       "    <tr style=\"text-align: right;\">\n",
       "      <th></th>\n",
       "      <th>battery_power</th>\n",
       "      <th>blue</th>\n",
       "      <th>clock_speed</th>\n",
       "      <th>dual_sim</th>\n",
       "      <th>fc</th>\n",
       "      <th>four_g</th>\n",
       "      <th>int_memory</th>\n",
       "      <th>m_dep</th>\n",
       "      <th>mobile_wt</th>\n",
       "      <th>n_cores</th>\n",
       "      <th>...</th>\n",
       "      <th>px_height</th>\n",
       "      <th>px_width</th>\n",
       "      <th>ram</th>\n",
       "      <th>sc_h</th>\n",
       "      <th>sc_w</th>\n",
       "      <th>talk_time</th>\n",
       "      <th>three_g</th>\n",
       "      <th>touch_screen</th>\n",
       "      <th>wifi</th>\n",
       "      <th>price_range</th>\n",
       "    </tr>\n",
       "  </thead>\n",
       "  <tbody>\n",
       "    <tr>\n",
       "      <th>0</th>\n",
       "      <td>842</td>\n",
       "      <td>0</td>\n",
       "      <td>2.2</td>\n",
       "      <td>0</td>\n",
       "      <td>1</td>\n",
       "      <td>0</td>\n",
       "      <td>7</td>\n",
       "      <td>0.6</td>\n",
       "      <td>188</td>\n",
       "      <td>2</td>\n",
       "      <td>...</td>\n",
       "      <td>20</td>\n",
       "      <td>756</td>\n",
       "      <td>2549</td>\n",
       "      <td>9</td>\n",
       "      <td>7</td>\n",
       "      <td>19</td>\n",
       "      <td>0</td>\n",
       "      <td>0</td>\n",
       "      <td>1</td>\n",
       "      <td>1</td>\n",
       "    </tr>\n",
       "    <tr>\n",
       "      <th>1</th>\n",
       "      <td>1021</td>\n",
       "      <td>1</td>\n",
       "      <td>0.5</td>\n",
       "      <td>1</td>\n",
       "      <td>0</td>\n",
       "      <td>1</td>\n",
       "      <td>53</td>\n",
       "      <td>0.7</td>\n",
       "      <td>136</td>\n",
       "      <td>3</td>\n",
       "      <td>...</td>\n",
       "      <td>905</td>\n",
       "      <td>1988</td>\n",
       "      <td>2631</td>\n",
       "      <td>17</td>\n",
       "      <td>3</td>\n",
       "      <td>7</td>\n",
       "      <td>1</td>\n",
       "      <td>1</td>\n",
       "      <td>0</td>\n",
       "      <td>2</td>\n",
       "    </tr>\n",
       "    <tr>\n",
       "      <th>2</th>\n",
       "      <td>563</td>\n",
       "      <td>1</td>\n",
       "      <td>0.5</td>\n",
       "      <td>1</td>\n",
       "      <td>2</td>\n",
       "      <td>1</td>\n",
       "      <td>41</td>\n",
       "      <td>0.9</td>\n",
       "      <td>145</td>\n",
       "      <td>5</td>\n",
       "      <td>...</td>\n",
       "      <td>1263</td>\n",
       "      <td>1716</td>\n",
       "      <td>2603</td>\n",
       "      <td>11</td>\n",
       "      <td>2</td>\n",
       "      <td>9</td>\n",
       "      <td>1</td>\n",
       "      <td>1</td>\n",
       "      <td>0</td>\n",
       "      <td>2</td>\n",
       "    </tr>\n",
       "    <tr>\n",
       "      <th>3</th>\n",
       "      <td>615</td>\n",
       "      <td>1</td>\n",
       "      <td>2.5</td>\n",
       "      <td>0</td>\n",
       "      <td>0</td>\n",
       "      <td>0</td>\n",
       "      <td>10</td>\n",
       "      <td>0.8</td>\n",
       "      <td>131</td>\n",
       "      <td>6</td>\n",
       "      <td>...</td>\n",
       "      <td>1216</td>\n",
       "      <td>1786</td>\n",
       "      <td>2769</td>\n",
       "      <td>16</td>\n",
       "      <td>8</td>\n",
       "      <td>11</td>\n",
       "      <td>1</td>\n",
       "      <td>0</td>\n",
       "      <td>0</td>\n",
       "      <td>2</td>\n",
       "    </tr>\n",
       "    <tr>\n",
       "      <th>4</th>\n",
       "      <td>1821</td>\n",
       "      <td>1</td>\n",
       "      <td>1.2</td>\n",
       "      <td>0</td>\n",
       "      <td>13</td>\n",
       "      <td>1</td>\n",
       "      <td>44</td>\n",
       "      <td>0.6</td>\n",
       "      <td>141</td>\n",
       "      <td>2</td>\n",
       "      <td>...</td>\n",
       "      <td>1208</td>\n",
       "      <td>1212</td>\n",
       "      <td>1411</td>\n",
       "      <td>8</td>\n",
       "      <td>2</td>\n",
       "      <td>15</td>\n",
       "      <td>1</td>\n",
       "      <td>1</td>\n",
       "      <td>0</td>\n",
       "      <td>1</td>\n",
       "    </tr>\n",
       "  </tbody>\n",
       "</table>\n",
       "<p>5 rows × 21 columns</p>\n",
       "</div>"
      ],
      "text/plain": [
       "   battery_power  blue  clock_speed  dual_sim  fc  four_g  int_memory  m_dep  \\\n",
       "0            842     0          2.2         0   1       0           7    0.6   \n",
       "1           1021     1          0.5         1   0       1          53    0.7   \n",
       "2            563     1          0.5         1   2       1          41    0.9   \n",
       "3            615     1          2.5         0   0       0          10    0.8   \n",
       "4           1821     1          1.2         0  13       1          44    0.6   \n",
       "\n",
       "   mobile_wt  n_cores  ...  px_height  px_width   ram  sc_h  sc_w  talk_time  \\\n",
       "0        188        2  ...         20       756  2549     9     7         19   \n",
       "1        136        3  ...        905      1988  2631    17     3          7   \n",
       "2        145        5  ...       1263      1716  2603    11     2          9   \n",
       "3        131        6  ...       1216      1786  2769    16     8         11   \n",
       "4        141        2  ...       1208      1212  1411     8     2         15   \n",
       "\n",
       "   three_g  touch_screen  wifi  price_range  \n",
       "0        0             0     1            1  \n",
       "1        1             1     0            2  \n",
       "2        1             1     0            2  \n",
       "3        1             0     0            2  \n",
       "4        1             1     0            1  \n",
       "\n",
       "[5 rows x 21 columns]"
      ]
     },
     "execution_count": 4,
     "metadata": {},
     "output_type": "execute_result"
    }
   ],
   "source": [
    "train_df.head()"
   ]
  },
  {
   "cell_type": "code",
   "execution_count": 96,
   "id": "0b139a02-b515-459b-94f8-afd7badf17bd",
   "metadata": {},
   "outputs": [
    {
     "data": {
      "text/plain": [
       "0       1\n",
       "1       2\n",
       "2       2\n",
       "3       2\n",
       "4       1\n",
       "       ..\n",
       "1995    0\n",
       "1996    2\n",
       "1997    3\n",
       "1998    0\n",
       "1999    3\n",
       "Name: price_range, Length: 2000, dtype: int64"
      ]
     },
     "execution_count": 96,
     "metadata": {},
     "output_type": "execute_result"
    }
   ],
   "source": [
    "x = train_df.drop('price_range', axis=1)\n",
    "y = train_df['price_range']\n",
    "y"
   ]
  },
  {
   "cell_type": "markdown",
   "id": "cee3fce6-8781-4dcf-b5d2-35a4aa601e52",
   "metadata": {},
   "source": [
    "📌split data to train and test with sklearn"
   ]
  },
  {
   "cell_type": "code",
   "execution_count": 38,
   "id": "9eccbd0e-458e-44f3-9135-fbdba2c7543e",
   "metadata": {},
   "outputs": [],
   "source": [
    "x_train , x_valid , y_train , y_valid = train_test_split(x , y , train_size=0.7 , random_state=101)"
   ]
  },
  {
   "cell_type": "code",
   "execution_count": 39,
   "id": "0cdd606d-3c15-4d22-b2d2-e2193f9c4692",
   "metadata": {},
   "outputs": [
    {
     "data": {
      "text/html": [
       "<div>\n",
       "<style scoped>\n",
       "    .dataframe tbody tr th:only-of-type {\n",
       "        vertical-align: middle;\n",
       "    }\n",
       "\n",
       "    .dataframe tbody tr th {\n",
       "        vertical-align: top;\n",
       "    }\n",
       "\n",
       "    .dataframe thead th {\n",
       "        text-align: right;\n",
       "    }\n",
       "</style>\n",
       "<table border=\"1\" class=\"dataframe\">\n",
       "  <thead>\n",
       "    <tr style=\"text-align: right;\">\n",
       "      <th></th>\n",
       "      <th>battery_power</th>\n",
       "      <th>blue</th>\n",
       "      <th>clock_speed</th>\n",
       "      <th>dual_sim</th>\n",
       "      <th>fc</th>\n",
       "      <th>four_g</th>\n",
       "      <th>int_memory</th>\n",
       "      <th>m_dep</th>\n",
       "      <th>mobile_wt</th>\n",
       "      <th>n_cores</th>\n",
       "      <th>pc</th>\n",
       "      <th>px_height</th>\n",
       "      <th>px_width</th>\n",
       "      <th>ram</th>\n",
       "      <th>sc_h</th>\n",
       "      <th>sc_w</th>\n",
       "      <th>talk_time</th>\n",
       "      <th>three_g</th>\n",
       "      <th>touch_screen</th>\n",
       "      <th>wifi</th>\n",
       "    </tr>\n",
       "  </thead>\n",
       "  <tbody>\n",
       "    <tr>\n",
       "      <th>882</th>\n",
       "      <td>1156</td>\n",
       "      <td>1</td>\n",
       "      <td>2.7</td>\n",
       "      <td>1</td>\n",
       "      <td>1</td>\n",
       "      <td>1</td>\n",
       "      <td>30</td>\n",
       "      <td>0.9</td>\n",
       "      <td>173</td>\n",
       "      <td>3</td>\n",
       "      <td>16</td>\n",
       "      <td>945</td>\n",
       "      <td>1913</td>\n",
       "      <td>2735</td>\n",
       "      <td>16</td>\n",
       "      <td>15</td>\n",
       "      <td>13</td>\n",
       "      <td>1</td>\n",
       "      <td>0</td>\n",
       "      <td>1</td>\n",
       "    </tr>\n",
       "    <tr>\n",
       "      <th>964</th>\n",
       "      <td>648</td>\n",
       "      <td>0</td>\n",
       "      <td>1.9</td>\n",
       "      <td>1</td>\n",
       "      <td>4</td>\n",
       "      <td>0</td>\n",
       "      <td>8</td>\n",
       "      <td>1.0</td>\n",
       "      <td>91</td>\n",
       "      <td>5</td>\n",
       "      <td>19</td>\n",
       "      <td>819</td>\n",
       "      <td>1997</td>\n",
       "      <td>2991</td>\n",
       "      <td>8</td>\n",
       "      <td>7</td>\n",
       "      <td>4</td>\n",
       "      <td>0</td>\n",
       "      <td>0</td>\n",
       "      <td>1</td>\n",
       "    </tr>\n",
       "    <tr>\n",
       "      <th>1249</th>\n",
       "      <td>504</td>\n",
       "      <td>1</td>\n",
       "      <td>2.8</td>\n",
       "      <td>1</td>\n",
       "      <td>2</td>\n",
       "      <td>0</td>\n",
       "      <td>54</td>\n",
       "      <td>0.4</td>\n",
       "      <td>163</td>\n",
       "      <td>2</td>\n",
       "      <td>10</td>\n",
       "      <td>1207</td>\n",
       "      <td>1539</td>\n",
       "      <td>2378</td>\n",
       "      <td>17</td>\n",
       "      <td>11</td>\n",
       "      <td>2</td>\n",
       "      <td>1</td>\n",
       "      <td>0</td>\n",
       "      <td>0</td>\n",
       "    </tr>\n",
       "    <tr>\n",
       "      <th>30</th>\n",
       "      <td>1579</td>\n",
       "      <td>1</td>\n",
       "      <td>0.5</td>\n",
       "      <td>1</td>\n",
       "      <td>0</td>\n",
       "      <td>0</td>\n",
       "      <td>5</td>\n",
       "      <td>0.2</td>\n",
       "      <td>88</td>\n",
       "      <td>7</td>\n",
       "      <td>9</td>\n",
       "      <td>1358</td>\n",
       "      <td>1739</td>\n",
       "      <td>3532</td>\n",
       "      <td>17</td>\n",
       "      <td>11</td>\n",
       "      <td>12</td>\n",
       "      <td>0</td>\n",
       "      <td>0</td>\n",
       "      <td>1</td>\n",
       "    </tr>\n",
       "    <tr>\n",
       "      <th>1518</th>\n",
       "      <td>844</td>\n",
       "      <td>0</td>\n",
       "      <td>2.2</td>\n",
       "      <td>1</td>\n",
       "      <td>1</td>\n",
       "      <td>1</td>\n",
       "      <td>22</td>\n",
       "      <td>0.9</td>\n",
       "      <td>197</td>\n",
       "      <td>7</td>\n",
       "      <td>2</td>\n",
       "      <td>777</td>\n",
       "      <td>1995</td>\n",
       "      <td>3154</td>\n",
       "      <td>14</td>\n",
       "      <td>11</td>\n",
       "      <td>7</td>\n",
       "      <td>1</td>\n",
       "      <td>0</td>\n",
       "      <td>0</td>\n",
       "    </tr>\n",
       "    <tr>\n",
       "      <th>...</th>\n",
       "      <td>...</td>\n",
       "      <td>...</td>\n",
       "      <td>...</td>\n",
       "      <td>...</td>\n",
       "      <td>...</td>\n",
       "      <td>...</td>\n",
       "      <td>...</td>\n",
       "      <td>...</td>\n",
       "      <td>...</td>\n",
       "      <td>...</td>\n",
       "      <td>...</td>\n",
       "      <td>...</td>\n",
       "      <td>...</td>\n",
       "      <td>...</td>\n",
       "      <td>...</td>\n",
       "      <td>...</td>\n",
       "      <td>...</td>\n",
       "      <td>...</td>\n",
       "      <td>...</td>\n",
       "      <td>...</td>\n",
       "    </tr>\n",
       "    <tr>\n",
       "      <th>1599</th>\n",
       "      <td>1166</td>\n",
       "      <td>1</td>\n",
       "      <td>0.5</td>\n",
       "      <td>0</td>\n",
       "      <td>7</td>\n",
       "      <td>0</td>\n",
       "      <td>59</td>\n",
       "      <td>0.5</td>\n",
       "      <td>80</td>\n",
       "      <td>1</td>\n",
       "      <td>11</td>\n",
       "      <td>437</td>\n",
       "      <td>638</td>\n",
       "      <td>3887</td>\n",
       "      <td>8</td>\n",
       "      <td>6</td>\n",
       "      <td>7</td>\n",
       "      <td>1</td>\n",
       "      <td>0</td>\n",
       "      <td>1</td>\n",
       "    </tr>\n",
       "    <tr>\n",
       "      <th>1862</th>\n",
       "      <td>1043</td>\n",
       "      <td>0</td>\n",
       "      <td>2.7</td>\n",
       "      <td>0</td>\n",
       "      <td>3</td>\n",
       "      <td>0</td>\n",
       "      <td>29</td>\n",
       "      <td>0.2</td>\n",
       "      <td>83</td>\n",
       "      <td>8</td>\n",
       "      <td>17</td>\n",
       "      <td>887</td>\n",
       "      <td>893</td>\n",
       "      <td>1183</td>\n",
       "      <td>5</td>\n",
       "      <td>3</td>\n",
       "      <td>8</td>\n",
       "      <td>1</td>\n",
       "      <td>0</td>\n",
       "      <td>0</td>\n",
       "    </tr>\n",
       "    <tr>\n",
       "      <th>1361</th>\n",
       "      <td>1549</td>\n",
       "      <td>1</td>\n",
       "      <td>1.5</td>\n",
       "      <td>1</td>\n",
       "      <td>0</td>\n",
       "      <td>1</td>\n",
       "      <td>27</td>\n",
       "      <td>0.4</td>\n",
       "      <td>113</td>\n",
       "      <td>5</td>\n",
       "      <td>7</td>\n",
       "      <td>632</td>\n",
       "      <td>1162</td>\n",
       "      <td>436</td>\n",
       "      <td>10</td>\n",
       "      <td>8</td>\n",
       "      <td>11</td>\n",
       "      <td>1</td>\n",
       "      <td>0</td>\n",
       "      <td>0</td>\n",
       "    </tr>\n",
       "    <tr>\n",
       "      <th>1547</th>\n",
       "      <td>1611</td>\n",
       "      <td>0</td>\n",
       "      <td>0.5</td>\n",
       "      <td>1</td>\n",
       "      <td>4</td>\n",
       "      <td>1</td>\n",
       "      <td>27</td>\n",
       "      <td>0.9</td>\n",
       "      <td>199</td>\n",
       "      <td>1</td>\n",
       "      <td>10</td>\n",
       "      <td>163</td>\n",
       "      <td>1011</td>\n",
       "      <td>3078</td>\n",
       "      <td>15</td>\n",
       "      <td>2</td>\n",
       "      <td>6</td>\n",
       "      <td>1</td>\n",
       "      <td>0</td>\n",
       "      <td>1</td>\n",
       "    </tr>\n",
       "    <tr>\n",
       "      <th>863</th>\n",
       "      <td>1425</td>\n",
       "      <td>0</td>\n",
       "      <td>1.2</td>\n",
       "      <td>0</td>\n",
       "      <td>9</td>\n",
       "      <td>1</td>\n",
       "      <td>35</td>\n",
       "      <td>0.7</td>\n",
       "      <td>127</td>\n",
       "      <td>8</td>\n",
       "      <td>14</td>\n",
       "      <td>150</td>\n",
       "      <td>1897</td>\n",
       "      <td>590</td>\n",
       "      <td>13</td>\n",
       "      <td>2</td>\n",
       "      <td>6</td>\n",
       "      <td>1</td>\n",
       "      <td>1</td>\n",
       "      <td>1</td>\n",
       "    </tr>\n",
       "  </tbody>\n",
       "</table>\n",
       "<p>1400 rows × 20 columns</p>\n",
       "</div>"
      ],
      "text/plain": [
       "      battery_power  blue  clock_speed  dual_sim  fc  four_g  int_memory  \\\n",
       "882            1156     1          2.7         1   1       1          30   \n",
       "964             648     0          1.9         1   4       0           8   \n",
       "1249            504     1          2.8         1   2       0          54   \n",
       "30             1579     1          0.5         1   0       0           5   \n",
       "1518            844     0          2.2         1   1       1          22   \n",
       "...             ...   ...          ...       ...  ..     ...         ...   \n",
       "1599           1166     1          0.5         0   7       0          59   \n",
       "1862           1043     0          2.7         0   3       0          29   \n",
       "1361           1549     1          1.5         1   0       1          27   \n",
       "1547           1611     0          0.5         1   4       1          27   \n",
       "863            1425     0          1.2         0   9       1          35   \n",
       "\n",
       "      m_dep  mobile_wt  n_cores  pc  px_height  px_width   ram  sc_h  sc_w  \\\n",
       "882     0.9        173        3  16        945      1913  2735    16    15   \n",
       "964     1.0         91        5  19        819      1997  2991     8     7   \n",
       "1249    0.4        163        2  10       1207      1539  2378    17    11   \n",
       "30      0.2         88        7   9       1358      1739  3532    17    11   \n",
       "1518    0.9        197        7   2        777      1995  3154    14    11   \n",
       "...     ...        ...      ...  ..        ...       ...   ...   ...   ...   \n",
       "1599    0.5         80        1  11        437       638  3887     8     6   \n",
       "1862    0.2         83        8  17        887       893  1183     5     3   \n",
       "1361    0.4        113        5   7        632      1162   436    10     8   \n",
       "1547    0.9        199        1  10        163      1011  3078    15     2   \n",
       "863     0.7        127        8  14        150      1897   590    13     2   \n",
       "\n",
       "      talk_time  three_g  touch_screen  wifi  \n",
       "882          13        1             0     1  \n",
       "964           4        0             0     1  \n",
       "1249          2        1             0     0  \n",
       "30           12        0             0     1  \n",
       "1518          7        1             0     0  \n",
       "...         ...      ...           ...   ...  \n",
       "1599          7        1             0     1  \n",
       "1862          8        1             0     0  \n",
       "1361         11        1             0     0  \n",
       "1547          6        1             0     1  \n",
       "863           6        1             1     1  \n",
       "\n",
       "[1400 rows x 20 columns]"
      ]
     },
     "execution_count": 39,
     "metadata": {},
     "output_type": "execute_result"
    }
   ],
   "source": [
    "x_train"
   ]
  },
  {
   "cell_type": "markdown",
   "id": "e46baa07-7710-4c07-912c-578ff92217f4",
   "metadata": {},
   "source": [
    "📌method2 train test split"
   ]
  },
  {
   "cell_type": "code",
   "execution_count": null,
   "id": "46d25c65-ae70-474c-bc25-66dfd55e5120",
   "metadata": {},
   "outputs": [],
   "source": []
  },
  {
   "cell_type": "markdown",
   "id": "1fe5fc13-f43c-4b2a-8a94-f14976bef407",
   "metadata": {},
   "source": [
    "📌preprocess"
   ]
  },
  {
   "cell_type": "code",
   "execution_count": 40,
   "id": "1e2915ca-aee3-4038-9b99-6395e25a75a4",
   "metadata": {},
   "outputs": [
    {
     "name": "stdout",
     "output_type": "stream",
     "text": [
      "battery_power      int64\n",
      "blue               int64\n",
      "clock_speed      float64\n",
      "dual_sim           int64\n",
      "fc                 int64\n",
      "four_g             int64\n",
      "int_memory         int64\n",
      "m_dep            float64\n",
      "mobile_wt          int64\n",
      "n_cores            int64\n",
      "pc                 int64\n",
      "px_height          int64\n",
      "px_width           int64\n",
      "ram                int64\n",
      "sc_h               int64\n",
      "sc_w               int64\n",
      "talk_time          int64\n",
      "three_g            int64\n",
      "touch_screen       int64\n",
      "wifi               int64\n",
      "dtype: object\n",
      "<class 'numpy.ndarray'>\n",
      "float64\n"
     ]
    }
   ],
   "source": [
    "print(x_train.dtypes)\n",
    "print(type(x_train.values))\n",
    "print(x_train.values.dtype)"
   ]
  },
  {
   "cell_type": "code",
   "execution_count": 41,
   "id": "90f99f1e-e513-463b-9f33-e282c40e0b13",
   "metadata": {},
   "outputs": [],
   "source": [
    "x_train = torch.FloatTensor(x_train.values)\n",
    "# in classification we should give intiger to network\n",
    "y_train = torch.LongTensor(y_train.values)"
   ]
  },
  {
   "cell_type": "code",
   "execution_count": 42,
   "id": "0c48e8b0-4a37-4896-866d-aee63e32f88a",
   "metadata": {},
   "outputs": [],
   "source": [
    "x_valid = torch.FloatTensor(x_valid.values)\n",
    "# in classification we should give intiger to network\n",
    "y_valid = torch.LongTensor(y_valid.values)"
   ]
  },
  {
   "cell_type": "markdown",
   "id": "add0363c-ce86-4d4f-a138-f84d11c2dd27",
   "metadata": {},
   "source": [
    "📌standardization"
   ]
  },
  {
   "cell_type": "code",
   "execution_count": 43,
   "id": "e76cffb4-8258-48d4-8f02-62d031922361",
   "metadata": {},
   "outputs": [
    {
     "name": "stdout",
     "output_type": "stream",
     "text": [
      "torch.Size([1400, 20])\n"
     ]
    }
   ],
   "source": [
    "#dime=0 it ger mean of each feature and if dime=1 it get mean for each sample which is wrong\n",
    "print(x_train.shape)\n",
    "mu = x_train.mean(dim=0)\n",
    "std = x_train.std(dim=0)"
   ]
  },
  {
   "cell_type": "code",
   "execution_count": 44,
   "id": "bb2568a0-6e84-4db1-877f-0386b85b8411",
   "metadata": {},
   "outputs": [],
   "source": [
    " x_train = (x_train - mu) / std\n",
    " x_valid = (x_valid - mu) / std"
   ]
  },
  {
   "cell_type": "markdown",
   "id": "c20f09aa-25f6-4ff2-adca-24ab3d155c73",
   "metadata": {},
   "source": [
    "📌dataloader"
   ]
  },
  {
   "cell_type": "code",
   "execution_count": 45,
   "id": "b613c6ec-78fa-4dda-9a0a-39e19b957818",
   "metadata": {},
   "outputs": [
    {
     "data": {
      "text/plain": [
       "(tensor([[-0.2050,  1.0155,  1.4617,  ...,  0.5683, -1.0068,  0.9897],\n",
       "         [-1.3516, -0.9841,  0.4723,  ..., -1.7582, -1.0068,  0.9897],\n",
       "         [-1.6766,  1.0155,  1.5854,  ...,  0.5683, -1.0068, -1.0097],\n",
       "         ...,\n",
       "         [ 0.6821,  1.0155, -0.0223,  ...,  0.5683, -1.0068, -1.0097],\n",
       "         [ 0.8220, -0.9841, -1.2591,  ...,  0.5683, -1.0068,  0.9897],\n",
       "         [ 0.4022, -0.9841, -0.3934,  ...,  0.5683,  0.9925,  0.9897]]),\n",
       " tensor([2, 2, 2,  ..., 0, 2, 0]))"
      ]
     },
     "execution_count": 45,
     "metadata": {},
     "output_type": "execute_result"
    }
   ],
   "source": [
    "train_data = TensorDataset(x_train , y_train)\n",
    "valid_data = TensorDataset(x_valid , y_valid)\n",
    "\n",
    "train_data.tensors"
   ]
  },
  {
   "cell_type": "code",
   "execution_count": 46,
   "id": "6dc0be8b-0bf8-44c2-8853-50d4be711463",
   "metadata": {},
   "outputs": [
    {
     "name": "stdout",
     "output_type": "stream",
     "text": [
      "100\n",
      "14\n",
      "3\n"
     ]
    }
   ],
   "source": [
    "train_loader = DataLoader(train_data , 100 , True)\n",
    "#batch_size of test data can be bigger because gradian is off and also shuffle is not necessery\n",
    "valid_loader = DataLoader(valid_data , 200 , False)\n",
    "\n",
    "print(train_loader.batch_size)\n",
    "print(len(train_loader))\n",
    "print(len(valid_loader))"
   ]
  },
  {
   "cell_type": "code",
   "execution_count": 47,
   "id": "4f711ef7-3750-437e-a630-6fa4d04fff35",
   "metadata": {},
   "outputs": [
    {
     "data": {
      "text/plain": [
       "tensor([[-1.4193,  1.0155, -1.2591,  ...,  0.5683,  0.9925,  0.9897],\n",
       "        [ 1.4766,  1.0155, -1.2591,  ...,  0.5683, -1.0068, -1.0097],\n",
       "        [-1.4915, -0.9841, -1.2591,  ...,  0.5683,  0.9925,  0.9897],\n",
       "        ...,\n",
       "        [ 1.4202, -0.9841, -1.2591,  ...,  0.5683,  0.9925, -1.0097],\n",
       "        [-1.4735, -0.9841, -0.8881,  ...,  0.5683,  0.9925,  0.9897],\n",
       "        [-0.1124, -0.9841, -0.2697,  ...,  0.5683,  0.9925,  0.9897]])"
      ]
     },
     "execution_count": 47,
     "metadata": {},
     "output_type": "execute_result"
    }
   ],
   "source": [
    "x_batch, y_batch = next(iter(train_loader))\n",
    "x_batch "
   ]
  },
  {
   "cell_type": "markdown",
   "id": "a3cf9523-945a-4c27-988e-10d4c3009903",
   "metadata": {},
   "source": [
    "📌model denfining"
   ]
  },
  {
   "cell_type": "code",
   "execution_count": 76,
   "id": "efcd3126-b199-474a-b74d-6cafa39b6d26",
   "metadata": {},
   "outputs": [],
   "source": [
    "num_fratures = 20\n",
    "num_classes = 4\n",
    "h1=64\n",
    "h2=32\n",
    "\n",
    "model = nn.Sequential(\n",
    "    nn.Linear(num_fratures , h1),\n",
    "    nn.ReLU(),\n",
    "    nn.Linear(h1 , h2),\n",
    "    nn.ReLU(),\n",
    "    nn.Linear(h2 , num_classes)\n",
    ")\n"
   ]
  },
  {
   "cell_type": "code",
   "execution_count": 77,
   "id": "3ef54492-3c2d-4c94-818d-0bd7dcadb84e",
   "metadata": {},
   "outputs": [
    {
     "data": {
      "text/plain": [
       "Sequential(\n",
       "  (0): Linear(in_features=20, out_features=64, bias=True)\n",
       "  (1): ReLU()\n",
       "  (2): Linear(in_features=64, out_features=32, bias=True)\n",
       "  (3): ReLU()\n",
       "  (4): Linear(in_features=32, out_features=4, bias=True)\n",
       ")"
      ]
     },
     "execution_count": 77,
     "metadata": {},
     "output_type": "execute_result"
    }
   ],
   "source": [
    "model"
   ]
  },
  {
   "cell_type": "code",
   "execution_count": 78,
   "id": "7a1055fa-437b-4594-bf56-b7358f431005",
   "metadata": {},
   "outputs": [
    {
     "data": {
      "text/plain": [
       "tensor([[-0.3310,  0.1913,  0.1444, -0.1263],\n",
       "        [-0.3330,  0.2394,  0.0250, -0.1006]], grad_fn=<SliceBackward0>)"
      ]
     },
     "execution_count": 78,
     "metadata": {},
     "output_type": "execute_result"
    }
   ],
   "source": [
    "#testing out model to findout any problem with input and output\n",
    "yp = model(x_batch)\n",
    "yp[:2,:]"
   ]
  },
  {
   "cell_type": "code",
   "execution_count": 79,
   "id": "3bce9f1a-61f9-437b-9241-be5eb6c657e6",
   "metadata": {},
   "outputs": [
    {
     "data": {
      "text/plain": [
       "[1280, 64, 2048, 32, 128, 4]"
      ]
     },
     "execution_count": 79,
     "metadata": {},
     "output_type": "execute_result"
    }
   ],
   "source": [
    "#numel is number of elements\n",
    "[torch.numel(p) for p in model.parameters()]\n",
    "\n",
    "# result is [fist layer weight ,first layer bias , second layer weight , second layer bias , weight , bias]"
   ]
  },
  {
   "cell_type": "code",
   "execution_count": 80,
   "id": "a9f978fb-0cd6-4326-a66e-4d40922149b5",
   "metadata": {},
   "outputs": [
    {
     "data": {
      "text/plain": [
       "tensor(3556)"
      ]
     },
     "execution_count": 80,
     "metadata": {},
     "output_type": "execute_result"
    }
   ],
   "source": [
    "#total number of parameters\n",
    "torch.tensor([torch.numel(p) for p in model.parameters()]).sum()"
   ]
  },
  {
   "cell_type": "markdown",
   "id": "02e62ff5-63a9-4772-874f-6ebfe0eb7304",
   "metadata": {},
   "source": [
    "📌loss and optimizer"
   ]
  },
  {
   "cell_type": "code",
   "execution_count": 81,
   "id": "881cb9bd-da12-4dd6-abe5-d2c1e22255b7",
   "metadata": {},
   "outputs": [],
   "source": [
    "#it add softmax by itself and then compute loss \n",
    "# but if you want to use model for prediction you should add a softmax to model\n",
    "loss_fn = nn.CrossEntropyLoss()\n",
    "\n",
    "#requier a sigmoid layer at the end of the model : nn.Sigmoid()\n",
    "#nn.BCELoss()\n",
    "\n",
    "#it add a sigmoid in last layer by itself and then compute loss\n",
    "#nn.BCEWithLogitsLoss"
   ]
  },
  {
   "cell_type": "code",
   "execution_count": 82,
   "id": "89bc0a0c-85e1-4a97-8d76-5c99c21ba1a1",
   "metadata": {},
   "outputs": [],
   "source": [
    "optimizer = optim.SGD(model.parameters() , lr= 0.01)"
   ]
  },
  {
   "cell_type": "markdown",
   "id": "b5e3dc84-8ece-4e18-8753-1fbc39d0df36",
   "metadata": {},
   "source": [
    "📌Devise "
   ]
  },
  {
   "cell_type": "code",
   "execution_count": 83,
   "id": "52bb29a7-8474-4811-84e4-c58e38ad790f",
   "metadata": {},
   "outputs": [
    {
     "data": {
      "text/plain": [
       "'cpu'"
      ]
     },
     "execution_count": 83,
     "metadata": {},
     "output_type": "execute_result"
    }
   ],
   "source": [
    "device = 'cuda' if torch.cuda.is_available() else 'cpu'\n",
    "device"
   ]
  },
  {
   "cell_type": "code",
   "execution_count": 84,
   "id": "b51efe49-9a1e-498e-808b-576e09056d65",
   "metadata": {},
   "outputs": [
    {
     "data": {
      "text/plain": [
       "Parameter containing:\n",
       "tensor([[ 0.2228,  0.1310,  0.1209,  ...,  0.1758,  0.1299,  0.0967],\n",
       "        [-0.0496,  0.1101,  0.0432,  ...,  0.0640,  0.2111,  0.1215],\n",
       "        [-0.2068, -0.1676, -0.1318,  ..., -0.0299,  0.0822, -0.0967],\n",
       "        ...,\n",
       "        [ 0.2224,  0.1962,  0.1273,  ...,  0.1123,  0.0478,  0.1166],\n",
       "        [-0.0616,  0.2129,  0.0348,  ...,  0.2070, -0.1747,  0.0506],\n",
       "        [-0.0166,  0.1278, -0.1354,  ...,  0.1132, -0.0413, -0.1723]],\n",
       "       requires_grad=True)"
      ]
     },
     "execution_count": 84,
     "metadata": {},
     "output_type": "execute_result"
    }
   ],
   "source": [
    "model = model.to(device)\n",
    "model[0].weight"
   ]
  },
  {
   "cell_type": "markdown",
   "id": "fa24b0a6-794b-4bdd-9040-160b5918c2ed",
   "metadata": {},
   "source": [
    "📌utils"
   ]
  },
  {
   "cell_type": "code",
   "execution_count": 85,
   "id": "7a3d8cf5-677d-4c65-9f53-e002789ad40c",
   "metadata": {},
   "outputs": [],
   "source": [
    "class AverageMeter(object):\n",
    "    #computes and store the average and current value\n",
    "    def __init__(self):\n",
    "        self.reset()\n",
    "    def reset(self):\n",
    "        self.val=0\n",
    "        self.avg=0\n",
    "        self.sum=0\n",
    "        self.count=0\n",
    "    def update(self , val , n=1):\n",
    "        self.val=val\n",
    "        self.sum += val*n\n",
    "        self.count +=n\n",
    "        self.avg = self.sum /self.count"
   ]
  },
  {
   "cell_type": "code",
   "execution_count": 86,
   "id": "90fea072-652b-47fd-b93a-7f26b55becbb",
   "metadata": {},
   "outputs": [
    {
     "data": {
      "text/plain": [
       "2.0"
      ]
     },
     "execution_count": 86,
     "metadata": {},
     "output_type": "execute_result"
    }
   ],
   "source": [
    "loss_meter = AverageMeter()\n",
    "loss_meter.update(1)\n",
    "loss_meter.update(3)\n",
    "loss_meter.avg"
   ]
  },
  {
   "cell_type": "code",
   "execution_count": 87,
   "id": "58cf7bf9-04c4-4f74-b279-8eb032362485",
   "metadata": {},
   "outputs": [],
   "source": [
    "#!pip install torchmetrics"
   ]
  },
  {
   "cell_type": "code",
   "execution_count": 88,
   "id": "2af143c5-ee08-49fc-bc56-7969f9f5f4bb",
   "metadata": {},
   "outputs": [
    {
     "data": {
      "text/plain": [
       "tensor(0.5000)"
      ]
     },
     "execution_count": 88,
     "metadata": {},
     "output_type": "execute_result"
    }
   ],
   "source": [
    "a = torch.tensor([0, 1, 2, 3])\n",
    "b = torch.tensor([0, 2, 1, 3])\n",
    "\n",
    "from torchmetrics import Accuracy  \n",
    "\n",
    "acc = Accuracy(task=\"multiclass\", num_classes=4)\n",
    "acc(a,b)"
   ]
  },
  {
   "cell_type": "markdown",
   "id": "23845a4f-68a9-426f-ac4c-e865360d6d87",
   "metadata": {},
   "source": [
    "📌training loop"
   ]
  },
  {
   "cell_type": "code",
   "execution_count": 93,
   "id": "aee907b5-ba23-4b03-b873-ed3778f430c0",
   "metadata": {},
   "outputs": [
    {
     "name": "stdout",
     "output_type": "stream",
     "text": [
      "Epoch : 0\n",
      "train_loss:  0.188, accuracy = 0.970714271068573\n",
      "valid_loss:  0.2539, accuracy = 0.9133333563804626 \n",
      "\n",
      "Epoch : 10\n",
      "train_loss:  0.1758, accuracy = 0.9728571176528931\n",
      "valid_loss:  0.2439, accuracy = 0.9166666865348816 \n",
      "\n",
      "Epoch : 20\n",
      "train_loss:  0.1653, accuracy = 0.9735714197158813\n",
      "valid_loss:  0.2357, accuracy = 0.9166666865348816 \n",
      "\n",
      "Epoch : 30\n",
      "train_loss:  0.1559, accuracy = 0.9764285683631897\n",
      "valid_loss:  0.2278, accuracy = 0.9166666865348816 \n",
      "\n",
      "Epoch : 40\n",
      "train_loss:  0.1475, accuracy = 0.9778571724891663\n",
      "valid_loss:  0.2215, accuracy = 0.9200000166893005 \n",
      "\n",
      "Epoch : 50\n",
      "train_loss:  0.1397, accuracy = 0.9800000190734863\n",
      "valid_loss:  0.215, accuracy = 0.9200000166893005 \n",
      "\n",
      "Epoch : 60\n",
      "train_loss:  0.1328, accuracy = 0.9800000190734863\n",
      "valid_loss:  0.21, accuracy = 0.9200000166893005 \n",
      "\n",
      "Epoch : 70\n",
      "train_loss:  0.1266, accuracy = 0.9814285635948181\n",
      "valid_loss:  0.2053, accuracy = 0.9200000166893005 \n",
      "\n",
      "Epoch : 80\n",
      "train_loss:  0.1206, accuracy = 0.9835714101791382\n",
      "valid_loss:  0.201, accuracy = 0.92166668176651 \n",
      "\n",
      "Epoch : 90\n",
      "train_loss:  0.1154, accuracy = 0.9842857122421265\n",
      "valid_loss:  0.1968, accuracy = 0.92166668176651 \n",
      "\n",
      "done\n"
     ]
    }
   ],
   "source": [
    "num_epoch=100\n",
    "loss_train_hist = []\n",
    "loss_valid_hist = []\n",
    "acc_train_hist = []\n",
    "acc_valid_hist = []\n",
    "\n",
    "for epoch in range(num_epoch):\n",
    "    loss_train =  AverageMeter()\n",
    "    acc_train = Accuracy(task=\"multiclass\", num_classes=4).to(device)\n",
    "    #acc_train = Accuracy(task=\"multiclass\", num_classes=4)\n",
    "    \n",
    "    for i , (inputs,targets) in enumerate(train_loader):\n",
    "        inputs = inputs.to(device)\n",
    "        targets = targets.to(device)\n",
    "        \n",
    "        yp = model(inputs)\n",
    "        loss = loss_fn(yp , targets)\n",
    "        loss.backward()\n",
    "        optimizer.step()\n",
    "        optimizer.zero_grad()\n",
    "        loss_train.update(loss.item())\n",
    "        #acc = torch.sum(yp.argmax(dim=1) == targets)\n",
    "        acc_train(yp , targets)\n",
    "        \n",
    "    \n",
    "    with torch.no_grad():\n",
    "        loss_valid = AverageMeter()\n",
    "        acc_test = Accuracy(task=\"multiclass\", num_classes=4).to(device)\n",
    "        for i , (inputs,targets) in enumerate(valid_loader):\n",
    "            inputs = inputs.to(device)\n",
    "            targets = targets.to(device)\n",
    "        \n",
    "            yp = model(inputs)\n",
    "            loss = loss_fn(yp , targets)\n",
    "            loss_valid.update(loss.item())\n",
    "            acc_test(yp , targets)\n",
    "            \n",
    "    loss_train_hist.append(loss_train.avg)\n",
    "    loss_valid_hist.append(loss_valid.avg)\n",
    "\n",
    "    acc_train_hist.append(acc_train.compute())\n",
    "    acc_valid_hist.append(acc_test.compute())\n",
    "    \n",
    "    if(epoch %10 == 0):\n",
    "        print(f'Epoch : {epoch}')\n",
    "        print(f'train_loss: {loss_train.avg : .4}, accuracy = {acc_train.compute() }')\n",
    "        print(f'valid_loss: {loss_valid.avg : .4}, accuracy = {acc_test.compute() } \\n')\n",
    "\n",
    "print('done')\n"
   ]
  },
  {
   "cell_type": "code",
   "execution_count": 94,
   "id": "bcae0d50-a066-4cae-8899-2fbf30657b52",
   "metadata": {},
   "outputs": [
    {
     "data": {
      "text/plain": [
       "<matplotlib.legend.Legend at 0x2885704d340>"
      ]
     },
     "execution_count": 94,
     "metadata": {},
     "output_type": "execute_result"
    },
    {
     "data": {
      "image/png": "[encoded data removed]",
      "text/plain": [
       "<Figure size 640x480 with 1 Axes>"
      ]
     },
     "metadata": {},
     "output_type": "display_data"
    }
   ],
   "source": [
    "plt.plot(range(num_epoch), loss_train_hist , 'r-', label= 'Train')\n",
    "plt.plot(range(num_epoch), loss_valid_hist , 'b-', label= 'Validation')\n",
    "\n",
    "plt.xlabel('epoch')\n",
    "plt.ylabel('Loss')\n",
    "plt.grid(True)\n",
    "plt.legend()"
   ]
  },
  {
   "cell_type": "code",
   "execution_count": 95,
   "id": "4cecead8-569e-4c1b-aa90-a02e44aefdd4",
   "metadata": {},
   "outputs": [
    {
     "data": {
      "text/plain": [
       "<matplotlib.legend.Legend at 0x28857260560>"
      ]
     },
     "execution_count": 95,
     "metadata": {},
     "output_type": "execute_result"
    },
    {
     "data": {
      "image/png": "[encoded data removed]",
      "text/plain": [
       "<Figure size 640x480 with 1 Axes>"
      ]
     },
     "metadata": {},
     "output_type": "display_data"
    }
   ],
   "source": [
    "plt.plot(range(num_epoch), acc_train_hist , 'r-', label= 'Train')\n",
    "plt.plot(range(num_epoch), acc_valid_hist , 'b-', label= 'Validation')\n",
    "\n",
    "plt.xlabel('epoch')\n",
    "plt.ylabel('ACC')\n",
    "plt.grid(True)\n",
    "plt.legend()"
   ]
  },
  {
   "cell_type": "markdown",
   "id": "6eda0115-fb8b-4949-b556-02825da37187",
   "metadata": {},
   "source": [
    "📌save model"
   ]
  },
  {
   "cell_type": "code",
   "execution_count": null,
   "id": "8c4b3e40-782a-46ab-9d27-c77943eb6006",
   "metadata": {},
   "outputs": [],
   "source": [
    "torch.save(model , 'model.pth')"
   ]
  },
  {
   "cell_type": "code",
   "execution_count": null,
   "id": "d49da4e0-315a-4c0e-a138-da3f33ae3586",
   "metadata": {},
   "outputs": [],
   "source": [
    "my_model = torch.load('model.pth')"
   ]
  },
  {
   "cell_type": "code",
   "execution_count": null,
   "id": "95a5e36d-18e0-49c6-9e95-dbcf41272d8a",
   "metadata": {},
   "outputs": [],
   "source": []
  },
  {
   "cell_type": "code",
   "execution_count": null,
   "id": "deb132f8-4d5a-4ee5-955a-e7d0ec401dd0",
   "metadata": {},
   "outputs": [],
   "source": []
  },
  {
   "cell_type": "code",
   "execution_count": null,
   "id": "a79d6964-f113-4c06-b2c5-c056aae8665f",
   "metadata": {},
   "outputs": [],
   "source": []
  }
 ],
 "metadata": {
  "kernelspec": {
   "display_name": "Python 3 (ipykernel)",
   "language": "python",
   "name": "python3"
  },
  "language_info": {
   "codemirror_mode": {
    "name": "ipython",
    "version": 3
   },
   "file_extension": ".py",
   "mimetype": "text/x-python",
   "name": "python",
   "nbconvert_exporter": "python",
   "pygments_lexer": "ipython3",
   "version": "3.12.7"
  }
 },
 "nbformat": 4,
 "nbformat_minor": 5
}
