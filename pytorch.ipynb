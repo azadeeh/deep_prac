{
 "cells": [
  {
   "cell_type": "code",
   "execution_count": 1,
   "id": "38893724-a12c-4f42-8e85-6104593811c0",
   "metadata": {},
   "outputs": [],
   "source": [
    "import torch"
   ]
  },
  {
   "cell_type": "code",
   "execution_count": 2,
   "id": "a0bf42a4-33fd-46f9-aebb-0006672e1115",
   "metadata": {},
   "outputs": [
    {
     "data": {
      "text/plain": [
       "tensor(2.5000)"
      ]
     },
     "execution_count": 2,
     "metadata": {},
     "output_type": "execute_result"
    }
   ],
   "source": [
    "scaler= torch.tensor(2.5)\n",
    "scaler"
   ]
  },
  {
   "cell_type": "code",
   "execution_count": 3,
   "id": "c628c89f-4e7e-40eb-b12a-d5612d69933e",
   "metadata": {},
   "outputs": [
    {
     "data": {
      "text/plain": [
       "tensor([2.5000, 4.0000, 2.0000, 3.0000])"
      ]
     },
     "execution_count": 3,
     "metadata": {},
     "output_type": "execute_result"
    }
   ],
   "source": [
    "vector= torch.tensor([2.5 , 4 , 2 ,3])\n",
    "vector"
   ]
  },
  {
   "cell_type": "code",
   "execution_count": 4,
   "id": "1eb7463d-8045-44ea-8cba-c0217c83f4f0",
   "metadata": {},
   "outputs": [
    {
     "data": {
      "text/plain": [
       "tensor([[4., 5.],\n",
       "        [6., 7.],\n",
       "        [8., 9.]])"
      ]
     },
     "execution_count": 4,
     "metadata": {},
     "output_type": "execute_result"
    }
   ],
   "source": [
    "Martix= torch.tensor([[4.,5],[6,7],[8,9]])\n",
    "Martix"
   ]
  },
  {
   "cell_type": "code",
   "execution_count": 5,
   "id": "71363850-1f55-409b-b634-cf369745e8b6",
   "metadata": {},
   "outputs": [
    {
     "data": {
      "text/plain": [
       "tensor([[1],\n",
       "        [2],\n",
       "        [3],\n",
       "        [4]])"
      ]
     },
     "execution_count": 5,
     "metadata": {},
     "output_type": "execute_result"
    }
   ],
   "source": [
    "c_vector= torch.tensor([[1],[2],[3],[4]])\n",
    "c_vector"
   ]
  },
  {
   "cell_type": "code",
   "execution_count": 6,
   "id": "e212f29c-5c12-457f-a365-ef4860a2dc45",
   "metadata": {},
   "outputs": [
    {
     "data": {
      "text/plain": [
       "tensor([[[2, 3],\n",
       "         [5, 6]],\n",
       "\n",
       "        [[7, 8],\n",
       "         [5, 9]]])"
      ]
     },
     "execution_count": 6,
     "metadata": {},
     "output_type": "execute_result"
    }
   ],
   "source": [
    "Tensor_3d= torch.tensor([[[2,3],[5,6]],\n",
    "                      [[7,8],[5,9]]])\n",
    "Tensor_3d"
   ]
  },
  {
   "cell_type": "code",
   "execution_count": 7,
   "id": "1486af66-45ca-4450-8403-e33986be047f",
   "metadata": {},
   "outputs": [
    {
     "data": {
      "text/plain": [
       "torch.float32"
      ]
     },
     "execution_count": 7,
     "metadata": {},
     "output_type": "execute_result"
    }
   ],
   "source": [
    "scaler.dtype"
   ]
  },
  {
   "cell_type": "code",
   "execution_count": 8,
   "id": "a174958f-9522-41cc-a5cb-c812e7b603f3",
   "metadata": {},
   "outputs": [
    {
     "data": {
      "text/plain": [
       "torch.float32"
      ]
     },
     "execution_count": 8,
     "metadata": {},
     "output_type": "execute_result"
    }
   ],
   "source": [
    "Martix.dtype"
   ]
  },
  {
   "cell_type": "code",
   "execution_count": 9,
   "id": "390f328b-cd52-451b-8946-f83760b4ce58",
   "metadata": {},
   "outputs": [
    {
     "name": "stdout",
     "output_type": "stream",
     "text": [
      "tensor([-1,  7], dtype=torch.int16)\n"
     ]
    }
   ],
   "source": [
    " print(torch.tensor([-1 , 7] , dtype= torch.int16))"
   ]
  },
  {
   "cell_type": "code",
   "execution_count": 10,
   "id": "d904e1e8-6e48-414d-8635-a0b733590edc",
   "metadata": {},
   "outputs": [
    {
     "name": "stdout",
     "output_type": "stream",
     "text": [
      "torch.int64\n"
     ]
    }
   ],
   "source": [
    " print(torch.tensor([-1,7]).dtype)"
   ]
  },
  {
   "cell_type": "code",
   "execution_count": 11,
   "id": "fdc5110b-8ba2-40d8-9fb6-ce638a0f3876",
   "metadata": {},
   "outputs": [
    {
     "data": {
      "text/plain": [
       "torch.bool"
      ]
     },
     "execution_count": 11,
     "metadata": {},
     "output_type": "execute_result"
    }
   ],
   "source": [
    "vec_int= torch.tensor([1 , 2] , dtype= torch.uint8)\n",
    "\n",
    "vec_int= vec_int.bool()\n",
    "vec_int.dtype"
   ]
  },
  {
   "cell_type": "markdown",
   "id": "7fc54eed-751b-486a-aacb-d73e828bcb6a",
   "metadata": {},
   "source": [
    " #### device"
   ]
  },
  {
   "cell_type": "code",
   "execution_count": 12,
   "id": "f2a6849e-8fa7-489a-a815-154febfa80c1",
   "metadata": {},
   "outputs": [],
   "source": [
    "#vec = torch.tensor([1,2] , device='cuda')\n",
    "#vec = vec.cuda()\n",
    "#vec = vec.cpu()\n",
    "#vec"
   ]
  },
  {
   "cell_type": "markdown",
   "id": "e47f8788-72e6-48bc-96c6-99c7865c6bd9",
   "metadata": {},
   "source": [
    "#### tensor attributes"
   ]
  },
  {
   "cell_type": "code",
   "execution_count": 13,
   "id": "9e879943-8210-4c29-9f4c-c157d92be9db",
   "metadata": {},
   "outputs": [
    {
     "data": {
      "text/plain": [
       "torch.Size([3, 2])"
      ]
     },
     "execution_count": 13,
     "metadata": {},
     "output_type": "execute_result"
    }
   ],
   "source": [
    "Martix.shape"
   ]
  },
  {
   "cell_type": "code",
   "execution_count": 14,
   "id": "0fbff22f-efaa-469d-a770-b41620f10e3a",
   "metadata": {},
   "outputs": [
    {
     "name": "stdout",
     "output_type": "stream",
     "text": [
      "torch.Size([3, 2])\n",
      "3\n",
      "2\n"
     ]
    }
   ],
   "source": [
    "print(Martix.size())\n",
    "print(Martix.size(0))\n",
    "print(Martix.size(1))"
   ]
  },
  {
   "cell_type": "code",
   "execution_count": 15,
   "id": "f49561e4-011f-4706-bcc9-38af75634edd",
   "metadata": {},
   "outputs": [
    {
     "data": {
      "text/plain": [
       "tensor(9)"
      ]
     },
     "execution_count": 15,
     "metadata": {},
     "output_type": "execute_result"
    }
   ],
   "source": [
    "Tensor_3d.max()"
   ]
  },
  {
   "cell_type": "code",
   "execution_count": 16,
   "id": "3ba1ae2c-7e4a-48af-84d8-d818c8e8c22c",
   "metadata": {},
   "outputs": [
    {
     "data": {
      "text/plain": [
       "tensor(5.6250)"
      ]
     },
     "execution_count": 16,
     "metadata": {},
     "output_type": "execute_result"
    }
   ],
   "source": [
    "Tensor_3d.float().mean()"
   ]
  },
  {
   "cell_type": "code",
   "execution_count": 17,
   "id": "1d89fe6f-2303-4013-b683-e4dfeb1d69f1",
   "metadata": {},
   "outputs": [
    {
     "data": {
      "text/plain": [
       "tensor(2.3867)"
      ]
     },
     "execution_count": 17,
     "metadata": {},
     "output_type": "execute_result"
    }
   ],
   "source": [
    "Tensor_3d.float().std()"
   ]
  },
  {
   "cell_type": "code",
   "execution_count": 18,
   "id": "35059fea-31a0-45c4-bcae-42731979f1cd",
   "metadata": {},
   "outputs": [
    {
     "data": {
      "text/plain": [
       "tensor([[4., 6., 8.],\n",
       "        [5., 7., 9.]])"
      ]
     },
     "execution_count": 18,
     "metadata": {},
     "output_type": "execute_result"
    }
   ],
   "source": [
    "#transpose\n",
    "M = torch.tensor([[4.,5],[6,7],[8,9]])\n",
    "M.float().t()"
   ]
  },
  {
   "cell_type": "markdown",
   "id": "58878075-0fab-49d1-aaf6-f363cc96b2ed",
   "metadata": {},
   "source": [
    "#### special arreys"
   ]
  },
  {
   "cell_type": "code",
   "execution_count": 19,
   "id": "dbacebe0-232e-47b4-a099-7edd74049507",
   "metadata": {},
   "outputs": [
    {
     "data": {
      "text/plain": [
       "tensor([[1, 1, 1],\n",
       "        [1, 1, 1]], dtype=torch.int16)"
      ]
     },
     "execution_count": 19,
     "metadata": {},
     "output_type": "execute_result"
    }
   ],
   "source": [
    "torch.ones((2,3), dtype=torch.int16)"
   ]
  },
  {
   "cell_type": "code",
   "execution_count": 20,
   "id": "caeb9520-7cd5-4c86-9c84-9a65e5a22402",
   "metadata": {},
   "outputs": [
    {
     "data": {
      "text/plain": [
       "tensor([[0., 0.],\n",
       "        [0., 0.]])"
      ]
     },
     "execution_count": 20,
     "metadata": {},
     "output_type": "execute_result"
    }
   ],
   "source": [
    "torch.zeros((2,2))"
   ]
  },
  {
   "cell_type": "code",
   "execution_count": 21,
   "id": "1811653f-fdc3-4b2a-8712-cf0540bd2b32",
   "metadata": {},
   "outputs": [
    {
     "data": {
      "text/plain": [
       "tensor([[1., 0., 0.],\n",
       "        [0., 1., 0.],\n",
       "        [0., 0., 1.],\n",
       "        [0., 0., 0.],\n",
       "        [0., 0., 0.]])"
      ]
     },
     "execution_count": 21,
     "metadata": {},
     "output_type": "execute_result"
    }
   ],
   "source": [
    "torch.eye(5,3)"
   ]
  },
  {
   "cell_type": "code",
   "execution_count": 22,
   "id": "b8d7ee27-9847-45d3-98eb-56a3ad225679",
   "metadata": {},
   "outputs": [
    {
     "data": {
      "text/plain": [
       "tensor([[1.2000, 1.2000, 1.2000],\n",
       "        [1.2000, 1.2000, 1.2000]])"
      ]
     },
     "execution_count": 22,
     "metadata": {},
     "output_type": "execute_result"
    }
   ],
   "source": [
    "#define empty array\n",
    "empty = torch.empty((2,3))\n",
    "empty.fill_(1.2)"
   ]
  },
  {
   "cell_type": "code",
   "execution_count": 23,
   "id": "488a62b3-926c-4f2c-a3a2-3e795f1e6a1a",
   "metadata": {},
   "outputs": [
    {
     "data": {
      "text/plain": [
       "tensor([[0., 0., 0.],\n",
       "        [0., 0., 0.]])"
      ]
     },
     "execution_count": 23,
     "metadata": {},
     "output_type": "execute_result"
    }
   ],
   "source": [
    "empty.zero_()"
   ]
  },
  {
   "cell_type": "code",
   "execution_count": 24,
   "id": "5b5fea17-1cad-47e1-b3cb-c22c591416c0",
   "metadata": {},
   "outputs": [
    {
     "data": {
      "text/plain": [
       "tensor([[[2., 2.],\n",
       "         [2., 2.]],\n",
       "\n",
       "        [[2., 2.],\n",
       "         [2., 2.]],\n",
       "\n",
       "        [[2., 2.],\n",
       "         [2., 2.]]])"
      ]
     },
     "execution_count": 24,
     "metadata": {},
     "output_type": "execute_result"
    }
   ],
   "source": [
    "torch.full((3,2,2), 2.0)"
   ]
  },
  {
   "cell_type": "code",
   "execution_count": 25,
   "id": "66a25e6e-4400-401b-87d9-9fa32ccdea73",
   "metadata": {},
   "outputs": [
    {
     "data": {
      "text/plain": [
       "tensor([[0., 0., 0.],\n",
       "        [0., 0., 0.]])"
      ]
     },
     "execution_count": 25,
     "metadata": {},
     "output_type": "execute_result"
    }
   ],
   "source": [
    "torch.zeros_like(empty)"
   ]
  },
  {
   "cell_type": "markdown",
   "id": "aabc5677-24c9-45bc-80d3-1063c81b48d3",
   "metadata": {},
   "source": [
    "#### random array"
   ]
  },
  {
   "cell_type": "code",
   "execution_count": 26,
   "id": "deec49c8-f9f0-4a10-b659-5577f4682007",
   "metadata": {},
   "outputs": [
    {
     "data": {
      "text/plain": [
       "tensor([[0.5339, 0.7957, 0.5751],\n",
       "        [0.7407, 0.4944, 0.4982]])"
      ]
     },
     "execution_count": 26,
     "metadata": {},
     "output_type": "execute_result"
    }
   ],
   "source": [
    "# rand between 0,1 and uniform distrubution\n",
    "torch.rand((2,3))"
   ]
  },
  {
   "cell_type": "code",
   "execution_count": 27,
   "id": "0d21a62a-b247-4015-bd8c-66d15457d22b",
   "metadata": {},
   "outputs": [
    {
     "data": {
      "text/plain": [
       "tensor([[ 1.4112, -1.0392,  0.2534,  0.2157],\n",
       "        [ 1.1990, -1.1280,  1.2376,  0.6250]])"
      ]
     },
     "execution_count": 27,
     "metadata": {},
     "output_type": "execute_result"
    }
   ],
   "source": [
    "#random normal=gausian distrubution mean=1 , var=1\n",
    "torch.randn((2,4))"
   ]
  },
  {
   "cell_type": "code",
   "execution_count": 28,
   "id": "e25f8a91-ec51-4ded-a69b-56f2939ac308",
   "metadata": {},
   "outputs": [
    {
     "data": {
      "text/plain": [
       "\"import matplotlib\\nmatplotlib.use('Agg')  # Use a non-interactive backend\\nimport matplotlib.pyplot as plt\\nimport torch\\n%matplotlib inline\""
      ]
     },
     "execution_count": 28,
     "metadata": {},
     "output_type": "execute_result"
    }
   ],
   "source": [
    "\"\"\"import matplotlib\n",
    "matplotlib.use('Agg')  # Use a non-interactive backend\n",
    "import matplotlib.pyplot as plt\n",
    "import torch\n",
    "%matplotlib inline\"\"\""
   ]
  },
  {
   "cell_type": "code",
   "execution_count": 29,
   "id": "1f6095b8-dd0d-4258-b7d2-4158f4c02bc4",
   "metadata": {},
   "outputs": [
    {
     "data": {
      "text/plain": [
       "'rand_uniform= torch.rand(100)\\nrand_uniform\\nplt.hist(rand_uniform)'"
      ]
     },
     "execution_count": 29,
     "metadata": {},
     "output_type": "execute_result"
    }
   ],
   "source": [
    "\"\"\"rand_uniform= torch.rand(100)\n",
    "rand_uniform\n",
    "plt.hist(rand_uniform)\"\"\""
   ]
  },
  {
   "cell_type": "code",
   "execution_count": 30,
   "id": "b09193c6-0f10-420b-aff9-990d296c05b8",
   "metadata": {},
   "outputs": [
    {
     "data": {
      "text/plain": [
       "'rand_gauss= 2* torch.randn(100) + 1.5\\nplt.hist(rand_gauss,100)'"
      ]
     },
     "execution_count": 30,
     "metadata": {},
     "output_type": "execute_result"
    }
   ],
   "source": [
    "\"\"\"rand_gauss= 2* torch.randn(100) + 1.5\n",
    "plt.hist(rand_gauss,100)\"\"\""
   ]
  },
  {
   "cell_type": "code",
   "execution_count": 31,
   "id": "0011f59a-d49f-447b-95a8-bd9f107628a4",
   "metadata": {},
   "outputs": [
    {
     "data": {
      "text/plain": [
       "tensor([[31, 25, 23, 23, 28],\n",
       "        [25, 20, 30, 30, 31]])"
      ]
     },
     "execution_count": 31,
     "metadata": {},
     "output_type": "execute_result"
    }
   ],
   "source": [
    "torch.randint(20,32,(2,5))"
   ]
  },
  {
   "cell_type": "code",
   "execution_count": 32,
   "id": "38321e12-a5f5-49f3-8315-21bac2483501",
   "metadata": {},
   "outputs": [
    {
     "data": {
      "text/plain": [
       "tensor([12,  6, 19,  9,  5, 11,  4, 17, 14, 18, 16,  1,  2,  3, 13,  8, 10, 15,\n",
       "         7,  0])"
      ]
     },
     "execution_count": 32,
     "metadata": {},
     "output_type": "execute_result"
    }
   ],
   "source": [
    "torch.randperm(20)"
   ]
  },
  {
   "cell_type": "code",
   "execution_count": 33,
   "id": "f3728cbd-ef06-4539-937c-29e93c75395c",
   "metadata": {},
   "outputs": [
    {
     "data": {
      "text/plain": [
       "tensor([4, 0, 2, 8, 5, 9, 7, 3, 1, 6])"
      ]
     },
     "execution_count": 33,
     "metadata": {},
     "output_type": "execute_result"
    }
   ],
   "source": [
    "torch.manual_seed(112)\n",
    "torch.randperm(10)"
   ]
  },
  {
   "cell_type": "markdown",
   "id": "8219cb34-9db6-4863-8a50-299c549a9ab2",
   "metadata": {},
   "source": [
    "#### indexing"
   ]
  },
  {
   "cell_type": "code",
   "execution_count": 36,
   "id": "6423e4dc-64d9-4fe0-b86d-f861c00add41",
   "metadata": {},
   "outputs": [
    {
     "name": "stdout",
     "output_type": "stream",
     "text": [
      "tensor([-0.5962,  0.4436,  0.4491,  2.0434, -0.9489])\n"
     ]
    },
    {
     "data": {
      "text/plain": [
       "tensor(-0.5962)"
      ]
     },
     "execution_count": 36,
     "metadata": {},
     "output_type": "execute_result"
    }
   ],
   "source": [
    "a= torch.randn(5)\n",
    "print(a)\n",
    "a[0]\n"
   ]
  },
  {
   "cell_type": "code",
   "execution_count": 38,
   "id": "1bf0fc4d-93bc-45f0-8d70-f251691daa8d",
   "metadata": {},
   "outputs": [
    {
     "data": {
      "text/plain": [
       "tensor(-0.9489)"
      ]
     },
     "execution_count": 38,
     "metadata": {},
     "output_type": "execute_result"
    }
   ],
   "source": [
    "a[-1]"
   ]
  },
  {
   "cell_type": "code",
   "execution_count": 41,
   "id": "ce001e75-ba5b-43b1-9326-c66a551fffda",
   "metadata": {},
   "outputs": [
    {
     "name": "stdout",
     "output_type": "stream",
     "text": [
      "tensor([[0.4114, 0.0355, 0.5446],\n",
      "        [0.8211, 0.8331, 0.8229],\n",
      "        [0.6074, 0.3517, 0.1043],\n",
      "        [0.2553, 0.9525, 0.3880],\n",
      "        [0.0496, 0.9614, 0.6476]])\n"
     ]
    },
    {
     "data": {
      "text/plain": [
       "tensor(0.8229)"
      ]
     },
     "execution_count": 41,
     "metadata": {},
     "output_type": "execute_result"
    }
   ],
   "source": [
    "b= torch.rand(5,3)\n",
    "print(b)\n",
    "b[1,2]"
   ]
  },
  {
   "cell_type": "code",
   "execution_count": 42,
   "id": "d4475d44-dfc3-41e8-ba72-55eafccfba73",
   "metadata": {},
   "outputs": [
    {
     "name": "stdout",
     "output_type": "stream",
     "text": [
      "tensor([[[62, 45],\n",
      "         [95,  9]],\n",
      "\n",
      "        [[93, 82],\n",
      "         [24, 77]],\n",
      "\n",
      "        [[28, 95],\n",
      "         [56, 55]]])\n"
     ]
    },
    {
     "data": {
      "text/plain": [
       "tensor([[62, 45],\n",
       "        [95,  9]])"
      ]
     },
     "execution_count": 42,
     "metadata": {},
     "output_type": "execute_result"
    }
   ],
   "source": [
    "C = torch.randint(100, (3,2,2))\n",
    "print(C)\n",
    "C[0]"
   ]
  },
  {
   "cell_type": "code",
   "execution_count": 45,
   "id": "4ed799bc-26a3-4116-8c60-60a2a6ee9875",
   "metadata": {},
   "outputs": [
    {
     "name": "stdout",
     "output_type": "stream",
     "text": [
      "tensor([-0.5434, -0.3937,  0.1892, -0.0560,  0.9069,  0.4922, -1.6926,  0.0150,\n",
      "         0.5237,  0.0023])\n"
     ]
    },
    {
     "data": {
      "text/plain": [
       "tensor([ 0.4922, -1.6926])"
      ]
     },
     "execution_count": 45,
     "metadata": {},
     "output_type": "execute_result"
    }
   ],
   "source": [
    "d = torch.randn(10)\n",
    "print(d)\n",
    "d[5:7]"
   ]
  },
  {
   "cell_type": "code",
   "execution_count": 47,
   "id": "6c4d5030-bb6b-4c15-98fd-f4c3deba1fb2",
   "metadata": {},
   "outputs": [
    {
     "data": {
      "text/plain": [
       "tensor([-0.5434, -0.3937,  0.1892, -0.0560,  0.9069,  0.4922, -1.6926,  0.0150,\n",
       "         0.5237])"
      ]
     },
     "execution_count": 47,
     "metadata": {},
     "output_type": "execute_result"
    }
   ],
   "source": [
    "d[0:-1]"
   ]
  },
  {
   "cell_type": "code",
   "execution_count": 48,
   "id": "d0cc57ab-e435-417f-b42f-14fdc1276bba",
   "metadata": {},
   "outputs": [
    {
     "data": {
      "text/plain": [
       "tensor([-0.0560,  0.9069,  0.4922, -1.6926,  0.0150,  0.5237,  0.0023])"
      ]
     },
     "execution_count": 48,
     "metadata": {},
     "output_type": "execute_result"
    }
   ],
   "source": [
    "d[3:]"
   ]
  },
  {
   "cell_type": "code",
   "execution_count": 49,
   "id": "9c31278e-cdbc-452b-84b8-46b0e4e9fa92",
   "metadata": {},
   "outputs": [
    {
     "data": {
      "text/plain": [
       "tensor([ 0.1892,  0.9069, -1.6926,  0.5237])"
      ]
     },
     "execution_count": 49,
     "metadata": {},
     "output_type": "execute_result"
    }
   ],
   "source": [
    "d[2::2]"
   ]
  },
  {
   "cell_type": "code",
   "execution_count": 50,
   "id": "b09c21a2-516e-4db9-a6a0-ea2f11a9408f",
   "metadata": {},
   "outputs": [
    {
     "data": {
      "text/plain": [
       "tensor([-0.5434,  0.9069,  0.0150,  0.5237])"
      ]
     },
     "execution_count": 50,
     "metadata": {},
     "output_type": "execute_result"
    }
   ],
   "source": [
    "d[[0,4,7,8]]"
   ]
  },
  {
   "cell_type": "code",
   "execution_count": 52,
   "id": "3b9bb5b7-16ff-4738-8cb6-ad833f14ed31",
   "metadata": {},
   "outputs": [
    {
     "data": {
      "text/plain": [
       "tensor([0.5446, 0.1043, 0.6476])"
      ]
     },
     "execution_count": 52,
     "metadata": {},
     "output_type": "execute_result"
    }
   ],
   "source": [
    "b[::2,2]"
   ]
  },
  {
   "cell_type": "code",
   "execution_count": 54,
   "id": "6e744cc7-913b-4bd9-a51b-aabccbd8a40f",
   "metadata": {},
   "outputs": [
    {
     "data": {
      "text/plain": [
       "tensor([[93, 82],\n",
       "        [24, 77]])"
      ]
     },
     "execution_count": 54,
     "metadata": {},
     "output_type": "execute_result"
    }
   ],
   "source": [
    "#c[1,...]=c[1,:,:]\n",
    "C[1,...]"
   ]
  },
  {
   "cell_type": "markdown",
   "id": "92b20e09-94a5-44ef-bbe0-9eb59ea56a6b",
   "metadata": {},
   "source": [
    "#### mathematical operation"
   ]
  },
  {
   "cell_type": "code",
   "execution_count": 57,
   "id": "5b55cc3d-0864-416b-8d81-099d8a3b047e",
   "metadata": {},
   "outputs": [
    {
     "name": "stdout",
     "output_type": "stream",
     "text": [
      "tensor([[9, 9],\n",
      "        [5, 4]])\n",
      "tensor([[8, 3],\n",
      "        [7, 3]])\n"
     ]
    }
   ],
   "source": [
    " a= torch.randint(10,(2,2))\n",
    " b= torch.randint(10,(2,2))\n",
    "print(a)\n",
    "print(b)"
   ]
  },
  {
   "cell_type": "code",
   "execution_count": 58,
   "id": "ff1aac8d-b5e4-4482-8675-c8f0b7b0c535",
   "metadata": {},
   "outputs": [
    {
     "data": {
      "text/plain": [
       "tensor([[17, 12],\n",
       "        [12,  7]])"
      ]
     },
     "execution_count": 58,
     "metadata": {},
     "output_type": "execute_result"
    }
   ],
   "source": [
    "a+b"
   ]
  },
  {
   "cell_type": "code",
   "execution_count": 61,
   "id": "12eba6e8-7f76-42ec-9a14-c0d7f1aecd1f",
   "metadata": {},
   "outputs": [
    {
     "data": {
      "text/plain": [
       "tensor([[17, 12],\n",
       "        [12,  7]])"
      ]
     },
     "execution_count": 61,
     "metadata": {},
     "output_type": "execute_result"
    }
   ],
   "source": [
    "torch.add(a,b)"
   ]
  },
  {
   "cell_type": "code",
   "execution_count": 65,
   "id": "e152a384-d743-4891-ab42-126ec9b25d6c",
   "metadata": {},
   "outputs": [
    {
     "data": {
      "text/plain": [
       "tensor([[72, 27],\n",
       "        [35, 12]])"
      ]
     },
     "execution_count": 65,
     "metadata": {},
     "output_type": "execute_result"
    }
   ],
   "source": [
    "#ضرب درایه به درایه\n",
    "torch.mul(a,b)"
   ]
  },
  {
   "cell_type": "code",
   "execution_count": 66,
   "id": "0eeddd1a-2cc0-4e2a-af2a-9b417e163fb7",
   "metadata": {},
   "outputs": [
    {
     "data": {
      "text/plain": [
       "tensor([[135,  54],\n",
       "        [ 68,  27]])"
      ]
     },
     "execution_count": 66,
     "metadata": {},
     "output_type": "execute_result"
    }
   ],
   "source": [
    "#ضرب ماتریسی\n",
    "torch.matmul(a,b)"
   ]
  },
  {
   "cell_type": "code",
   "execution_count": 67,
   "id": "26620c08-ac07-4c68-90d4-b3dfe40a55b0",
   "metadata": {},
   "outputs": [
    {
     "data": {
      "text/plain": [
       "tensor([[135,  54],\n",
       "        [ 68,  27]])"
      ]
     },
     "execution_count": 67,
     "metadata": {},
     "output_type": "execute_result"
    }
   ],
   "source": [
    "a@b"
   ]
  },
  {
   "cell_type": "markdown",
   "id": "ed716c7e-9298-454d-90a1-37cbcb6ab15a",
   "metadata": {},
   "source": [
    "#### broadcasting"
   ]
  },
  {
   "cell_type": "code",
   "execution_count": 69,
   "id": "42fe4f19-d664-4366-8596-bee2d5d1ff4d",
   "metadata": {},
   "outputs": [
    {
     "data": {
      "text/plain": [
       "tensor([[[8, 8, 8],\n",
       "         [6, 5, 5]]])"
      ]
     },
     "execution_count": 69,
     "metadata": {},
     "output_type": "execute_result"
    }
   ],
   "source": [
    "#adding a vactor with a scaler \n",
    "a= torch.randint(10,(1,2,3))\n",
    "a"
   ]
  },
  {
   "cell_type": "code",
   "execution_count": 70,
   "id": "a194ba8a-14f6-4bcf-a9bb-e80277d398ec",
   "metadata": {},
   "outputs": [
    {
     "data": {
      "text/plain": [
       "tensor([[[10., 10., 10.],\n",
       "         [ 8.,  7.,  7.]]])"
      ]
     },
     "execution_count": 70,
     "metadata": {},
     "output_type": "execute_result"
    }
   ],
   "source": [
    "a + 2."
   ]
  },
  {
   "cell_type": "code",
   "execution_count": 73,
   "id": "02b6151b-4097-43ce-88c1-7f7e2460a95c",
   "metadata": {},
   "outputs": [],
   "source": [
    "#add a vector with elements of matrix\n",
    "m= torch.ones(3,3)\n",
    "p= torch.arange(0,3)\n",
    "k= torch.linspace(1,3,10)"
   ]
  },
  {
   "cell_type": "code",
   "execution_count": 74,
   "id": "6dd9bf1b-6b1f-406e-b3b0-d1529205586f",
   "metadata": {},
   "outputs": [
    {
     "data": {
      "text/plain": [
       "tensor([0, 1, 2])"
      ]
     },
     "execution_count": 74,
     "metadata": {},
     "output_type": "execute_result"
    }
   ],
   "source": [
    "p"
   ]
  },
  {
   "cell_type": "code",
   "execution_count": 75,
   "id": "cac2c891-2328-4247-9cfc-1ff3c995049e",
   "metadata": {},
   "outputs": [
    {
     "data": {
      "text/plain": [
       "tensor([1.0000, 1.2222, 1.4444, 1.6667, 1.8889, 2.1111, 2.3333, 2.5556, 2.7778,\n",
       "        3.0000])"
      ]
     },
     "execution_count": 75,
     "metadata": {},
     "output_type": "execute_result"
    }
   ],
   "source": [
    "k"
   ]
  },
  {
   "cell_type": "code",
   "execution_count": 76,
   "id": "d0727e85-852a-44f0-89a8-8425cee242a2",
   "metadata": {},
   "outputs": [
    {
     "data": {
      "text/plain": [
       "tensor([[1., 2., 3.],\n",
       "        [1., 2., 3.],\n",
       "        [1., 2., 3.]])"
      ]
     },
     "execution_count": 76,
     "metadata": {},
     "output_type": "execute_result"
    }
   ],
   "source": [
    "m+p"
   ]
  },
  {
   "cell_type": "markdown",
   "id": "08a7680f-bbac-4185-9d75-d656c0e9892c",
   "metadata": {},
   "source": [
    "#### dimention transformer"
   ]
  },
  {
   "cell_type": "code",
   "execution_count": 77,
   "id": "5453ff18-70e5-4ec0-8309-8e3e910c9cd5",
   "metadata": {},
   "outputs": [
    {
     "data": {
      "text/plain": [
       "tensor([[-0.0300, -1.8528,  0.2264,  1.9142, -0.4472, -2.3587],\n",
       "        [-1.6823,  2.3448, -0.1702, -0.0436, -1.5471, -1.2146]])"
      ]
     },
     "execution_count": 77,
     "metadata": {},
     "output_type": "execute_result"
    }
   ],
   "source": [
    "a= torch.randn(2,6)\n",
    "b= torch.rand(3)\n",
    "a"
   ]
  },
  {
   "cell_type": "code",
   "execution_count": 78,
   "id": "20368460-d426-46a1-8bae-c329a4646498",
   "metadata": {},
   "outputs": [
    {
     "data": {
      "text/plain": [
       "tensor([0.9868, 0.4942, 0.8037])"
      ]
     },
     "execution_count": 78,
     "metadata": {},
     "output_type": "execute_result"
    }
   ],
   "source": [
    "b"
   ]
  },
  {
   "cell_type": "code",
   "execution_count": 81,
   "id": "d6099511-be78-4fc4-acf7-bca6994489c7",
   "metadata": {},
   "outputs": [
    {
     "data": {
      "text/plain": [
       "tensor([[[-0.0300, -1.8528],\n",
       "         [ 0.2264,  1.9142],\n",
       "         [-0.4472, -2.3587]],\n",
       "\n",
       "        [[-1.6823,  2.3448],\n",
       "         [-0.1702, -0.0436],\n",
       "         [-1.5471, -1.2146]]])"
      ]
     },
     "execution_count": 81,
     "metadata": {},
     "output_type": "execute_result"
    }
   ],
   "source": [
    "a.reshape((2,3,2))"
   ]
  },
  {
   "cell_type": "code",
   "execution_count": 82,
   "id": "6b2f3505-635e-47a7-ad65-053ec5a47192",
   "metadata": {},
   "outputs": [
    {
     "data": {
      "text/plain": [
       "tensor([[[-0.0300, -1.8528],\n",
       "         [ 0.2264,  1.9142],\n",
       "         [-0.4472, -2.3587]],\n",
       "\n",
       "        [[-1.6823,  2.3448],\n",
       "         [-0.1702, -0.0436],\n",
       "         [-1.5471, -1.2146]]])"
      ]
     },
     "execution_count": 82,
     "metadata": {},
     "output_type": "execute_result"
    }
   ],
   "source": [
    "a.view((2,3,2))"
   ]
  },
  {
   "cell_type": "code",
   "execution_count": 85,
   "id": "35b9ecae-bcfd-425a-9f8e-1a2045aa2ad1",
   "metadata": {},
   "outputs": [
    {
     "data": {
      "text/plain": [
       "torch.Size([3])"
      ]
     },
     "execution_count": 85,
     "metadata": {},
     "output_type": "execute_result"
    }
   ],
   "source": [
    "b.size()"
   ]
  },
  {
   "cell_type": "code",
   "execution_count": 87,
   "id": "52b0f301-a7b3-48e4-8dd5-e07411ce8a74",
   "metadata": {},
   "outputs": [
    {
     "data": {
      "text/plain": [
       "tensor([-0.0300, -1.8528,  0.2264,  1.9142, -0.4472, -2.3587, -1.6823,  2.3448,\n",
       "        -0.1702, -0.0436, -1.5471, -1.2146])"
      ]
     },
     "execution_count": 87,
     "metadata": {},
     "output_type": "execute_result"
    }
   ],
   "source": [
    "#turn anythibg into vector\n",
    "a.view(-1)"
   ]
  },
  {
   "cell_type": "code",
   "execution_count": 92,
   "id": "636adaea-87d8-46c0-9382-215cc2f5532e",
   "metadata": {},
   "outputs": [
    {
     "data": {
      "text/plain": [
       "tensor([[0.9868, 0.4942, 0.8037, 0.9868, 0.4942, 0.8037],\n",
       "        [0.9868, 0.4942, 0.8037, 0.9868, 0.4942, 0.8037],\n",
       "        [0.9868, 0.4942, 0.8037, 0.9868, 0.4942, 0.8037]])"
      ]
     },
     "execution_count": 92,
     "metadata": {},
     "output_type": "execute_result"
    }
   ],
   "source": [
    "b.repeat(3,2)"
   ]
  },
  {
   "cell_type": "code",
   "execution_count": 96,
   "id": "e1d9deee-449a-453c-80cd-3ae694c854ea",
   "metadata": {},
   "outputs": [
    {
     "data": {
      "text/plain": [
       "tensor([[-0.0300, -1.8528,  0.2264,  1.9142, -0.4472, -2.3587],\n",
       "        [-1.6823,  2.3448, -0.1702, -0.0436, -1.5471, -1.2146],\n",
       "        [-0.0300, -1.8528,  0.2264,  1.9142, -0.4472, -2.3587],\n",
       "        [-1.6823,  2.3448, -0.1702, -0.0436, -1.5471, -1.2146]])"
      ]
     },
     "execution_count": 96,
     "metadata": {},
     "output_type": "execute_result"
    }
   ],
   "source": [
    "#concatinate\n",
    "torch.cat((a,a))"
   ]
  },
  {
   "cell_type": "code",
   "execution_count": 97,
   "id": "0ed1e543-ff59-46dc-b40e-63ff4d937755",
   "metadata": {},
   "outputs": [
    {
     "data": {
      "text/plain": [
       "tensor([[-0.0300, -1.8528,  0.2264,  1.9142, -0.4472, -2.3587, -0.0300, -1.8528,\n",
       "          0.2264,  1.9142, -0.4472, -2.3587],\n",
       "        [-1.6823,  2.3448, -0.1702, -0.0436, -1.5471, -1.2146, -1.6823,  2.3448,\n",
       "         -0.1702, -0.0436, -1.5471, -1.2146]])"
      ]
     },
     "execution_count": 97,
     "metadata": {},
     "output_type": "execute_result"
    }
   ],
   "source": [
    "torch.cat((a,a),dim=1)"
   ]
  },
  {
   "cell_type": "code",
   "execution_count": 109,
   "id": "df02169f-33df-43cc-823f-c5bc28cd2b42",
   "metadata": {},
   "outputs": [
    {
     "data": {
      "text/plain": [
       "tensor([[[-0.0300],\n",
       "         [-1.8528],\n",
       "         [ 0.2264],\n",
       "         [ 1.9142],\n",
       "         [-0.4472],\n",
       "         [-2.3587]],\n",
       "\n",
       "        [[-1.6823],\n",
       "         [ 2.3448],\n",
       "         [-0.1702],\n",
       "         [-0.0436],\n",
       "         [-1.5471],\n",
       "         [-1.2146]]])"
      ]
     },
     "execution_count": 109,
     "metadata": {},
     "output_type": "execute_result"
    }
   ],
   "source": [
    "# add one dimention in the given dimention\n",
    "n = a.unsqueeze(2)\n",
    "n"
   ]
  },
  {
   "cell_type": "code",
   "execution_count": 110,
   "id": "c11f043c-ce33-4ded-a5f4-f2116bf44adf",
   "metadata": {},
   "outputs": [
    {
     "data": {
      "text/plain": [
       "torch.Size([2, 6, 1])"
      ]
     },
     "execution_count": 110,
     "metadata": {},
     "output_type": "execute_result"
    }
   ],
   "source": [
    "n.shape"
   ]
  },
  {
   "cell_type": "code",
   "execution_count": 112,
   "id": "e2293201-0a24-4e38-b5f5-bcf6e23f3c19",
   "metadata": {},
   "outputs": [
    {
     "data": {
      "text/plain": [
       "torch.Size([2, 6])"
      ]
     },
     "execution_count": 112,
     "metadata": {},
     "output_type": "execute_result"
    }
   ],
   "source": [
    "#delete added dimention with size one\n",
    "n.squeeze(-1).shape"
   ]
  },
  {
   "cell_type": "markdown",
   "id": "c9e24c5b-0bf2-4f2d-bfd8-5e38b26f738d",
   "metadata": {},
   "source": [
    "#### bult-in function"
   ]
  },
  {
   "cell_type": "code",
   "execution_count": 128,
   "id": "6eec35dc-0149-4e8c-94ce-a26a8376ac48",
   "metadata": {},
   "outputs": [
    {
     "data": {
      "text/plain": [
       "tensor([[1, 8, 6, 5],\n",
       "        [3, 8, 6, 9],\n",
       "        [2, 5, 3, 6],\n",
       "        [5, 3, 6, 9]])"
      ]
     },
     "execution_count": 128,
     "metadata": {},
     "output_type": "execute_result"
    }
   ],
   "source": [
    "q= torch.randint(10,(4,4))\n",
    "q"
   ]
  },
  {
   "cell_type": "code",
   "execution_count": 129,
   "id": "e0a32526-d88d-42ce-874c-1a17aea303bd",
   "metadata": {},
   "outputs": [
    {
     "data": {
      "text/plain": [
       "tensor(85)"
      ]
     },
     "execution_count": 129,
     "metadata": {},
     "output_type": "execute_result"
    }
   ],
   "source": [
    "torch.sum(q)"
   ]
  },
  {
   "cell_type": "code",
   "execution_count": 130,
   "id": "f88eb603-26b6-4c48-983b-7e77dba7cfd5",
   "metadata": {},
   "outputs": [
    {
     "data": {
      "text/plain": [
       "tensor([11, 24, 21, 29])"
      ]
     },
     "execution_count": 130,
     "metadata": {},
     "output_type": "execute_result"
    }
   ],
   "source": [
    "#جمع در راستای بعد 0\n",
    "torch.sum(q,0)"
   ]
  },
  {
   "cell_type": "code",
   "execution_count": 131,
   "id": "3cbb0586-5eab-45c5-b242-ea6ce0888303",
   "metadata": {},
   "outputs": [
    {
     "data": {
      "text/plain": [
       "tensor([[ 1,  9, 15, 20],\n",
       "        [ 3, 11, 17, 26],\n",
       "        [ 2,  7, 10, 16],\n",
       "        [ 5,  8, 14, 23]])"
      ]
     },
     "execution_count": 131,
     "metadata": {},
     "output_type": "execute_result"
    }
   ],
   "source": [
    "#جمع تجمعی\n",
    "torch.cumsum(q,1)"
   ]
  },
  {
   "cell_type": "code",
   "execution_count": 132,
   "id": "271d5507-4178-472d-b0ef-45583c413730",
   "metadata": {},
   "outputs": [
    {
     "data": {
      "text/plain": [
       "tensor([[ 7, -2, -1],\n",
       "        [ 5, -2,  3],\n",
       "        [ 3, -2,  3],\n",
       "        [-2,  3,  3]])"
      ]
     },
     "execution_count": 132,
     "metadata": {},
     "output_type": "execute_result"
    }
   ],
   "source": [
    "#درایه های کنار هم از هم کم میکنه\n",
    "torch.diff(q)"
   ]
  },
  {
   "cell_type": "code",
   "execution_count": 134,
   "id": "129b7d1a-73d1-4bc9-8183-86691fd8aeeb",
   "metadata": {},
   "outputs": [
    {
     "data": {
      "text/plain": [
       "tensor([ 240, 1296,  180,  810])"
      ]
     },
     "execution_count": 134,
     "metadata": {},
     "output_type": "execute_result"
    }
   ],
   "source": [
    "#تمام المان های ارایه را در هم ضرب میکنه\n",
    "torch.prod(q,1)"
   ]
  },
  {
   "cell_type": "code",
   "execution_count": 135,
   "id": "2bb0bb58-3001-42a1-a25b-cd6c71838cff",
   "metadata": {},
   "outputs": [
    {
     "data": {
      "text/plain": [
       "tensor([[1.0000, 2.8284, 2.4495, 2.2361],\n",
       "        [1.7321, 2.8284, 2.4495, 3.0000],\n",
       "        [1.4142, 2.2361, 1.7321, 2.4495],\n",
       "        [2.2361, 1.7321, 2.4495, 3.0000]])"
      ]
     },
     "execution_count": 135,
     "metadata": {},
     "output_type": "execute_result"
    }
   ],
   "source": [
    "torch.sqrt(q)"
   ]
  },
  {
   "cell_type": "code",
   "execution_count": 137,
   "id": "1d6dfc36-ca4b-4247-af76-5acfe76d6d80",
   "metadata": {},
   "outputs": [
    {
     "data": {
      "text/plain": [
       "tensor([[1, 3, 1, 0],\n",
       "        [3, 3, 1, 4],\n",
       "        [2, 0, 3, 1],\n",
       "        [0, 3, 1, 4]])"
      ]
     },
     "execution_count": 137,
     "metadata": {},
     "output_type": "execute_result"
    }
   ],
   "source": [
    "#باقیمانده تقسیم بد عدد داده شده رو میده\n",
    "torch.remainder(q,torch.tensor(5))"
   ]
  },
  {
   "cell_type": "code",
   "execution_count": 141,
   "id": "4197404a-2e9d-4358-8fe6-e36fb9c55494",
   "metadata": {},
   "outputs": [
    {
     "data": {
      "text/plain": [
       "tensor([[1, 8, 6, 5],\n",
       "        [3, 8, 6, 9],\n",
       "        [2, 5, 3, 6],\n",
       "        [5, 3, 6, 9]])"
      ]
     },
     "execution_count": 141,
     "metadata": {},
     "output_type": "execute_result"
    }
   ],
   "source": [
    "#رند میکنه به نزدیکترین عدد\n",
    "torch.round(q)"
   ]
  },
  {
   "cell_type": "code",
   "execution_count": 142,
   "id": "59894a64-ced7-467e-8c0a-81e304fb7dad",
   "metadata": {},
   "outputs": [
    {
     "data": {
      "text/plain": [
       "tensor([[1, 8, 6, 5],\n",
       "        [3, 8, 6, 9],\n",
       "        [2, 5, 3, 6],\n",
       "        [5, 3, 6, 9]])"
      ]
     },
     "execution_count": 142,
     "metadata": {},
     "output_type": "execute_result"
    }
   ],
   "source": [
    "torch.ceil(q)"
   ]
  },
  {
   "cell_type": "code",
   "execution_count": 144,
   "id": "68962df7-36fa-49a1-9160-0748baadc4a9",
   "metadata": {},
   "outputs": [
    {
     "data": {
      "text/plain": [
       "tensor([[1, 8, 6, 5],\n",
       "        [3, 8, 6, 9],\n",
       "        [2, 5, 3, 6],\n",
       "        [5, 3, 6, 9]])"
      ]
     },
     "execution_count": 144,
     "metadata": {},
     "output_type": "execute_result"
    }
   ],
   "source": [
    "torch.floor(q)"
   ]
  },
  {
   "cell_type": "code",
   "execution_count": 146,
   "id": "34d1d83e-cf63-405b-bed5-0569bdfbc8e9",
   "metadata": {},
   "outputs": [
    {
     "data": {
      "text/plain": [
       "tensor(23.2594)"
      ]
     },
     "execution_count": 146,
     "metadata": {},
     "output_type": "execute_result"
    }
   ],
   "source": [
    "# نرم میگیره یعنی درایه ها به توان 2 و جمع و در نهایت رادیکال\n",
    "torch.norm(q.float())"
   ]
  },
  {
   "cell_type": "code",
   "execution_count": 148,
   "id": "6c3cdd14-0090-452b-b93f-81e534d1544a",
   "metadata": {},
   "outputs": [
    {
     "data": {
      "text/plain": [
       "tensor(9.5394)"
      ]
     },
     "execution_count": 148,
     "metadata": {},
     "output_type": "execute_result"
    }
   ],
   "source": [
    "#فاصله اقلیدسی بین دو تا تنسور بدست میاره\n",
    "torch.dist(q.float() , torch.tensor(5))"
   ]
  },
  {
   "cell_type": "code",
   "execution_count": 150,
   "id": "ce53235e-33e7-4820-8ac0-5c6951617ff6",
   "metadata": {},
   "outputs": [
    {
     "data": {
      "text/plain": [
       "tensor([5.0000, 6.5000, 4.0000, 5.7500])"
      ]
     },
     "execution_count": 150,
     "metadata": {},
     "output_type": "execute_result"
    }
   ],
   "source": [
    "torch.mean(q.float(), dim=1)"
   ]
  },
  {
   "cell_type": "code",
   "execution_count": 153,
   "id": "70e10396-4630-4b40-b72a-1d3dd68dbb94",
   "metadata": {},
   "outputs": [
    {
     "data": {
      "text/plain": [
       "tensor(2.4418)"
      ]
     },
     "execution_count": 153,
     "metadata": {},
     "output_type": "execute_result"
    }
   ],
   "source": [
    "torch.std(q.float())"
   ]
  },
  {
   "cell_type": "code",
   "execution_count": 154,
   "id": "3b333108-711d-4124-9155-61978de2b946",
   "metadata": {},
   "outputs": [
    {
     "data": {
      "text/plain": [
       "tensor(5.9625)"
      ]
     },
     "execution_count": 154,
     "metadata": {},
     "output_type": "execute_result"
    }
   ],
   "source": [
    "torch.var(q.float())"
   ]
  },
  {
   "cell_type": "code",
   "execution_count": 155,
   "id": "92b43e5d-910a-4b6f-b0f6-50fa96700e72",
   "metadata": {},
   "outputs": [
    {
     "data": {
      "text/plain": [
       "tensor([[2.7183e+00, 2.9810e+03, 4.0343e+02, 1.4841e+02],\n",
       "        [2.0086e+01, 2.9810e+03, 4.0343e+02, 8.1031e+03],\n",
       "        [7.3891e+00, 1.4841e+02, 2.0086e+01, 4.0343e+02],\n",
       "        [1.4841e+02, 2.0086e+01, 4.0343e+02, 8.1031e+03]])"
      ]
     },
     "execution_count": 155,
     "metadata": {},
     "output_type": "execute_result"
    }
   ],
   "source": [
    "torch.exp(q.float())"
   ]
  },
  {
   "cell_type": "code",
   "execution_count": 156,
   "id": "44995112-f4ee-408c-b940-cd3f5383d5d1",
   "metadata": {},
   "outputs": [
    {
     "data": {
      "text/plain": [
       "tensor([[0.0000, 2.0794, 1.7918, 1.6094],\n",
       "        [1.0986, 2.0794, 1.7918, 2.1972],\n",
       "        [0.6931, 1.6094, 1.0986, 1.7918],\n",
       "        [1.6094, 1.0986, 1.7918, 2.1972]])"
      ]
     },
     "execution_count": 156,
     "metadata": {},
     "output_type": "execute_result"
    }
   ],
   "source": [
    "torch.log(q.float())"
   ]
  },
  {
   "cell_type": "code",
   "execution_count": 173,
   "id": "5b673ac0-5622-4406-9109-b9aa18126a30",
   "metadata": {},
   "outputs": [
    {
     "name": "stdout",
     "output_type": "stream",
     "text": [
      "tensor([[0, 1, 8],\n",
      "        [6, 0, 7]])\n"
     ]
    },
    {
     "data": {
      "text/plain": [
       "torch.return_types.min(\n",
       "values=tensor([0, 0, 7]),\n",
       "indices=tensor([0, 1, 1]))"
      ]
     },
     "execution_count": 173,
     "metadata": {},
     "output_type": "execute_result"
    }
   ],
   "source": [
    "l= torch.randint(10, (2,3))\n",
    "print(l)\n",
    "torch.min(l , dim=0)"
   ]
  },
  {
   "cell_type": "code",
   "execution_count": 174,
   "id": "a177f496-f5dc-40c8-ae78-454c43d13232",
   "metadata": {},
   "outputs": [
    {
     "data": {
      "text/plain": [
       "tensor(0)"
      ]
     },
     "execution_count": 174,
     "metadata": {},
     "output_type": "execute_result"
    }
   ],
   "source": [
    "torch.argmin(l)"
   ]
  },
  {
   "cell_type": "code",
   "execution_count": 175,
   "id": "88d0036c-1158-4be6-9477-273a882ed7b6",
   "metadata": {},
   "outputs": [
    {
     "data": {
      "text/plain": [
       "torch.return_types.topk(\n",
       "values=tensor([[8, 1],\n",
       "        [7, 6]]),\n",
       "indices=tensor([[2, 1],\n",
       "        [2, 0]]))"
      ]
     },
     "execution_count": 175,
     "metadata": {},
     "output_type": "execute_result"
    }
   ],
   "source": [
    "#چند تای بزرگتر بده\n",
    "torch.topk(l , 2)"
   ]
  },
  {
   "cell_type": "code",
   "execution_count": 176,
   "id": "2eaf2027-2f51-4c39-830d-350cf05cbc0f",
   "metadata": {},
   "outputs": [
    {
     "data": {
      "text/plain": [
       "torch.return_types.topk(\n",
       "values=tensor([[0, 1],\n",
       "        [0, 6]]),\n",
       "indices=tensor([[0, 1],\n",
       "        [1, 0]]))"
      ]
     },
     "execution_count": 176,
     "metadata": {},
     "output_type": "execute_result"
    }
   ],
   "source": [
    "#چند تای کوچیکتر بده\n",
    "torch.topk(l , 2, largest= False)"
   ]
  },
  {
   "cell_type": "code",
   "execution_count": 178,
   "id": "5a47dbba-039a-43a0-a468-bbc3e3e3a999",
   "metadata": {},
   "outputs": [
    {
     "data": {
      "text/plain": [
       "torch.return_types.mode(\n",
       "values=tensor([0, 0]),\n",
       "indices=tensor([0, 1]))"
      ]
     },
     "execution_count": 178,
     "metadata": {},
     "output_type": "execute_result"
    }
   ],
   "source": [
    "torch.mode(l)"
   ]
  },
  {
   "cell_type": "code",
   "execution_count": 179,
   "id": "47a6ad2f-b196-4ba3-98a5-452b163617c1",
   "metadata": {},
   "outputs": [
    {
     "data": {
      "text/plain": [
       "tensor(1)"
      ]
     },
     "execution_count": 179,
     "metadata": {},
     "output_type": "execute_result"
    }
   ],
   "source": [
    "torch.median(l)"
   ]
  },
  {
   "cell_type": "code",
   "execution_count": null,
   "id": "c0142d1e-ef4e-45d4-a146-076ad378c4c2",
   "metadata": {},
   "outputs": [],
   "source": [
    "#### torch to numpy"
   ]
  },
  {
   "cell_type": "code",
   "execution_count": 180,
   "id": "8709e4e8-40d6-42c9-af4f-82260b851d29",
   "metadata": {},
   "outputs": [
    {
     "ename": "RuntimeError",
     "evalue": "The NVIDIA driver on your system is too old (found version 9020). Please update your GPU driver by downloading and installing a new version from the URL: http://www.nvidia.com/Download/index.aspx Alternatively, go to: https://pytorch.org to install a PyTorch version that has been compiled with your version of the CUDA driver.",
     "output_type": "error",
     "traceback": [
      "\u001b[1;31m---------------------------------------------------------------------------\u001b[0m",
      "\u001b[1;31mRuntimeError\u001b[0m                              Traceback (most recent call last)",
      "Cell \u001b[1;32mIn[180], line 3\u001b[0m\n\u001b[0;32m      1\u001b[0m \u001b[38;5;66;03m#### torch to numpy\u001b[39;00m\n\u001b[0;32m      2\u001b[0m a\u001b[38;5;241m.\u001b[39mnumpy()\n\u001b[1;32m----> 3\u001b[0m a\u001b[38;5;241m=\u001b[39m a\u001b[38;5;241m.\u001b[39mcuda()\n",
      "File \u001b[1;32mE:\\workplace\\python_install\\Lib\\site-packages\\torch\\cuda\\__init__.py:319\u001b[0m, in \u001b[0;36m_lazy_init\u001b[1;34m()\u001b[0m\n\u001b[0;32m    317\u001b[0m \u001b[38;5;28;01mif\u001b[39;00m \u001b[38;5;124m\"\u001b[39m\u001b[38;5;124mCUDA_MODULE_LOADING\u001b[39m\u001b[38;5;124m\"\u001b[39m \u001b[38;5;129;01mnot\u001b[39;00m \u001b[38;5;129;01min\u001b[39;00m os\u001b[38;5;241m.\u001b[39menviron:\n\u001b[0;32m    318\u001b[0m     os\u001b[38;5;241m.\u001b[39menviron[\u001b[38;5;124m\"\u001b[39m\u001b[38;5;124mCUDA_MODULE_LOADING\u001b[39m\u001b[38;5;124m\"\u001b[39m] \u001b[38;5;241m=\u001b[39m \u001b[38;5;124m\"\u001b[39m\u001b[38;5;124mLAZY\u001b[39m\u001b[38;5;124m\"\u001b[39m\n\u001b[1;32m--> 319\u001b[0m torch\u001b[38;5;241m.\u001b[39m_C\u001b[38;5;241m.\u001b[39m_cuda_init()\n\u001b[0;32m    320\u001b[0m \u001b[38;5;66;03m# Some of the queued calls may reentrantly call _lazy_init();\u001b[39;00m\n\u001b[0;32m    321\u001b[0m \u001b[38;5;66;03m# we need to just return without initializing in that case.\u001b[39;00m\n\u001b[0;32m    322\u001b[0m \u001b[38;5;66;03m# However, we must not let any *other* threads in!\u001b[39;00m\n\u001b[0;32m    323\u001b[0m _tls\u001b[38;5;241m.\u001b[39mis_initializing \u001b[38;5;241m=\u001b[39m \u001b[38;5;28;01mTrue\u001b[39;00m\n",
      "\u001b[1;31mRuntimeError\u001b[0m: The NVIDIA driver on your system is too old (found version 9020). Please update your GPU driver by downloading and installing a new version from the URL: http://www.nvidia.com/Download/index.aspx Alternatively, go to: https://pytorch.org to install a PyTorch version that has been compiled with your version of the CUDA driver."
     ]
    }
   ],
   "source": [
    "#a.numpy()\n",
    "#a= a.cuda()"
   ]
  },
  {
   "cell_type": "code",
   "execution_count": null,
   "id": "ba99c34b-43b1-46b7-a94a-cd4576a1a7e6",
   "metadata": {},
   "outputs": [],
   "source": [
    "a.cpu().numpy()"
   ]
  },
  {
   "cell_type": "code",
   "execution_count": null,
   "id": "44fee086-b998-4d96-896e-d65014d4445d",
   "metadata": {},
   "outputs": [],
   "source": [
    "#### numpy to torch"
   ]
  },
  {
   "cell_type": "code",
   "execution_count": 181,
   "id": "9c2e61a5-5e05-45d0-b806-9228e019c13d",
   "metadata": {},
   "outputs": [
    {
     "data": {
      "text/plain": [
       "array([1, 2, 3])"
      ]
     },
     "execution_count": 181,
     "metadata": {},
     "output_type": "execute_result"
    }
   ],
   "source": [
    "import numpy as np\n",
    "b= np.array([1,2,3])\n",
    "b"
   ]
  },
  {
   "cell_type": "code",
   "execution_count": 182,
   "id": "d2c0c9c9-537d-4dae-9671-1ede4cc4a2d3",
   "metadata": {},
   "outputs": [
    {
     "data": {
      "text/plain": [
       "tensor([1, 2, 3], dtype=torch.int32)"
      ]
     },
     "execution_count": 182,
     "metadata": {},
     "output_type": "execute_result"
    }
   ],
   "source": [
    "torch.tensor(b)"
   ]
  },
  {
   "cell_type": "code",
   "execution_count": 183,
   "id": "9b441b41-5bc5-4872-9c6d-4976b3bc324b",
   "metadata": {},
   "outputs": [
    {
     "data": {
      "text/plain": [
       "tensor([1, 2, 3], dtype=torch.int32)"
      ]
     },
     "execution_count": 183,
     "metadata": {},
     "output_type": "execute_result"
    }
   ],
   "source": [
    "torch.from_numpy(b)"
   ]
  },
  {
   "cell_type": "code",
   "execution_count": null,
   "id": "49709e14-77bb-42c8-aeda-ffb43e8d7d75",
   "metadata": {},
   "outputs": [],
   "source": []
  }
 ],
 "metadata": {
  "kernelspec": {
   "display_name": "Python 3 (ipykernel)",
   "language": "python",
   "name": "python3"
  },
  "language_info": {
   "codemirror_mode": {
    "name": "ipython",
    "version": 3
   },
   "file_extension": ".py",
   "mimetype": "text/x-python",
   "name": "python",
   "nbconvert_exporter": "python",
   "pygments_lexer": "ipython3",
   "version": "3.12.7"
  }
 },
 "nbformat": 4,
 "nbformat_minor": 5
}
